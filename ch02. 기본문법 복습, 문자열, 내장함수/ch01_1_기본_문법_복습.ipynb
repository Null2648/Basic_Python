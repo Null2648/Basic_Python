{
  "nbformat": 4,
  "nbformat_minor": 0,
  "metadata": {
    "colab": {
      "provenance": [],
      "authorship_tag": "ABX9TyN25lpYRF3/aJmfmLWescW7",
      "include_colab_link": true
    },
    "kernelspec": {
      "name": "python3",
      "display_name": "Python 3"
    },
    "language_info": {
      "name": "python"
    }
  },
  "cells": [
    {
      "cell_type": "markdown",
      "metadata": {
        "id": "view-in-github",
        "colab_type": "text"
      },
      "source": [
        "<a href=\"https://colab.research.google.com/github/Null2648/Basic_Python/blob/main/ch02.%20%EA%B8%B0%EB%B3%B8%EB%AC%B8%EB%B2%95%20%EB%B3%B5%EC%8A%B5%2C%20%EB%AC%B8%EC%9E%90%EC%97%B4%2C%20%EB%82%B4%EC%9E%A5%ED%95%A8%EC%88%98/ch01_1_%EA%B8%B0%EB%B3%B8_%EB%AC%B8%EB%B2%95_%EB%B3%B5%EC%8A%B5.ipynb\" target=\"_parent\"><img src=\"https://colab.research.google.com/assets/colab-badge.svg\" alt=\"Open In Colab\"/></a>"
      ]
    },
    {
      "cell_type": "markdown",
      "source": [
        "# 1. 시작하기"
      ],
      "metadata": {
        "id": "2JkGvkwwM1Wg"
      }
    },
    {
      "cell_type": "markdown",
      "source": [
        "## 1.1 문장과 표현식"
      ],
      "metadata": {
        "id": "TazqOi00N9Yg"
      }
    },
    {
      "cell_type": "code",
      "execution_count": null,
      "metadata": {
        "id": "-LAqWfnnMm9J"
      },
      "outputs": [],
      "source": [
        "# 표현식: 값을 만들어 내는 코드 => 변수 = 상수(리터널)\n",
        "## 변수 = 상수 or 변수 or 수식 or 함수식\n",
        "# 문장: 표현식이 하나 이상 모인 것 \n",
        "## a = print('Hello World') <==> a = \"Hello World\"\n",
        "# 프로그램: 문장이 모인 것"
      ]
    },
    {
      "cell_type": "code",
      "source": [
        "print(\"Hello World\")"
      ],
      "metadata": {
        "id": "AqqyWfw2MtdK",
        "colab": {
          "base_uri": "https://localhost:8080/"
        },
        "outputId": "fb25be1b-afcf-4d0f-fe0f-8d9def6ee2fc"
      },
      "execution_count": null,
      "outputs": [
        {
          "output_type": "stream",
          "name": "stdout",
          "text": [
            "Hello World\n"
          ]
        }
      ]
    },
    {
      "cell_type": "code",
      "source": [
        "# 문자상수 or 문자리터널\n",
        "a = \"Hello World\"\n",
        "a"
      ],
      "metadata": {
        "colab": {
          "base_uri": "https://localhost:8080/",
          "height": 36
        },
        "id": "u9NZT2Q_POQu",
        "outputId": "4d083827-ce5c-4789-f572-f5e0cb53300e"
      },
      "execution_count": null,
      "outputs": [
        {
          "output_type": "execute_result",
          "data": {
            "text/plain": [
              "'Hello World'"
            ],
            "application/vnd.google.colaboratory.intrinsic+json": {
              "type": "string"
            }
          },
          "metadata": {},
          "execution_count": 3
        }
      ]
    },
    {
      "cell_type": "code",
      "source": [
        "10 + 20 "
      ],
      "metadata": {
        "colab": {
          "base_uri": "https://localhost:8080/"
        },
        "id": "OeYO9CaxPRPq",
        "outputId": "e4a477cd-4b27-4380-ec91-07c6b64620cc"
      },
      "execution_count": null,
      "outputs": [
        {
          "output_type": "execute_result",
          "data": {
            "text/plain": [
              "30"
            ]
          },
          "metadata": {},
          "execution_count": 5
        }
      ]
    },
    {
      "cell_type": "code",
      "source": [
        "b = 10 + 20\n",
        "b"
      ],
      "metadata": {
        "colab": {
          "base_uri": "https://localhost:8080/"
        },
        "id": "-AMSmNyXPwob",
        "outputId": "7504e796-691b-48e7-81e8-63aad1a79db3"
      },
      "execution_count": null,
      "outputs": [
        {
          "output_type": "execute_result",
          "data": {
            "text/plain": [
              "30"
            ]
          },
          "metadata": {},
          "execution_count": 6
        }
      ]
    },
    {
      "cell_type": "markdown",
      "source": [
        "## 1.2 키워드와 식별자 그리고 주석"
      ],
      "metadata": {
        "id": "qvj9EWZmPx-D"
      }
    },
    {
      "cell_type": "code",
      "source": [
        "# 키워드: 특별한 의미가 부여된 단어, 예약어\n",
        "# 키워드의 목록을 추출: kwlist\n",
        "\n",
        "# 외부 라이브러리(패키지, 모듈)를 프로그램에 포함 시킬 때\n",
        "import keyword\n",
        "print(keyword.kwlist)"
      ],
      "metadata": {
        "colab": {
          "base_uri": "https://localhost:8080/"
        },
        "id": "a9iPOxzSQLa9",
        "outputId": "33fc5146-fde7-47b8-d457-aa7373ed125c"
      },
      "execution_count": null,
      "outputs": [
        {
          "output_type": "stream",
          "name": "stdout",
          "text": [
            "['False', 'None', 'True', 'and', 'as', 'assert', 'async', 'await', 'break', 'class', 'continue', 'def', 'del', 'elif', 'else', 'except', 'finally', 'for', 'from', 'global', 'if', 'import', 'in', 'is', 'lambda', 'nonlocal', 'not', 'or', 'pass', 'raise', 'return', 'try', 'while', 'with', 'yield']\n"
          ]
        }
      ]
    },
    {
      "cell_type": "code",
      "source": [
        "# 식별자(identifier) == 사용자 정의 규칙 == 명명법\n",
        "## 프로그램 언어에서 이름을 붙일 때 사용하는 단어\n",
        "## 변수명 or 함수명 등 객체명...\n",
        "## 키워드 사용 불가\n",
        "## 영문자(대, 소문자), 숫자(0-9), (언더바, 밑줄, 언더스코어)\n",
        "## 시작은 반드시 영문자나 밑줄이 올 수 있다.\n",
        "## 공백을 포함 불가\n",
        "## 의미 있는 단어를 사용하는 것을 권장\n",
        "kor_score = 100\n",
        "eng_socre = 98\n",
        "math = 88"
      ],
      "metadata": {
        "id": "dpSZ4Z6lQP9Q"
      },
      "execution_count": null,
      "outputs": []
    },
    {
      "cell_type": "code",
      "source": [
        "# 주석(comment): 프로그램 설명을 담는 구문으로 실행과는 상관 없음\n",
        "# 코드에서 #의 갯수는 상관이 없으나 마크다운일땐 #의 갯수에 따라 크기가 달라지고 6개까지 이어 쓸 수 있다.\n",
        "print(\"Hello Python\") # 문자열을 출력하라는 의미"
      ],
      "metadata": {
        "colab": {
          "base_uri": "https://localhost:8080/"
        },
        "id": "R2by77F5RunD",
        "outputId": "0649bd4d-fc95-455c-ff33-229ac2a53034"
      },
      "execution_count": null,
      "outputs": [
        {
          "output_type": "stream",
          "name": "stdout",
          "text": [
            "Hello Python\n"
          ]
        }
      ]
    },
    {
      "cell_type": "markdown",
      "source": [
        "## 1.3 연산자와 자료"
      ],
      "metadata": {
        "id": "nZEPKMGEQZc-"
      }
    },
    {
      "cell_type": "code",
      "source": [
        "# 연산자(Operation): 항과 항 사이에 있는 기호로 계산(수식)을 할 때 이용\n",
        "10 - 1"
      ],
      "metadata": {
        "colab": {
          "base_uri": "https://localhost:8080/"
        },
        "id": "JdPpIa_TQq1E",
        "outputId": "5e60655f-ab32-4646-cd1d-c02f92614c6e"
      },
      "execution_count": null,
      "outputs": [
        {
          "output_type": "execute_result",
          "data": {
            "text/plain": [
              "9"
            ]
          },
          "metadata": {},
          "execution_count": 13
        }
      ]
    },
    {
      "cell_type": "code",
      "source": [
        "a = 1 + 1"
      ],
      "metadata": {
        "id": "hF1QCXAsWHAf"
      },
      "execution_count": null,
      "outputs": []
    },
    {
      "cell_type": "code",
      "source": [
        "a"
      ],
      "metadata": {
        "colab": {
          "base_uri": "https://localhost:8080/"
        },
        "id": "7BMs-ApaWI3m",
        "outputId": "cc1546ee-e708-4cc4-d62b-4a48359935d6"
      },
      "execution_count": null,
      "outputs": [
        {
          "output_type": "execute_result",
          "data": {
            "text/plain": [
              "2"
            ]
          },
          "metadata": {},
          "execution_count": 15
        }
      ]
    },
    {
      "cell_type": "code",
      "source": [
        "print(a, kor_score)\n",
        "print(\"a\")\n",
        "a"
      ],
      "metadata": {
        "colab": {
          "base_uri": "https://localhost:8080/"
        },
        "id": "nisD0l3yWKAK",
        "outputId": "0a491a98-7141-4b6a-9f2c-a43b774d0599"
      },
      "execution_count": null,
      "outputs": [
        {
          "output_type": "stream",
          "name": "stdout",
          "text": [
            "2 100\n",
            "a\n"
          ]
        },
        {
          "output_type": "execute_result",
          "data": {
            "text/plain": [
              "2"
            ]
          },
          "metadata": {},
          "execution_count": 16
        }
      ]
    },
    {
      "cell_type": "code",
      "source": [
        "10, 20, 30"
      ],
      "metadata": {
        "colab": {
          "base_uri": "https://localhost:8080/"
        },
        "id": "pgMl59cdWiqZ",
        "outputId": "6513544c-55bf-4f9b-d4de-fd1029141ebc"
      },
      "execution_count": null,
      "outputs": [
        {
          "output_type": "execute_result",
          "data": {
            "text/plain": [
              "(10, 20, 30)"
            ]
          },
          "metadata": {},
          "execution_count": 17
        }
      ]
    },
    {
      "cell_type": "code",
      "source": [
        "b = 10, 20, 30 # packing: 여러개의 값을 하나의 변수에 담는 것\n",
        "b"
      ],
      "metadata": {
        "colab": {
          "base_uri": "https://localhost:8080/"
        },
        "id": "yonsV5T_WkrW",
        "outputId": "4f9927ce-9ffc-45cd-b49b-5f5826ac47be"
      },
      "execution_count": null,
      "outputs": [
        {
          "output_type": "execute_result",
          "data": {
            "text/plain": [
              "(10, 20, 30)"
            ]
          },
          "metadata": {},
          "execution_count": 19
        }
      ]
    },
    {
      "cell_type": "code",
      "source": [
        "x, y, z = b # unpacking: 하나로 묶인 자료를 각각의 변수에 대입하라는 의미\n",
        "print(x, y ,z)"
      ],
      "metadata": {
        "id": "kSFym17RZj89"
      },
      "execution_count": null,
      "outputs": []
    },
    {
      "cell_type": "code",
      "source": [
        "# a = 20, b = 10일 때 값을 스위칭 하려면 c가 필요하다\n",
        "# c = a, a = b, b = c 이런식으로"
      ],
      "metadata": {
        "id": "0HCr1mhwXFSV"
      },
      "execution_count": null,
      "outputs": []
    },
    {
      "cell_type": "code",
      "source": [
        "a = 20\n",
        "b = 10\n",
        "print(a, b)"
      ],
      "metadata": {
        "colab": {
          "base_uri": "https://localhost:8080/"
        },
        "id": "8ohaOdTmXryd",
        "outputId": "7cafd718-58a7-42fc-df78-f58e53219f9f"
      },
      "execution_count": null,
      "outputs": [
        {
          "output_type": "stream",
          "name": "stdout",
          "text": [
            "20 10\n"
          ]
        }
      ]
    },
    {
      "cell_type": "code",
      "source": [
        "a, b = b, a\n",
        "print(a, b) "
      ],
      "metadata": {
        "colab": {
          "base_uri": "https://localhost:8080/"
        },
        "id": "27V5DzEPXsud",
        "outputId": "2f8d5a39-ca48-416e-a6fe-49fee3f45fd8"
      },
      "execution_count": null,
      "outputs": [
        {
          "output_type": "stream",
          "name": "stdout",
          "text": [
            "20 10\n"
          ]
        }
      ]
    },
    {
      "cell_type": "markdown",
      "source": [
        "## 1.4 표준 출력 함수 print()"
      ],
      "metadata": {
        "id": "ypNND-crZtQ2"
      }
    },
    {
      "cell_type": "code",
      "source": [
        "# 단순히 내용을 출력 print(\"출력할 내용\") or print(출력할 변수)\n",
        "# 여러개의 값을 출력 print(\"내용1\", \"내용2\")\n",
        "print(\"today\")\n",
        "print(\"one\", \"two\", \"three\")"
      ],
      "metadata": {
        "colab": {
          "base_uri": "https://localhost:8080/"
        },
        "id": "g8C2bTW5aFI5",
        "outputId": "fb68cea5-4630-4ac0-ceb8-273c9f31790d"
      },
      "execution_count": null,
      "outputs": [
        {
          "output_type": "stream",
          "name": "stdout",
          "text": [
            "today\n",
            "one two three\n"
          ]
        }
      ]
    },
    {
      "cell_type": "code",
      "source": [
        "a"
      ],
      "metadata": {
        "colab": {
          "base_uri": "https://localhost:8080/"
        },
        "id": "GfrbGEbBaGP1",
        "outputId": "7ba7fb04-e827-41ad-9f26-bb899ef9ad08"
      },
      "execution_count": null,
      "outputs": [
        {
          "output_type": "execute_result",
          "data": {
            "text/plain": [
              "20"
            ]
          },
          "metadata": {},
          "execution_count": 26
        }
      ]
    },
    {
      "cell_type": "code",
      "source": [
        "print(a, b)"
      ],
      "metadata": {
        "colab": {
          "base_uri": "https://localhost:8080/"
        },
        "id": "xCbhvQbtaOQs",
        "outputId": "b219b895-cc32-40f7-dcf3-04f1a7fbf6c3"
      },
      "execution_count": null,
      "outputs": [
        {
          "output_type": "stream",
          "name": "stdout",
          "text": [
            "20 10\n"
          ]
        }
      ]
    },
    {
      "cell_type": "markdown",
      "source": [
        "## 1.5 자료형(기본 자료형)과 상수 처리"
      ],
      "metadata": {
        "id": "-vtZx_TraQGI"
      }
    },
    {
      "cell_type": "code",
      "source": [
        "# 자료(data): 가공이 되지 않은 or 처리가 되지 않은\n",
        "# 자료형(data type): 파이썬 언어에서 제공하는 기본 자료형\n",
        "## 데이터의 크기를 규정해 놓은 예약어\n",
        "### 문자열(string): \"\" or '' => str\n",
        "### 숫자(number): 정수형(int), 실수형(float)\n",
        "### 논리형(boolean): True or False, 형변환이 불가능\n",
        "# 자료형 확인 함수: type()\n",
        "print(type(\"안녕하세요\"))\n",
        "print(type(123))\n",
        "print(type(5.678))"
      ],
      "metadata": {
        "colab": {
          "base_uri": "https://localhost:8080/"
        },
        "id": "vFJpPQfeaV9D",
        "outputId": "1a0f9f3c-0b67-4e40-d270-a73fb5ab61de"
      },
      "execution_count": null,
      "outputs": [
        {
          "output_type": "stream",
          "name": "stdout",
          "text": [
            "<class 'str'>\n",
            "<class 'int'>\n",
            "<class 'float'>\n"
          ]
        }
      ]
    },
    {
      "cell_type": "code",
      "source": [
        "print('안녕하세요')"
      ],
      "metadata": {
        "colab": {
          "base_uri": "https://localhost:8080/"
        },
        "id": "5VFYtteXbWyN",
        "outputId": "4503e40b-112c-4af4-8c05-f5744d8ca368"
      },
      "execution_count": null,
      "outputs": [
        {
          "output_type": "stream",
          "name": "stdout",
          "text": [
            "안녕하세요\n"
          ]
        }
      ]
    },
    {
      "cell_type": "code",
      "source": [
        "# \"안녕하세요\"라고 말했습니다.\n",
        "print('\"안녕하세요\"라고 말했습니다.')\n",
        "print(\"이제는 '배가 고플' 시간이네요.\")"
      ],
      "metadata": {
        "colab": {
          "base_uri": "https://localhost:8080/"
        },
        "id": "-SslRLdTfDaG",
        "outputId": "aa7e0667-143c-4de0-fe11-b22082de9910"
      },
      "execution_count": null,
      "outputs": [
        {
          "output_type": "stream",
          "name": "stdout",
          "text": [
            "\"안녕하세요\"라고 말했습니다.\n",
            "이제는 '배가 고플' 시간이네요.\n"
          ]
        }
      ]
    },
    {
      "cell_type": "code",
      "source": [
        "## \\n: 줄바꿈을 의미(개행)\n",
        "## \\t: tap을 의미\n",
        "print(\"안녕하세요안녕하세요\")\n",
        "print(\"안녕하세요\\n안녕하세요\")\n",
        "print(\"안녕하세요\\t안녕하세요\")"
      ],
      "metadata": {
        "colab": {
          "base_uri": "https://localhost:8080/"
        },
        "id": "3GdjsY7GfEWV",
        "outputId": "51d97753-586f-4aad-c34f-800b66c14bdc"
      },
      "execution_count": null,
      "outputs": [
        {
          "output_type": "stream",
          "name": "stdout",
          "text": [
            "안녕하세요안녕하세요\n",
            "안녕하세요\n",
            "안녕하세요\n",
            "안녕하세요\t안녕하세요\n"
          ]
        }
      ]
    },
    {
      "cell_type": "code",
      "source": [
        "## \\\\: 역슬레쉬를 의미\n",
        "print(\"\\\\\")"
      ],
      "metadata": {
        "colab": {
          "base_uri": "https://localhost:8080/"
        },
        "id": "DxyLfrHVg484",
        "outputId": "4ea37445-5a15-4afc-83be-e3e3509c261d"
      },
      "execution_count": null,
      "outputs": [
        {
          "output_type": "stream",
          "name": "stdout",
          "text": [
            "\\\n"
          ]
        }
      ]
    },
    {
      "cell_type": "code",
      "source": [
        "\"\"\"\n",
        "동해물과 백두산이 마르고 닳도록\n",
        "하느님이 보우하사 우리나라 만세\n",
        "무궁화 삼천리 화려강산\n",
        "대한사람 대한으로 길이 보전하세\n",
        "\"\"\""
      ],
      "metadata": {
        "colab": {
          "base_uri": "https://localhost:8080/",
          "height": 36
        },
        "id": "JODx40VAg6ii",
        "outputId": "6bb1387f-7e17-411a-9549-47771ce26823"
      },
      "execution_count": null,
      "outputs": [
        {
          "output_type": "execute_result",
          "data": {
            "text/plain": [
              "'\\n동해물과 백두산이 마르고 닳도록\\n하느님이 보우하사 우리나라 만세\\n무궁화 삼천리 화려강산\\n대한사람 대한으로 길이 보전하세\\n'"
            ],
            "application/vnd.google.colaboratory.intrinsic+json": {
              "type": "string"
            }
          },
          "metadata": {},
          "execution_count": 35
        }
      ]
    },
    {
      "cell_type": "code",
      "source": [
        "'''\n",
        "동해물과 백두산이 마르고 닳도록\n",
        "하느님이 보우하사 우리나라 만세\n",
        "무궁화 삼천리 화려강산\n",
        "대한사람 대한으로 길이 보전하세'''"
      ],
      "metadata": {
        "colab": {
          "base_uri": "https://localhost:8080/",
          "height": 36
        },
        "id": "EuTNal8ciDRz",
        "outputId": "f4a67989-8c04-4085-fcad-6091fbadaec9"
      },
      "execution_count": null,
      "outputs": [
        {
          "output_type": "execute_result",
          "data": {
            "text/plain": [
              "'\\n동해물과 백두산이 마르고 닳도록\\n하느님이 보우하사 우리나라 만세\\n무궁화 삼천리 화려강산\\n대한사람 대한으로 길이 보전하세'"
            ],
            "application/vnd.google.colaboratory.intrinsic+json": {
              "type": "string"
            }
          },
          "metadata": {},
          "execution_count": 36
        }
      ]
    },
    {
      "cell_type": "code",
      "source": [
        "# 여러 줄 주석 처리: 블럭처리 Ctrl + /\n",
        "# 이것도 주석\n",
        "# 저것도 주석\n",
        "# 여기도 주석\n",
        "# 저기도 주석"
      ],
      "metadata": {
        "id": "ZcfWJaOQiEYb"
      },
      "execution_count": null,
      "outputs": []
    },
    {
      "cell_type": "markdown",
      "source": [
        "#### 1.5.0.1 문자열 처리"
      ],
      "metadata": {
        "id": "BbYz4qgeiFj6"
      }
    },
    {
      "cell_type": "code",
      "source": [
        "# 문자열 연결 연산자: +"
      ],
      "metadata": {
        "id": "wahJBRbfiXiy"
      },
      "execution_count": null,
      "outputs": []
    },
    {
      "cell_type": "code",
      "source": [
        "# 문자열 연결 연산자: +, 연산 방향이 좌에서 우로\n",
        "\"문자열1\" + \"30\""
      ],
      "metadata": {
        "colab": {
          "base_uri": "https://localhost:8080/",
          "height": 36
        },
        "id": "Zs3UXGihic_a",
        "outputId": "75f6a00f-fa9b-446f-c033-e41361688d7e"
      },
      "execution_count": null,
      "outputs": [
        {
          "output_type": "execute_result",
          "data": {
            "text/plain": [
              "'문자열130'"
            ],
            "application/vnd.google.colaboratory.intrinsic+json": {
              "type": "string"
            }
          },
          "metadata": {},
          "execution_count": 40
        }
      ]
    },
    {
      "cell_type": "code",
      "source": [
        "# 문자열 반복 연산자: * 반복 횟수\n",
        "\"으앙 \" * 4"
      ],
      "metadata": {
        "colab": {
          "base_uri": "https://localhost:8080/",
          "height": 36
        },
        "id": "ukFcqPQJjAhI",
        "outputId": "46586371-d0b4-4ac3-e6f8-87e3f0b3ee01"
      },
      "execution_count": null,
      "outputs": [
        {
          "output_type": "execute_result",
          "data": {
            "text/plain": [
              "'으앙 으앙 으앙 으앙 '"
            ],
            "application/vnd.google.colaboratory.intrinsic+json": {
              "type": "string"
            }
          },
          "metadata": {},
          "execution_count": 41
        }
      ]
    },
    {
      "cell_type": "code",
      "source": [
        "# 인덱싱: 문자열의 특정 위치값 선택, [위치값]\n",
        "# 인덱스의 시작은 0부터\n",
        "a = '안녕하세요'\n",
        "a"
      ],
      "metadata": {
        "colab": {
          "base_uri": "https://localhost:8080/",
          "height": 36
        },
        "id": "Ljo6onl_kIWa",
        "outputId": "a763e7c7-cd89-4d1f-8bae-61f86b7b807b"
      },
      "execution_count": null,
      "outputs": [
        {
          "output_type": "execute_result",
          "data": {
            "text/plain": [
              "'안녕하세요'"
            ],
            "application/vnd.google.colaboratory.intrinsic+json": {
              "type": "string"
            }
          },
          "metadata": {},
          "execution_count": 42
        }
      ]
    },
    {
      "cell_type": "code",
      "source": [
        "a[0], a[2], a[4]"
      ],
      "metadata": {
        "colab": {
          "base_uri": "https://localhost:8080/"
        },
        "id": "zAaHeiICkJWI",
        "outputId": "d965d8c7-128c-4b34-c0b6-20bf349e4833"
      },
      "execution_count": null,
      "outputs": [
        {
          "output_type": "execute_result",
          "data": {
            "text/plain": [
              "('안', '하', '요')"
            ]
          },
          "metadata": {},
          "execution_count": 43
        }
      ]
    },
    {
      "cell_type": "code",
      "source": [
        "a[-1], a[-2], a[-4], a[-3]"
      ],
      "metadata": {
        "colab": {
          "base_uri": "https://localhost:8080/"
        },
        "id": "SaA3YVqrkKZQ",
        "outputId": "23d4b08e-88a2-406f-ea59-85935fc4357e"
      },
      "execution_count": null,
      "outputs": [
        {
          "output_type": "execute_result",
          "data": {
            "text/plain": [
              "('요', '세', '녕', '하')"
            ]
          },
          "metadata": {},
          "execution_count": 44
        }
      ]
    },
    {
      "cell_type": "code",
      "source": [
        "# 문자열의 일부분(범위)를 선택: 슬라이싱[start:end], end-1만큼 처리\n",
        "a[0:5]"
      ],
      "metadata": {
        "colab": {
          "base_uri": "https://localhost:8080/",
          "height": 36
        },
        "id": "OZQN6uzlkfYQ",
        "outputId": "14af3213-29f4-4a61-a7f1-e5b5b936b860"
      },
      "execution_count": null,
      "outputs": [
        {
          "output_type": "execute_result",
          "data": {
            "text/plain": [
              "'안녕하세요'"
            ],
            "application/vnd.google.colaboratory.intrinsic+json": {
              "type": "string"
            }
          },
          "metadata": {},
          "execution_count": 45
        }
      ]
    },
    {
      "cell_type": "code",
      "source": [
        "a[:]"
      ],
      "metadata": {
        "colab": {
          "base_uri": "https://localhost:8080/",
          "height": 36
        },
        "id": "FM-mAIe3lYCO",
        "outputId": "9fb9c138-a87e-4402-8ce8-54d06d57bdfd"
      },
      "execution_count": null,
      "outputs": [
        {
          "output_type": "execute_result",
          "data": {
            "text/plain": [
              "'안녕하세요'"
            ],
            "application/vnd.google.colaboratory.intrinsic+json": {
              "type": "string"
            }
          },
          "metadata": {},
          "execution_count": 46
        }
      ]
    },
    {
      "cell_type": "code",
      "source": [
        "a[1:4]"
      ],
      "metadata": {
        "colab": {
          "base_uri": "https://localhost:8080/",
          "height": 36
        },
        "id": "TUVSqio9lZCm",
        "outputId": "ac8043d5-7d02-43b2-c383-4d93fd679b52"
      },
      "execution_count": null,
      "outputs": [
        {
          "output_type": "execute_result",
          "data": {
            "text/plain": [
              "'녕하세'"
            ],
            "application/vnd.google.colaboratory.intrinsic+json": {
              "type": "string"
            }
          },
          "metadata": {},
          "execution_count": 47
        }
      ]
    },
    {
      "cell_type": "code",
      "source": [
        "a[:4]"
      ],
      "metadata": {
        "colab": {
          "base_uri": "https://localhost:8080/",
          "height": 36
        },
        "id": "MUEZPu7XlaLH",
        "outputId": "dfcebd8c-b6cd-4492-f086-f43d9bb25539"
      },
      "execution_count": null,
      "outputs": [
        {
          "output_type": "execute_result",
          "data": {
            "text/plain": [
              "'안녕하세'"
            ],
            "application/vnd.google.colaboratory.intrinsic+json": {
              "type": "string"
            }
          },
          "metadata": {},
          "execution_count": 48
        }
      ]
    },
    {
      "cell_type": "code",
      "source": [
        "a[2:]"
      ],
      "metadata": {
        "colab": {
          "base_uri": "https://localhost:8080/",
          "height": 36
        },
        "id": "X4c69SgMlbD5",
        "outputId": "c1e25612-0287-4a1c-ffa5-0b2ef32f2fa1"
      },
      "execution_count": null,
      "outputs": [
        {
          "output_type": "execute_result",
          "data": {
            "text/plain": [
              "'하세요'"
            ],
            "application/vnd.google.colaboratory.intrinsic+json": {
              "type": "string"
            }
          },
          "metadata": {},
          "execution_count": 49
        }
      ]
    },
    {
      "cell_type": "code",
      "source": [
        "# len() 함수: 문자열의 길이를 추출할 때 사용하는 함수\n",
        "print(len(a))"
      ],
      "metadata": {
        "colab": {
          "base_uri": "https://localhost:8080/"
        },
        "id": "sKWB0LpPlb8h",
        "outputId": "54e1ebda-4dd0-40fc-9739-7b41cacb8d5c"
      },
      "execution_count": null,
      "outputs": [
        {
          "output_type": "stream",
          "name": "stdout",
          "text": [
            "5\n"
          ]
        }
      ]
    },
    {
      "cell_type": "markdown",
      "source": [
        "# 2. 변수와 배정대입연산자"
      ],
      "metadata": {
        "id": "TzUpQiWQl45R"
      }
    },
    {
      "cell_type": "code",
      "source": [
        "#변수(variable): 값을 저장하는 식별자, 기억공간\n",
        "pi = 3.14159265\n",
        "pi"
      ],
      "metadata": {
        "colab": {
          "base_uri": "https://localhost:8080/"
        },
        "id": "2OsLpksVmfLG",
        "outputId": "f2f065a0-3304-47f3-f8a7-6f4749d9ac39"
      },
      "execution_count": null,
      "outputs": [
        {
          "output_type": "execute_result",
          "data": {
            "text/plain": [
              "3.14159265"
            ]
          },
          "metadata": {},
          "execution_count": 51
        }
      ]
    },
    {
      "cell_type": "code",
      "source": [
        "type(pi)"
      ],
      "metadata": {
        "colab": {
          "base_uri": "https://localhost:8080/"
        },
        "id": "VMv38K2Um8lC",
        "outputId": "de37bb7e-b54a-4de1-85d7-d76cef21e437"
      },
      "execution_count": null,
      "outputs": [
        {
          "output_type": "execute_result",
          "data": {
            "text/plain": [
              "float"
            ]
          },
          "metadata": {},
          "execution_count": 52
        }
      ]
    },
    {
      "cell_type": "code",
      "source": [
        "pi = 3.14\n",
        "pi"
      ],
      "metadata": {
        "colab": {
          "base_uri": "https://localhost:8080/"
        },
        "id": "Ma_3xnsim9nd",
        "outputId": "22ea30ca-4d85-4fad-8318-4b8f4a40e2ec"
      },
      "execution_count": null,
      "outputs": [
        {
          "output_type": "execute_result",
          "data": {
            "text/plain": [
              "3.14"
            ]
          },
          "metadata": {},
          "execution_count": 53
        }
      ]
    },
    {
      "cell_type": "code",
      "source": [
        "pi + pi"
      ],
      "metadata": {
        "colab": {
          "base_uri": "https://localhost:8080/"
        },
        "id": "GPtEOKBRnEEe",
        "outputId": "d4def81a-6b16-466b-bb37-2ad231844a89"
      },
      "execution_count": null,
      "outputs": [
        {
          "output_type": "execute_result",
          "data": {
            "text/plain": [
              "6.28"
            ]
          },
          "metadata": {},
          "execution_count": 54
        }
      ]
    },
    {
      "cell_type": "code",
      "source": [
        "pi + 2"
      ],
      "metadata": {
        "colab": {
          "base_uri": "https://localhost:8080/"
        },
        "id": "fHiXd6a_nMk-",
        "outputId": "a4326caf-d25a-4a24-d1c6-6d8655d3aa73"
      },
      "execution_count": null,
      "outputs": [
        {
          "output_type": "execute_result",
          "data": {
            "text/plain": [
              "5.140000000000001"
            ]
          },
          "metadata": {},
          "execution_count": 55
        }
      ]
    },
    {
      "cell_type": "code",
      "source": [
        "pi / 2"
      ],
      "metadata": {
        "colab": {
          "base_uri": "https://localhost:8080/"
        },
        "id": "b8jhZ1EenNz5",
        "outputId": "81ecad95-75c9-47f1-ba46-39f71b86f307"
      },
      "execution_count": null,
      "outputs": [
        {
          "output_type": "execute_result",
          "data": {
            "text/plain": [
              "1.57"
            ]
          },
          "metadata": {},
          "execution_count": 56
        }
      ]
    },
    {
      "cell_type": "code",
      "source": [
        "# 원의 둘레와 면적을 계산하여 출력하는 프로그램\n",
        "# 변수의 선언과 할당 - 초기화 or 선언문\n",
        "pi = 3.14159265\n",
        "r = 10\n",
        "\n",
        "# 변수 참조\n",
        "print(\"원주율 =\", pi)\n",
        "print(\"반지름 =\", r)\n",
        "print(\"원의 둘레 =\", 2*pi*r)\n",
        "print(\"원의 면적 =\", r*r*pi)"
      ],
      "metadata": {
        "colab": {
          "base_uri": "https://localhost:8080/"
        },
        "id": "sygvBBzCn4Zf",
        "outputId": "225f1c29-2c8a-4cf2-c695-e43109f6b6e1"
      },
      "execution_count": null,
      "outputs": [
        {
          "output_type": "stream",
          "name": "stdout",
          "text": [
            "원주율 = 3.14159265\n",
            "반지름 = 10\n",
            "원의 둘레 = 62.831853\n",
            "원의 면적 = 314.159265\n"
          ]
        }
      ]
    },
    {
      "cell_type": "code",
      "source": [
        "import math\n",
        "math.pi"
      ],
      "metadata": {
        "colab": {
          "base_uri": "https://localhost:8080/"
        },
        "id": "Y4eSJDA5od9n",
        "outputId": "d7cdeb7e-e8f8-4fac-e188-426d2be77075"
      },
      "execution_count": null,
      "outputs": [
        {
          "output_type": "execute_result",
          "data": {
            "text/plain": [
              "3.141592653589793"
            ]
          },
          "metadata": {},
          "execution_count": 58
        }
      ]
    },
    {
      "cell_type": "code",
      "source": [
        "# 배정대입연산자: 대입연산자와 산술연산자가 결합되어 있을 때 , 좌변과 우변에 동일 변수가 있을 때 줄여 쓸 수 있다.\n",
        "a = 0 # 초기화, 선언문의 역할\n",
        "# +=, -=, *=, /=, %-, **=\n",
        "#a = a + 10\n",
        "a += 10\n",
        "a"
      ],
      "metadata": {
        "colab": {
          "base_uri": "https://localhost:8080/"
        },
        "id": "gAO8uJsopvyP",
        "outputId": "c715e6d3-3a69-4857-8b82-59adf4a7dc1c"
      },
      "execution_count": null,
      "outputs": [
        {
          "output_type": "execute_result",
          "data": {
            "text/plain": [
              "10"
            ]
          },
          "metadata": {},
          "execution_count": 59
        }
      ]
    },
    {
      "cell_type": "code",
      "source": [
        "string = \"안녕하세요\"\n",
        "#string = string + \"!\"\n",
        "string += \"!\"\n",
        "string"
      ],
      "metadata": {
        "colab": {
          "base_uri": "https://localhost:8080/",
          "height": 36
        },
        "id": "z95dHypmpwqu",
        "outputId": "53c7c0c0-39be-4aff-8e74-1c69242f25f6"
      },
      "execution_count": null,
      "outputs": [
        {
          "output_type": "execute_result",
          "data": {
            "text/plain": [
              "'안녕하세요!'"
            ],
            "application/vnd.google.colaboratory.intrinsic+json": {
              "type": "string"
            }
          },
          "metadata": {},
          "execution_count": 60
        }
      ]
    },
    {
      "cell_type": "code",
      "source": [
        "#string = string * 3\n",
        "string *= 3\n",
        "string"
      ],
      "metadata": {
        "colab": {
          "base_uri": "https://localhost:8080/",
          "height": 36
        },
        "id": "y_Gi5RobpyCf",
        "outputId": "fcbb981c-286d-441d-a8ba-92ed7918151c"
      },
      "execution_count": null,
      "outputs": [
        {
          "output_type": "execute_result",
          "data": {
            "text/plain": [
              "'안녕하세요!안녕하세요!안녕하세요!'"
            ],
            "application/vnd.google.colaboratory.intrinsic+json": {
              "type": "string"
            }
          },
          "metadata": {},
          "execution_count": 61
        }
      ]
    },
    {
      "cell_type": "markdown",
      "source": [
        "# 3. 표준 입출력 함수: 콘솔 환경 입출력\n",
        "- 콘솔(console): 키보드와 모니터\n",
        "- 표준 입력 함수: input()\n",
        "- 표준 출력 함수: print()"
      ],
      "metadata": {
        "id": "x5Xr23jqqDjw"
      }
    },
    {
      "cell_type": "code",
      "source": [
        "input(\"인사말을 입력하세요: \")"
      ],
      "metadata": {
        "id": "Bgp7liOksxGR",
        "colab": {
          "base_uri": "https://localhost:8080/",
          "height": 55
        },
        "outputId": "516c65d9-362b-4ea1-dd71-c7642f6b63e0"
      },
      "execution_count": null,
      "outputs": [
        {
          "name": "stdout",
          "output_type": "stream",
          "text": [
            "인사말을 입력하세요: 인사말을 입력하였습니다.\n"
          ]
        },
        {
          "output_type": "execute_result",
          "data": {
            "text/plain": [
              "'인사말을 입력하였습니다.'"
            ],
            "application/vnd.google.colaboratory.intrinsic+json": {
              "type": "string"
            }
          },
          "metadata": {},
          "execution_count": 62
        }
      ]
    },
    {
      "cell_type": "code",
      "source": [
        "intro = input(\"인사말을 입력하세요 :\")"
      ],
      "metadata": {
        "colab": {
          "base_uri": "https://localhost:8080/"
        },
        "id": "5sI5VvliwDQl",
        "outputId": "bcbf663d-a8e2-4532-ce9a-965c35f6bd49"
      },
      "execution_count": null,
      "outputs": [
        {
          "name": "stdout",
          "output_type": "stream",
          "text": [
            "인사말을 입력하세요 :인사말ㅇㅇ\n"
          ]
        }
      ]
    },
    {
      "cell_type": "code",
      "source": [
        "intro #print(intro)"
      ],
      "metadata": {
        "colab": {
          "base_uri": "https://localhost:8080/",
          "height": 36
        },
        "id": "V3zuOJlywEi7",
        "outputId": "130a13cc-af37-4fae-9305-526979739464"
      },
      "execution_count": null,
      "outputs": [
        {
          "output_type": "execute_result",
          "data": {
            "text/plain": [
              "'인사말ㅇㅇ'"
            ],
            "application/vnd.google.colaboratory.intrinsic+json": {
              "type": "string"
            }
          },
          "metadata": {},
          "execution_count": 64
        }
      ]
    },
    {
      "cell_type": "code",
      "source": [
        "# input() 함수를 통해 입력된 데이터는 숫자여도 문자열형으로 간주한다.\n",
        "number = input(\"좋아하는 숫자를 입력하세요: \")\n",
        "number"
      ],
      "metadata": {
        "colab": {
          "base_uri": "https://localhost:8080/",
          "height": 55
        },
        "id": "l7X8HO7FwF8k",
        "outputId": "6014b8c7-c3f7-4d3e-b0e1-136ff7d2f555"
      },
      "execution_count": null,
      "outputs": [
        {
          "name": "stdout",
          "output_type": "stream",
          "text": [
            "좋아하는 숫자를 입력하세요: 7\n"
          ]
        },
        {
          "output_type": "execute_result",
          "data": {
            "text/plain": [
              "'7'"
            ],
            "application/vnd.google.colaboratory.intrinsic+json": {
              "type": "string"
            }
          },
          "metadata": {},
          "execution_count": 65
        }
      ]
    },
    {
      "cell_type": "code",
      "source": [
        "type(number)"
      ],
      "metadata": {
        "colab": {
          "base_uri": "https://localhost:8080/"
        },
        "id": "28olgZF8wiJE",
        "outputId": "e4b6fcd0-1595-4c8f-e4e5-2e8e8521f0fb"
      },
      "execution_count": null,
      "outputs": [
        {
          "output_type": "execute_result",
          "data": {
            "text/plain": [
              "str"
            ]
          },
          "metadata": {},
          "execution_count": 66
        }
      ]
    },
    {
      "cell_type": "code",
      "source": [
        "print(type(number))"
      ],
      "metadata": {
        "colab": {
          "base_uri": "https://localhost:8080/"
        },
        "id": "g-mCC7cPwjRQ",
        "outputId": "bd1583e1-b84d-4076-e4ec-fd738b4f90a2"
      },
      "execution_count": null,
      "outputs": [
        {
          "output_type": "stream",
          "name": "stdout",
          "text": [
            "<class 'str'>\n"
          ]
        }
      ]
    },
    {
      "cell_type": "code",
      "source": [
        "# 두 개의 숫자를 입력 받아 사칙연산을 출력하는 프로그램을 구현하시오.\n",
        "first = input(\"첫 번째 수 = \")\n",
        "second = input(\"두 번째 수 = \")\n",
        "fist = int(first)\n",
        "second = int(second)\n",
        "print(\"두 수의 합:\", fist + second)"
      ],
      "metadata": {
        "colab": {
          "base_uri": "https://localhost:8080/"
        },
        "id": "Fxka28VNwkQ2",
        "outputId": "8a3f04e8-d110-4233-e032-851c67302ab0"
      },
      "execution_count": null,
      "outputs": [
        {
          "output_type": "stream",
          "name": "stdout",
          "text": [
            "첫 번째 수 = 10\n",
            "두 번째 수 = 25\n",
            "두 수의 합: 35\n"
          ]
        }
      ]
    },
    {
      "cell_type": "code",
      "source": [
        "first = int(input(\"첫 번째 수 = \"))\n",
        "second = int(input(\"두 번째 수 = \"))\n",
        "print(\"두 수의 합:\", fist + second)"
      ],
      "metadata": {
        "colab": {
          "base_uri": "https://localhost:8080/"
        },
        "id": "a-5yNMZLw2Ev",
        "outputId": "2a14b5c7-adb3-4c28-df70-e5645f150ddc"
      },
      "execution_count": null,
      "outputs": [
        {
          "output_type": "stream",
          "name": "stdout",
          "text": [
            "첫 번째 수 = 10\n",
            "두 번째 수 = 25\n",
            "두 수의 합: 35\n"
          ]
        }
      ]
    },
    {
      "cell_type": "code",
      "source": [
        "first = input(\"첫 번째 수 = \")\n",
        "second = input(\"두 번째 수 = \")\n",
        "print(\"두 수의 합:\", int(first)+int(second))"
      ],
      "metadata": {
        "colab": {
          "base_uri": "https://localhost:8080/"
        },
        "id": "_I25j2Yhw3I1",
        "outputId": "055d6b25-61b2-41aa-984e-286485789f8b"
      },
      "execution_count": null,
      "outputs": [
        {
          "output_type": "stream",
          "name": "stdout",
          "text": [
            "첫 번째 수 = 10\n",
            "두 번째 수 = 25\n",
            "두 수의 합: 35\n"
          ]
        }
      ]
    },
    {
      "cell_type": "markdown",
      "source": [
        "# 4. 형변환: casting\n",
        "- 자료형을 다른 자료형으로 바꾸는 기능\n",
        "- 논리형(1byte): 형변환 불가능\n",
        "- 정수형 < 실수형 < 문자형\n",
        "- 정수형을 실수형으로 바꿀 때는 데이터 손실이 없어서 명시하지 않아도 되지만\n",
        "- 실수형을 정수형으로 바꿀 때는 데이터 손실이 있어서 반드시 명시해야 한다.\n",
        "- 자동형변환(묵시적형변환, promotion): 작은 자료형을 큰 자료형에 담을 때\n",
        "- 강제형변환(명시적형변환, casting): 큰 자료형을 작은 자료형에 담을 때\n",
        "- int(): 문자열을 정수형으로 변환, 실수형을 정수형으로 변환\n",
        "- float(): 문자열을 실수형으로 변환, 정수형을 실수형으로 변환\n",
        "- str(): 정수 또는 실수형을 문자형으로 변환"
      ],
      "metadata": {
        "id": "YkPT2jxdw4N2"
      }
    },
    {
      "cell_type": "code",
      "source": [
        "type(int(\"1987\"))"
      ],
      "metadata": {
        "id": "lRTFelCUw-SQ",
        "colab": {
          "base_uri": "https://localhost:8080/"
        },
        "outputId": "0e91a742-82c6-4e44-aa91-93a8482638f2"
      },
      "execution_count": null,
      "outputs": [
        {
          "output_type": "execute_result",
          "data": {
            "text/plain": [
              "int"
            ]
          },
          "metadata": {},
          "execution_count": 71
        }
      ]
    },
    {
      "cell_type": "code",
      "source": [
        "# int(\"52.273\") 에러난다(문자열 형태의 실수값을 정수형에 담으려 해서)\n",
        "float(\"52.273\") "
      ],
      "metadata": {
        "colab": {
          "base_uri": "https://localhost:8080/"
        },
        "id": "zX4-lQPnJAVa",
        "outputId": "547b2413-9467-4480-ff86-e9344e1d5e90"
      },
      "execution_count": null,
      "outputs": [
        {
          "output_type": "execute_result",
          "data": {
            "text/plain": [
              "52.273"
            ]
          },
          "metadata": {},
          "execution_count": 72
        }
      ]
    },
    {
      "cell_type": "code",
      "source": [
        "# 단위변환 inch 단위를 cm 단위로 변환하는 프로그램을 구현하시오.\n",
        "## 1inch = 2.54cm"
      ],
      "metadata": {
        "id": "ynkp6z0QJBRK"
      },
      "execution_count": null,
      "outputs": []
    },
    {
      "cell_type": "code",
      "source": [
        "# 내가 만든 식\n",
        "inch = float(input(\"inch 값을 입력 하세요: \"))\n",
        "cm = inch * 2.54\n",
        "print(str(inch) + \"inch는\", str(cm) + \"cm 입니다.\")"
      ],
      "metadata": {
        "colab": {
          "base_uri": "https://localhost:8080/"
        },
        "id": "-iZZdtEIJChP",
        "outputId": "15b322e4-da3f-4772-d048-c33f020f71d4"
      },
      "execution_count": null,
      "outputs": [
        {
          "output_type": "stream",
          "name": "stdout",
          "text": [
            "inch 값을 입력 하세요: 1\n",
            "1.0inch는 2.54cm 입니다.\n"
          ]
        }
      ]
    },
    {
      "cell_type": "code",
      "source": [
        "# 교수님이 알려주신 식\n",
        "inch = input(\"변환할 inc = \")\n",
        "cm = float(inch) * 2.54\n",
        "print(\"변환된 cm = \", cm, \"cm\")"
      ],
      "metadata": {
        "colab": {
          "base_uri": "https://localhost:8080/"
        },
        "id": "bEEVAT05JDW0",
        "outputId": "32e3e09b-bfb1-425a-e6ee-50ecf6cf09e1"
      },
      "execution_count": null,
      "outputs": [
        {
          "output_type": "stream",
          "name": "stdout",
          "text": [
            "변환할 inc = 1\n",
            "변환된 cm =  2.54 cm\n"
          ]
        }
      ]
    },
    {
      "cell_type": "code",
      "source": [
        "# 초를 입력받아 시, 분, 초로 출력되는 프로그램을 구현하시오.\n",
        "## 1min = 60sec, 1hour = 60min = 60 * 60\n",
        "## 7000초 => 시간 분 초로"
      ],
      "metadata": {
        "id": "RWgf8gcCJE8l"
      },
      "execution_count": null,
      "outputs": []
    },
    {
      "cell_type": "code",
      "source": [
        "a = math.trunc(10 /3)\n",
        "a"
      ],
      "metadata": {
        "colab": {
          "base_uri": "https://localhost:8080/"
        },
        "id": "vulql6mKJGEl",
        "outputId": "0e78a531-4a28-4419-bff7-832a6dfd52c5"
      },
      "execution_count": null,
      "outputs": [
        {
          "output_type": "execute_result",
          "data": {
            "text/plain": [
              "3"
            ]
          },
          "metadata": {},
          "execution_count": 77
        }
      ]
    },
    {
      "cell_type": "code",
      "source": [
        "sec = int(input(\"변환하실 초를 입력하세요: \"))\n",
        "hour = math.trunc(sec / 3600)\n",
        "min = math.trunc(sec % 3600 / 60)\n",
        "sec2 = sec % 60\n",
        "print(hour,\"시간\", min, \"분\",  sec2, \"초\")"
      ],
      "metadata": {
        "colab": {
          "base_uri": "https://localhost:8080/"
        },
        "id": "rTdq63WPJHIB",
        "outputId": "2793b74b-0e70-469a-f52f-a4f6b7aded98"
      },
      "execution_count": null,
      "outputs": [
        {
          "output_type": "stream",
          "name": "stdout",
          "text": [
            "변환하실 초를 입력하세요: 7000\n",
            "1 시간 56 분 40 초\n"
          ]
        }
      ]
    },
    {
      "cell_type": "code",
      "source": [
        "cho = float(input(\"초를 입력하세요 = \"))\n",
        "sigan = cho / 3600 # 8.234\n",
        "sigan = int(sigan)\n",
        "bun = (cho - sigan * 3600) / 60\n",
        "bun = int(bun)\n",
        "cho2 = cho - sigan * 3600 - bun * 60\n",
        "print(sigan, \"시간\", bun, \"분\", cho2, \"초\")"
      ],
      "metadata": {
        "colab": {
          "base_uri": "https://localhost:8080/"
        },
        "id": "j_Ubof7OJH8v",
        "outputId": "4afdb7f2-fb90-46f3-92f8-38a822858066"
      },
      "execution_count": null,
      "outputs": [
        {
          "output_type": "stream",
          "name": "stdout",
          "text": [
            "초를 입력하세요 = 7000\n",
            "1 시간 56 분 40.0 초\n"
          ]
        }
      ]
    },
    {
      "cell_type": "code",
      "source": [
        "a = 4.78\n",
        "a = int(a)\n",
        "a"
      ],
      "metadata": {
        "id": "8iuNd8tqJIyN"
      },
      "execution_count": null,
      "outputs": []
    },
    {
      "cell_type": "code",
      "source": [
        "# 초를 시간과 분과 초로 환산하는 문제\n",
        "# 시간 = 1:15:20\n",
        "# 초 = 시간 * 60 * 60 = 3600\n",
        "#       분 * 60 = 900\n",
        "#       3600 + 900 + 20 = 4520초\n",
        "\n",
        "# 4520초 => 4520 // 3600 = 1시간\n",
        "#            4520 % 3600 = 920초\n",
        "#             920 // 60 = 15분\n",
        "#              920 % 60 = 20초"
      ],
      "metadata": {
        "id": "7T7bd4hBJJox"
      },
      "execution_count": null,
      "outputs": []
    },
    {
      "cell_type": "code",
      "source": [
        "# 초를 입력 받아 시, 분, 초로 출력되는 프로그램\n",
        "## 1min = 60sec, 1hour = 60min = 60 * 60sec\n",
        "## 7000초 => 시간 분 초\n",
        "cho = float(input(\"초를 입력하세요 = \"))\n",
        "sigan = cho // 3600 # 시간\n",
        "bun = cho % 3600\n",
        "minute = bun // 60 # 분\n",
        "second = bun % 60\n",
        "print(int(sigan), int(minute), int(second))"
      ],
      "metadata": {
        "colab": {
          "base_uri": "https://localhost:8080/"
        },
        "id": "QxBrGS44NqXW",
        "outputId": "b682fdf3-f1c7-466f-905f-81cfbae612c8"
      },
      "execution_count": null,
      "outputs": [
        {
          "output_type": "stream",
          "name": "stdout",
          "text": [
            "초를 입력하세요 = 7000\n",
            "1 56 40\n"
          ]
        }
      ]
    },
    {
      "cell_type": "code",
      "source": [
        "sigan = 4570 // 3600\n",
        "sigan"
      ],
      "metadata": {
        "colab": {
          "base_uri": "https://localhost:8080/"
        },
        "id": "ZrXUyIW7NrhH",
        "outputId": "583327eb-d209-4d50-8bee-0ed5e3fc4d0f"
      },
      "execution_count": null,
      "outputs": [
        {
          "output_type": "execute_result",
          "data": {
            "text/plain": [
              "1"
            ]
          },
          "metadata": {},
          "execution_count": 88
        }
      ]
    },
    {
      "cell_type": "code",
      "source": [
        "bun = 4570 % 3600\n",
        "bun"
      ],
      "metadata": {
        "colab": {
          "base_uri": "https://localhost:8080/"
        },
        "id": "vbG1khaONtnr",
        "outputId": "f9e01d20-582e-44a7-eb6c-c5930c17bf57"
      },
      "execution_count": null,
      "outputs": [
        {
          "output_type": "execute_result",
          "data": {
            "text/plain": [
              "970"
            ]
          },
          "metadata": {},
          "execution_count": 89
        }
      ]
    },
    {
      "cell_type": "code",
      "source": [
        "minute = 970 // 60\n",
        "minute"
      ],
      "metadata": {
        "colab": {
          "base_uri": "https://localhost:8080/"
        },
        "id": "gsqJXEL4Nusv",
        "outputId": "88f64681-3aab-4fc7-d8a5-4ff1b1f333d6"
      },
      "execution_count": null,
      "outputs": [
        {
          "output_type": "execute_result",
          "data": {
            "text/plain": [
              "16"
            ]
          },
          "metadata": {},
          "execution_count": 90
        }
      ]
    },
    {
      "cell_type": "code",
      "source": [
        "second = 970 % 60\n",
        "second"
      ],
      "metadata": {
        "colab": {
          "base_uri": "https://localhost:8080/"
        },
        "id": "B0izpbPuNvqr",
        "outputId": "2584480a-cc1c-4d76-d42c-c1f43d8d7038"
      },
      "execution_count": null,
      "outputs": [
        {
          "output_type": "execute_result",
          "data": {
            "text/plain": [
              "10"
            ]
          },
          "metadata": {},
          "execution_count": 91
        }
      ]
    },
    {
      "cell_type": "code",
      "source": [
        "# 변수 선언, 변수 할당, 변수 참조\n",
        "# 원의 반지름을 입력 받아 원의 둘레와 면적을 구하는 프로그램을 작성하시오.\n",
        "# 원주율은 3.14\n",
        "## 원의 둘레 = 2 * 원주율 * 반지름\n",
        "## 원의 면적 = 반지름 * 반지름 * 원주율\n",
        "# import math\n",
        "# math.pi"
      ],
      "metadata": {
        "id": "oipjDwXWNwf9"
      },
      "execution_count": null,
      "outputs": []
    },
    {
      "cell_type": "code",
      "source": [
        "import math\n",
        "ban = float(input(\"원의 반지름을 입력 하세요:\"))\n",
        "dulle = 2 * math.pi * ban\n",
        "myun = ban * ban * math.pi\n",
        "print(\"원의 둘레는 =\", dulle, \"원의 면적은 =\", myun)"
      ],
      "metadata": {
        "colab": {
          "base_uri": "https://localhost:8080/"
        },
        "id": "MBFesuBwP5wP",
        "outputId": "bd764b7a-6c2e-4948-b599-c37dbcd34c3e"
      },
      "execution_count": null,
      "outputs": [
        {
          "output_type": "stream",
          "name": "stdout",
          "text": [
            "원의 반지름을 입력 하세요:10\n",
            "원의 둘레는 = 62.83185307179586 원의 면적은 = 314.1592653589793\n"
          ]
        }
      ]
    },
    {
      "cell_type": "code",
      "source": [
        "c = float(input('반지름을 입력하시오 = '))\n",
        "import math\n",
        "math.pi\n",
        "\n",
        "dulrae = 2 * math.pi * c\n",
        "myeon = c * c * math.pi\n",
        "print(dulrae, \"원의 둘레\", myeon, \"원의 면적\")"
      ],
      "metadata": {
        "colab": {
          "base_uri": "https://localhost:8080/"
        },
        "id": "Z-LFT-NcQHm3",
        "outputId": "75a5ab4c-ce8e-4b37-ec95-b54a4d7bbf83"
      },
      "execution_count": null,
      "outputs": [
        {
          "output_type": "stream",
          "name": "stdout",
          "text": [
            "반지름을 입력하시오 = 1\n",
            "6.283185307179586 원의 둘레 3.141592653589793 원의 면적\n"
          ]
        }
      ]
    },
    {
      "cell_type": "code",
      "source": [
        "radius = float(input(\"반지름 = \"))\n",
        "a = 2 * math.pi * radius\n",
        "b = radius * radius * math.pi\n",
        "print(\"원의 둘레 =\", a, \"원의 면적 =\", b)"
      ],
      "metadata": {
        "colab": {
          "base_uri": "https://localhost:8080/"
        },
        "id": "oL0S4K3cT38x",
        "outputId": "35d478ce-40b9-440c-8d06-54eb1e12bb07"
      },
      "execution_count": null,
      "outputs": [
        {
          "output_type": "stream",
          "name": "stdout",
          "text": [
            "반지름 = 1\n",
            "원의 둘레 = 6.283185307179586 원의 면적 = 3.141592653589793\n"
          ]
        }
      ]
    },
    {
      "cell_type": "markdown",
      "source": [
        "# 5. 표준 출력 함수와 서식"
      ],
      "metadata": {
        "id": "oI3CEjJ-T47l"
      }
    },
    {
      "cell_type": "code",
      "source": [
        "# 도움말: help()\n",
        "help(input)"
      ],
      "metadata": {
        "id": "wAuPPpGwVfN3",
        "colab": {
          "base_uri": "https://localhost:8080/"
        },
        "outputId": "5a298b3a-64fa-4071-f734-a0899449af69"
      },
      "execution_count": null,
      "outputs": [
        {
          "output_type": "stream",
          "name": "stdout",
          "text": [
            "Help on method raw_input in module ipykernel.kernelbase:\n",
            "\n",
            "raw_input(prompt='') method of google.colab._kernel.Kernel instance\n",
            "    Forward raw_input to frontends\n",
            "    \n",
            "    Raises\n",
            "    ------\n",
            "    StdinNotImplentedError if active frontend doesn't support stdin.\n",
            "\n"
          ]
        }
      ]
    },
    {
      "cell_type": "code",
      "source": [
        "x = 9\n",
        "y = 1\n",
        "# 형식화된 문자열.format(출력할 값)\n",
        "print(x)\n",
        "print(\"x =\", x)\n",
        "print(\"x = {0}\".format(x, y))\n",
        "print(\"x =\", x, \"y = \", y)\n",
        "print(\"x = {0}, y = {1}\".format(x, y))"
      ],
      "metadata": {
        "colab": {
          "base_uri": "https://localhost:8080/"
        },
        "id": "VgQZ_-trzuPl",
        "outputId": "da3936a0-29a5-459e-845e-b628553958c3"
      },
      "execution_count": null,
      "outputs": [
        {
          "output_type": "stream",
          "name": "stdout",
          "text": [
            "9\n",
            "x = 9\n",
            "x = 9\n",
            "x = 9 y =  1\n",
            "x = 9, y = 1\n"
          ]
        }
      ]
    },
    {
      "cell_type": "code",
      "source": [
        "# 서식기호와 함께: %s(문자열), %d(정수형) %f(실수형)\n",
        "# format 문자열로 처리하는 함수\n",
        "# {}안의 f는 자릿수\n",
        "print(\"실수 1: {0:3f}\".format(8.3/2.7)) # 소수 이하 3자리 까지\n",
        "xx = 2.5+ 4.8\n",
        "print(\"실수 2: {0:.1f}\".format(xx))\n",
        "r = 8 /float(3)\n",
        "print(\"실수 3: {0:3.2f}\".format(r))\n",
        "print(\"실수 4: {0:10.4f}\".format(8.0/3))"
      ],
      "metadata": {
        "colab": {
          "base_uri": "https://localhost:8080/"
        },
        "id": "9TBJ5m24z26P",
        "outputId": "0ce4f696-5149-4513-e8ec-ee23f588103d"
      },
      "execution_count": null,
      "outputs": [
        {
          "output_type": "stream",
          "name": "stdout",
          "text": [
            "실수 1: 3.074074\n",
            "실수 2: 7.3\n",
            "실수 3: 2.67\n",
            "실수 4:     2.6667\n"
          ]
        }
      ]
    },
    {
      "cell_type": "code",
      "source": [
        "# 문자열의 format() 함수\n",
        "\"{}\".format(10)\n",
        "\"{}, {}\".format(10, 20)"
      ],
      "metadata": {
        "colab": {
          "base_uri": "https://localhost:8080/",
          "height": 36
        },
        "id": "mhCeqcX70eS8",
        "outputId": "2a63db45-6e49-4c0e-d217-cebd7c0b3161"
      },
      "execution_count": null,
      "outputs": [
        {
          "output_type": "execute_result",
          "data": {
            "text/plain": [
              "'10, 20'"
            ],
            "application/vnd.google.colaboratory.intrinsic+json": {
              "type": "string"
            }
          },
          "metadata": {},
          "execution_count": 5
        }
      ]
    },
    {
      "cell_type": "code",
      "source": [
        "str1 = \"{}\".format(10) # 할당 - 메모리에 담는다"
      ],
      "metadata": {
        "id": "9pMRVRYC0fVY"
      },
      "execution_count": null,
      "outputs": []
    },
    {
      "cell_type": "code",
      "source": [
        "str1 # 참조"
      ],
      "metadata": {
        "colab": {
          "base_uri": "https://localhost:8080/",
          "height": 36
        },
        "id": "QM3d-erP0ghI",
        "outputId": "e81445b9-d2ef-4dae-a573-4062ae4d3440"
      },
      "execution_count": null,
      "outputs": [
        {
          "output_type": "execute_result",
          "data": {
            "text/plain": [
              "'10'"
            ],
            "application/vnd.google.colaboratory.intrinsic+json": {
              "type": "string"
            }
          },
          "metadata": {},
          "execution_count": 40
        }
      ]
    },
    {
      "cell_type": "code",
      "source": [
        "aa = \"{0:5d}\".format(10)\n",
        "aa"
      ],
      "metadata": {
        "colab": {
          "base_uri": "https://localhost:8080/",
          "height": 36
        },
        "id": "XZRC0Mk20h7R",
        "outputId": "81941690-e05c-4175-9fc6-4cddfe2e8f64"
      },
      "execution_count": null,
      "outputs": [
        {
          "output_type": "execute_result",
          "data": {
            "text/plain": [
              "'   10'"
            ],
            "application/vnd.google.colaboratory.intrinsic+json": {
              "type": "string"
            }
          },
          "metadata": {},
          "execution_count": 8
        }
      ]
    },
    {
      "cell_type": "code",
      "source": [
        "bb = \"{}\".format(12.345)\n",
        "bb"
      ],
      "metadata": {
        "colab": {
          "base_uri": "https://localhost:8080/",
          "height": 36
        },
        "id": "_RsSZL130jE8",
        "outputId": "36a65dc7-9c95-407c-bd13-302008a7e55e"
      },
      "execution_count": null,
      "outputs": [
        {
          "output_type": "execute_result",
          "data": {
            "text/plain": [
              "'12.345'"
            ],
            "application/vnd.google.colaboratory.intrinsic+json": {
              "type": "string"
            }
          },
          "metadata": {},
          "execution_count": 9
        }
      ]
    },
    {
      "cell_type": "code",
      "source": [
        "bb = \"{:f}\".format(12.345)\n",
        "bb"
      ],
      "metadata": {
        "colab": {
          "base_uri": "https://localhost:8080/",
          "height": 36
        },
        "id": "2IuCeE1q0kR3",
        "outputId": "c43b9610-5ce4-46c9-9868-2ba3654cd06a"
      },
      "execution_count": null,
      "outputs": [
        {
          "output_type": "execute_result",
          "data": {
            "text/plain": [
              "'12.345000'"
            ],
            "application/vnd.google.colaboratory.intrinsic+json": {
              "type": "string"
            }
          },
          "metadata": {},
          "execution_count": 10
        }
      ]
    },
    {
      "cell_type": "code",
      "source": [
        "bb = \"{:15f}\".format(12.345)\n",
        "bb"
      ],
      "metadata": {
        "colab": {
          "base_uri": "https://localhost:8080/",
          "height": 36
        },
        "id": "0CLjiHjO0lXf",
        "outputId": "6cf5b871-cbb8-4d5d-f6e8-aeeea661aa1a"
      },
      "execution_count": null,
      "outputs": [
        {
          "output_type": "execute_result",
          "data": {
            "text/plain": [
              "'      12.345000'"
            ],
            "application/vnd.google.colaboratory.intrinsic+json": {
              "type": "string"
            }
          },
          "metadata": {},
          "execution_count": 11
        }
      ]
    },
    {
      "cell_type": "code",
      "source": [
        "bb = \"{:+15f}\".format(12.345)\n",
        "bb"
      ],
      "metadata": {
        "colab": {
          "base_uri": "https://localhost:8080/",
          "height": 36
        },
        "id": "5Uz99l9W0mYC",
        "outputId": "d4a393dd-a125-4267-f69e-99017f3f78f2"
      },
      "execution_count": null,
      "outputs": [
        {
          "output_type": "execute_result",
          "data": {
            "text/plain": [
              "'     +12.345000'"
            ],
            "application/vnd.google.colaboratory.intrinsic+json": {
              "type": "string"
            }
          },
          "metadata": {},
          "execution_count": 12
        }
      ]
    },
    {
      "cell_type": "code",
      "source": [
        "bb = \"{:+015f}\".format(12.345)\n",
        "bb"
      ],
      "metadata": {
        "colab": {
          "base_uri": "https://localhost:8080/",
          "height": 36
        },
        "id": "dn7uX7pr0t2I",
        "outputId": "2f933f8c-c21e-4868-bc34-0a6ab9a1f665"
      },
      "execution_count": null,
      "outputs": [
        {
          "output_type": "execute_result",
          "data": {
            "text/plain": [
              "'+0000012.345000'"
            ],
            "application/vnd.google.colaboratory.intrinsic+json": {
              "type": "string"
            }
          },
          "metadata": {},
          "execution_count": 13
        }
      ]
    },
    {
      "cell_type": "code",
      "source": [
        "bb = \"{:15.3f}\".format(12.345)\n",
        "bb"
      ],
      "metadata": {
        "colab": {
          "base_uri": "https://localhost:8080/",
          "height": 36
        },
        "id": "qjFOgPcw0v3k",
        "outputId": "f3433dc6-0560-4d3f-bfac-78f07ca45fc1"
      },
      "execution_count": null,
      "outputs": [
        {
          "output_type": "execute_result",
          "data": {
            "text/plain": [
              "'         12.345'"
            ],
            "application/vnd.google.colaboratory.intrinsic+json": {
              "type": "string"
            }
          },
          "metadata": {},
          "execution_count": 14
        }
      ]
    },
    {
      "cell_type": "code",
      "source": [
        "bb = \"{:15.2f}\".format(12.345)\n",
        "bb"
      ],
      "metadata": {
        "colab": {
          "base_uri": "https://localhost:8080/",
          "height": 36
        },
        "id": "GYfb-uDs0xxf",
        "outputId": "e7cf4da5-1dd1-4589-b8fc-c2796ae98646"
      },
      "execution_count": null,
      "outputs": [
        {
          "output_type": "execute_result",
          "data": {
            "text/plain": [
              "'          12.35'"
            ],
            "application/vnd.google.colaboratory.intrinsic+json": {
              "type": "string"
            }
          },
          "metadata": {},
          "execution_count": 15
        }
      ]
    },
    {
      "cell_type": "code",
      "source": [
        "bb = \"{:15.1f}\".format(12.345)\n",
        "bb"
      ],
      "metadata": {
        "colab": {
          "base_uri": "https://localhost:8080/",
          "height": 36
        },
        "id": "LcpfEhMr0y3H",
        "outputId": "5fbdfa7a-21b9-448e-87bf-251e00da74e6"
      },
      "execution_count": null,
      "outputs": [
        {
          "output_type": "execute_result",
          "data": {
            "text/plain": [
              "'           12.3'"
            ],
            "application/vnd.google.colaboratory.intrinsic+json": {
              "type": "string"
            }
          },
          "metadata": {},
          "execution_count": 16
        }
      ]
    },
    {
      "cell_type": "code",
      "source": [
        "bb = \"{:+15f}\".format(-12.345)\n",
        "bb"
      ],
      "metadata": {
        "colab": {
          "base_uri": "https://localhost:8080/",
          "height": 36
        },
        "id": "OHB3mqYC1Mtr",
        "outputId": "0527f8e6-d560-45af-c424-0c46a2f13841"
      },
      "execution_count": null,
      "outputs": [
        {
          "output_type": "execute_result",
          "data": {
            "text/plain": [
              "'     -12.345000'"
            ],
            "application/vnd.google.colaboratory.intrinsic+json": {
              "type": "string"
            }
          },
          "metadata": {},
          "execution_count": 17
        }
      ]
    },
    {
      "cell_type": "code",
      "source": [
        "bb = \"{:15f}\".format(-12.345)\n",
        "bb"
      ],
      "metadata": {
        "colab": {
          "base_uri": "https://localhost:8080/",
          "height": 36
        },
        "id": "ua3QMsvH1OLE",
        "outputId": "c9b522eb-4d0b-4aef-c5f8-d807238e1d5f"
      },
      "execution_count": null,
      "outputs": [
        {
          "output_type": "execute_result",
          "data": {
            "text/plain": [
              "'     -12.345000'"
            ],
            "application/vnd.google.colaboratory.intrinsic+json": {
              "type": "string"
            }
          },
          "metadata": {},
          "execution_count": 18
        }
      ]
    },
    {
      "cell_type": "code",
      "source": [
        "\"{0:}\".format(10)"
      ],
      "metadata": {
        "colab": {
          "base_uri": "https://localhost:8080/",
          "height": 36
        },
        "id": "tBovB1ab1Psu",
        "outputId": "c3603e5d-e559-4e4b-e944-848965ec1aa8"
      },
      "execution_count": null,
      "outputs": [
        {
          "output_type": "execute_result",
          "data": {
            "text/plain": [
              "'10'"
            ],
            "application/vnd.google.colaboratory.intrinsic+json": {
              "type": "string"
            }
          },
          "metadata": {},
          "execution_count": 19
        }
      ]
    },
    {
      "cell_type": "code",
      "source": [
        "print(1, 2, 3, sep = ', ')\n",
        "print(4, 5, 6, sep = ',')\n",
        "print('Hello', 'Python', sep = '')\n",
        "print(1920, 1080, sep = 'x')\n",
        "print(1, 2, 3, sep = '\\n')"
      ],
      "metadata": {
        "colab": {
          "base_uri": "https://localhost:8080/"
        },
        "id": "crxolN0-1Q0L",
        "outputId": "3be0660a-7ba7-4f69-f48a-ea27b706bfc8"
      },
      "execution_count": null,
      "outputs": [
        {
          "output_type": "stream",
          "name": "stdout",
          "text": [
            "1, 2, 3\n",
            "4,5,6\n",
            "HelloPython\n",
            "1920x1080\n",
            "1\n",
            "2\n",
            "3\n"
          ]
        }
      ]
    },
    {
      "cell_type": "markdown",
      "source": [
        "### 5.0.1. 표준 출력 함수: print(\"문자열 or 서식\")\n",
        "- 서식(format): 데이터의 자료형과 데이터의 자릿수를 지정하는 형식\n",
        "- 열거연산자(,)\n",
        "- sep 매개변수: print(\"출력 내용\", \"출력내용\", sep=\",\")\n",
        "- end = \"\\n\""
      ],
      "metadata": {
        "id": "2oR4l7aH1SGi"
      }
    },
    {
      "cell_type": "code",
      "source": [
        "print(\"실수 1: {0:3f}\".format(8.3/2.7))\n",
        "print(\"실수 1: {0:4f}\".format(8.3/2.7))\n",
        "print(\"실수 1: {0:5f}\".format(8.3/2.7))\n",
        "print(\"실수 1: {0:6f}\".format(8.3/2.7))\n",
        "print(\"실수 1: {0:7f}\".format(8.3/2.7))\n",
        "print(\"실수 1: {0:8f}\".format(8.3/2.7))\n",
        "print(\"실수 1: {0:9f}\".format(8.3/2.7))\n",
        "print(\"실수 1: {0:10f}\".format(8.3/2.7))"
      ],
      "metadata": {
        "colab": {
          "base_uri": "https://localhost:8080/"
        },
        "id": "sTBGCsYR1a8z",
        "outputId": "3792c343-0755-40cc-bd19-e6be039641e1"
      },
      "execution_count": null,
      "outputs": [
        {
          "output_type": "stream",
          "name": "stdout",
          "text": [
            "실수 1: 3.074074\n",
            "실수 1: 3.074074\n",
            "실수 1: 3.074074\n",
            "실수 1: 3.074074\n",
            "실수 1: 3.074074\n",
            "실수 1: 3.074074\n",
            "실수 1:  3.074074\n",
            "실수 1:   3.074074\n"
          ]
        }
      ]
    },
    {
      "cell_type": "code",
      "source": [
        "print(\"출력내용\", end = \"\")\n",
        "print(\"출력내요\")"
      ],
      "metadata": {
        "colab": {
          "base_uri": "https://localhost:8080/"
        },
        "id": "BvKKvwe_1b7d",
        "outputId": "756753e6-598c-41a5-d6b1-44d2e2ba7dec"
      },
      "execution_count": null,
      "outputs": [
        {
          "output_type": "stream",
          "name": "stdout",
          "text": [
            "출력내용출력내요\n"
          ]
        }
      ]
    },
    {
      "cell_type": "code",
      "source": [
        "print(\"출력내용\" + \"출력내용\")"
      ],
      "metadata": {
        "colab": {
          "base_uri": "https://localhost:8080/"
        },
        "id": "hKTGkKjl1d0W",
        "outputId": "b4254961-49f6-4333-acf8-9d1b030cb25f"
      },
      "execution_count": null,
      "outputs": [
        {
          "output_type": "stream",
          "name": "stdout",
          "text": [
            "출력내용출력내용\n"
          ]
        }
      ]
    },
    {
      "cell_type": "code",
      "source": [
        "# 형식지정문자열을 이용해서 출력 위치 지정: \"2.여기의 서식으로 출력\".format(1.여기의 데이터 값을)\n",
        "#bb = \"{여기가 시작 위치 값:+015f}\".format(12.345), 실수형의 자릿수를 설정할때 쓰는게 f\n",
        "bb = \"{:+015f}\".format(12.345)\n",
        "bb"
      ],
      "metadata": {
        "colab": {
          "base_uri": "https://localhost:8080/",
          "height": 36
        },
        "id": "mYjnEGyw1fRq",
        "outputId": "0e314494-915b-4b4a-bd74-ac74d90278a1"
      },
      "execution_count": null,
      "outputs": [
        {
          "output_type": "execute_result",
          "data": {
            "text/plain": [
              "'+0000012.345000'"
            ],
            "application/vnd.google.colaboratory.intrinsic+json": {
              "type": "string"
            }
          },
          "metadata": {},
          "execution_count": 24
        }
      ]
    },
    {
      "cell_type": "code",
      "source": [
        "bb = \"{0:.2f} - {1:.0f}\".format(12.345, 7.25)\n",
        "bb"
      ],
      "metadata": {
        "colab": {
          "base_uri": "https://localhost:8080/",
          "height": 36
        },
        "id": "akB6uB821ghF",
        "outputId": "47697810-a84e-4d03-eede-dbfa38f7edf7"
      },
      "execution_count": null,
      "outputs": [
        {
          "output_type": "execute_result",
          "data": {
            "text/plain": [
              "'12.35 - 7'"
            ],
            "application/vnd.google.colaboratory.intrinsic+json": {
              "type": "string"
            }
          },
          "metadata": {},
          "execution_count": 25
        }
      ]
    },
    {
      "cell_type": "code",
      "source": [
        "# &기호: %s(문자열), %d(정수형). %f(실수형)\n",
        "name = \"홍길동\"\n",
        "age = 33\n",
        "height = 187.45\n",
        "print(name, age, height)"
      ],
      "metadata": {
        "colab": {
          "base_uri": "https://localhost:8080/"
        },
        "id": "t84LhOfI1hfI",
        "outputId": "cb1d9335-f512-4096-b453-715ebbac4d2b"
      },
      "execution_count": null,
      "outputs": [
        {
          "output_type": "stream",
          "name": "stdout",
          "text": [
            "홍길동 33 187.45\n"
          ]
        }
      ]
    },
    {
      "cell_type": "code",
      "source": [
        "print(\"나이:\", age, \"세\")"
      ],
      "metadata": {
        "colab": {
          "base_uri": "https://localhost:8080/"
        },
        "id": "jEfae_m21ieg",
        "outputId": "ab8284e6-4796-42e4-88ea-4d5dbaa4225a"
      },
      "execution_count": null,
      "outputs": [
        {
          "output_type": "stream",
          "name": "stdout",
          "text": [
            "나이: 33 세\n"
          ]
        }
      ]
    },
    {
      "cell_type": "code",
      "source": [
        "print(\"나이: {}세\".format(age))"
      ],
      "metadata": {
        "colab": {
          "base_uri": "https://localhost:8080/"
        },
        "id": "C-HfIp0n1jpJ",
        "outputId": "63824772-c7b1-44d1-b1db-6a92cbc15c13"
      },
      "execution_count": null,
      "outputs": [
        {
          "output_type": "stream",
          "name": "stdout",
          "text": [
            "나이: 33세\n"
          ]
        }
      ]
    },
    {
      "cell_type": "code",
      "source": [
        "print(\"나이: %d세\" % age) "
      ],
      "metadata": {
        "colab": {
          "base_uri": "https://localhost:8080/"
        },
        "id": "B79BuU5j1kiC",
        "outputId": "7501869f-0321-476e-edad-71fb2935e39d"
      },
      "execution_count": null,
      "outputs": [
        {
          "output_type": "stream",
          "name": "stdout",
          "text": [
            "나이: 33세\n"
          ]
        }
      ]
    },
    {
      "cell_type": "code",
      "source": [
        "print(\"{}은 내친구\".format(name))"
      ],
      "metadata": {
        "colab": {
          "base_uri": "https://localhost:8080/"
        },
        "id": "hoBpyFai1lgU",
        "outputId": "d31c4775-9e33-4747-d0e1-e34015dac8aa"
      },
      "execution_count": null,
      "outputs": [
        {
          "output_type": "stream",
          "name": "stdout",
          "text": [
            "홍길동은 내친구\n"
          ]
        }
      ]
    },
    {
      "cell_type": "code",
      "source": [
        "print(\"{:10s}은 내친구\".format(name))"
      ],
      "metadata": {
        "colab": {
          "base_uri": "https://localhost:8080/"
        },
        "id": "3ZSyhYHX1nNA",
        "outputId": "374b311e-b5c5-4bc8-fa5f-4ec4d63925da"
      },
      "execution_count": null,
      "outputs": [
        {
          "output_type": "stream",
          "name": "stdout",
          "text": [
            "홍길동       은 내친구\n"
          ]
        }
      ]
    },
    {
      "cell_type": "code",
      "source": [
        "print(\"%s은 내 친구\" % name)"
      ],
      "metadata": {
        "colab": {
          "base_uri": "https://localhost:8080/"
        },
        "id": "SCtgAqrM1oIY",
        "outputId": "1525b8b3-02c8-4930-b9b7-52324ec2d0f0"
      },
      "execution_count": null,
      "outputs": [
        {
          "output_type": "stream",
          "name": "stdout",
          "text": [
            "홍길동은 내 친구\n"
          ]
        }
      ]
    },
    {
      "cell_type": "code",
      "source": [
        "rate = 98\n",
        "print(\"당첨확률 {}%입니다.\".format(rate))"
      ],
      "metadata": {
        "colab": {
          "base_uri": "https://localhost:8080/"
        },
        "id": "1P7ZCtvG1o3Q",
        "outputId": "62c5ebe3-0b5f-441a-9593-d60f93a9261c"
      },
      "execution_count": null,
      "outputs": [
        {
          "output_type": "stream",
          "name": "stdout",
          "text": [
            "당첨확률 98%입니다.\n"
          ]
        }
      ]
    },
    {
      "cell_type": "code",
      "source": [
        "print(\"당첨확률 \", rate, \"%입니다.\")"
      ],
      "metadata": {
        "colab": {
          "base_uri": "https://localhost:8080/"
        },
        "id": "0K_uaWuC1p4O",
        "outputId": "6d8509fd-1c2d-4bff-8ece-52beab0af766"
      },
      "execution_count": null,
      "outputs": [
        {
          "output_type": "stream",
          "name": "stdout",
          "text": [
            "당첨확률  98 %입니다.\n"
          ]
        }
      ]
    },
    {
      "cell_type": "code",
      "source": [
        "print(\"당첨확률 \", str(rate) + \"%입니다.\")"
      ],
      "metadata": {
        "colab": {
          "base_uri": "https://localhost:8080/"
        },
        "id": "66zvg3QZ1rBC",
        "outputId": "f12bf8aa-d988-4b43-beb6-208261f65ecc"
      },
      "execution_count": null,
      "outputs": [
        {
          "output_type": "stream",
          "name": "stdout",
          "text": [
            "당첨확률  98%입니다.\n"
          ]
        }
      ]
    },
    {
      "cell_type": "code",
      "source": [
        "print(\"당첨확률은 %d%%입니다.\"% (rate))\n",
        "# %d%% 에서 %%는 %를 출력하란 의미"
      ],
      "metadata": {
        "colab": {
          "base_uri": "https://localhost:8080/"
        },
        "id": "jVXtGNDW1r6N",
        "outputId": "8cd876f5-db94-45e1-a0ce-f50dd08de749"
      },
      "execution_count": null,
      "outputs": [
        {
          "output_type": "stream",
          "name": "stdout",
          "text": [
            "당첨확률은 98%입니다.\n"
          ]
        }
      ]
    },
    {
      "cell_type": "code",
      "source": [
        "pi = 3.141592\n",
        "print(\"원주율: %10.2f\" % pi)"
      ],
      "metadata": {
        "colab": {
          "base_uri": "https://localhost:8080/"
        },
        "id": "uiQ0kOsd2jrw",
        "outputId": "4cb268ac-5ef1-4727-ab0e-f478b260d399"
      },
      "execution_count": null,
      "outputs": [
        {
          "output_type": "stream",
          "name": "stdout",
          "text": [
            "원주율:       3.14\n"
          ]
        }
      ]
    },
    {
      "cell_type": "code",
      "source": [
        "print(\"원주율: %.2f\" % pi)"
      ],
      "metadata": {
        "colab": {
          "base_uri": "https://localhost:8080/"
        },
        "id": "wOkL0NqZ2kns",
        "outputId": "ee63a196-5a83-4ebc-d16b-28a116d53185"
      },
      "execution_count": null,
      "outputs": [
        {
          "output_type": "stream",
          "name": "stdout",
          "text": [
            "원주율: 3.14\n"
          ]
        }
      ]
    },
    {
      "cell_type": "code",
      "source": [],
      "metadata": {
        "id": "F47j64Ie3C8z"
      },
      "execution_count": null,
      "outputs": []
    }
  ]
}