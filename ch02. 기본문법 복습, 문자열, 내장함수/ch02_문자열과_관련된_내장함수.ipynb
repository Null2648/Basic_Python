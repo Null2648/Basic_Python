{
  "cells": [
    {
      "cell_type": "markdown",
      "metadata": {
        "id": "view-in-github",
        "colab_type": "text"
      },
      "source": [
        "<a href=\"https://colab.research.google.com/github/Null2648/Basic_Python/blob/main/ch02.%20%EA%B8%B0%EB%B3%B8%EB%AC%B8%EB%B2%95%20%EB%B3%B5%EC%8A%B5%2C%20%EB%AC%B8%EC%9E%90%EC%97%B4%2C%20%EB%82%B4%EC%9E%A5%ED%95%A8%EC%88%98/ch02_%EB%AC%B8%EC%9E%90%EC%97%B4%EA%B3%BC_%EA%B4%80%EB%A0%A8%EB%90%9C_%EB%82%B4%EC%9E%A5%ED%95%A8%EC%88%98.ipynb\" target=\"_parent\"><img src=\"https://colab.research.google.com/assets/colab-badge.svg\" alt=\"Open In Colab\"/></a>"
      ]
    },
    {
      "cell_type": "code",
      "execution_count": null,
      "id": "ecdbfc07",
      "metadata": {
        "id": "ecdbfc07",
        "outputId": "6fd626da-0dab-4437-d58a-d0dad0acb213"
      },
      "outputs": [
        {
          "name": "stdout",
          "output_type": "stream",
          "text": [
            "안녕하세요\n"
          ]
        }
      ],
      "source": [
        "# 대소문자 변환함수: upper(), lower()\n",
        "# 모든 것을 객체로 간주한다.\n",
        "print(\"안녕하세요\")\n",
        "\n",
        "love = print"
      ]
    },
    {
      "cell_type": "code",
      "execution_count": null,
      "id": "b3fc3d05",
      "metadata": {
        "id": "b3fc3d05",
        "outputId": "da82191b-316a-4432-e48c-0bf7f4ef3d71"
      },
      "outputs": [
        {
          "name": "stdout",
          "output_type": "stream",
          "text": [
            "웃기다\n"
          ]
        }
      ],
      "source": [
        "love(\"웃기다\")"
      ]
    },
    {
      "cell_type": "code",
      "execution_count": null,
      "id": "f3c01bbc",
      "metadata": {
        "id": "f3c01bbc",
        "outputId": "f1936d28-aac5-4bb7-d036-15c3ac19b4a7"
      },
      "outputs": [
        {
          "data": {
            "text/plain": [
              "'Hwllo Pyhon p.....'"
            ]
          },
          "execution_count": 4,
          "metadata": {},
          "output_type": "execute_result"
        }
      ],
      "source": [
        "string = \"Hwllo Pyhon p.....\"\n",
        "string"
      ]
    },
    {
      "cell_type": "code",
      "execution_count": null,
      "id": "61ce44a3",
      "metadata": {
        "id": "61ce44a3",
        "outputId": "c2748119-1179-4540-f99d-21af37f87df7"
      },
      "outputs": [
        {
          "data": {
            "text/plain": [
              "'HWLLO PYHON P.....'"
            ]
          },
          "execution_count": 5,
          "metadata": {},
          "output_type": "execute_result"
        }
      ],
      "source": [
        "string.upper()"
      ]
    },
    {
      "cell_type": "code",
      "execution_count": null,
      "id": "202f87fb",
      "metadata": {
        "id": "202f87fb",
        "outputId": "178ea2e9-07f1-4d69-ecc4-45bf2b737698"
      },
      "outputs": [
        {
          "ename": "SyntaxError",
          "evalue": "invalid syntax (4280376097.py, line 1)",
          "output_type": "error",
          "traceback": [
            "\u001b[1;36m  Input \u001b[1;32mIn [7]\u001b[1;36m\u001b[0m\n\u001b[1;33m    lower() hllo =\u001b[0m\n\u001b[1;37m            ^\u001b[0m\n\u001b[1;31mSyntaxError\u001b[0m\u001b[1;31m:\u001b[0m invalid syntax\n"
          ]
        }
      ],
      "source": [
        "lower() hllo = lower"
      ]
    },
    {
      "cell_type": "code",
      "execution_count": null,
      "id": "df2ad3d1",
      "metadata": {
        "id": "df2ad3d1"
      },
      "outputs": [],
      "source": [
        "# trim, strip, ltrip, rstrip\n",
        "aaa = \"\"\"\n",
        "   안녕하세요\n",
        "문자열과 관련된 함수를 알아 볼까요?\n",
        "\"\"\"\n"
      ]
    },
    {
      "cell_type": "code",
      "execution_count": null,
      "id": "884be681",
      "metadata": {
        "id": "884be681",
        "outputId": "18ad0ccc-ab83-4c76-e7bc-c5ca6efd94fe"
      },
      "outputs": [
        {
          "data": {
            "text/plain": [
              "'\\n   안녕하세요\\n문자열과 관련된 함수를 알아 볼까요?\\n'"
            ]
          },
          "execution_count": 20,
          "metadata": {},
          "output_type": "execute_result"
        }
      ],
      "source": [
        "aaa"
      ]
    },
    {
      "cell_type": "code",
      "execution_count": null,
      "id": "83dfec70",
      "metadata": {
        "id": "83dfec70",
        "outputId": "ece897a6-307c-42b0-f85c-f3984303f204"
      },
      "outputs": [
        {
          "name": "stdout",
          "output_type": "stream",
          "text": [
            "\n",
            "   안녕하세요\n",
            "문자열과 관련된 함수를 알아 볼까요?\n",
            "\n"
          ]
        }
      ],
      "source": [
        "print(aaa)"
      ]
    },
    {
      "cell_type": "code",
      "execution_count": null,
      "id": "d76fdf50",
      "metadata": {
        "id": "d76fdf50",
        "outputId": "1f4e0945-4c4f-440f-894a-a09b56c09af6"
      },
      "outputs": [
        {
          "name": "stdout",
          "output_type": "stream",
          "text": [
            "안녕하세요\n",
            "문자열과 관련된 함수를 알아 볼까요?\n"
          ]
        }
      ],
      "source": [
        "print(aaa.strip())"
      ]
    },
    {
      "cell_type": "code",
      "execution_count": null,
      "id": "32b4ca41",
      "metadata": {
        "id": "32b4ca41",
        "outputId": "0015c616-81ad-4f2c-86d5-9014ce88b304"
      },
      "outputs": [
        {
          "name": "stdout",
          "output_type": "stream",
          "text": [
            "<class 'bool'>\n"
          ]
        }
      ],
      "source": [
        "# 논리형 변수: True or False, and,or, not\n",
        "hungry = True\n",
        "sleep = False\n",
        "\n",
        "print(type(hungry))"
      ]
    },
    {
      "cell_type": "code",
      "execution_count": null,
      "id": "b26acd33",
      "metadata": {
        "id": "b26acd33",
        "outputId": "11eda814-76fd-4e81-acf1-d47b15fe6af7"
      },
      "outputs": [
        {
          "name": "stdout",
          "output_type": "stream",
          "text": [
            "False\n"
          ]
        }
      ],
      "source": [
        "print(hungry and sleep)"
      ]
    },
    {
      "cell_type": "code",
      "execution_count": null,
      "id": "8a988af9",
      "metadata": {
        "id": "8a988af9",
        "outputId": "af5ed57b-f2d0-4519-a47a-952f31c3faa8"
      },
      "outputs": [
        {
          "name": "stdout",
          "output_type": "stream",
          "text": [
            "True\n"
          ]
        }
      ],
      "source": [
        "print(hungry or sleep)"
      ]
    },
    {
      "cell_type": "code",
      "execution_count": null,
      "id": "add12001",
      "metadata": {
        "id": "add12001",
        "outputId": "6856339f-75e1-4515-d8b8-d65773e760d2"
      },
      "outputs": [
        {
          "name": "stdout",
          "output_type": "stream",
          "text": [
            "True\n"
          ]
        }
      ],
      "source": [
        "# print(hungry or !sleep) 이렇게 쓰면 에러남\n",
        "print(hungry or not sleep)"
      ]
    },
    {
      "cell_type": "code",
      "execution_count": null,
      "id": "493e0754",
      "metadata": {
        "id": "493e0754",
        "outputId": "92c42fb1-7dcf-4c8e-fa3d-a8cff7f1227f"
      },
      "outputs": [
        {
          "name": "stdout",
          "output_type": "stream",
          "text": [
            "ok\n"
          ]
        }
      ],
      "source": [
        "a = 1\n",
        "b = 3\n",
        "\n",
        "if a == 1 and b == 3:\n",
        "    print(\"ok\")\n",
        "else:\n",
        "    print(\"not ok\")"
      ]
    },
    {
      "cell_type": "code",
      "execution_count": null,
      "id": "1cda033c",
      "metadata": {
        "id": "1cda033c"
      },
      "outputs": [],
      "source": [
        "# 비교(관계) 연산자: ==, !=, >=, >, <=, <\n",
        "# 논리연산자: and, or, not"
      ]
    },
    {
      "cell_type": "code",
      "execution_count": null,
      "id": "bd04c9f3",
      "metadata": {
        "id": "bd04c9f3",
        "outputId": "c01747dc-5df1-4f7e-bc8a-b77662305381"
      },
      "outputs": [
        {
          "data": {
            "text/plain": [
              "0"
            ]
          },
          "execution_count": 42,
          "metadata": {},
          "output_type": "execute_result"
        }
      ],
      "source": [
        "# find(): 왼쪽부터 찾아서 처음 나오는 위치값을 얻어오는 함수\n",
        "# rfind(): 오른쪽부터 찾아서 처음 나오는 위치값을 얻어오는 함수\n",
        "# 안 녕 안 녕 하 세 요\n",
        "# 0  1  2  3  4  5  6\n",
        "string = \"안녕안녕하세요\".find(\"안녕\")\n",
        "string"
      ]
    },
    {
      "cell_type": "code",
      "execution_count": null,
      "id": "327e3ce8",
      "metadata": {
        "id": "327e3ce8",
        "outputId": "8543ff23-5360-40f9-9cf8-7aca18d9e900"
      },
      "outputs": [
        {
          "data": {
            "text/plain": [
              "2"
            ]
          },
          "execution_count": 40,
          "metadata": {},
          "output_type": "execute_result"
        }
      ],
      "source": [
        "string = \"안녕안녕하세요\".rfind(\"안녕\")\n",
        "string"
      ]
    },
    {
      "cell_type": "code",
      "execution_count": null,
      "id": "e9065741",
      "metadata": {
        "id": "e9065741",
        "outputId": "f847898e-d6ff-4bbb-a07e-a267e5638ea4"
      },
      "outputs": [
        {
          "name": "stdout",
          "output_type": "stream",
          "text": [
            "True\n"
          ]
        }
      ],
      "source": [
        "# in 연산자\n",
        "print(\"안녕\" in \"안녕하세요\")\n",
        "# 안녕하세요에 안녕이 포함 되어 있습니까? True"
      ]
    },
    {
      "cell_type": "code",
      "execution_count": null,
      "id": "bc82faaa",
      "metadata": {
        "id": "bc82faaa",
        "outputId": "1c9a770f-41aa-4cac-d946-c415bea3f54a"
      },
      "outputs": [
        {
          "name": "stdout",
          "output_type": "stream",
          "text": [
            "False\n"
          ]
        }
      ],
      "source": [
        "print(\"잘자\" in \"안녕하세요\")\n",
        "# 안녕하세요에 잘자가 포함 되어 있습니까? Fasle"
      ]
    },
    {
      "cell_type": "code",
      "execution_count": null,
      "id": "4130bb9e",
      "metadata": {
        "id": "4130bb9e",
        "outputId": "43c28b0c-232c-4764-b9a2-71d4024202dc"
      },
      "outputs": [
        {
          "data": {
            "text/plain": [
              "['10', '20', '30', '40', '50']"
            ]
          },
          "execution_count": 49,
          "metadata": {},
          "output_type": "execute_result"
        }
      ],
      "source": [
        "# split(): 문자열을 자르는 함수\n",
        "a = \"10 20 30 40 50\".split(\" \")\n",
        "a"
      ]
    },
    {
      "cell_type": "code",
      "execution_count": null,
      "id": "fa420a4e",
      "metadata": {
        "id": "fa420a4e",
        "outputId": "aa13d728-d0b0-44d6-e483-13cd7f887b76"
      },
      "outputs": [
        {
          "data": {
            "text/plain": [
              "'10'"
            ]
          },
          "execution_count": 50,
          "metadata": {},
          "output_type": "execute_result"
        }
      ],
      "source": [
        "# f-문자열: 파이썬 3.6버전부터 사용되는 기능\n",
        "# 문자열 앞에 f를 붙이고 문자열 내부에 표현식을 {}로 삽입\n",
        "## f'문자열{표현식}문자열'\n",
        "a = \"{}\".format(10)\n",
        "a"
      ]
    },
    {
      "cell_type": "code",
      "execution_count": null,
      "id": "b6ace233",
      "metadata": {
        "id": "b6ace233",
        "outputId": "20563ae7-7ec7-442d-9f75-bf6a138b3b76"
      },
      "outputs": [
        {
          "data": {
            "text/plain": [
              "str"
            ]
          },
          "execution_count": 51,
          "metadata": {},
          "output_type": "execute_result"
        }
      ],
      "source": [
        "type(a)"
      ]
    },
    {
      "cell_type": "code",
      "execution_count": null,
      "id": "f09b10f3",
      "metadata": {
        "id": "f09b10f3",
        "outputId": "d52106d9-ac93-424b-e239-e5fc8ddb19b3"
      },
      "outputs": [
        {
          "data": {
            "text/plain": [
              "'10'"
            ]
          },
          "execution_count": 54,
          "metadata": {},
          "output_type": "execute_result"
        }
      ],
      "source": [
        "f'{10}'"
      ]
    },
    {
      "cell_type": "code",
      "execution_count": null,
      "id": "d4b8e04d",
      "metadata": {
        "id": "d4b8e04d",
        "outputId": "6e6c9e87-0dda-40e0-d13c-d4e5e04085aa"
      },
      "outputs": [
        {
          "data": {
            "text/plain": [
              "'3 + 4 = 7'"
            ]
          },
          "execution_count": 55,
          "metadata": {},
          "output_type": "execute_result"
        }
      ],
      "source": [
        "f\"3 + 4 = {3 + 4}\" # 중괄호 안은 계산 되고 나머지는 그대로 나온다. 계산된 결과는 문자열형(str)이다."
      ]
    },
    {
      "cell_type": "code",
      "execution_count": null,
      "id": "ee2cad86",
      "metadata": {
        "id": "ee2cad86"
      },
      "outputs": [],
      "source": []
    }
  ],
  "metadata": {
    "kernelspec": {
      "display_name": "Python 3 (ipykernel)",
      "language": "python",
      "name": "python3"
    },
    "language_info": {
      "codemirror_mode": {
        "name": "ipython",
        "version": 3
      },
      "file_extension": ".py",
      "mimetype": "text/x-python",
      "name": "python",
      "nbconvert_exporter": "python",
      "pygments_lexer": "ipython3",
      "version": "3.9.12"
    },
    "toc": {
      "base_numbering": 1,
      "nav_menu": {},
      "number_sections": true,
      "sideBar": true,
      "skip_h1_title": false,
      "title_cell": "Table of Contents",
      "title_sidebar": "Contents",
      "toc_cell": false,
      "toc_position": {},
      "toc_section_display": true,
      "toc_window_display": false
    },
    "colab": {
      "provenance": [],
      "include_colab_link": true
    }
  },
  "nbformat": 4,
  "nbformat_minor": 5
}