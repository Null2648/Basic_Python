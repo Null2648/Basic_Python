{
  "cells": [
    {
      "cell_type": "markdown",
      "metadata": {
        "id": "view-in-github",
        "colab_type": "text"
      },
      "source": [
        "<a href=\"https://colab.research.google.com/github/Null2648/Basic_Python/blob/main/ch01_%EA%B8%B0%EB%B3%B8%EB%AC%B8%EB%B2%95.ipynb\" target=\"_parent\"><img src=\"https://colab.research.google.com/assets/colab-badge.svg\" alt=\"Open In Colab\"/></a>"
      ]
    },
    {
      "cell_type": "markdown",
      "id": "2a4f18d7",
      "metadata": {
        "id": "2a4f18d7"
      },
      "source": [
        "# 기본문법\n",
        "- ###### (작은 제목을 만들려면 #을 붙이면 되는데 6개까지만 된다, # 뒤에 띄워 써야 된다) markdown으로 해야됨\n",
        "- 글자를 진하게 쓰려면 진하게 쓰려는것 앞 뒤로 **을 붙인다"
      ]
    },
    {
      "cell_type": "markdown",
      "id": "9ba3559a",
      "metadata": {
        "id": "9ba3559a"
      },
      "source": [
        "## 파이썬 표준 라이브러리 문서\n",
        "- **공식문서** https://docs.python.org/3/library/index.html"
      ]
    },
    {
      "cell_type": "markdown",
      "id": "e5a7189d",
      "metadata": {
        "id": "e5a7189d"
      },
      "source": [
        "## 실행 - 파이썬 실행하는 방법\n",
        "1. 도구 표시줄에서 Run 아이콘을 이용해서 실행: Shift + Enter\n",
        "2. Shift + Enter: 해당 셀을 실행한 후 새로운 셀을 생성\n",
        "3. Ctrl + Enter: 해당 셀을 실행한다."
      ]
    },
    {
      "cell_type": "markdown",
      "id": "2689004b",
      "metadata": {
        "id": "2689004b"
      },
      "source": [
        "## 예약어(Keywords)\n",
        "- 이미 그 용도가 정해져 있는 명령어들\n",
        "- 식별자(명명법 or 사용자 정의 규칙 - 변수명, 함수명, 파일명...)로 사용 불가"
      ]
    },
    {
      "cell_type": "code",
      "execution_count": null,
      "id": "e5ec7ac6",
      "metadata": {
        "id": "e5ec7ac6",
        "outputId": "ff00885c-10a3-46a1-f0fc-a145674974eb"
      },
      "outputs": [
        {
          "name": "stdout",
          "output_type": "stream",
          "text": [
            "['False', 'None', 'True', '__peg_parser__', 'and', 'as', 'assert', 'async', 'await', 'break', 'class', 'continue', 'def', 'del', 'elif', 'else', 'except', 'finally', 'for', 'from', 'global', 'if', 'import', 'in', 'is', 'lambda', 'nonlocal', 'not', 'or', 'pass', 'raise', 'return', 'try', 'while', 'with', 'yield']\n"
          ]
        }
      ],
      "source": [
        "# 파이썬 예약어를 확인\n",
        "import keyword # keyword 라이브러리를 포함\n",
        "\n",
        "# 파이썬의 예약어 목록 출력\n",
        "print(keyword.kwlist)"
      ]
    },
    {
      "cell_type": "code",
      "execution_count": null,
      "id": "1b652a7f",
      "metadata": {
        "scrolled": false,
        "id": "1b652a7f",
        "outputId": "0a677e87-5bd1-4068-f7d8-e4e9726c869c"
      },
      "outputs": [
        {
          "name": "stdout",
          "output_type": "stream",
          "text": [
            "36\n"
          ]
        }
      ],
      "source": [
        "# len - length 자료긔 갯수, 문자의 길이\n",
        "print(len(keyword.kwlist))"
      ]
    },
    {
      "cell_type": "code",
      "execution_count": null,
      "id": "f7e84b00",
      "metadata": {
        "id": "f7e84b00",
        "outputId": "4a281056-5011-40b2-beb1-e22c3818695b"
      },
      "outputs": [
        {
          "data": {
            "text/plain": [
              "'3.9.12 (main, Apr  4 2022, 05:22:27) [MSC v.1916 64 bit (AMD64)]'"
            ]
          },
          "execution_count": 8,
          "metadata": {},
          "output_type": "execute_result"
        }
      ],
      "source": [
        "# 파이썬 버전 확인\n",
        "# 하나를 import 해와서 하나만 출력할 땐 print를 안써도된다.\n",
        "# 그러나 여러개일 경우는 반드시 써줘야한다.\n",
        "import sys\n",
        "sys.version"
      ]
    },
    {
      "cell_type": "markdown",
      "id": "ac462a71",
      "metadata": {
        "id": "ac462a71"
      },
      "source": [
        "## 사칙연산"
      ]
    },
    {
      "cell_type": "markdown",
      "id": "4bf9a3c4",
      "metadata": {
        "id": "4bf9a3c4"
      },
      "source": [
        "- 파이썬을 계산기처럼 사용이 가능하다.\n",
        "- 사칙연산(산술연산, 가감승제): +, -, *, /, //, %/%(파이썬에서 나누기)"
      ]
    },
    {
      "cell_type": "code",
      "execution_count": null,
      "id": "225be268",
      "metadata": {
        "id": "225be268",
        "outputId": "0b7321a8-eca6-4571-cedd-423fbbcb2f7a"
      },
      "outputs": [
        {
          "data": {
            "text/plain": [
              "55"
            ]
          },
          "execution_count": 9,
          "metadata": {},
          "output_type": "execute_result"
        }
      ],
      "source": [
        "25 + 30"
      ]
    },
    {
      "cell_type": "code",
      "execution_count": null,
      "id": "cc1e2c45",
      "metadata": {
        "id": "cc1e2c45",
        "outputId": "7cfc2bc9-12b3-48e2-ba99-afaf838f3724"
      },
      "outputs": [
        {
          "data": {
            "text/plain": [
              "18"
            ]
          },
          "execution_count": 10,
          "metadata": {},
          "output_type": "execute_result"
        }
      ],
      "source": [
        "30-12"
      ]
    },
    {
      "cell_type": "code",
      "execution_count": null,
      "id": "39ebbc86",
      "metadata": {
        "id": "39ebbc86",
        "outputId": "1e45d102-8418-40d4-db5a-9e79c144a848"
      },
      "outputs": [
        {
          "data": {
            "text/plain": [
              "150"
            ]
          },
          "execution_count": 12,
          "metadata": {},
          "output_type": "execute_result"
        }
      ],
      "source": [
        "50 * 3"
      ]
    },
    {
      "cell_type": "code",
      "execution_count": null,
      "id": "3f208713",
      "metadata": {
        "id": "3f208713",
        "outputId": "3b61ab5b-7b10-4313-ebad-7d7135cf147d"
      },
      "outputs": [
        {
          "data": {
            "text/plain": [
              "6.0"
            ]
          },
          "execution_count": 13,
          "metadata": {},
          "output_type": "execute_result"
        }
      ],
      "source": [
        "30 / 5 # 자바는 30/5는 정수형인 6으로 나오는데 파이썬은 6.0과 같은 실수형으로 나온다."
      ]
    },
    {
      "cell_type": "code",
      "execution_count": null,
      "id": "deb6df09",
      "metadata": {
        "id": "deb6df09",
        "outputId": "137084ff-7d58-47c2-ee78-14047b0a7dda"
      },
      "outputs": [
        {
          "data": {
            "text/plain": [
              "243"
            ]
          },
          "execution_count": 15,
          "metadata": {},
          "output_type": "execute_result"
        }
      ],
      "source": [
        "# 3 * 3 * 3 * 3 * 3 = 3**5\n",
        "3**5"
      ]
    },
    {
      "cell_type": "code",
      "execution_count": null,
      "id": "4951ba35",
      "metadata": {
        "id": "4951ba35",
        "outputId": "1de9afb1-2cf7-47f7-ef73-08ac038bca63"
      },
      "outputs": [
        {
          "data": {
            "text/plain": [
              "1"
            ]
          },
          "execution_count": 16,
          "metadata": {},
          "output_type": "execute_result"
        }
      ],
      "source": [
        "# 나머지 연산\n",
        "7 % 2"
      ]
    },
    {
      "cell_type": "code",
      "execution_count": null,
      "id": "b36875c4",
      "metadata": {
        "id": "b36875c4",
        "outputId": "eb8a8738-367b-49b5-889e-0b220b3c356e"
      },
      "outputs": [
        {
          "data": {
            "text/plain": [
              "3"
            ]
          },
          "execution_count": 17,
          "metadata": {},
          "output_type": "execute_result"
        }
      ],
      "source": [
        "# 몫\n",
        "7 // 2"
      ]
    },
    {
      "cell_type": "code",
      "execution_count": null,
      "id": "3dc1b038",
      "metadata": {
        "id": "3dc1b038",
        "outputId": "acd15106-7cb2-4abe-b26a-c82708a3e70c"
      },
      "outputs": [
        {
          "data": {
            "text/plain": [
              "3.5"
            ]
          },
          "execution_count": 18,
          "metadata": {},
          "output_type": "execute_result"
        }
      ],
      "source": [
        "7 / 2"
      ]
    },
    {
      "cell_type": "code",
      "execution_count": null,
      "id": "3b6406ec",
      "metadata": {
        "id": "3b6406ec",
        "outputId": "a3ffc372-0014-4e4b-c167-bf727f58e4d8"
      },
      "outputs": [
        {
          "name": "stdout",
          "output_type": "stream",
          "text": [
            "3.9.12 (main, Apr  4 2022, 05:22:27) [MSC v.1916 64 bit (AMD64)]\n"
          ]
        }
      ],
      "source": [
        "print(sys.version)"
      ]
    },
    {
      "cell_type": "code",
      "execution_count": null,
      "id": "a42eff8b",
      "metadata": {
        "id": "a42eff8b",
        "outputId": "76eb5f15-16c0-4b1b-fcb7-42385247fd81"
      },
      "outputs": [
        {
          "name": "stdout",
          "output_type": "stream",
          "text": [
            "1\n",
            "2\n",
            "3\n"
          ]
        }
      ],
      "source": [
        "print(1); print(2); print(3);"
      ]
    },
    {
      "cell_type": "code",
      "execution_count": null,
      "id": "a2c5020c",
      "metadata": {
        "id": "a2c5020c",
        "outputId": "6567eb0e-f3e5-41c1-eb70-b78819f00ce6"
      },
      "outputs": [
        {
          "name": "stdout",
          "output_type": "stream",
          "text": [
            "1\n",
            "2\n",
            "3\n"
          ]
        }
      ],
      "source": [
        "print(1)\n",
        "print(2)\n",
        "print(3)"
      ]
    },
    {
      "cell_type": "code",
      "execution_count": null,
      "id": "72633ea4",
      "metadata": {
        "id": "72633ea4",
        "outputId": "c47dc6ca-6427-482d-93c5-0f68254e4463"
      },
      "outputs": [
        {
          "name": "stdout",
          "output_type": "stream",
          "text": [
            "1\n",
            "2\n",
            "3\n",
            "4\n",
            "5\n",
            "6\n",
            "7\n",
            "8\n",
            "9\n",
            "10\n"
          ]
        }
      ],
      "source": [
        "for i in range(1,11): # 콜론 안쓰면 오류남\n",
        "    print(i);"
      ]
    },
    {
      "cell_type": "code",
      "execution_count": null,
      "id": "a8ae989e",
      "metadata": {
        "id": "a8ae989e",
        "outputId": "d4c88c6e-1c71-4fca-8692-140236af55c2"
      },
      "outputs": [
        {
          "data": {
            "text/plain": [
              "200"
            ]
          },
          "execution_count": 32,
          "metadata": {},
          "output_type": "execute_result"
        }
      ],
      "source": [
        "100\n",
        "200 #여러개를 입력하고 출력할땐 반드시 print();를 붙여야함. 아니면 마지막꺼만 나옴"
      ]
    },
    {
      "cell_type": "code",
      "execution_count": null,
      "id": "30021168",
      "metadata": {
        "id": "30021168",
        "outputId": "abd60fca-0230-4eac-b1b6-ea341e440037"
      },
      "outputs": [
        {
          "name": "stdout",
          "output_type": "stream",
          "text": [
            "100\n",
            "200\n"
          ]
        }
      ],
      "source": [
        "print(100);\n",
        "print(200);"
      ]
    },
    {
      "cell_type": "code",
      "execution_count": null,
      "id": "60cb2523",
      "metadata": {
        "id": "60cb2523"
      },
      "outputs": [],
      "source": [
        "a = 7"
      ]
    },
    {
      "cell_type": "code",
      "execution_count": null,
      "id": "fab6f2e0",
      "metadata": {
        "id": "fab6f2e0",
        "outputId": "b2ec91b7-229e-48fd-d205-9f83effd3ddc"
      },
      "outputs": [
        {
          "data": {
            "text/plain": [
              "7"
            ]
          },
          "execution_count": 38,
          "metadata": {},
          "output_type": "execute_result"
        }
      ],
      "source": [
        "a"
      ]
    },
    {
      "cell_type": "markdown",
      "id": "66e7bd4f",
      "metadata": {
        "id": "66e7bd4f"
      },
      "source": [
        "## 주석(comment)\n",
        "- 프로그램 실행과는 상관 없이 설명을 담기 위해 사용하는 구문\n",
        "- '#': 한줄 주석\n",
        "- '\"\"\" \"\"\"': 여러줄 주석"
      ]
    },
    {
      "cell_type": "code",
      "execution_count": null,
      "id": "9addbbfe",
      "metadata": {
        "id": "9addbbfe",
        "outputId": "f0cf5455-5c9b-4531-ec20-4bd7d16d5cb5"
      },
      "outputs": [
        {
          "data": {
            "text/plain": [
              "'\\n여러 줄 주석\\n이것도 주석\\n저것도 주석\\n'"
            ]
          },
          "execution_count": 41,
          "metadata": {},
          "output_type": "execute_result"
        }
      ],
      "source": [
        "# 이것은 한줄 짜리 주석입니다.\n",
        "\"\"\"\n",
        "여러 줄 주석\n",
        "여기도 주석\n",
        "주기도 주석\n",
        "\"\"\"\n",
        "'''\n",
        "여러 줄 주석\n",
        "이것도 주석\n",
        "저것도 주석\n",
        "'''"
      ]
    },
    {
      "cell_type": "code",
      "execution_count": null,
      "id": "6a630dcf",
      "metadata": {
        "id": "6a630dcf"
      },
      "outputs": [],
      "source": [
        "# 주석이고 싶어요\n",
        "# 나두 주석일거야\n",
        "# 여기까지 주석일 거에요.\n",
        "# 블럭 주석: 범위 지정 후 \"Ctrl + /\" 를 누르면 여러줄 주석 처리 된다.\n",
        "# \"\"\" \"\"\"을 요즘 주석으로 잘 안쓰는 이유는 출력되기도 해서임"
      ]
    },
    {
      "cell_type": "markdown",
      "id": "eab0ca84",
      "metadata": {
        "id": "eab0ca84"
      },
      "source": [
        "# 변수(Variable)\n",
        "- 변수: 변할 수 있는 수, 값(상수, data)을 저장하는 공간 즉, 기억 공간\n",
        "- 메모리(Memory): 주기억장소(RAM), 변수를 저장하는 물리적인 공간\n",
        "- 동적타이핑(Dynamic Typing): 자료형이 실행할 때 자동으로 할당된다.\n",
        "- 표현식: V(변수) = C;"
      ]
    },
    {
      "cell_type": "code",
      "execution_count": null,
      "id": "3bfbd951",
      "metadata": {
        "id": "3bfbd951"
      },
      "outputs": [],
      "source": [
        "a = 10;"
      ]
    },
    {
      "cell_type": "code",
      "execution_count": null,
      "id": "181ee28d",
      "metadata": {
        "id": "181ee28d",
        "outputId": "361c4490-4eec-45e2-a963-001eccd46749"
      },
      "outputs": [
        {
          "data": {
            "text/plain": [
              "10"
            ]
          },
          "execution_count": 48,
          "metadata": {},
          "output_type": "execute_result"
        }
      ],
      "source": [
        "a"
      ]
    },
    {
      "cell_type": "code",
      "execution_count": null,
      "id": "5415592e",
      "metadata": {
        "id": "5415592e",
        "outputId": "8228a71f-02d8-4fab-be4f-7fdb65763f0f"
      },
      "outputs": [
        {
          "name": "stdout",
          "output_type": "stream",
          "text": [
            "10\n"
          ]
        }
      ],
      "source": [
        "print(a)"
      ]
    },
    {
      "cell_type": "markdown",
      "id": "c91ce1e3",
      "metadata": {
        "id": "c91ce1e3"
      },
      "source": [
        "## 변수 작성 규칙: 명명법 or 사용자 정의 규칙\n",
        "- 알파벳(A 에서 Z, a 에서 z), 숫자(0 에서 9), 밑줄(_, 언더스코어)\n",
        "- 첫글자는 반드시 영문자의 대, 소문자이거나 밑줄(_)만 올 수 있다.\n",
        "- 예약어는 사용 불가\n",
        "- 글자수의 제한은 없다.\n",
        "- 관용적으로 변수명과 함수명은 소문자로 쓴다."
      ]
    },
    {
      "cell_type": "code",
      "execution_count": null,
      "id": "a6d0e7c4",
      "metadata": {
        "id": "a6d0e7c4",
        "outputId": "b3886cd9-b1be-4fe6-b3e4-8943ce025793"
      },
      "outputs": [
        {
          "data": {
            "text/plain": [
              "10"
            ]
          },
          "execution_count": 52,
          "metadata": {},
          "output_type": "execute_result"
        }
      ],
      "source": [
        "# 정수형 변수: 정수형 상수\n",
        "a = 10\n",
        "#print(a)\n",
        "a"
      ]
    },
    {
      "cell_type": "code",
      "execution_count": null,
      "id": "fa63272c",
      "metadata": {
        "id": "fa63272c",
        "outputId": "859501ef-02c3-4a6e-f495-2c080cc9c83f"
      },
      "outputs": [
        {
          "data": {
            "text/plain": [
              "'파이썬'"
            ]
          },
          "execution_count": 53,
          "metadata": {},
          "output_type": "execute_result"
        }
      ],
      "source": [
        "# 문자형 변수: 문자형 상수\n",
        "a = \"파이썬\"\n",
        "a"
      ]
    },
    {
      "cell_type": "code",
      "execution_count": null,
      "id": "938b8564",
      "metadata": {
        "id": "938b8564",
        "outputId": "1f094d8e-d8a2-4215-f5e3-3d15dc3cc9bd"
      },
      "outputs": [
        {
          "data": {
            "text/plain": [
              "42.125"
            ]
          },
          "execution_count": 57,
          "metadata": {},
          "output_type": "execute_result"
        }
      ],
      "source": [
        "# 실수형 변수: 실수형 상수\n",
        "a = 42.125\n",
        "a"
      ]
    },
    {
      "cell_type": "code",
      "execution_count": null,
      "id": "cc1a463d",
      "metadata": {
        "id": "cc1a463d",
        "outputId": "1a482bc4-2b2a-4fd8-cab7-1a742d34b819"
      },
      "outputs": [
        {
          "name": "stdout",
          "output_type": "stream",
          "text": [
            "7\n",
            "<class 'int'>\n"
          ]
        }
      ],
      "source": [
        "# type(): 자료형을 확인하는 함수\n",
        "a= 3\n",
        "b = 4\n",
        "print(a + b)\n",
        "print(type(a)) # 변수 a 의 자료형 확인"
      ]
    },
    {
      "cell_type": "code",
      "execution_count": null,
      "id": "482f0c88",
      "metadata": {
        "id": "482f0c88"
      },
      "outputs": [],
      "source": [
        "# '=': 대입연산자, 할당연산자, 치환연산자"
      ]
    },
    {
      "cell_type": "markdown",
      "id": "bb53a5a8",
      "metadata": {
        "id": "bb53a5a8"
      },
      "source": [
        "## 연산자(Operation)\n",
        "- 피연산자(항) 사이의 계산을 수행하기 위해 사용하는 기호들\n",
        "- 단항연산자: 하나의 피연산자를 가지고 있는 연산\n",
        "- 이항연산자: 하나 이상의 피연산자를 가지고 있는 연산\n",
        "1. 최우선 연산자: 우선순위가 가장 높은 연산자('', '{}', '()')\n",
        "2. 산술 연산자\n",
        "3. 관계 연산자(비교 연산자): ==, !=, >, >=, v, v=\n",
        "4. 논리 연산자: and(&&), or(||), not(!, 단항 연산자), not True, not False\n",
        "5. 비트(bit = binart digit) 연산자: and(%), or(!), not(~)\n",
        "6. 대입할당연산자: 대입연산자(=)와 산술연산자를 중첩해서 사용하는 연산자, 축약\n",
        "8. 대입 연산자"
      ]
    },
    {
      "cell_type": "code",
      "execution_count": null,
      "id": "b51a8b2e",
      "metadata": {
        "id": "b51a8b2e",
        "outputId": "2f2c4012-fcb3-4d73-d96f-f32b0aafa2c0"
      },
      "outputs": [
        {
          "data": {
            "text/plain": [
              "11"
            ]
          },
          "execution_count": 89,
          "metadata": {},
          "output_type": "execute_result"
        }
      ],
      "source": [
        "# C언어나 Java에서 사용되 증감연산자(++, --)를 파이썬은 지원하지 않는다.\n",
        "a = 10\n",
        "# a++ == a = a + 1  => a += 1\n",
        "a += 1\n",
        "a"
      ]
    },
    {
      "cell_type": "code",
      "execution_count": null,
      "id": "53f43f42",
      "metadata": {
        "id": "53f43f42",
        "outputId": "b857a7f9-398b-48fa-a818-815af4b055f2"
      },
      "outputs": [
        {
          "data": {
            "text/plain": [
              "9"
            ]
          },
          "execution_count": 90,
          "metadata": {},
          "output_type": "execute_result"
        }
      ],
      "source": [
        "a = 10\n",
        "# a = a - 1\n",
        "a -= 1\n",
        "a"
      ]
    },
    {
      "cell_type": "code",
      "execution_count": null,
      "id": "bd323de1",
      "metadata": {
        "id": "bd323de1"
      },
      "outputs": [],
      "source": [
        "a = 3\n",
        "#a = a* 2\n",
        "a *= 2\n",
        "a"
      ]
    },
    {
      "cell_type": "markdown",
      "id": "c5ed4730",
      "metadata": {
        "id": "c5ed4730"
      },
      "source": [
        "## 기본 자료형\n",
        "- 숫자형(수치형): 정수형과 실수형\n",
        "- 문자형: '' or \" \"\n",
        "- 논리형: True or False"
      ]
    },
    {
      "cell_type": "code",
      "execution_count": null,
      "id": "1bb5f5d2",
      "metadata": {
        "id": "1bb5f5d2",
        "outputId": "56ea3e7d-74f7-4d48-e76b-56037b4069db"
      },
      "outputs": [
        {
          "name": "stdout",
          "output_type": "stream",
          "text": [
            "1 2\n",
            "1.5 3.4\n",
            "Pyton Hello word\n",
            "True False\n"
          ]
        }
      ],
      "source": [
        "# 정수형(integer Type, int / lang)\n",
        "a = 1\n",
        "b = 2\n",
        "print(a, b)\n",
        "\n",
        "# 실수형(floating-point typer, float / double)\n",
        "a = 1.5\n",
        "b = 3.4\n",
        "print(a, b)\n",
        "\n",
        "# 문자형(String type, char /string)\n",
        "a = \"Pyton\"\n",
        "b = 'Hello word'\n",
        "print(a, b)\n",
        "\n",
        "# qnfflsgud(boolean type)\n",
        "a = True\n",
        "b = False\n",
        "print(a, b)"
      ]
    },
    {
      "cell_type": "code",
      "execution_count": null,
      "id": "3d953401",
      "metadata": {
        "id": "3d953401",
        "outputId": "ad7a1bd1-5084-4353-c1be-3c954be879e4"
      },
      "outputs": [
        {
          "name": "stdout",
          "output_type": "stream",
          "text": [
            "3\n",
            "12\n"
          ]
        }
      ],
      "source": [
        "# '+': 산술연산의 의미, 연결연산의 의미\n",
        "print(1 + 2);\n",
        "print('1' + '2');"
      ]
    },
    {
      "cell_type": "markdown",
      "id": "59fc8406",
      "metadata": {
        "id": "59fc8406"
      },
      "source": [
        "## 형 변환(Casting)\n",
        "- 자료형을 다른 자료형으로 변경시켜주는 기능\n",
        "- 자동형변환(묵시적형변환, promotion): 작은 데이터를 큰 공간에 담을 때. 자료의 손실이 없다.\n",
        "- 강제형변환(명시적형변환, casting): 큰 데이터를 작은 공간에 담을 때 자료의 손실이 적다."
      ]
    },
    {
      "cell_type": "code",
      "execution_count": null,
      "id": "b98522cc",
      "metadata": {
        "id": "b98522cc",
        "outputId": "6388e743-7780-4086-823e-2cd45950991a"
      },
      "outputs": [
        {
          "name": "stdout",
          "output_type": "stream",
          "text": [
            "10\n",
            "10.0\n"
          ]
        }
      ],
      "source": [
        "# 정수형과 실수형 간의 변환: float() 실수형으로 바꿔라, int() 정수형으로 바꿔라\n",
        "a = 10\n",
        "print(a)\n",
        "\n",
        "a = float(10)\n",
        "print(a)"
      ]
    },
    {
      "cell_type": "code",
      "execution_count": null,
      "id": "4b7a87e6",
      "metadata": {
        "id": "4b7a87e6",
        "outputId": "ad5849f5-ad9f-48c9-f9ad-e8a147c27f55"
      },
      "outputs": [
        {
          "name": "stdout",
          "output_type": "stream",
          "text": [
            "3.3333333333333335\n"
          ]
        }
      ],
      "source": [
        "a = 10\n",
        "b = 3\n",
        "print(a/b)"
      ]
    },
    {
      "cell_type": "code",
      "execution_count": null,
      "id": "d6467724",
      "metadata": {
        "id": "d6467724",
        "outputId": "c4bb33d1-eae0-496c-82a7-4d38faf63c53"
      },
      "outputs": [
        {
          "name": "stdout",
          "output_type": "stream",
          "text": [
            "17\n",
            "10 7\n"
          ]
        }
      ],
      "source": [
        "# 정수형 <= 실수형\n",
        "a = int(10.7)\n",
        "b = int(7.3)\n",
        "print(a + b)\n",
        "print(a, b)"
      ]
    },
    {
      "cell_type": "code",
      "execution_count": null,
      "id": "fe15cef5",
      "metadata": {
        "id": "fe15cef5",
        "outputId": "79984079-53de-465b-ac94-230eb6836c31"
      },
      "outputs": [
        {
          "name": "stdout",
          "output_type": "stream",
          "text": [
            "76.3\n",
            "76.3\n"
          ]
        }
      ],
      "source": [
        "# 숫자형과 문자형간의 변환은 주의가 필요\n",
        "a = '76.3'\n",
        "b = float(a)\n",
        "print(a)\n",
        "print(b)\n",
        "# print(a + b) <= a는 문자라서 더하기가 안됨"
      ]
    },
    {
      "cell_type": "code",
      "execution_count": null,
      "id": "8a27e99c",
      "metadata": {
        "id": "8a27e99c",
        "outputId": "9dbdfe14-e60b-4a23-924d-8db230114934"
      },
      "outputs": [
        {
          "name": "stdout",
          "output_type": "stream",
          "text": [
            "152.6\n",
            "76.376.3\n"
          ]
        }
      ],
      "source": [
        "print(float(a) + b)\n",
        "print(a + str(b))"
      ]
    },
    {
      "cell_type": "code",
      "execution_count": null,
      "id": "7e3f9aff",
      "metadata": {
        "id": "7e3f9aff",
        "outputId": "6b5dc338-cc41-4857-bf67-0ebc261a2146"
      },
      "outputs": [
        {
          "name": "stdout",
          "output_type": "stream",
          "text": [
            "<class 'int'>\n",
            "<class 'float'>\n",
            "<class 'str'>\n"
          ]
        }
      ],
      "source": [
        "# 자료형 확인: type()\n",
        "a = int(7.3)\n",
        "b = float(10)\n",
        "c = str(10.3)\n",
        "print(type(a))\n",
        "print(type(b))\n",
        "print(type(c))\n",
        "# 파이썬은 char가 없다\n",
        "# 교재 113까지 했음"
      ]
    },
    {
      "cell_type": "markdown",
      "id": "e0c28735",
      "metadata": {
        "id": "e0c28735"
      },
      "source": [
        "# 표준 입출력(Console input/output)\n",
        "- console: 키보드와 모니터 환경\n",
        "    1. 표준 입력 함수: input('문자열')\n",
        "    2. 표준 출력 함수: print('문자열', or 수식 or 서식)"
      ]
    },
    {
      "cell_type": "code",
      "execution_count": null,
      "id": "41fdd3a4",
      "metadata": {
        "id": "41fdd3a4",
        "outputId": "2d9863d7-a491-4a8d-f956-81e4132f0183"
      },
      "outputs": [
        {
          "name": "stdout",
          "output_type": "stream",
          "text": [
            "숫자를 입력 하세요: 5\n",
            "입력받은 숫자:  5\n",
            "연산결과:  15\n"
          ]
        }
      ],
      "source": [
        "# 표준 입력 함수: input()\n",
        "a = input('숫자를 입력 하세요: ')\n",
        "a = int(a)\n",
        "print('입력받은 숫자: ', a)\n",
        "print('연산결과: ', a + 10)\n",
        "# input으로 입력 받은 숫자도 문자로 취급 받기 때문에 int나 float을 이용해 숫자로 바꿔 줘야 한다."
      ]
    },
    {
      "cell_type": "code",
      "execution_count": null,
      "id": "8a2cb485",
      "metadata": {
        "id": "8a2cb485",
        "outputId": "0e3a3bd6-cc47-4004-d6a4-32e8839a87c3"
      },
      "outputs": [
        {
          "name": "stdout",
          "output_type": "stream",
          "text": [
            "<class 'str'>\n"
          ]
        }
      ],
      "source": [
        "print(type(a))"
      ]
    },
    {
      "cell_type": "code",
      "execution_count": null,
      "id": "b0ec4f1c",
      "metadata": {
        "id": "b0ec4f1c",
        "outputId": "1019f267-1d8c-419b-d2cd-d58451a8c60c"
      },
      "outputs": [
        {
          "name": "stdout",
          "output_type": "stream",
          "text": [
            "Hello Python!!\n"
          ]
        }
      ],
      "source": [
        "# 표준 출력 함수: print('출력내용')\n",
        "print('Hello Python!!')"
      ]
    },
    {
      "cell_type": "code",
      "execution_count": null,
      "id": "5f821571",
      "metadata": {
        "id": "5f821571",
        "outputId": "d038942d-6790-4a67-d3de-f34341453050"
      },
      "outputs": [
        {
          "name": "stdout",
          "output_type": "stream",
          "text": [
            "best python study\n",
            "bestpythonstudy\n",
            "best python study \n"
          ]
        }
      ],
      "source": [
        "# 여러개의 문자열을 나열할 때(열거형 연산자: ,)\n",
        "print('best', 'python', 'study')\n",
        "print('best' + 'python' + 'study')\n",
        "print('best ' + 'python ' + 'study ')\n",
        "# 홑따옴표('')안에 공백 처리 차이"
      ]
    },
    {
      "cell_type": "code",
      "execution_count": null,
      "id": "636d7249",
      "metadata": {
        "id": "636d7249",
        "outputId": "014674a9-7089-447b-a5a2-da68feeb60e9"
      },
      "outputs": [
        {
          "name": "stdout",
          "output_type": "stream",
          "text": [
            "bestㅁㄴㅇㄹpythonㅁㄴㅇㄹstudy\n"
          ]
        }
      ],
      "source": [
        "# 구분자(sep): 문자열과 문자열 사이에 특정 문자열을 추가\n",
        "print('best', 'python', 'study', sep='ㅁㄴㅇㄹ')"
      ]
    },
    {
      "cell_type": "code",
      "execution_count": null,
      "id": "7a08c32d",
      "metadata": {
        "id": "7a08c32d",
        "outputId": "8fe46298-4ad9-4143-dd5d-ef7ce95b8110"
      },
      "outputs": [
        {
          "name": "stdout",
          "output_type": "stream",
          "text": [
            "10\n",
            "x =  10\n"
          ]
        }
      ],
      "source": [
        "# 변수를 이용한 출력\n",
        "x = 10\n",
        "print(x)\n",
        "print(\"x = \", x)"
      ]
    },
    {
      "cell_type": "markdown",
      "source": [],
      "metadata": {
        "id": "KxLc42BPLkbm"
      },
      "id": "KxLc42BPLkbm"
    },
    {
      "cell_type": "code",
      "execution_count": null,
      "id": "1ed21e3c",
      "metadata": {
        "id": "1ed21e3c",
        "outputId": "ab8e99a1-079f-4941-f651-043ccbcff4ea"
      },
      "outputs": [
        {
          "name": "stdout",
          "output_type": "stream",
          "text": [
            "홍길동 33\n",
            "name =  홍길동\n",
            "age =  33\n"
          ]
        }
      ],
      "source": [
        "name = \"홍길동\"\n",
        "age = 33\n",
        "print(name, age)\n",
        "print(\"name = \", name)\n",
        "print(\"age = \", age)"
      ]
    },
    {
      "cell_type": "code",
      "execution_count": null,
      "id": "f14b814c",
      "metadata": {
        "id": "f14b814c",
        "outputId": "e29ad971-7a18-4845-d02b-242a8fecfb7b"
      },
      "outputs": [
        {
          "name": "stdout",
          "output_type": "stream",
          "text": [
            "홍길동:33\n"
          ]
        }
      ],
      "source": [
        "print(name, age, sep = ':')"
      ]
    },
    {
      "cell_type": "code",
      "execution_count": null,
      "id": "574ae65e",
      "metadata": {
        "id": "574ae65e",
        "outputId": "90c9733d-b088-4a23-d7b4-452d60789e65"
      },
      "outputs": [
        {
          "name": "stdout",
          "output_type": "stream",
          "text": [
            "name =  홍길동, age =  33\n"
          ]
        }
      ],
      "source": [
        "print('name = ', name+',', 'age = ', age)"
      ]
    },
    {
      "cell_type": "code",
      "execution_count": null,
      "id": "014d22dd",
      "metadata": {
        "id": "014d22dd",
        "outputId": "f057bd44-b7fe-4464-ade5-ab96e4399757"
      },
      "outputs": [
        {
          "name": "stdout",
          "output_type": "stream",
          "text": [
            "James is my friend.\n",
            "He is Korean\n"
          ]
        }
      ],
      "source": [
        "# 개행문자('\\n')\n",
        "print('James is my friend.\\nHe is Korean')"
      ]
    },
    {
      "cell_type": "code",
      "execution_count": null,
      "id": "74912e05",
      "metadata": {
        "id": "74912e05",
        "outputId": "a0c21c65-6078-476d-fd11-a8e2397a9468"
      },
      "outputs": [
        {
          "name": "stdout",
          "output_type": "stream",
          "text": [
            "James is my friend.\n",
            "\n",
            "He is Korean\n"
          ]
        }
      ],
      "source": [
        "print('James is my friend.\\n\\nHe is Korean')"
      ]
    },
    {
      "cell_type": "code",
      "execution_count": null,
      "id": "79dd2284",
      "metadata": {
        "id": "79dd2284",
        "outputId": "dc183746-8762-4ea8-a250-05e6aacc3ddc"
      },
      "outputs": [
        {
          "name": "stdout",
          "output_type": "stream",
          "text": [
            "Welcom to \n",
            "Python World!\n"
          ]
        }
      ],
      "source": [
        "print('Welcom to ')\n",
        "print(\"Python World!\")"
      ]
    },
    {
      "cell_type": "code",
      "execution_count": null,
      "id": "56024c8f",
      "metadata": {
        "id": "56024c8f",
        "outputId": "c042bfe6-36cc-40f2-97fc-4fc2f8c17e01"
      },
      "outputs": [
        {
          "name": "stdout",
          "output_type": "stream",
          "text": [
            "Welcom to Python World!\n"
          ]
        }
      ],
      "source": [
        "# 기본형 end = \"\\n\"\n",
        "# end에 아무것도 넣지 않음으로 줄바꿈을 제거함\n",
        "print('Welcom to ', end = '')\n",
        "print(\"Python World!\")"
      ]
    },
    {
      "cell_type": "markdown",
      "id": "4d58aa5f",
      "metadata": {
        "id": "4d58aa5f"
      },
      "source": [
        "## 형식 지정 출력\n",
        "- 기본형식 print(\"%type\" % data)\n",
        "- 서식(format): 데이터의 타입이나 자릿수를 지정할 때 사용하는 기호\n",
        "- %s 문자열, %d 정수형, %f 실수형"
      ]
    },
    {
      "cell_type": "code",
      "execution_count": null,
      "id": "a7c7006b",
      "metadata": {
        "id": "a7c7006b",
        "outputId": "59223e3b-6b90-4c45-f898-18195dc5595f"
      },
      "outputs": [
        {
          "name": "stdout",
          "output_type": "stream",
          "text": [
            "홍길동\n",
            "name = 홍길동\n",
            "당신의 이름은 홍길동입니다.\n",
            "홍길동은(는) 나의 친구입니다.\n"
          ]
        }
      ],
      "source": [
        "name = \"홍길동\"\n",
        "print(name)\n",
        "print(\"name =\", name)\n",
        "print(\"당신의 이름은\", name + \"입니다.\")\n",
        "print(\"%s은(는) 나의 친구입니다.\" % name)\n",
        "# %s 문자열이 들어가는데 뒤의 %의 변수의 데디터 타입(문자열)과 일치해야 함"
      ]
    },
    {
      "cell_type": "code",
      "execution_count": null,
      "id": "7426024f",
      "metadata": {
        "colab": {
          "base_uri": "https://localhost:8080/"
        },
        "id": "7426024f",
        "outputId": "081f50c7-b22c-452e-c823-7d95e9fd5639"
      },
      "outputs": [
        {
          "output_type": "stream",
          "name": "stdout",
          "text": [
            "\"Hello world'\n"
          ]
        }
      ],
      "source": [
        "#print('\"Hello world'')\n",
        "print('\"Hello world'+\"'\")"
      ]
    },
    {
      "cell_type": "markdown",
      "source": [],
      "metadata": {
        "id": "hLwuVMQ5iDoC"
      },
      "id": "hLwuVMQ5iDoC"
    }
  ],
  "metadata": {
    "kernelspec": {
      "display_name": "Python 3 (ipykernel)",
      "language": "python",
      "name": "python3"
    },
    "language_info": {
      "codemirror_mode": {
        "name": "ipython",
        "version": 3
      },
      "file_extension": ".py",
      "mimetype": "text/x-python",
      "name": "python",
      "nbconvert_exporter": "python",
      "pygments_lexer": "ipython3",
      "version": "3.9.12"
    },
    "toc": {
      "base_numbering": 1,
      "nav_menu": {},
      "number_sections": true,
      "sideBar": true,
      "skip_h1_title": false,
      "title_cell": "Table of Contents",
      "title_sidebar": "Contents",
      "toc_cell": false,
      "toc_position": {
        "height": "calc(100% - 180px)",
        "left": "10px",
        "top": "150px",
        "width": "211.675px"
      },
      "toc_section_display": true,
      "toc_window_display": true
    },
    "colab": {
      "provenance": [],
      "include_colab_link": true
    }
  },
  "nbformat": 4,
  "nbformat_minor": 5
}