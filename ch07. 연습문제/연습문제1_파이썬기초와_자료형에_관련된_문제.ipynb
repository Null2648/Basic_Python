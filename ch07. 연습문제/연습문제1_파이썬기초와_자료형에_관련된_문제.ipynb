{
  "cells": [
    {
      "cell_type": "markdown",
      "metadata": {
        "id": "view-in-github",
        "colab_type": "text"
      },
      "source": [
        "<a href=\"https://colab.research.google.com/github/Null2648/Basic_Python/blob/main/ch07.%20%EC%97%B0%EC%8A%B5%EB%AC%B8%EC%A0%9C/%EC%97%B0%EC%8A%B5%EB%AC%B8%EC%A0%9C1_%ED%8C%8C%EC%9D%B4%EC%8D%AC%EA%B8%B0%EC%B4%88%EC%99%80_%EC%9E%90%EB%A3%8C%ED%98%95%EC%97%90_%EA%B4%80%EB%A0%A8%EB%90%9C_%EB%AC%B8%EC%A0%9C.ipynb\" target=\"_parent\"><img src=\"https://colab.research.google.com/assets/colab-badge.svg\" alt=\"Open In Colab\"/></a>"
      ]
    },
    {
      "cell_type": "code",
      "execution_count": null,
      "id": "a9ec42c4",
      "metadata": {
        "id": "a9ec42c4",
        "colab": {
          "base_uri": "https://localhost:8080/"
        },
        "outputId": "480dd2dc-d993-43c2-a9b2-47bb8cfa8c4a"
      },
      "outputs": [
        {
          "output_type": "stream",
          "name": "stdout",
          "text": [
            "홍길동의 과목 평균 점수는 70.00점 입니다.\n",
            "홍길동의 과목 평균 점수는 74.50점 입니다.\n"
          ]
        }
      ],
      "source": [
        "# 문제1. 홍길동의 과목점수를 이용하여 평균 점수를 계산하여 출력하는 프로그램을 구현하시오.\n",
        "# 국어 : 80, 영어 : 75, 수학 : 55\n",
        "score = {'국어':80, '영어':75, '수학':55}\n",
        "\n",
        "def avg(x):\n",
        "  avg_1 = sum(x) / len(x)\n",
        "  print(\"홍길동의 과목 평균 점수는 %.2f점 입니다.\" % avg_1)\n",
        "\n",
        "avg(score.values())\n",
        "\n",
        "score['사회'] = 88\n",
        "avg(score.values())"
      ]
    },
    {
      "cell_type": "code",
      "execution_count": null,
      "id": "8a824e55",
      "metadata": {
        "id": "8a824e55",
        "colab": {
          "base_uri": "https://localhost:8080/"
        },
        "outputId": "1ae196dc-fdc0-456a-fbb2-f23b92fb8c4c"
      },
      "outputs": [
        {
          "output_type": "stream",
          "name": "stdout",
          "text": [
            "숫자를 입력하세요: 13\n",
            "입력된 값 13은 홀수입니다.\n"
          ]
        }
      ],
      "source": [
        "# 문제2. 자연수 13이 홀수인지 짝수인지 판별하는 프로그램을 구현하시오.\n",
        "num1 = int(input(\"숫자를 입력하세요: \"))\n",
        "if num1 == 0:\n",
        "  print('입력된 값은 0입니다.')\n",
        "elif num1 % 2 == 0:\n",
        "  print('입력된 값 %d은 짝수입니다.' % num1)\n",
        "else:\n",
        "  print('입력된 값 %d은 홀수입니다.' % num1)"
      ]
    },
    {
      "cell_type": "code",
      "execution_count": null,
      "id": "c78f9144",
      "metadata": {
        "id": "c78f9144",
        "colab": {
          "base_uri": "https://localhost:8080/"
        },
        "outputId": "f2690fc9-35d2-4ecc-e3b1-25f45a826706"
      },
      "outputs": [
        {
          "output_type": "stream",
          "name": "stdout",
          "text": [
            "1988-11-20 성별은 남자입니다.\n",
            "2020-01-01 성별은 여자입니다.\n"
          ]
        }
      ],
      "source": [
        "# 문제3. 홍길동의 주민번호는 881120-1068234이다. 홍길동의 주민번호를 연월일과 숫자부분을 나누어\n",
        "# 출력하는 프로그램을 구현하시오.(YYYY.MM.DD)와 숫자\n",
        "# 문자열 슬라이싱 기법을 활용할 것.\n",
        "pin = \"881120-1068234\"\n",
        "\n",
        "def birth(x):\n",
        "  if int(x[:2]) >= 0 and int(x[:2]) <= 22:\n",
        "    years = (\"20\"+str(x[:2]))\n",
        "  else:\n",
        "    years = (\"19\"+str(x[:2]))\n",
        "  if int(x[7]) % 2 == 0:\n",
        "    gender = \"여자\"\n",
        "  else:\n",
        "    gender = \"남자\"\n",
        "  print(years + \"-\" + x[2:4] + \"-\" + x[4:6], \"성별은 %s입니다.\" % gender )\n",
        "\n",
        "birth(pin)\n",
        "\n",
        "pin2 = \"200101-4038376\"\n",
        "birth(pin2)"
      ]
    },
    {
      "cell_type": "code",
      "execution_count": null,
      "id": "1c37c58c",
      "metadata": {
        "id": "1c37c58c",
        "colab": {
          "base_uri": "https://localhost:8080/"
        },
        "outputId": "f516a666-dd11-42dd-fa7c-c0cb447d8361"
      },
      "outputs": [
        {
          "output_type": "stream",
          "name": "stdout",
          "text": [
            "1988-11-20 성별은 남자입니다.\n",
            "2020-01-01 성별은 여자입니다.\n"
          ]
        }
      ],
      "source": [
        "# 문제4. 주민등록번호(-)뒤에 숫자를 이용하여 성별을 판정하는 프로그램을 구현하시오.\n",
        "# pin = \"881120-1068234\"\n",
        "# 문자열 인덱싱 기법을 활용할 것.\n",
        "\n",
        "pin = \"881120-1068234\"\n",
        "\n",
        "def birth(x):\n",
        "  if int(x[:2]) >= 0 and int(x[:2]) <= 22:\n",
        "    years = (\"20\"+str(x[:2]))\n",
        "  else:\n",
        "    years = (\"19\"+str(x[:2]))\n",
        "  if int(x[7]) % 2 == 0:\n",
        "    gender = \"여자\"\n",
        "  else:\n",
        "    gender = \"남자\"\n",
        "  print(years + \"-\" + x[2:4] + \"-\" + x[4:6], \"성별은 %s입니다.\" % gender )\n",
        "\n",
        "birth(pin)\n",
        "\n",
        "pin2 = \"200101-4038376\"\n",
        "birth(pin2)"
      ]
    },
    {
      "cell_type": "code",
      "execution_count": null,
      "id": "f76ade40",
      "metadata": {
        "id": "f76ade40",
        "colab": {
          "base_uri": "https://localhost:8080/",
          "height": 35
        },
        "outputId": "5da8488e-953f-4d10-925f-8ba30f402a18"
      },
      "outputs": [
        {
          "output_type": "execute_result",
          "data": {
            "text/plain": [
              "'a#b#c#d'"
            ],
            "application/vnd.google.colaboratory.intrinsic+json": {
              "type": "string"
            }
          },
          "metadata": {},
          "execution_count": 41
        }
      ],
      "source": [
        "# 문제5. 문자열 \"a:b:c:d\"가 있다. replace 함수를 이용하여 a#b#c#d로 바꿔서 출력되도록 프로그램을\n",
        "# 구현하시오.\n",
        "abc = 'a:b:c:d'\n",
        "abc.replace(':', '#')"
      ]
    },
    {
      "cell_type": "code",
      "execution_count": null,
      "id": "a11e81c0",
      "metadata": {
        "id": "a11e81c0",
        "colab": {
          "base_uri": "https://localhost:8080/"
        },
        "outputId": "d5bef91e-2ccb-4994-ca2f-eecf93f7aa20"
      },
      "outputs": [
        {
          "output_type": "stream",
          "name": "stdout",
          "text": [
            "[5, 4, 3, 2, 1]\n"
          ]
        }
      ],
      "source": [
        "# 문제6. 리스트 [1, 3, 5, 4, 2]를 [5, 4, 3, 2, 1]로 출력되도록 구현하시오.\n",
        "# 단, 리스트의 내장함수를 이용할 것.\n",
        "list2 = [1, 3, 5, 4, 2]\n",
        "list2.sort(reverse = True)\n",
        "print(list2)"
      ]
    },
    {
      "cell_type": "code",
      "execution_count": null,
      "id": "281a8e9c",
      "metadata": {
        "id": "281a8e9c",
        "colab": {
          "base_uri": "https://localhost:8080/",
          "height": 35
        },
        "outputId": "b3d48311-86d2-4a8d-fbd3-f6d9b68dfd9d"
      },
      "outputs": [
        {
          "output_type": "execute_result",
          "data": {
            "text/plain": [
              "'Life is too short'"
            ],
            "application/vnd.google.colaboratory.intrinsic+json": {
              "type": "string"
            }
          },
          "metadata": {},
          "execution_count": 45
        }
      ],
      "source": [
        "# 문제7. ['Life', 'is', 'too', 'short'] 리스트를 이용하여 \" Life is too short\" 문자열로\n",
        "# 출력되도록 프로그램을 구현하시오.\n",
        "# 단, join 함수를 이용할 것.\n",
        "list3 = ['Life', 'is', 'too', 'short']\n",
        "' '.join(list3)"
      ]
    },
    {
      "cell_type": "code",
      "execution_count": null,
      "id": "cccf2ba7",
      "metadata": {
        "id": "cccf2ba7",
        "colab": {
          "base_uri": "https://localhost:8080/"
        },
        "outputId": "747f52a5-0036-4f6d-cd2e-304a1003e67b"
      },
      "outputs": [
        {
          "output_type": "stream",
          "name": "stdout",
          "text": [
            "(1, 2, 3)\n",
            "(1, 2, 3, 4)\n"
          ]
        }
      ],
      "source": [
        "# 문제8.(1, 2, 3)이 저장된 튜플에 4를 추가하여 (1, 2, 3, 4)가 되도록 구현하시오.\n",
        "# 단, 튜플의 연산자(*???)를 활용할 것.\n",
        "tup1 = (1, 2, 3)\n",
        "print(tup1)\n",
        "tup1 = tup1 + (4, )\n",
        "print(tup1)"
      ]
    },
    {
      "cell_type": "code",
      "execution_count": null,
      "id": "0c3fcfe2",
      "metadata": {
        "id": "0c3fcfe2",
        "colab": {
          "base_uri": "https://localhost:8080/"
        },
        "outputId": "06eb5463-3a64-42e3-ae8f-815c0be3bf94"
      },
      "outputs": [
        {
          "output_type": "stream",
          "name": "stdout",
          "text": [
            "{}\n"
          ]
        }
      ],
      "source": [
        "# 문제9.다음 주어진 딕셔너리 값을 이용하여 아래 기술된 내용중 오류가 발생하는 것과 그 이유를 서술\n",
        "a = dict()\n",
        "print(a)\n",
        "## 1. a['name'] = 'python'\n",
        "## 2. a[('a',)] = 'python'\n",
        "## 3. a[[1]] = 'python'\n",
        "## 4. a[250] = 'python'\n",
        "\n",
        "3. key값으로 리스트형은 올 수 없다."
      ]
    },
    {
      "cell_type": "code",
      "execution_count": null,
      "id": "89f16f21",
      "metadata": {
        "id": "89f16f21",
        "colab": {
          "base_uri": "https://localhost:8080/"
        },
        "outputId": "921019da-6da8-492c-9816-279508eebea6"
      },
      "outputs": [
        {
          "output_type": "stream",
          "name": "stdout",
          "text": [
            "{'A': 90, 'C': 70}\n",
            "80\n"
          ]
        }
      ],
      "source": [
        "# 문제10. 다음 주어진 딕셔너리에 키가 'B'인 값을 추출하는 프로그램을 구현하시오.\n",
        "# 단, pop 함수를 활용할 것\n",
        "dic = {'A':90, 'B':80, 'C':70}\n",
        "dic2 = dic.pop('B')\n",
        "print(dic)\n",
        "print(dic2)"
      ]
    },
    {
      "cell_type": "code",
      "execution_count": null,
      "id": "3402071d",
      "metadata": {
        "id": "3402071d",
        "colab": {
          "base_uri": "https://localhost:8080/"
        },
        "outputId": "5c0a1b1b-f4d1-4672-f082-619e6443c4ef"
      },
      "outputs": [
        {
          "output_type": "stream",
          "name": "stdout",
          "text": [
            "[1, 2, 3, 4, 5]\n"
          ]
        }
      ],
      "source": [
        "# 문제11. 주어진 리스트 x에 중복된 숫자를 제거하는 프로그램을 구현하시오.\n",
        "x = [1, 1, 1, 2, 2, 3, 3, 3, 4, 4, 5]\n",
        "# 단, 집합 자료형의 특징을 활용할 것\n",
        "x = set(x)\n",
        "x = list(x)\n",
        "print(x)"
      ]
    },
    {
      "cell_type": "code",
      "execution_count": null,
      "id": "d0a3526b",
      "metadata": {
        "id": "d0a3526b",
        "colab": {
          "base_uri": "https://localhost:8080/"
        },
        "outputId": "6ebcb3d9-0e39-413b-cc3f-403d0b9cc442"
      },
      "outputs": [
        {
          "output_type": "stream",
          "name": "stdout",
          "text": [
            "a =  [1, 4, 3]\n",
            "b =  [1, 4, 3]\n",
            "a의 주소: 139753234829392\n",
            "b의 주소: 139753234829392\n",
            "\n",
            "ab =  [1, 4, 3]\n",
            "cd =  [1, 2, 3]\n",
            "ab의 주소: 139753234212496\n",
            "cd의 주소: 139753234209840\n"
          ]
        }
      ],
      "source": [
        "# 문제12. 파이썬은 다른 언어와 달리 아래와 같은 방식의 코딩이 허용된다.\n",
        "# 다음과 같이 a, b 변수를 선언한 후 a의 두 번째 요소값을 변경하면 b 값은 어떻게 되는지 결과와\n",
        "# 이유를 서술하시오.\n",
        "a = b = [1, 2, 3]\n",
        "a[1] = 4\n",
        "print(\"a = \", a)\n",
        "print(\"b = \", b)\n",
        "\n",
        "print(\"a의 주소:\", id(a))\n",
        "print(\"b의 주소:\", id(b))\n",
        "print(\"\")\n",
        "# 깊은 복사가 일어나서 a와 b가 가리키는 주소가 같기 때문에 a의 요소를 변경할 때 b의 요소역시 변경된다.\n",
        "\n",
        "ab = [1, 2, 3]\n",
        "cd = ab[:]\n",
        "ab[1] = 4\n",
        "print(\"ab = \", ab)\n",
        "print(\"cd = \", cd)\n",
        "\n",
        "print(\"ab의 주소:\", id(ab))\n",
        "print(\"cd의 주소:\", id(cd))\n",
        "# 이렇게 하면 값만 복사해서 넣는 얕은 복사이기에 요소의 변경을 피할 수 있다."
      ]
    },
    {
      "cell_type": "code",
      "source": [],
      "metadata": {
        "id": "ptY3zOE_Ko5Y"
      },
      "id": "ptY3zOE_Ko5Y",
      "execution_count": null,
      "outputs": []
    }
  ],
  "metadata": {
    "kernelspec": {
      "display_name": "Python 3 (ipykernel)",
      "language": "python",
      "name": "python3"
    },
    "language_info": {
      "codemirror_mode": {
        "name": "ipython",
        "version": 3
      },
      "file_extension": ".py",
      "mimetype": "text/x-python",
      "name": "python",
      "nbconvert_exporter": "python",
      "pygments_lexer": "ipython3",
      "version": "3.9.12"
    },
    "toc": {
      "base_numbering": 1,
      "nav_menu": {},
      "number_sections": true,
      "sideBar": true,
      "skip_h1_title": false,
      "title_cell": "Table of Contents",
      "title_sidebar": "Contents",
      "toc_cell": false,
      "toc_position": {},
      "toc_section_display": true,
      "toc_window_display": false
    },
    "colab": {
      "provenance": [],
      "include_colab_link": true
    }
  },
  "nbformat": 4,
  "nbformat_minor": 5
}