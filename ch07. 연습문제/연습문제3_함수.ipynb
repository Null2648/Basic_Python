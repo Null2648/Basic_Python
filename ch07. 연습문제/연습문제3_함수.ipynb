{
  "cells": [
    {
      "cell_type": "markdown",
      "metadata": {
        "id": "view-in-github",
        "colab_type": "text"
      },
      "source": [
        "<a href=\"https://colab.research.google.com/github/Null2648/Basic_Python/blob/main/ch07.%20%EC%97%B0%EC%8A%B5%EB%AC%B8%EC%A0%9C/%EC%97%B0%EC%8A%B5%EB%AC%B8%EC%A0%9C3_%ED%95%A8%EC%88%98.ipynb\" target=\"_parent\"><img src=\"https://colab.research.google.com/assets/colab-badge.svg\" alt=\"Open In Colab\"/></a>"
      ]
    },
    {
      "cell_type": "code",
      "execution_count": null,
      "id": "1a478b47",
      "metadata": {
        "ExecuteTime": {
          "end_time": "2022-09-05T07:32:51.027390Z",
          "start_time": "2022-09-05T07:32:51.018268Z"
        },
        "colab": {
          "base_uri": "https://localhost:8080/"
        },
        "id": "1a478b47",
        "outputId": "1e91c892-cf35-4457-b9c7-471a86820458"
      },
      "outputs": [
        {
          "output_type": "stream",
          "name": "stdout",
          "text": [
            "숫자를 입력하세요: 2\n",
            "입력하신 숫자 2는 짝수입니다.\n"
          ]
        }
      ],
      "source": [
        "# 문제1. 주어진 자연수가 홀수인지 짝수인지 판정하는 함수 is_odd()를 구현하시오.\n",
        "# a = int(input(\"숫자를 입력하세요: \"))\n",
        "def is_odd():\n",
        "  a = int(input(\"숫자를 입력하세요: \"))\n",
        "  if a == 0:\n",
        "    print(\"입력하신 숫자는 0입니다.\")\n",
        "  elif a % 2 == 0:\n",
        "    print(\"입력하신 숫자 %d는 짝수입니다.\" % a)\n",
        "  else:\n",
        "    print(\"입력하신 숫자 %d는 홀수입니다.\" % a)\n",
        "\n",
        "is_odd()"
      ]
    },
    {
      "cell_type": "code",
      "execution_count": null,
      "id": "48106018",
      "metadata": {
        "colab": {
          "base_uri": "https://localhost:8080/"
        },
        "id": "48106018",
        "outputId": "bd58e120-91a6-4243-d4ef-c1e159423ae9"
      },
      "outputs": [
        {
          "output_type": "stream",
          "name": "stdout",
          "text": [
            "값을 입력하세요(0을 입력하면 작업을 종료합니다.): 1\n",
            "값을 입력하세요(0을 입력하면 작업을 종료합니다.): 5\n",
            "값을 입력하세요(0을 입력하면 작업을 종료합니다.): 10\n",
            "값을 입력하세요(0을 입력하면 작업을 종료합니다.): 0\n",
            "작업을 종료합니다.\n"
          ]
        },
        {
          "output_type": "execute_result",
          "data": {
            "text/plain": [
              "5.333333333333333"
            ]
          },
          "metadata": {},
          "execution_count": 31
        }
      ],
      "source": [
        "# 문제2. 입력을 받아 들어오는 모든 수의 평균을 계산하는 함수를 구현하시오.\n",
        "# 단, 입력으로 들어오는 매개변수의 개수는 정해져있지 않다.\n",
        "# 평균은 계산할 때 len()함수를 이용할 것.\n",
        "\n",
        "def avg(*x):\n",
        "  tot = 0\n",
        "  for i in x:\n",
        "    tot += i\n",
        "  return tot / len(x)\n",
        "\n",
        "def avg1(y):\n",
        "  tot2 = sum(y)\n",
        "  return tot2 / len(y)\n",
        "\n",
        "sumsum = []\n",
        "\n",
        "while True:\n",
        "  a = int(input(\"값을 입력하세요(0을 입력하면 작업을 종료합니다.): \")) \n",
        "  if a == 0:\n",
        "    print(\"작업을 종료합니다.\")\n",
        "    break\n",
        "  else:\n",
        "    sumsum.append(a)\n",
        "\n",
        "avg1(sumsum)"
      ]
    },
    {
      "cell_type": "code",
      "execution_count": null,
      "id": "f38b3359",
      "metadata": {
        "colab": {
          "base_uri": "https://localhost:8080/"
        },
        "id": "f38b3359",
        "outputId": "3611f3d1-8955-4001-89d7-2255c132d27a"
      },
      "outputs": [
        {
          "output_type": "stream",
          "name": "stdout",
          "text": [
            "3\n",
            "첫 번째 정수를 입력해 주세요: 1\n",
            "첫 번째 정수를 입력해 주세요: 2\n",
            "두 정수의 합은: 3입니다.\n"
          ]
        }
      ],
      "source": [
        "# 문제3. 두 개의 정수를 입력받아 더한 결과를 반환하는 함수를 구현하시오.\n",
        "def add1(a, b):\n",
        "  return a + b\n",
        "print(add1(1, 2))\n",
        "\n",
        "\n",
        "def add2():\n",
        "  a = int(input(\"첫 번째 정수를 입력해 주세요: \"))\n",
        "  b = int(input(\"첫 번째 정수를 입력해 주세요: \"))\n",
        "  print(\"두 정수의 합은: %d입니다.\" % (a + b))\n",
        "add2()"
      ]
    },
    {
      "cell_type": "code",
      "execution_count": null,
      "id": "52aea957",
      "metadata": {
        "id": "52aea957"
      },
      "outputs": [],
      "source": [
        "# 문제4.다음 주어진 출력 결과중 다른 한 개를 찾아 그 결과를 서술하시오.\n",
        "## 1. print(\"you\"  \"need\"  \"python\")\n",
        "## 2. print(\"you\"+\"need\"+\"python\")\n",
        "## 3. print(\"you\", \"need\", \"python\")\n",
        "## 4. print(\"\".join([\"you\",\"need\",\"python\"]))\n",
        "\n",
        "# ,는 한칸 띄우기, +는 문자일 경우 연결해서 쓰인다.2번과 3번은 절대 같은 값이 될 수 없고 4번은 빈칸없이 조인했기에 붙여 쓴다.\n",
        "# 1번은 \"\"내의 문자만 문자열로 취급하여 결과적으로 2번 4번과 같은 결과가 나왔다."
      ]
    },
    {
      "cell_type": "code",
      "execution_count": null,
      "id": "cde9afa7",
      "metadata": {
        "colab": {
          "base_uri": "https://localhost:8080/"
        },
        "id": "cde9afa7",
        "outputId": "d71ecba1-12a5-4ddb-baf6-03ff83599a20"
      },
      "outputs": [
        {
          "output_type": "stream",
          "name": "stdout",
          "text": [
            "youneedpython\n",
            "youneedpython\n",
            "you need python\n",
            "youneedpython\n"
          ]
        }
      ],
      "source": [
        "print(\"you\"  \"need\"  \"python\")\n",
        "print(\"you\"+\"need\"+\"python\")\n",
        "print(\"you\", \"need\", \"python\")\n",
        "print(\"\".join([\"you\",\"need\",\"python\"]))"
      ]
    },
    {
      "cell_type": "code",
      "execution_count": null,
      "id": "5255aa21",
      "metadata": {
        "id": "5255aa21"
      },
      "outputs": [],
      "source": []
    },
    {
      "cell_type": "code",
      "execution_count": null,
      "id": "a371f85f",
      "metadata": {
        "id": "a371f85f"
      },
      "outputs": [],
      "source": []
    },
    {
      "cell_type": "code",
      "execution_count": null,
      "id": "143e1bdc",
      "metadata": {
        "id": "143e1bdc"
      },
      "outputs": [],
      "source": []
    }
  ],
  "metadata": {
    "kernelspec": {
      "display_name": "Python 3 (ipykernel)",
      "language": "python",
      "name": "python3"
    },
    "language_info": {
      "codemirror_mode": {
        "name": "ipython",
        "version": 3
      },
      "file_extension": ".py",
      "mimetype": "text/x-python",
      "name": "python",
      "nbconvert_exporter": "python",
      "pygments_lexer": "ipython3",
      "version": "3.9.12"
    },
    "toc": {
      "base_numbering": 1,
      "nav_menu": {},
      "number_sections": true,
      "sideBar": true,
      "skip_h1_title": false,
      "title_cell": "Table of Contents",
      "title_sidebar": "Contents",
      "toc_cell": false,
      "toc_position": {},
      "toc_section_display": true,
      "toc_window_display": false
    },
    "colab": {
      "provenance": [],
      "include_colab_link": true
    }
  },
  "nbformat": 4,
  "nbformat_minor": 5
}