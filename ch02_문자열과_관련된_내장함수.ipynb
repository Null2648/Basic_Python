{
  "cells": [
    {
      "cell_type": "markdown",
      "metadata": {
        "id": "view-in-github",
        "colab_type": "text"
      },
      "source": [
        "<a href=\"https://colab.research.google.com/github/Null2648/Basic_Python/blob/main/ch02_%EB%AC%B8%EC%9E%90%EC%97%B4%EA%B3%BC_%EA%B4%80%EB%A0%A8%EB%90%9C_%EB%82%B4%EC%9E%A5%ED%95%A8%EC%88%98.ipynb\" target=\"_parent\"><img src=\"https://colab.research.google.com/assets/colab-badge.svg\" alt=\"Open In Colab\"/></a>"
      ]
    },
    {
      "cell_type": "code",
      "execution_count": 1,
      "id": "1c3b1304",
      "metadata": {
        "colab": {
          "base_uri": "https://localhost:8080/"
        },
        "id": "1c3b1304",
        "outputId": "d19fccce-54e2-4591-95e2-ce02ab4cffde"
      },
      "outputs": [
        {
          "output_type": "stream",
          "name": "stdout",
          "text": [
            "안녕하세요\n"
          ]
        }
      ],
      "source": [
        "# 대소문자 변환함수 : upper()와 lower()\n",
        "# 모든 것을 객체로 간주한다.\n",
        "print(\"안녕하세요\")\n",
        "\n",
        "love = print  # 객체 복사"
      ]
    },
    {
      "cell_type": "code",
      "execution_count": 2,
      "id": "b045007d",
      "metadata": {
        "colab": {
          "base_uri": "https://localhost:8080/"
        },
        "id": "b045007d",
        "outputId": "ef962368-18db-49d4-ebd7-29d377809ed8"
      },
      "outputs": [
        {
          "output_type": "stream",
          "name": "stdout",
          "text": [
            "웃기다\n"
          ]
        }
      ],
      "source": [
        "love(\"웃기다\")"
      ]
    },
    {
      "cell_type": "code",
      "execution_count": 3,
      "id": "760445b4",
      "metadata": {
        "colab": {
          "base_uri": "https://localhost:8080/",
          "height": 36
        },
        "id": "760445b4",
        "outputId": "5cdeff1b-6b8c-4b62-9cb9-b14b8fe09f38"
      },
      "outputs": [
        {
          "output_type": "execute_result",
          "data": {
            "text/plain": [
              "'Hello Python Programming...'"
            ],
            "application/vnd.google.colaboratory.intrinsic+json": {
              "type": "string"
            }
          },
          "metadata": {},
          "execution_count": 3
        }
      ],
      "source": [
        "string = \"Hello Python Programming...\"\n",
        "string"
      ]
    },
    {
      "cell_type": "code",
      "execution_count": 4,
      "id": "5c72f237",
      "metadata": {
        "colab": {
          "base_uri": "https://localhost:8080/",
          "height": 36
        },
        "id": "5c72f237",
        "outputId": "511d3833-6771-49db-c767-22e240e50b85"
      },
      "outputs": [
        {
          "output_type": "execute_result",
          "data": {
            "text/plain": [
              "'HELLO PYTHON PROGRAMMING...'"
            ],
            "application/vnd.google.colaboratory.intrinsic+json": {
              "type": "string"
            }
          },
          "metadata": {},
          "execution_count": 4
        }
      ],
      "source": [
        "string.upper()"
      ]
    },
    {
      "cell_type": "code",
      "execution_count": 5,
      "id": "ce094e23",
      "metadata": {
        "colab": {
          "base_uri": "https://localhost:8080/",
          "height": 36
        },
        "id": "ce094e23",
        "outputId": "ba8505c8-7494-461f-b8d4-454b16782e18"
      },
      "outputs": [
        {
          "output_type": "execute_result",
          "data": {
            "text/plain": [
              "'hello python programming...'"
            ],
            "application/vnd.google.colaboratory.intrinsic+json": {
              "type": "string"
            }
          },
          "metadata": {},
          "execution_count": 5
        }
      ],
      "source": [
        "string.lower()"
      ]
    },
    {
      "cell_type": "code",
      "execution_count": 6,
      "id": "ba119aeb",
      "metadata": {
        "colab": {
          "base_uri": "https://localhost:8080/",
          "height": 177
        },
        "id": "ba119aeb",
        "outputId": "f634c4a7-4ffb-44d8-afa6-58079bf6af76"
      },
      "outputs": [
        {
          "output_type": "error",
          "ename": "NameError",
          "evalue": "ignored",
          "traceback": [
            "\u001b[0;31m---------------------------------------------------------------------------\u001b[0m",
            "\u001b[0;31mNameError\u001b[0m                                 Traceback (most recent call last)",
            "\u001b[0;32m<ipython-input-6-39e41e39fde2>\u001b[0m in \u001b[0;36m<module>\u001b[0;34m\u001b[0m\n\u001b[0;32m----> 1\u001b[0;31m \u001b[0mupper\u001b[0m\u001b[0;34m(\u001b[0m\u001b[0mstring\u001b[0m\u001b[0;34m)\u001b[0m\u001b[0;34m\u001b[0m\u001b[0;34m\u001b[0m\u001b[0m\n\u001b[0m",
            "\u001b[0;31mNameError\u001b[0m: name 'upper' is not defined"
          ]
        }
      ],
      "source": [
        "# 이런식으로 사용하지 못한다.\n",
        "upper(string)"
      ]
    },
    {
      "cell_type": "code",
      "execution_count": null,
      "id": "55d46d8a",
      "metadata": {
        "id": "55d46d8a"
      },
      "outputs": [],
      "source": [
        "# strip, lstrip, rstrip\n",
        "aaa = \"\"\"\n",
        "      안녕하세요\n",
        "문자열과 관련된 함수를 알아볼까요?      \n",
        "\"\"\""
      ]
    },
    {
      "cell_type": "code",
      "execution_count": null,
      "id": "4957dca9",
      "metadata": {
        "id": "4957dca9",
        "outputId": "1f74698a-0716-48d7-865d-e5a8553575bb"
      },
      "outputs": [
        {
          "data": {
            "text/plain": [
              "'\\n      안녕하세요\\n문자열과 관련된 함수를 알아볼까요?      \\n'"
            ]
          },
          "execution_count": 10,
          "metadata": {},
          "output_type": "execute_result"
        }
      ],
      "source": [
        "aaa"
      ]
    },
    {
      "cell_type": "code",
      "execution_count": null,
      "id": "9bfaf726",
      "metadata": {
        "id": "9bfaf726",
        "outputId": "46c55020-e75f-402c-891f-49fd0dbeae4e"
      },
      "outputs": [
        {
          "name": "stdout",
          "output_type": "stream",
          "text": [
            "\n",
            "      안녕하세요\n",
            "문자열과 관련된 함수를 알아볼까요?      \n",
            "\n"
          ]
        }
      ],
      "source": [
        "print(aaa)"
      ]
    },
    {
      "cell_type": "code",
      "execution_count": null,
      "id": "0d45b158",
      "metadata": {
        "id": "0d45b158",
        "outputId": "72aed812-6776-46d8-b240-3d56958fdde0"
      },
      "outputs": [
        {
          "name": "stdout",
          "output_type": "stream",
          "text": [
            "안녕하세요\n",
            "문자열과 관련된 함수를 알아볼까요?\n"
          ]
        }
      ],
      "source": [
        "print(aaa.strip())"
      ]
    },
    {
      "cell_type": "code",
      "execution_count": null,
      "id": "e7b012f1",
      "metadata": {
        "id": "e7b012f1",
        "outputId": "17d4c6c5-1257-4f3a-a92d-50f3f2b25074"
      },
      "outputs": [
        {
          "name": "stdout",
          "output_type": "stream",
          "text": [
            "<class 'bool'>\n"
          ]
        }
      ],
      "source": [
        "# 논리형 변수 : True or False, and, or, not\n",
        "hungry = True\n",
        "sleep = False\n",
        "\n",
        "print(type(hungry))"
      ]
    },
    {
      "cell_type": "code",
      "execution_count": null,
      "id": "2d7ca720",
      "metadata": {
        "id": "2d7ca720",
        "outputId": "6450d9f6-6724-40da-afc4-066dd4e2a60c"
      },
      "outputs": [
        {
          "name": "stdout",
          "output_type": "stream",
          "text": [
            "False\n"
          ]
        }
      ],
      "source": [
        "print(hungry and sleep)"
      ]
    },
    {
      "cell_type": "code",
      "execution_count": null,
      "id": "5f1bcee8",
      "metadata": {
        "id": "5f1bcee8",
        "outputId": "febc6a32-7993-448d-d588-d9233a6fa5e2"
      },
      "outputs": [
        {
          "name": "stdout",
          "output_type": "stream",
          "text": [
            "True\n"
          ]
        }
      ],
      "source": [
        "print(hungry or sleep)"
      ]
    },
    {
      "cell_type": "code",
      "execution_count": null,
      "id": "25a88054",
      "metadata": {
        "id": "25a88054",
        "outputId": "50346850-d5c2-478d-a5a8-6882aae9a819"
      },
      "outputs": [
        {
          "name": "stdout",
          "output_type": "stream",
          "text": [
            "True\n"
          ]
        }
      ],
      "source": [
        "print(hungry and not sleep)"
      ]
    },
    {
      "cell_type": "code",
      "execution_count": null,
      "id": "a2e2a919",
      "metadata": {
        "id": "a2e2a919",
        "outputId": "ae976d9d-a93e-488e-87bf-f753316b2863"
      },
      "outputs": [
        {
          "name": "stdout",
          "output_type": "stream",
          "text": [
            "ok\n"
          ]
        }
      ],
      "source": [
        "a = 1\n",
        "b = 3\n",
        "\n",
        "if a == 1 and b == 3:\n",
        "    print(\"ok\")\n",
        "else:\n",
        "    print(\"not ok\")"
      ]
    },
    {
      "cell_type": "code",
      "execution_count": null,
      "id": "c34a85ad",
      "metadata": {
        "id": "c34a85ad"
      },
      "outputs": [],
      "source": [
        "# 비교(관계) 연산자 : ==, !=, >=, >, <=, <\n",
        "# 논리연산자 : and, or, not"
      ]
    },
    {
      "cell_type": "code",
      "execution_count": null,
      "id": "e4270764",
      "metadata": {
        "id": "e4270764",
        "outputId": "3d92366a-b2c9-42d3-ec5c-88c7589645b9"
      },
      "outputs": [
        {
          "data": {
            "text/plain": [
              "0"
            ]
          },
          "execution_count": 22,
          "metadata": {},
          "output_type": "execute_result"
        }
      ],
      "source": [
        "# find() : 왼쪽부터 찾아서 처음 나오는 위치값을 얻어오는 함수\n",
        "# rfind() : 오른쪽부터\n",
        "string = \"안녕안녕하세요\".find(\"안녕\")\n",
        "string"
      ]
    },
    {
      "cell_type": "markdown",
      "id": "a3cb99c1",
      "metadata": {
        "id": "a3cb99c1"
      },
      "source": [
        "- 안 녕 안 녕 하 세 요\n",
        "- 0  1  2  3 4  5  6"
      ]
    },
    {
      "cell_type": "code",
      "execution_count": null,
      "id": "7bfd1ef1",
      "metadata": {
        "id": "7bfd1ef1",
        "outputId": "1de639d7-7445-4bb7-b014-c70cb205784c"
      },
      "outputs": [
        {
          "data": {
            "text/plain": [
              "2"
            ]
          },
          "execution_count": 23,
          "metadata": {},
          "output_type": "execute_result"
        }
      ],
      "source": [
        "string = \"안녕안녕하세요\".rfind(\"안녕\")\n",
        "string"
      ]
    },
    {
      "cell_type": "code",
      "execution_count": null,
      "id": "fe92cbe9",
      "metadata": {
        "id": "fe92cbe9",
        "outputId": "775c5d4c-bd62-493c-8b27-56d0ee0b816f"
      },
      "outputs": [
        {
          "name": "stdout",
          "output_type": "stream",
          "text": [
            "True\n"
          ]
        }
      ],
      "source": [
        "# in 연산자\n",
        "print(\"안녕\" in \"안녕하세요\")"
      ]
    },
    {
      "cell_type": "code",
      "execution_count": null,
      "id": "f4943045",
      "metadata": {
        "id": "f4943045",
        "outputId": "25d24b74-69c7-4ac5-f1ba-cd93c5ae62f1"
      },
      "outputs": [
        {
          "name": "stdout",
          "output_type": "stream",
          "text": [
            "False\n"
          ]
        }
      ],
      "source": [
        "print(\"잘자\" in \"안녕하세요\")"
      ]
    },
    {
      "cell_type": "code",
      "execution_count": null,
      "id": "7e4e2915",
      "metadata": {
        "id": "7e4e2915",
        "outputId": "a61a05e6-bff1-49da-d1c1-995c497a5c7d"
      },
      "outputs": [
        {
          "data": {
            "text/plain": [
              "['10', '20', '30', '40', '50']"
            ]
          },
          "execution_count": 26,
          "metadata": {},
          "output_type": "execute_result"
        }
      ],
      "source": [
        "# split() : 문자열을 자르는 함수\n",
        "a = \"10 20 30 40 50\".split(\" \")\n",
        "a"
      ]
    },
    {
      "cell_type": "code",
      "execution_count": null,
      "id": "deb0f507",
      "metadata": {
        "id": "deb0f507",
        "outputId": "ce43b3fe-4817-4eda-a001-5abe0ca77fcd"
      },
      "outputs": [
        {
          "data": {
            "text/plain": [
              "'10'"
            ]
          },
          "execution_count": 29,
          "metadata": {},
          "output_type": "execute_result"
        }
      ],
      "source": [
        "# f-문자열 : 파이썬 3.6버전부터 사용되는 기능\n",
        "# 문자열 앞에 f를 붙이고 문자열 내부에 표현식을 {}괄호로 삽입\n",
        "## f'문자열{표현식}문자열'\n",
        "a = \"{}\".format(10)\n",
        "a"
      ]
    },
    {
      "cell_type": "code",
      "execution_count": null,
      "id": "d5f04aae",
      "metadata": {
        "id": "d5f04aae",
        "outputId": "b4d8c97d-a9d2-45a0-fd59-b5ec0be2403d"
      },
      "outputs": [
        {
          "data": {
            "text/plain": [
              "str"
            ]
          },
          "execution_count": 30,
          "metadata": {},
          "output_type": "execute_result"
        }
      ],
      "source": [
        "type(a)"
      ]
    },
    {
      "cell_type": "code",
      "execution_count": null,
      "id": "5421b595",
      "metadata": {
        "id": "5421b595",
        "outputId": "c359f34c-38e4-4932-f5d9-37af8b06cb7f"
      },
      "outputs": [
        {
          "data": {
            "text/plain": [
              "'10'"
            ]
          },
          "execution_count": 31,
          "metadata": {},
          "output_type": "execute_result"
        }
      ],
      "source": [
        "f'{10}'"
      ]
    },
    {
      "cell_type": "code",
      "execution_count": null,
      "id": "c10a4402",
      "metadata": {
        "id": "c10a4402",
        "outputId": "62a7f14b-0d31-4179-9c67-4d257df3067e"
      },
      "outputs": [
        {
          "data": {
            "text/plain": [
              "'3 + 4 = 7'"
            ]
          },
          "execution_count": 32,
          "metadata": {},
          "output_type": "execute_result"
        }
      ],
      "source": [
        "f\"3 + 4 = {3+4}\""
      ]
    },
    {
      "cell_type": "code",
      "execution_count": null,
      "id": "4aae9b0c",
      "metadata": {
        "id": "4aae9b0c"
      },
      "outputs": [],
      "source": []
    }
  ],
  "metadata": {
    "kernelspec": {
      "display_name": "Python 3 (ipykernel)",
      "language": "python",
      "name": "python3"
    },
    "language_info": {
      "codemirror_mode": {
        "name": "ipython",
        "version": 3
      },
      "file_extension": ".py",
      "mimetype": "text/x-python",
      "name": "python",
      "nbconvert_exporter": "python",
      "pygments_lexer": "ipython3",
      "version": "3.9.12"
    },
    "toc": {
      "base_numbering": 1,
      "nav_menu": {},
      "number_sections": true,
      "sideBar": true,
      "skip_h1_title": false,
      "title_cell": "Table of Contents",
      "title_sidebar": "Contents",
      "toc_cell": false,
      "toc_position": {},
      "toc_section_display": true,
      "toc_window_display": false
    },
    "colab": {
      "provenance": [],
      "include_colab_link": true
    }
  },
  "nbformat": 4,
  "nbformat_minor": 5
}