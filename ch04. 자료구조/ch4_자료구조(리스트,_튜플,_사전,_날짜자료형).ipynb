{
  "cells": [
    {
      "cell_type": "markdown",
      "metadata": {
        "id": "view-in-github",
        "colab_type": "text"
      },
      "source": [
        "<a href=\"https://colab.research.google.com/github/Null2648/Basic_Python/blob/main/ch04.%20%EC%9E%90%EB%A3%8C%EA%B5%AC%EC%A1%B0/ch4_%EC%9E%90%EB%A3%8C%EA%B5%AC%EC%A1%B0(%EB%A6%AC%EC%8A%A4%ED%8A%B8%2C_%ED%8A%9C%ED%94%8C%2C_%EC%82%AC%EC%A0%84%2C_%EB%82%A0%EC%A7%9C%EC%9E%90%EB%A3%8C%ED%98%95).ipynb\" target=\"_parent\"><img src=\"https://colab.research.google.com/assets/colab-badge.svg\" alt=\"Open In Colab\"/></a>"
      ]
    },
    {
      "cell_type": "code",
      "execution_count": 1,
      "id": "30c00cb6",
      "metadata": {
        "colab": {
          "base_uri": "https://localhost:8080/"
        },
        "id": "30c00cb6",
        "outputId": "e948fbae-bf54-43c1-ddd3-fff8066041a2"
      },
      "outputs": [
        {
          "output_type": "stream",
          "name": "stdout",
          "text": [
            "[1, 2, 3, 4, 5]\n",
            "<class 'list'>\n",
            "1\n",
            "2\n",
            "5\n",
            "5\n",
            "a = [10, 2, 3, 4, 5]\n",
            "10\n",
            "2\n",
            "3\n",
            "4\n",
            "5\n",
            "10\n",
            "2\n",
            "3\n",
            "4\n",
            "5\n",
            "-------------------\n",
            "--------------------\n"
          ]
        }
      ],
      "source": [
        "# 리스트 생성\n",
        "a = [1, 2, 3, 4, 5]\n",
        "print(a)\n",
        "print(type(a))\n",
        "# 개별요소를 참조 - 인덱스\n",
        "print(a[0]) # 첫 번재 요소\n",
        "print(a[1]) # 두 번째 요소\n",
        "# 마지막 요소\n",
        "print(a[4])\n",
        "print(a[-1])\n",
        "# 리스트는 변경 가능\n",
        "a[0] = 10\n",
        "print(\"a =\", a)\n",
        "# 개별요소를 줄단위로 출력\n",
        "print(a[0])\n",
        "print(a[1])\n",
        "print(a[2])\n",
        "print(a[3])\n",
        "print(a[4])\n",
        "# for 개별변수 in 집합변수\n",
        "for i in a:\n",
        "    print(i)\n",
        "\n",
        "print(\"-------------------\")\n",
        "print(\"-\" * 20)\n",
        "\n",
        "# for i in a:\n",
        "# i는 a안의 하나의 요소를 의미\n",
        "#     print(a[i])  # a[a[0]] 파이썬은 이렇게 인식해서 애초에 틀린 표현이다.\n",
        "# 옛날엔 다른프로그램에선 됐다(c, 자바)\n",
        "# 파이썬은 안된다.\n",
        "# 22.11.29. 지금와서 다시 보니 이 표현이 안되는건 파이썬이라서가 아니라 인덱스를 벗어나서이다.\n",
        "# a 가 0부터 1씩 증가하는 식이라면 여전히 작동한다."
      ]
    },
    {
      "cell_type": "code",
      "execution_count": null,
      "id": "085838d8",
      "metadata": {
        "id": "085838d8",
        "outputId": "e26ac744-dab8-42cc-8ee6-febe97f61935"
      },
      "outputs": [
        {
          "name": "stdout",
          "output_type": "stream",
          "text": [
            "[1, 2, 3, ['a', 'b', 'c']]\n",
            "['a', 'b', 'c']\n",
            "a\n"
          ]
        }
      ],
      "source": [
        "# 중첩 리스트 - 이차원 리스트, 이차원 배열\n",
        "a = [1, 2, 3, ['a', 'b', 'c']]\n",
        "print(a)\n",
        "print(a[3])\n",
        "print(a[3][0]) # 리스트[행][열]"
      ]
    },
    {
      "cell_type": "code",
      "execution_count": null,
      "id": "cbcc5df4",
      "metadata": {
        "id": "cbcc5df4",
        "outputId": "58ae0050-9abb-479a-d0cb-30e34aa22aa6"
      },
      "outputs": [
        {
          "name": "stdout",
          "output_type": "stream",
          "text": [
            "x = [10, 2, 3, 4, 5]\n",
            "y = [10, 2, 3, 4, 5]\n"
          ]
        }
      ],
      "source": [
        "# 리스트를 저장할 때 값 자체가 아니라 값이 위치한 메모리의 주소를 저장한다.\n",
        "x = [1, 2, 3, 4, 5]\n",
        "# 객체복사\n",
        "y = x # 깊은복사, 주소가 복사됨\n",
        "y[0] = 10\n",
        "print(\"x =\", x)\n",
        "print(\"y =\", y)"
      ]
    },
    {
      "cell_type": "code",
      "execution_count": null,
      "id": "2a7119d2",
      "metadata": {
        "id": "2a7119d2",
        "outputId": "c345c522-6fe6-4feb-d108-d7fb38c89adc"
      },
      "outputs": [
        {
          "name": "stdout",
          "output_type": "stream",
          "text": [
            "x = [1, 2, 3, 4, 5]\n",
            "y = [10, 2, 3, 4, 5]\n"
          ]
        }
      ],
      "source": [
        "x = [1, 2, 3, 4, 5]\n",
        "y = x[:] # slicing[start:stop]\n",
        "y[0] = 10\n",
        "print(\"x =\", x)\n",
        "print(\"y =\", y)"
      ]
    },
    {
      "cell_type": "code",
      "execution_count": null,
      "id": "8a8ee087",
      "metadata": {
        "id": "8a8ee087",
        "outputId": "adcd766d-f6a9-4e8f-ba07-244e13de09c6"
      },
      "outputs": [
        {
          "name": "stdout",
          "output_type": "stream",
          "text": [
            "[1, 2]\n"
          ]
        }
      ],
      "source": [
        "x = [1, 2 , 3, 4, 5]\n",
        "print(x[0:2]) # 0, 1"
      ]
    },
    {
      "cell_type": "code",
      "execution_count": null,
      "id": "b8ba972c",
      "metadata": {
        "id": "b8ba972c",
        "outputId": "56d68c10-a59d-43ec-87e3-2cd7f5b6f8f8"
      },
      "outputs": [
        {
          "name": "stdout",
          "output_type": "stream",
          "text": [
            "[1, 2, 3, 4, 5]\n"
          ]
        }
      ],
      "source": [
        "print(x[:])"
      ]
    },
    {
      "cell_type": "code",
      "execution_count": null,
      "id": "6f7f9a6e",
      "metadata": {
        "id": "6f7f9a6e",
        "outputId": "c9e2e7f3-c536-477a-fb1e-bdfc359e5e36"
      },
      "outputs": [
        {
          "name": "stdout",
          "output_type": "stream",
          "text": [
            "[1, 2, 3]\n"
          ]
        }
      ],
      "source": [
        "print(x[:3]) # 0, 1, 2"
      ]
    },
    {
      "cell_type": "code",
      "execution_count": null,
      "id": "5e98d47b",
      "metadata": {
        "id": "5e98d47b",
        "outputId": "39fe2717-ee68-4532-8b6b-4f6a34a20b56"
      },
      "outputs": [
        {
          "name": "stdout",
          "output_type": "stream",
          "text": [
            "[2, 3, 4, 5]\n"
          ]
        }
      ],
      "source": [
        "print(x[1:]) # 2, 3, 4, 5"
      ]
    },
    {
      "cell_type": "code",
      "execution_count": null,
      "id": "8628f884",
      "metadata": {
        "id": "8628f884",
        "outputId": "0afcd27c-2dc8-40c2-dac3-6a6ae776f125"
      },
      "outputs": [
        {
          "name": "stdout",
          "output_type": "stream",
          "text": [
            "c = [1, 2, 3, 5, 6, 7]\n",
            "d = None\n"
          ]
        }
      ],
      "source": [
        "# 리스트 연산: 더하기(+) 연산\n",
        "a = [1, 2, 3]\n",
        "b = [5, 6, 7]\n",
        "c = a + b # extend(확장)의 의미, 리스트가 가로로 연결된다.\n",
        "# d = a.extend(b)\n",
        "#d = a.extend([5, 6, 7])\n",
        "print(\"c =\", c)\n",
        "print(\"d =\", d)"
      ]
    },
    {
      "cell_type": "code",
      "source": [
        "a = [1, 2, 3]\n",
        "b = [5, 6, 7]\n",
        "d = a.extend(b)\n",
        "print(d)"
      ],
      "metadata": {
        "colab": {
          "base_uri": "https://localhost:8080/"
        },
        "id": "yHUrrSlmqv_b",
        "outputId": "3ae217fd-9069-4bc3-ec06-c93703c86101"
      },
      "id": "yHUrrSlmqv_b",
      "execution_count": 9,
      "outputs": [
        {
          "output_type": "stream",
          "name": "stdout",
          "text": [
            "None\n"
          ]
        }
      ]
    },
    {
      "cell_type": "code",
      "execution_count": null,
      "id": "810e1ee4",
      "metadata": {
        "id": "810e1ee4",
        "outputId": "38a74d19-fbba-46f9-a9c5-52a9314a84da"
      },
      "outputs": [
        {
          "ename": "AttributeError",
          "evalue": "'int' object has no attribute 'extend'",
          "output_type": "error",
          "traceback": [
            "\u001b[1;31m---------------------------------------------------------------------------\u001b[0m",
            "\u001b[1;31mAttributeError\u001b[0m                            Traceback (most recent call last)",
            "Input \u001b[1;32mIn [35]\u001b[0m, in \u001b[0;36m<cell line: 3>\u001b[1;34m()\u001b[0m\n\u001b[0;32m      1\u001b[0m \u001b[38;5;66;03m# a.exted(b) => a = a + b\u001b[39;00m\n\u001b[0;32m      2\u001b[0m d \u001b[38;5;241m=\u001b[39m \u001b[38;5;241m0\u001b[39m\n\u001b[1;32m----> 3\u001b[0m \u001b[43md\u001b[49m\u001b[38;5;241;43m.\u001b[39;49m\u001b[43mextend\u001b[49m(a, b)\n\u001b[0;32m      4\u001b[0m d\n",
            "\u001b[1;31mAttributeError\u001b[0m: 'int' object has no attribute 'extend'"
          ]
        }
      ],
      "source": [
        "# a.extend(b) => a = a + b"
      ]
    },
    {
      "cell_type": "code",
      "execution_count": null,
      "id": "c8ceb78f",
      "metadata": {
        "id": "c8ceb78f",
        "outputId": "b1b2c0b3-fbdf-4e5c-f773-717b82a77742"
      },
      "outputs": [
        {
          "data": {
            "text/plain": [
              "'hellopython'"
            ]
          },
          "execution_count": 36,
          "metadata": {},
          "output_type": "execute_result"
        }
      ],
      "source": [
        "# 문자열도 시퀀스 자료형\n",
        "# 문자열 + 문자열\n",
        "\"hello\" + \"python\""
      ]
    },
    {
      "cell_type": "code",
      "execution_count": null,
      "id": "9a5f550b",
      "metadata": {
        "id": "9a5f550b",
        "outputId": "6472fa2e-b6d2-4abe-d700-b247da898469"
      },
      "outputs": [
        {
          "data": {
            "text/plain": [
              "[1, 2, 3, 1, 2, 3, 1, 2, 3]"
            ]
          },
          "execution_count": 51,
          "metadata": {},
          "output_type": "execute_result"
        }
      ],
      "source": [
        "# 리스트 연산: 곱셈(*): 반복\n",
        "a = [1, 2, 3]\n",
        "b = a * 3\n",
        "b"
      ]
    },
    {
      "cell_type": "code",
      "execution_count": null,
      "id": "f74b5955",
      "metadata": {
        "id": "f74b5955",
        "outputId": "cfc9ff39-7708-48c7-dcde-2a13148696f2"
      },
      "outputs": [
        {
          "data": {
            "text/plain": [
              "'hellohellohello'"
            ]
          },
          "execution_count": 46,
          "metadata": {},
          "output_type": "execute_result"
        }
      ],
      "source": [
        "\"hello\" * 3"
      ]
    },
    {
      "cell_type": "code",
      "execution_count": null,
      "id": "9d91f7b3",
      "metadata": {
        "id": "9d91f7b3",
        "outputId": "2485ddb2-a3d8-4152-8b4e-90a1290a6562"
      },
      "outputs": [
        {
          "data": {
            "text/plain": [
              "[1, 2, 3]"
            ]
          },
          "execution_count": 52,
          "metadata": {},
          "output_type": "execute_result"
        }
      ],
      "source": [
        "a"
      ]
    },
    {
      "cell_type": "code",
      "execution_count": null,
      "id": "7e0cbdaf",
      "metadata": {
        "id": "7e0cbdaf",
        "outputId": "df0fc6e7-4beb-463c-87d0-a2242a35925c"
      },
      "outputs": [
        {
          "data": {
            "text/plain": [
              "[2]"
            ]
          },
          "execution_count": 53,
          "metadata": {},
          "output_type": "execute_result"
        }
      ],
      "source": [
        "a[1:2]"
      ]
    },
    {
      "cell_type": "code",
      "execution_count": null,
      "id": "f176e92c",
      "metadata": {
        "id": "f176e92c",
        "outputId": "9dd96467-5c45-4cbf-c064-50b76e817483"
      },
      "outputs": [
        {
          "data": {
            "text/plain": [
              "[1, 'a', 'b', 'c', 3]"
            ]
          },
          "execution_count": 54,
          "metadata": {},
          "output_type": "execute_result"
        }
      ],
      "source": [
        "a[1:2] = ['a', 'b', 'c']\n",
        "a"
      ]
    },
    {
      "cell_type": "code",
      "execution_count": null,
      "id": "c4922510",
      "metadata": {
        "id": "c4922510",
        "outputId": "7c9eb004-8be1-400b-cfc2-8f4589ab9c5a"
      },
      "outputs": [
        {
          "data": {
            "text/plain": [
              "[1]"
            ]
          },
          "execution_count": 55,
          "metadata": {},
          "output_type": "execute_result"
        }
      ],
      "source": [
        "a = [1, 2, 3]\n",
        "a[1:3] = [] # 인덱스 1과 2번째 값을 삭제\n",
        "a"
      ]
    },
    {
      "cell_type": "code",
      "execution_count": null,
      "id": "f2d7c214",
      "metadata": {
        "id": "f2d7c214",
        "outputId": "727a7eae-0bc6-4f33-9d25-2f63a0f5e25e"
      },
      "outputs": [
        {
          "data": {
            "text/plain": [
              "[1, 3]"
            ]
          },
          "execution_count": 56,
          "metadata": {},
          "output_type": "execute_result"
        }
      ],
      "source": [
        "a = [1, 2, 3]\n",
        "del a[1]\n",
        "a"
      ]
    },
    {
      "cell_type": "code",
      "execution_count": null,
      "id": "858d6d37",
      "metadata": {
        "id": "858d6d37",
        "outputId": "344eb9eb-64f9-47ba-e5d6-334a06554752"
      },
      "outputs": [
        {
          "name": "stdout",
          "output_type": "stream",
          "text": [
            "[1, 2, 3, 4]\n"
          ]
        }
      ],
      "source": [
        "a = [1, 4, 2, 3]\n",
        "a.sort() # 오름차순\n",
        "print(a)"
      ]
    },
    {
      "cell_type": "code",
      "execution_count": null,
      "id": "346dab83",
      "metadata": {
        "id": "346dab83",
        "outputId": "5f4fc314-a124-4f74-8416-da68777db0ae"
      },
      "outputs": [
        {
          "name": "stdout",
          "output_type": "stream",
          "text": [
            "[3, 2, 4, 1]\n"
          ]
        }
      ],
      "source": [
        "a = [1, 4, 2, 3]\n",
        "a.reverse() # 뒤집어라\n",
        "print(a)"
      ]
    },
    {
      "cell_type": "code",
      "execution_count": null,
      "id": "5b865537",
      "metadata": {
        "id": "5b865537",
        "outputId": "8173d60b-3054-4a16-cbe4-d34f9101d395"
      },
      "outputs": [
        {
          "name": "stdout",
          "output_type": "stream",
          "text": [
            "[4, 3, 2, 1]\n"
          ]
        }
      ],
      "source": [
        "a = [1, 4, 2, 3]\n",
        "a.sort() # 오름차순하라\n",
        "a.reverse() # 뒤집어라\n",
        "print(a)"
      ]
    },
    {
      "cell_type": "code",
      "execution_count": null,
      "id": "ed3de5e5",
      "metadata": {
        "id": "ed3de5e5",
        "outputId": "decdfc0d-bf49-4aa6-cd7a-6be0029bfffe"
      },
      "outputs": [
        {
          "data": {
            "text/plain": [
              "[4, 3, 2, 1]"
            ]
          },
          "execution_count": 61,
          "metadata": {},
          "output_type": "execute_result"
        }
      ],
      "source": [
        "a = [1, 4, 2, 3]\n",
        "a.sort(reverse = True) # 내림차순\n",
        "a"
      ]
    },
    {
      "cell_type": "code",
      "execution_count": null,
      "id": "9a2c4086",
      "metadata": {
        "id": "9a2c4086",
        "outputId": "7f868ee9-7ea8-49eb-9b76-940b59224405"
      },
      "outputs": [
        {
          "data": {
            "text/plain": [
              "['a', 'b', 'c', 'd']"
            ]
          },
          "execution_count": 62,
          "metadata": {},
          "output_type": "execute_result"
        }
      ],
      "source": [
        "a = ['a', 'd', 'b', 'c'] # 사전순 = 알파벳순으로\n",
        "a.sort()\n",
        "a"
      ]
    },
    {
      "cell_type": "code",
      "execution_count": null,
      "id": "243ac7d6",
      "metadata": {
        "id": "243ac7d6",
        "outputId": "abc3f5a0-4e91-4b6b-c7f8-3eac79f54e5c"
      },
      "outputs": [
        {
          "name": "stdout",
          "output_type": "stream",
          "text": [
            "2\n"
          ]
        }
      ],
      "source": [
        "a = [1, 2, 3, 4, 5]\n",
        "print(a.index(3)) # 3이란 값이 몇 번째 위치에 있는가?"
      ]
    },
    {
      "cell_type": "code",
      "execution_count": null,
      "id": "5ef49954",
      "metadata": {
        "id": "5ef49954",
        "outputId": "e72d5b82-18b7-4b45-e887-c358b4fbed40"
      },
      "outputs": [
        {
          "ename": "ValueError",
          "evalue": "'h' is not in list",
          "output_type": "error",
          "traceback": [
            "\u001b[1;31m---------------------------------------------------------------------------\u001b[0m",
            "\u001b[1;31mValueError\u001b[0m                                Traceback (most recent call last)",
            "Input \u001b[1;32mIn [65]\u001b[0m, in \u001b[0;36m<cell line: 2>\u001b[1;34m()\u001b[0m\n\u001b[0;32m      1\u001b[0m b \u001b[38;5;241m=\u001b[39m [\u001b[38;5;124m'\u001b[39m\u001b[38;5;124ma\u001b[39m\u001b[38;5;124m'\u001b[39m, \u001b[38;5;124m'\u001b[39m\u001b[38;5;124mb\u001b[39m\u001b[38;5;124m'\u001b[39m, \u001b[38;5;124m'\u001b[39m\u001b[38;5;124mc\u001b[39m\u001b[38;5;124m'\u001b[39m]\n\u001b[1;32m----> 2\u001b[0m \u001b[38;5;28mprint\u001b[39m(\u001b[43mb\u001b[49m\u001b[38;5;241;43m.\u001b[39;49m\u001b[43mindex\u001b[49m\u001b[43m(\u001b[49m\u001b[38;5;124;43m'\u001b[39;49m\u001b[38;5;124;43mh\u001b[39;49m\u001b[38;5;124;43m'\u001b[39;49m\u001b[43m)\u001b[49m)\n",
            "\u001b[1;31mValueError\u001b[0m: 'h' is not in list"
          ]
        }
      ],
      "source": [
        "b = ['a', 'b', 'c']\n",
        "print(b.index('h')) # 없는 데이터의 위치를 찾으면 에러 발생"
      ]
    },
    {
      "cell_type": "code",
      "execution_count": null,
      "id": "a463b73e",
      "metadata": {
        "id": "a463b73e",
        "outputId": "31daa891-c1bd-43aa-c853-373ffecbef26"
      },
      "outputs": [
        {
          "name": "stdout",
          "output_type": "stream",
          "text": [
            "[4, 1, 2, 3]\n"
          ]
        }
      ],
      "source": [
        "a = [1, 2, 3]\n",
        "a.insert(0, 4)\n",
        "print(a)"
      ]
    },
    {
      "cell_type": "code",
      "execution_count": null,
      "id": "1523fc99",
      "metadata": {
        "id": "1523fc99",
        "outputId": "6a21e5b8-ed6c-40bd-a342-a291660174b5"
      },
      "outputs": [
        {
          "name": "stdout",
          "output_type": "stream",
          "text": [
            "[1, 2, 1, 2, 3]\n"
          ]
        }
      ],
      "source": [
        "a = [1, 2, 3, 1, 2, 3]\n",
        "# 값이 3인 요소 삭제(1개만)\n",
        "a.remove(3) # 값으로 삭제\n",
        "print(a)"
      ]
    },
    {
      "cell_type": "code",
      "execution_count": null,
      "id": "68b4af85",
      "metadata": {
        "id": "68b4af85",
        "outputId": "4cb93fb9-7648-4853-9986-47576b3d442b"
      },
      "outputs": [
        {
          "data": {
            "text/plain": [
              "[2, 1, 2, 3]"
            ]
          },
          "execution_count": 71,
          "metadata": {},
          "output_type": "execute_result"
        }
      ],
      "source": [
        "del a[0] # 인덱스로 삭제\n",
        "a"
      ]
    },
    {
      "cell_type": "code",
      "execution_count": null,
      "id": "3d3fed0f",
      "metadata": {
        "id": "3d3fed0f",
        "outputId": "fb9b1fa3-abb9-4ad9-e92f-463812d37971"
      },
      "outputs": [
        {
          "name": "stdout",
          "output_type": "stream",
          "text": [
            "[1, 2]\n",
            "3\n"
          ]
        }
      ],
      "source": [
        "a = [1, 2, 3]\n",
        "b = a.pop() # 리스트의 마지막 요소를 추출\n",
        "print(a)\n",
        "print(b)"
      ]
    },
    {
      "cell_type": "code",
      "execution_count": null,
      "id": "8f8dfd73",
      "metadata": {
        "id": "8f8dfd73",
        "outputId": "4712c5e3-a49a-4051-fb96-71c1b648837e"
      },
      "outputs": [
        {
          "name": "stdout",
          "output_type": "stream",
          "text": [
            "3\n"
          ]
        }
      ],
      "source": [
        "# 요소의 개수(건수)\n",
        "a = [1, 2, 3, 1, 2, 1]\n",
        "b = a.count(1) # 값이 1인 요소가 몇개인지 계산하는 함수\n",
        "print(b)"
      ]
    },
    {
      "cell_type": "code",
      "execution_count": null,
      "id": "ecf1db14",
      "metadata": {
        "id": "ecf1db14",
        "outputId": "6612e709-7386-4bff-e12e-72a9839993eb"
      },
      "outputs": [
        {
          "name": "stdout",
          "output_type": "stream",
          "text": [
            "[1, 2, 3, 4, 5]\n"
          ]
        }
      ],
      "source": [
        "# 리스트의 확장\n",
        "a = [1, 2, 3]\n",
        "# 리스트1.extend(리스트2) > 리스트 1이 확장\n",
        "a.extend([4, 5]) # 여기는 리스트가 와야 한다\n",
        "# ex) a.extend(6)으로 쓸 경우 실행 x\n",
        "print(a)"
      ]
    },
    {
      "cell_type": "code",
      "execution_count": null,
      "id": "71a5a51f",
      "metadata": {
        "id": "71a5a51f",
        "outputId": "b5a97dc0-31ae-4590-f366-75ebbaf7f054"
      },
      "outputs": [
        {
          "name": "stdout",
          "output_type": "stream",
          "text": [
            "[1, 2, 3, 4, 5, 7, 8]\n"
          ]
        }
      ],
      "source": [
        "b = [7, 8]\n",
        "print(a + b)"
      ]
    },
    {
      "cell_type": "code",
      "execution_count": null,
      "id": "fce17dfb",
      "metadata": {
        "id": "fce17dfb",
        "outputId": "c1fe8ca0-11d6-4707-e91a-e0a734e36cbd"
      },
      "outputs": [
        {
          "name": "stdout",
          "output_type": "stream",
          "text": [
            "True\n",
            "False\n"
          ]
        }
      ],
      "source": [
        "# 값 in 리스트, 값 not in 리스트 => 결과는 True or False\n",
        "a = [1, 2, 3, 4, 5]\n",
        "result = 2 in a # 있으면 True, 없으면 False\n",
        "print(result)\n",
        "\n",
        "result = 2 not in a # 없으면 True, 있으면 False\n",
        "print(result)"
      ]
    },
    {
      "cell_type": "markdown",
      "id": "9523fbd1",
      "metadata": {
        "id": "9523fbd1"
      },
      "source": [
        "# 튜플(Tuple)"
      ]
    },
    {
      "cell_type": "code",
      "execution_count": null,
      "id": "a38ebaaa",
      "metadata": {
        "id": "a38ebaaa",
        "outputId": "5afa2d52-ea56-442d-bee1-113d79378428"
      },
      "outputs": [
        {
          "name": "stdout",
          "output_type": "stream",
          "text": [
            "(1, 2, 'a', 'b')\n",
            "<class 'tuple'>\n",
            "1\n",
            "b\n"
          ]
        }
      ],
      "source": [
        "t1 = (1, 2, 'a', 'b')\n",
        "print(t1)\n",
        "print(type(t1))\n",
        "print(t1[0])\n",
        "print(t1[-1])\n",
        "\n",
        "# t1[0] = 'c' # 튜플은 변경 불가능, 에러 발생"
      ]
    },
    {
      "cell_type": "code",
      "execution_count": null,
      "id": "1b203f2b",
      "metadata": {
        "id": "1b203f2b",
        "outputId": "5f9e4a9b-2176-45a0-e7e5-134d0d02d821"
      },
      "outputs": [
        {
          "ename": "TypeError",
          "evalue": "'tuple' object doesn't support item deletion",
          "output_type": "error",
          "traceback": [
            "\u001b[1;31m---------------------------------------------------------------------------\u001b[0m",
            "\u001b[1;31mTypeError\u001b[0m                                 Traceback (most recent call last)",
            "Input \u001b[1;32mIn [86]\u001b[0m, in \u001b[0;36m<cell line: 1>\u001b[1;34m()\u001b[0m\n\u001b[1;32m----> 1\u001b[0m \u001b[38;5;28;01mdel\u001b[39;00m t1[\u001b[38;5;241m0\u001b[39m]\n",
            "\u001b[1;31mTypeError\u001b[0m: 'tuple' object doesn't support item deletion"
          ]
        }
      ],
      "source": [
        "# 튜플은 변경, 삭제가 불가능하다.\n",
        "del t1[0]"
      ]
    },
    {
      "cell_type": "code",
      "execution_count": null,
      "id": "36728251",
      "metadata": {
        "id": "36728251",
        "outputId": "823289f9-c4e4-485e-eb10-1cd8bdb42ebe"
      },
      "outputs": [
        {
          "name": "stdout",
          "output_type": "stream",
          "text": [
            "(2, 'a', 'b')\n",
            "(1, 2, 'a', 'b', 3, 4)\n"
          ]
        }
      ],
      "source": [
        "t1 = (1, 2, 'a', 'b')\n",
        "print(t1[1:])\n",
        "t2 = (3, 4)\n",
        "print(t1 + t2)"
      ]
    },
    {
      "cell_type": "code",
      "execution_count": null,
      "id": "7ff724ae",
      "metadata": {
        "id": "7ff724ae",
        "outputId": "c7dce801-b049-4b3b-f1e7-aa1aeae3ff5a"
      },
      "outputs": [
        {
          "name": "stdout",
          "output_type": "stream",
          "text": [
            "t1 = (1, 2, 'a', 'b', 3, 4)\n"
          ]
        }
      ],
      "source": [
        "t1 = t1 + t2 # 이렇게 하면 새로운 튜플 t1이 생성된단 의미로 이해해야 한다(변경, 수정이 아님)\n",
        "print(\"t1 =\", t1)"
      ]
    },
    {
      "cell_type": "code",
      "execution_count": null,
      "id": "a34999cf",
      "metadata": {
        "id": "a34999cf",
        "outputId": "0fa39ed6-bd0d-478d-9173-aa3bfaad5e37"
      },
      "outputs": [
        {
          "name": "stdout",
          "output_type": "stream",
          "text": [
            "(1, 2, 'a', 'b', 3, 4, 1, 2, 'a', 'b', 3, 4, 1, 2, 'a', 'b', 3, 4)\n"
          ]
        }
      ],
      "source": [
        "print(t1 * 3)"
      ]
    },
    {
      "cell_type": "code",
      "execution_count": null,
      "id": "46aca9d2",
      "metadata": {
        "id": "46aca9d2",
        "outputId": "0a5abb2f-ffe3-4983-d1bb-efea8733ba55"
      },
      "outputs": [
        {
          "name": "stdout",
          "output_type": "stream",
          "text": [
            "a = 20 b = 10\n"
          ]
        }
      ],
      "source": [
        "# 파이썬의 기본 자료형 튜플\n",
        "a = 10\n",
        "b = 20\n",
        "a, b = b, a # (b, a)의 구조와 동일하고 그 것을 언패킹 해서 a, b에 담는 것과 같다.\n",
        "print(\"a =\", a, \"b =\", b)"
      ]
    },
    {
      "cell_type": "code",
      "execution_count": null,
      "id": "81f728e4",
      "metadata": {
        "id": "81f728e4",
        "outputId": "9327f037-c547-48b1-9366-e95029831456"
      },
      "outputs": [
        {
          "name": "stdout",
          "output_type": "stream",
          "text": [
            "1 2 3\n",
            "1 2\n",
            "2 1\n"
          ]
        }
      ],
      "source": [
        "# packing(패킹): 여러개의 값을 하나의 변수에 저장하는 것\n",
        "t1 = (1, 2, 3)\n",
        "\n",
        "# unpacking: 하나의 변수에 담은 값을 각각의 변수에 할당하는 것\n",
        "# 데이터의 개수와 변수의 개수는 반드시 일치해야 한다.\n",
        "n1, n2, n3 = t1\n",
        "\n",
        "# 출력형식이 포함된 문자열.format(값1, 값2, 값3)\n",
        "\"{0} {1} {2}\".format(n1, n2, n3)\n",
        "print(\"{0} {1} {2}\".format(n1, n2, n3))\n",
        "\n",
        "# 변수의 값을 교환\n",
        "n1, n2 = n2, n1\n",
        "print(\"{1} {0}\".format(n1, n2))\n",
        "print(\"{0} {1}\".format(n1, n2))"
      ]
    },
    {
      "cell_type": "code",
      "execution_count": null,
      "id": "6890d3f1",
      "metadata": {
        "id": "6890d3f1",
        "outputId": "6263d7b6-9b2f-410a-c291-d73477df2e96"
      },
      "outputs": [
        {
          "name": "stdout",
          "output_type": "stream",
          "text": [
            "[1, 2, 3]\n",
            "('x', 'y', 'z')\n"
          ]
        }
      ],
      "source": [
        "# 형변환: int(), float(), str()\n",
        "# 자료구조의 형변환: list(), tuple()\n",
        "my_list = [1, 2, 3]\n",
        "my_tuple = ('x', 'y', 'z')\n",
        "print(my_list)\n",
        "print(my_tuple)"
      ]
    },
    {
      "cell_type": "code",
      "execution_count": null,
      "id": "2e4bf2d9",
      "metadata": {
        "id": "2e4bf2d9",
        "outputId": "7a4b567c-bc09-4350-8f5a-9cd3daceb5c4"
      },
      "outputs": [
        {
          "name": "stdout",
          "output_type": "stream",
          "text": [
            "(1, 2, 3)\n",
            "['x', 'y', 'z']\n"
          ]
        }
      ],
      "source": [
        "print(tuple(my_list))\n",
        "print(list(my_tuple))"
      ]
    },
    {
      "cell_type": "markdown",
      "id": "e0596c8b",
      "metadata": {
        "id": "e0596c8b"
      },
      "source": [
        "# 딕셔너리"
      ]
    },
    {
      "cell_type": "code",
      "execution_count": null,
      "id": "b999d5a8",
      "metadata": {
        "id": "b999d5a8",
        "outputId": "d9f28896-847f-41fb-c618-49e41b15c2f5"
      },
      "outputs": [
        {
          "name": "stdout",
          "output_type": "stream",
          "text": [
            "{1: 'a'}\n",
            "<class 'dict'>\n"
          ]
        }
      ],
      "source": [
        "# 딕셔너리{key:value, key:value, key:value}\n",
        "# key는 숫자 인덱스보다 문자 인덱스를 선호(권장)\n",
        "# key 중복 불가능\n",
        "a = {1:'a'}\n",
        "print(a)\n",
        "print(type(a))"
      ]
    },
    {
      "cell_type": "code",
      "execution_count": null,
      "id": "50f22f04",
      "metadata": {
        "id": "50f22f04",
        "outputId": "b10dc57b-431e-4443-f790-eced9598fb23"
      },
      "outputs": [
        {
          "name": "stdout",
          "output_type": "stream",
          "text": [
            "{1: 'a', 2: 'b'}\n"
          ]
        }
      ],
      "source": [
        "# 사전에 아이템(item)\n",
        "a[2] = 'b' # 딕셔너리의 key가 2라는건데 인덱스 2로 착각하기 쉽기에 문자를 선호한다.\n",
        "print(a)"
      ]
    },
    {
      "cell_type": "code",
      "execution_count": null,
      "id": "b3b5b80a",
      "metadata": {
        "id": "b3b5b80a",
        "outputId": "a55360bb-2071-4278-d3c1-d7003f38f1ae"
      },
      "outputs": [
        {
          "name": "stdout",
          "output_type": "stream",
          "text": [
            "{'name': '홍길동', 'phone': '010-1234-5678', 'age': 23}\n"
          ]
        }
      ],
      "source": [
        "stu = {'name':'홍길동', 'phone':'010-1234-5678', 'age':23}\n",
        "print(stu)"
      ]
    },
    {
      "cell_type": "code",
      "execution_count": null,
      "id": "04d87c4c",
      "metadata": {
        "id": "04d87c4c",
        "outputId": "520b77c3-d135-4da9-fa95-e5c5167afd98"
      },
      "outputs": [
        {
          "name": "stdout",
          "output_type": "stream",
          "text": [
            "홍길동\n",
            "홍길동\n",
            "23\n",
            "23\n"
          ]
        }
      ],
      "source": [
        "# 키를 이용해서 값을 조회\n",
        "print(stu['name']) # 딕셔너리[key]\n",
        "print(stu.get('name')) #딕셔너리.get(key)\n",
        "\n",
        "print(stu['age']) # 딕셔너리[key]\n",
        "print(stu.get('age')) #딕셔너리.get(key)"
      ]
    },
    {
      "cell_type": "code",
      "execution_count": null,
      "id": "92928278",
      "metadata": {
        "id": "92928278",
        "outputId": "adeaaddd-9883-4bdd-ace0-13607a52e154"
      },
      "outputs": [
        {
          "data": {
            "text/plain": [
              "dict_keys(['name', 'phone', 'age'])"
            ]
          },
          "execution_count": 120,
          "metadata": {},
          "output_type": "execute_result"
        }
      ],
      "source": [
        "# keys 조회\n",
        "stu.keys() # 리스트형으로 출력된다."
      ]
    },
    {
      "cell_type": "code",
      "execution_count": null,
      "id": "2dbc58eb",
      "metadata": {
        "id": "2dbc58eb",
        "outputId": "f6031700-522f-44de-eee4-75d5991c194c"
      },
      "outputs": [
        {
          "data": {
            "text/plain": [
              "dict_values(['홍길동', '010-1234-5678', 23])"
            ]
          },
          "execution_count": 121,
          "metadata": {},
          "output_type": "execute_result"
        }
      ],
      "source": [
        "# vlaues 조회\n",
        "#stu.values() # 리스트형으로 출력된다."
      ]
    },
    {
      "cell_type": "code",
      "execution_count": null,
      "id": "df43ee09",
      "metadata": {
        "id": "df43ee09",
        "outputId": "10614441-b971-4d12-bccc-1b763027f71b"
      },
      "outputs": [
        {
          "data": {
            "text/plain": [
              "dict_items([('name', '홍길동'), ('phone', '010-1234-5678'), ('age', 23)])"
            ]
          },
          "execution_count": 126,
          "metadata": {},
          "output_type": "execute_result"
        }
      ],
      "source": [
        "# items\n",
        "stu.items()"
      ]
    },
    {
      "cell_type": "code",
      "execution_count": null,
      "id": "329d23f5",
      "metadata": {
        "id": "329d23f5",
        "outputId": "0d0657dd-1661-4d6e-fff2-9aa586fbf357"
      },
      "outputs": [
        {
          "name": "stdout",
          "output_type": "stream",
          "text": [
            "name ==> 홍길동\n",
            "phone ==> 010-1234-5678\n",
            "age ==> 23\n"
          ]
        }
      ],
      "source": [
        "# for 개별변수 in 집합변수\n",
        "for k in stu.keys(): # for k in ['name', 'phone', 'age']\n",
        "    print(k, \"==>\", stu[k])"
      ]
    },
    {
      "cell_type": "code",
      "execution_count": null,
      "id": "8a9c7dcf",
      "metadata": {
        "id": "8a9c7dcf",
        "outputId": "c57bfc35-b2d6-4328-b5f9-ade069dfa9c5"
      },
      "outputs": [
        {
          "name": "stdout",
          "output_type": "stream",
          "text": [
            "['name', 'phone', 'age']\n"
          ]
        }
      ],
      "source": [
        "b = list(stu.keys()) # 리스트 형태긴 한데 순수한 리스트가 아니라서 리스트 형변환을 해줘야 한다\n",
        "print(b)"
      ]
    },
    {
      "cell_type": "code",
      "execution_count": null,
      "id": "af35a9dc",
      "metadata": {
        "id": "af35a9dc",
        "outputId": "e9cd1d41-d329-4b64-9e1b-01be0b6ff984"
      },
      "outputs": [
        {
          "name": "stdout",
          "output_type": "stream",
          "text": [
            "['홍길동', '010-1234-5678', 23]\n"
          ]
        }
      ],
      "source": [
        "c = list(stu.values())\n",
        "print(c)"
      ]
    },
    {
      "cell_type": "code",
      "execution_count": null,
      "id": "fcda7e59",
      "metadata": {
        "id": "fcda7e59",
        "outputId": "0b330dae-0d45-4fb1-d07f-174bef34867c"
      },
      "outputs": [
        {
          "name": "stdout",
          "output_type": "stream",
          "text": [
            "[('name', '홍길동'), ('phone', '010-1234-5678'), ('age', 23)]\n"
          ]
        }
      ],
      "source": [
        "d = list(stu.items())\n",
        "print(d)"
      ]
    },
    {
      "cell_type": "code",
      "execution_count": null,
      "id": "d7377a5e",
      "metadata": {
        "id": "d7377a5e",
        "outputId": "4a1ce369-d25b-48af-c94c-21db16ef9359"
      },
      "outputs": [
        {
          "name": "stdout",
          "output_type": "stream",
          "text": [
            "<class 'list'>\n"
          ]
        }
      ],
      "source": [
        "print(type(d))"
      ]
    },
    {
      "cell_type": "code",
      "execution_count": null,
      "id": "f6a4d533",
      "metadata": {
        "id": "f6a4d533",
        "outputId": "9a087fe1-8df9-4626-ffa8-2ebde046f718"
      },
      "outputs": [
        {
          "name": "stdout",
          "output_type": "stream",
          "text": [
            "('name', '홍길동')\n"
          ]
        }
      ],
      "source": [
        "print(d[0])"
      ]
    },
    {
      "cell_type": "code",
      "execution_count": null,
      "id": "043a1d17",
      "metadata": {
        "id": "043a1d17",
        "outputId": "77d7a1aa-ac1e-4f86-8701-6ae893b32cb0"
      },
      "outputs": [
        {
          "name": "stdout",
          "output_type": "stream",
          "text": [
            "홍길동\n"
          ]
        }
      ],
      "source": [
        "print(d[0][1])"
      ]
    },
    {
      "cell_type": "code",
      "execution_count": null,
      "id": "7089cca4",
      "metadata": {
        "id": "7089cca4",
        "outputId": "f85300c4-b045-4cbd-8a8a-810e96097962"
      },
      "outputs": [
        {
          "name": "stdout",
          "output_type": "stream",
          "text": [
            "name ==> 홍길동\n",
            "phone ==> 010-1234-5678\n",
            "age ==> 23\n"
          ]
        }
      ],
      "source": [
        "for k, v in stu.items():\n",
        "    print(k, \"==>\", v)"
      ]
    },
    {
      "cell_type": "code",
      "execution_count": null,
      "id": "c54ad6d3",
      "metadata": {
        "id": "c54ad6d3",
        "outputId": "aea24d78-f494-4dae-9b81-f45c199aa668"
      },
      "outputs": [
        {
          "name": "stdout",
          "output_type": "stream",
          "text": [
            "('name', '홍길동')\n",
            "('phone', '010-1234-5678')\n",
            "('age', 23)\n"
          ]
        }
      ],
      "source": [
        "for k in stu.items():\n",
        "    print(k)"
      ]
    },
    {
      "cell_type": "code",
      "execution_count": null,
      "id": "f45573bb",
      "metadata": {
        "id": "f45573bb",
        "outputId": "4dcce342-22e1-4efc-f474-fd6f6da5dae2"
      },
      "outputs": [
        {
          "name": "stdout",
          "output_type": "stream",
          "text": [
            "{'name': '홍길동', 'phone': '010-1234-5678', 'age': 23, 'weight': 67.4}\n"
          ]
        }
      ],
      "source": [
        "# 새로운 item 추가\n",
        "stu['weight'] = 67.4\n",
        "print(stu)"
      ]
    },
    {
      "cell_type": "code",
      "execution_count": null,
      "id": "fce64983",
      "metadata": {
        "id": "fce64983",
        "outputId": "4dcb31ab-d36c-4912-b43e-420e803e22cf"
      },
      "outputs": [
        {
          "data": {
            "text/plain": [
              "True"
            ]
          },
          "execution_count": 142,
          "metadata": {},
          "output_type": "execute_result"
        }
      ],
      "source": [
        "'weight' in stu"
      ]
    },
    {
      "cell_type": "code",
      "execution_count": null,
      "id": "9e15b0e7",
      "metadata": {
        "id": "9e15b0e7",
        "outputId": "3a03bf3d-61ed-478f-d332-4f42a5771e56"
      },
      "outputs": [
        {
          "data": {
            "text/plain": [
              "False"
            ]
          },
          "execution_count": 146,
          "metadata": {},
          "output_type": "execute_result"
        }
      ],
      "source": [
        "'홍길동' in stu"
      ]
    },
    {
      "cell_type": "code",
      "execution_count": null,
      "id": "abd8b5a7",
      "metadata": {
        "id": "abd8b5a7",
        "outputId": "c6bfef77-4644-4514-dd2a-8e13e0497a9d"
      },
      "outputs": [
        {
          "data": {
            "text/plain": [
              "True"
            ]
          },
          "execution_count": 145,
          "metadata": {},
          "output_type": "execute_result"
        }
      ],
      "source": [
        "'홍길동' in stu.values()"
      ]
    },
    {
      "cell_type": "markdown",
      "id": "92c7736a",
      "metadata": {
        "id": "92c7736a"
      },
      "source": [
        "# 집합(set)"
      ]
    },
    {
      "cell_type": "code",
      "execution_count": null,
      "id": "8b8c0ea1",
      "metadata": {
        "id": "8b8c0ea1",
        "outputId": "e1681432-1b83-4b6d-dca1-ccd4dbc4293f"
      },
      "outputs": [
        {
          "data": {
            "text/plain": [
              "{1, 2, 3, 4, 5}"
            ]
          },
          "execution_count": 152,
          "metadata": {},
          "output_type": "execute_result"
        }
      ],
      "source": [
        "# 집합 자료형: 중복값은 허용하지 않으며, 입력 순서대로 저장되지 않는다.\n",
        "s1 = set([5, 4, 3, 2, 1, 2, 3, 2, 3, 4, 5])\n",
        "s1"
      ]
    },
    {
      "cell_type": "code",
      "execution_count": null,
      "id": "9d533374",
      "metadata": {
        "id": "9d533374",
        "outputId": "985f1127-9e91-4248-9fce-843b2ee3d491"
      },
      "outputs": [
        {
          "name": "stdout",
          "output_type": "stream",
          "text": [
            "교집합: {4, 5, 6}\n",
            "합집합: {1, 2, 3, 4, 5, 6, 7, 8, 9}\n",
            "차집합: {1, 2, 3}\n"
          ]
        }
      ],
      "source": [
        "s1 = set([1, 2, 3, 4, 5, 6])\n",
        "s2 = set([4, 5, 6, 7, 8, 9])\n",
        "\n",
        "# 교집합, &\n",
        "a = s1 & s2\n",
        "print(\"교집합:\", a)\n",
        "\n",
        "# 합집합, |\n",
        "b = s1 | s2\n",
        "print(\"합집합:\", b)\n",
        "\n",
        "# 차집합, -\n",
        "c = s1 - s2\n",
        "print(\"차집합:\", c)"
      ]
    },
    {
      "cell_type": "code",
      "execution_count": null,
      "id": "26a201b2",
      "metadata": {
        "id": "26a201b2",
        "outputId": "d5c6c847-bccf-41a9-c53f-019adaf3e47b"
      },
      "outputs": [
        {
          "name": "stdout",
          "output_type": "stream",
          "text": [
            "교집합: {4, 5, 6}\n",
            "합집합: {1, 2, 3, 4, 5, 6, 7, 8, 9}\n",
            "차집합: {1, 2, 3}\n"
          ]
        }
      ],
      "source": [
        "print(\"교집합:\", s1.intersection(s2))\n",
        "print(\"합집합:\", s1.union(s2))\n",
        "print(\"차집합:\", s1.difference(s2))"
      ]
    },
    {
      "cell_type": "code",
      "execution_count": null,
      "id": "5d53edde",
      "metadata": {
        "id": "5d53edde",
        "outputId": "d7c18c37-9854-4096-ef59-c18900587f71"
      },
      "outputs": [
        {
          "name": "stdout",
          "output_type": "stream",
          "text": [
            "{1, 2, 3, 4}\n"
          ]
        },
        {
          "ename": "TypeError",
          "evalue": "set.add() takes exactly one argument (2 given)",
          "output_type": "error",
          "traceback": [
            "\u001b[1;31m---------------------------------------------------------------------------\u001b[0m",
            "\u001b[1;31mTypeError\u001b[0m                                 Traceback (most recent call last)",
            "Input \u001b[1;32mIn [157]\u001b[0m, in \u001b[0;36m<cell line: 5>\u001b[1;34m()\u001b[0m\n\u001b[0;32m      3\u001b[0m s1\u001b[38;5;241m.\u001b[39madd(\u001b[38;5;241m4\u001b[39m)\n\u001b[0;32m      4\u001b[0m \u001b[38;5;28mprint\u001b[39m(s1)\n\u001b[1;32m----> 5\u001b[0m \u001b[43ms1\u001b[49m\u001b[38;5;241;43m.\u001b[39;49m\u001b[43madd\u001b[49m\u001b[43m(\u001b[49m\u001b[38;5;241;43m4\u001b[39;49m\u001b[43m,\u001b[49m\u001b[43m \u001b[49m\u001b[38;5;241;43m5\u001b[39;49m\u001b[43m)\u001b[49m\n\u001b[0;32m      6\u001b[0m \u001b[38;5;28mprint\u001b[39m(s1)\n",
            "\u001b[1;31mTypeError\u001b[0m: set.add() takes exactly one argument (2 given)"
          ]
        }
      ],
      "source": [
        "s1 = set([1, 2, 3])\n",
        "# 요소 추가를 append가 아닌 add를 쓴다\n",
        "s1.add(4)\n",
        "print(s1)\n",
        "s1.add(4, 5) #1개만 추가 할 수 있다 이대로라면 오류남\n",
        "print(s1) "
      ]
    },
    {
      "cell_type": "code",
      "execution_count": null,
      "id": "f74cea2f",
      "metadata": {
        "id": "f74cea2f",
        "outputId": "f549386c-b049-4868-fb28-b67af528a121"
      },
      "outputs": [
        {
          "name": "stdout",
          "output_type": "stream",
          "text": [
            "{1, 2, 3, 4}\n"
          ]
        }
      ],
      "source": [
        "s1.add(4)\n",
        "print(s1)"
      ]
    },
    {
      "cell_type": "code",
      "execution_count": null,
      "id": "5e42d565",
      "metadata": {
        "id": "5e42d565",
        "outputId": "9e91e1f8-d83b-4121-f716-99547ee34601"
      },
      "outputs": [
        {
          "name": "stdout",
          "output_type": "stream",
          "text": [
            "{1, 2, 3, 4, 5}\n"
          ]
        }
      ],
      "source": [
        "s1.add(5)\n",
        "print(s1)"
      ]
    },
    {
      "cell_type": "code",
      "execution_count": null,
      "id": "633ee7c8",
      "metadata": {
        "id": "633ee7c8",
        "outputId": "f8e0650f-2ad1-4e06-f894-f4b3c6db8376"
      },
      "outputs": [
        {
          "ename": "TypeError",
          "evalue": "'int' object is not iterable",
          "output_type": "error",
          "traceback": [
            "\u001b[1;31m---------------------------------------------------------------------------\u001b[0m",
            "\u001b[1;31mTypeError\u001b[0m                                 Traceback (most recent call last)",
            "Input \u001b[1;32mIn [162]\u001b[0m, in \u001b[0;36m<cell line: 2>\u001b[1;34m()\u001b[0m\n\u001b[0;32m      1\u001b[0m s1 \u001b[38;5;241m=\u001b[39m \u001b[38;5;28mset\u001b[39m([\u001b[38;5;241m1\u001b[39m, \u001b[38;5;241m2\u001b[39m, \u001b[38;5;241m3\u001b[39m])\n\u001b[1;32m----> 2\u001b[0m \u001b[43ms1\u001b[49m\u001b[38;5;241;43m.\u001b[39;49m\u001b[43mupdate\u001b[49m\u001b[43m(\u001b[49m\u001b[38;5;241;43m7\u001b[39;49m\u001b[43m)\u001b[49m\n\u001b[0;32m      3\u001b[0m \u001b[38;5;28mprint\u001b[39m(s1)\n",
            "\u001b[1;31mTypeError\u001b[0m: 'int' object is not iterable"
          ]
        }
      ],
      "source": [
        "s1 = set([1, 2, 3])\n",
        "s1.update(7) # 리스트만 추가 할 수 있어서 오류\n",
        "print(s1)"
      ]
    },
    {
      "cell_type": "code",
      "execution_count": null,
      "id": "19dc2098",
      "metadata": {
        "id": "19dc2098",
        "outputId": "0666400e-dd31-4535-f6f3-ca85570e93c9"
      },
      "outputs": [
        {
          "name": "stdout",
          "output_type": "stream",
          "text": [
            "{1, 2, 3, 7}\n"
          ]
        }
      ],
      "source": [
        "s1 = set([1, 2, 3])\n",
        "s1.update([7])\n",
        "print(s1)"
      ]
    },
    {
      "cell_type": "code",
      "execution_count": null,
      "id": "afa1dabf",
      "metadata": {
        "id": "afa1dabf",
        "outputId": "ba38ba36-abe4-4180-cfca-1658cb38d7ec"
      },
      "outputs": [
        {
          "name": "stdout",
          "output_type": "stream",
          "text": [
            "{1, 3, 7}\n"
          ]
        }
      ],
      "source": [
        "s1.remove(2) # 값 제거\n",
        "print(s1)"
      ]
    },
    {
      "cell_type": "code",
      "execution_count": null,
      "id": "f7a87b7b",
      "metadata": {
        "id": "f7a87b7b",
        "outputId": "be5a02c2-264b-47c8-db3f-ac228bc46fae"
      },
      "outputs": [
        {
          "name": "stdout",
          "output_type": "stream",
          "text": [
            "<class 'dict'>\n",
            "<class 'set'>\n",
            "{10}\n"
          ]
        }
      ],
      "source": [
        "dic = {'a':10}\n",
        "sse = {10}\n",
        "print(type(dic))\n",
        "print(type(sse))\n",
        "print(sse)"
      ]
    },
    {
      "cell_type": "code",
      "execution_count": null,
      "id": "0b19f353",
      "metadata": {
        "id": "0b19f353",
        "outputId": "8c9187e0-0c9d-463d-a4ec-797ab5e141a9"
      },
      "outputs": [
        {
          "data": {
            "text/plain": [
              "{10, 20, 30}"
            ]
          },
          "execution_count": 170,
          "metadata": {},
          "output_type": "execute_result"
        }
      ],
      "source": [
        "a = {10, 20, 30}\n",
        "a"
      ]
    },
    {
      "cell_type": "code",
      "execution_count": null,
      "id": "c3248a96",
      "metadata": {
        "id": "c3248a96",
        "outputId": "83456cd5-e6ad-4e95-a7db-9634ef9f2df3"
      },
      "outputs": [
        {
          "data": {
            "text/plain": [
              "{7, 10, 20, 30}"
            ]
          },
          "execution_count": 174,
          "metadata": {},
          "output_type": "execute_result"
        }
      ],
      "source": [
        "a.update({7})\n",
        "a"
      ]
    },
    {
      "cell_type": "code",
      "execution_count": null,
      "id": "76d9300e",
      "metadata": {
        "id": "76d9300e",
        "outputId": "8a1a6323-34a3-4318-c4e0-3897341aea57"
      },
      "outputs": [
        {
          "data": {
            "text/plain": [
              "{7, 10, 20, 30, 40}"
            ]
          },
          "execution_count": 176,
          "metadata": {},
          "output_type": "execute_result"
        }
      ],
      "source": [
        "a.update([40])\n",
        "a"
      ]
    },
    {
      "cell_type": "code",
      "execution_count": null,
      "id": "ecf9c492",
      "metadata": {
        "id": "ecf9c492",
        "outputId": "b0e6fb31-b427-4074-db25-4a5e1ee47f27"
      },
      "outputs": [
        {
          "name": "stdout",
          "output_type": "stream",
          "text": [
            "x 주소: 1685322099280\n",
            "y 주소: 1685322099600\n",
            "x 주소: 1685322099600\n",
            "y 주소: 1685322099280\n"
          ]
        }
      ],
      "source": [
        "x = 10\n",
        "y = 20\n",
        "print(\"x 주소:\", id(x))\n",
        "print(\"y 주소:\", id(y))\n",
        "x, y = y, x\n",
        "print(\"x 주소:\", id(x))\n",
        "print(\"y 주소:\", id(y))\n",
        "# 주소에 들어간 값이 바뀌는것이 아닌 값을 가리키는 주소가 바뀐다."
      ]
    },
    {
      "cell_type": "markdown",
      "id": "c514c0a7",
      "metadata": {
        "id": "c514c0a7"
      },
      "source": [
        "# 날짜 자료형"
      ]
    },
    {
      "cell_type": "code",
      "execution_count": null,
      "id": "31ffa420",
      "metadata": {
        "id": "31ffa420"
      },
      "outputs": [],
      "source": [
        "# 날짜 관련 함수를 가지고 있는 모듈을 포함\n",
        "# import date time 은 해당 모듈(datatime) 전체를 가져온다는 의미\n",
        "from datetime import date, time,  datetime, timedelta"
      ]
    },
    {
      "cell_type": "code",
      "execution_count": null,
      "id": "66cbde9c",
      "metadata": {
        "id": "66cbde9c",
        "outputId": "118698e6-9847-46d0-cd9e-1ff0a959076c"
      },
      "outputs": [
        {
          "name": "stdout",
          "output_type": "stream",
          "text": [
            "오늘은: 2022-09-01\n"
          ]
        }
      ],
      "source": [
        "# date 변수 중 today(): 오늘 날짜를 구하는 함수\n",
        "today = date.today()\n",
        "print(\"오늘은: {}\".format(today))"
      ]
    },
    {
      "cell_type": "code",
      "execution_count": null,
      "id": "dd7a73eb",
      "metadata": {
        "id": "dd7a73eb",
        "outputId": "015f2594-c5e9-494d-aacc-b8f51101b9a8"
      },
      "outputs": [
        {
          "name": "stdout",
          "output_type": "stream",
          "text": [
            "연도: 2022\n",
            "월: 9\n",
            "일: 1\n"
          ]
        }
      ],
      "source": [
        "print(\"연도: {}\".format(today.year))\n",
        "print(\"월: {}\".format(today.month))\n",
        "print(\"일: {}\".format(today.day))"
      ]
    },
    {
      "cell_type": "code",
      "execution_count": null,
      "id": "ff41fed1",
      "metadata": {
        "id": "ff41fed1",
        "outputId": "ea462244-3c1d-44eb-866b-df739b1d4bcc"
      },
      "outputs": [
        {
          "name": "stdout",
          "output_type": "stream",
          "text": [
            "현재날짜와 시간: 2022-09-01 12:50:48.271309\n"
          ]
        }
      ],
      "source": [
        "# 날짜와 시간을 같이 구하기\n",
        "current_datetime = datetime.today()\n",
        "print(\"현재날짜와 시간: {}\".format(current_datetime))"
      ]
    },
    {
      "cell_type": "code",
      "execution_count": null,
      "id": "f070fa11",
      "metadata": {
        "id": "f070fa11",
        "outputId": "5b80c909-cfbe-46b0-d791-6553a41f302d"
      },
      "outputs": [
        {
          "name": "stdout",
          "output_type": "stream",
          "text": [
            "<class 'datetime.datetime'>\n"
          ]
        }
      ],
      "source": [
        "print(datetime)"
      ]
    },
    {
      "cell_type": "code",
      "execution_count": null,
      "id": "f83b81dd",
      "metadata": {
        "id": "f83b81dd",
        "outputId": "be8e30ac-eff2-41a7-b78c-08c134827931"
      },
      "outputs": [
        {
          "data": {
            "text/plain": [
              "[1, 2, 3, 4, 5, 7]"
            ]
          },
          "execution_count": 218,
          "metadata": {},
          "output_type": "execute_result"
        }
      ],
      "source": [
        "abc = [3, 4, 5, 7 , 2, 1]\n",
        "abc.sort(reverse = False)\n",
        "abc"
      ]
    },
    {
      "cell_type": "code",
      "execution_count": null,
      "id": "37c8e926",
      "metadata": {
        "id": "37c8e926",
        "outputId": "90d3f444-b4ed-4be4-a98c-6aac34c6a6d9"
      },
      "outputs": [
        {
          "name": "stdout",
          "output_type": "stream",
          "text": [
            "2022-09-01 14:24:49.900080\n",
            "<class 'datetime.datetime'>\n"
          ]
        }
      ],
      "source": [
        "# 형식화된 날짜 출력: 서식(%)\n",
        "today = datetime.today()\n",
        "print(today)\n",
        "print(type(today))"
      ]
    },
    {
      "cell_type": "code",
      "execution_count": null,
      "id": "d60c0aa5",
      "metadata": {
        "id": "d60c0aa5",
        "outputId": "cf5e55a0-45fb-44a4-af41-fcaa2d61caad"
      },
      "outputs": [
        {
          "name": "stdout",
          "output_type": "stream",
          "text": [
            "22y-09-01 02:24:49\n",
            "<class 'str'>\n"
          ]
        }
      ],
      "source": [
        "# 날짜 자료형을 문자열로 형변환\n",
        "# %y - 년도, %m - 월, %M - 분, %H - 시간, %S - 초\n",
        "# %y - 년도(2자리), %Y - 년도(4자리)\n",
        "# strftime() 날짜 자료형을 문자형으로 바꾸는 함수\n",
        "d = today.strftime(\"%yy-%m-%d %I:%M:%S\")\n",
        "print(d)\n",
        "print(type(d))"
      ]
    },
    {
      "cell_type": "code",
      "execution_count": null,
      "id": "d791b179",
      "metadata": {
        "id": "d791b179",
        "outputId": "b9e475aa-2d9a-441e-a429-69c32a72afd9"
      },
      "outputs": [
        {
          "name": "stdout",
          "output_type": "stream",
          "text": [
            "2022-08-31 14:24:49.900080\n",
            "2022-09-08 14:24:49.900080\n",
            "2022-10-01 14:24:49.900080\n",
            "2022-09-01 22:24:49.900080\n"
          ]
        }
      ],
      "source": [
        "tt = timedelta(days = -1) # 날짜의 -1을 하란것\n",
        "# 어제 날짜\n",
        "print(today + tt)\n",
        "# 1주일 전\n",
        "tt = timedelta(days = -7)\n",
        "print(today - tt)\n",
        "# 30일 후\n",
        "tt = timedelta(days = 30)\n",
        "print(today + tt)\n",
        "# 8시간 전\n",
        "tt = timedelta(hours = 8)\n",
        "print(today + tt)"
      ]
    },
    {
      "cell_type": "markdown",
      "id": "7db82ee9",
      "metadata": {
        "id": "7db82ee9"
      },
      "source": [
        "# 리스트 내포(List Comprehension)"
      ]
    },
    {
      "cell_type": "code",
      "execution_count": null,
      "id": "66705282",
      "metadata": {
        "id": "66705282",
        "outputId": "73d626f6-eb3a-45f4-d503-de00e7385d26"
      },
      "outputs": [
        {
          "name": "stdout",
          "output_type": "stream",
          "text": [
            "[2, 4, 6, 8, 10]\n"
          ]
        }
      ],
      "source": [
        "a = [] # a =  list()\n",
        "\n",
        "for i in range(1, 6): # [1, 2, 3, 4, 5]\n",
        "    a.append(i * 2)\n",
        "    \n",
        "print(a)"
      ]
    },
    {
      "cell_type": "code",
      "execution_count": null,
      "id": "4e3d8c50",
      "metadata": {
        "id": "4e3d8c50",
        "outputId": "60fcc430-cd38-4023-e631-509594ab6800"
      },
      "outputs": [
        {
          "name": "stdout",
          "output_type": "stream",
          "text": [
            "[2, 4, 6, 8, 10]\n"
          ]
        }
      ],
      "source": [
        "# 출력값 - 실제 리스트에 담겨질 값\n",
        "a = [i * 2 for i in range(1, 6)]\n",
        "print(a)"
      ]
    },
    {
      "cell_type": "code",
      "execution_count": null,
      "id": "c5d165d8",
      "metadata": {
        "id": "c5d165d8",
        "outputId": "17f6651b-2a81-41bf-b5a5-5c5f1aa1b3c9"
      },
      "outputs": [
        {
          "name": "stdout",
          "output_type": "stream",
          "text": [
            "['사과', '자두', '바나나', '체리']\n"
          ]
        }
      ],
      "source": [
        "array = ['사과', '자두', '초콜릿', '바나나', '체리']\n",
        "output = []\n",
        "\n",
        "for i  in array:\n",
        "    if i != '초콜릿':\n",
        "        output.append(i)\n",
        "        \n",
        "print(output)"
      ]
    },
    {
      "cell_type": "code",
      "execution_count": null,
      "id": "02589061",
      "metadata": {
        "id": "02589061",
        "outputId": "edbf086e-fc4e-4e4a-99ec-6fc11eaaaec8"
      },
      "outputs": [
        {
          "name": "stdout",
          "output_type": "stream",
          "text": [
            "['사과', '자두', '바나나', '체리']\n"
          ]
        }
      ],
      "source": [
        "# 인라인 함수 inline\n",
        "array = ['사과', '자두', '초콜릿', '바나나', '체리']\n",
        "\n",
        "output = [i for i in array if i != '초콜릿']\n",
        "\n",
        "print(output)"
      ]
    },
    {
      "cell_type": "code",
      "execution_count": null,
      "id": "cb6bf786",
      "metadata": {
        "id": "cb6bf786"
      },
      "outputs": [],
      "source": []
    }
  ],
  "metadata": {
    "kernelspec": {
      "display_name": "Python 3 (ipykernel)",
      "language": "python",
      "name": "python3"
    },
    "language_info": {
      "codemirror_mode": {
        "name": "ipython",
        "version": 3
      },
      "file_extension": ".py",
      "mimetype": "text/x-python",
      "name": "python",
      "nbconvert_exporter": "python",
      "pygments_lexer": "ipython3",
      "version": "3.9.12"
    },
    "toc": {
      "base_numbering": 1,
      "nav_menu": {},
      "number_sections": true,
      "sideBar": true,
      "skip_h1_title": false,
      "title_cell": "Table of Contents",
      "title_sidebar": "Contents",
      "toc_cell": false,
      "toc_position": {},
      "toc_section_display": true,
      "toc_window_display": false
    },
    "colab": {
      "provenance": [],
      "collapsed_sections": [
        "e0596c8b",
        "92c7736a",
        "c514c0a7",
        "7db82ee9"
      ],
      "include_colab_link": true
    }
  },
  "nbformat": 4,
  "nbformat_minor": 5
}