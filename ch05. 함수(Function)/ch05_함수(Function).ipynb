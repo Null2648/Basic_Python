{
  "cells": [
    {
      "cell_type": "markdown",
      "metadata": {
        "id": "view-in-github",
        "colab_type": "text"
      },
      "source": [
        "<a href=\"https://colab.research.google.com/github/Null2648/Basic_Python/blob/main/ch05.%20%ED%95%A8%EC%88%98(Function)/ch05_%ED%95%A8%EC%88%98(Function).ipynb\" target=\"_parent\"><img src=\"https://colab.research.google.com/assets/colab-badge.svg\" alt=\"Open In Colab\"/></a>"
      ]
    },
    {
      "cell_type": "code",
      "execution_count": null,
      "id": "612c8a87",
      "metadata": {
        "ExecuteTime": {
          "end_time": "2022-09-01T06:38:43.055072Z",
          "start_time": "2022-09-01T06:38:43.041354Z"
        },
        "id": "612c8a87",
        "outputId": "3be32382-6850-448b-ee75-4e3c60722062"
      },
      "outputs": [
        {
          "name": "stdout",
          "output_type": "stream",
          "text": [
            "Hello Python\n"
          ]
        }
      ],
      "source": [
        "print(\"Hello Python\") # 내장 함수"
      ]
    },
    {
      "cell_type": "code",
      "execution_count": null,
      "id": "79ad012f",
      "metadata": {
        "ExecuteTime": {
          "end_time": "2022-09-01T06:40:50.615961Z",
          "start_time": "2022-09-01T06:40:50.600870Z"
        },
        "id": "79ad012f",
        "outputId": "782f9bef-83d3-49cf-c23e-25567a407a2a"
      },
      "outputs": [
        {
          "name": "stdout",
          "output_type": "stream",
          "text": [
            "30\n"
          ]
        }
      ],
      "source": [
        "a = 10\n",
        "b = 20\n",
        "print(a + b)"
      ]
    },
    {
      "cell_type": "code",
      "execution_count": null,
      "id": "e8c7a45d",
      "metadata": {
        "ExecuteTime": {
          "end_time": "2022-09-01T06:42:49.968152Z",
          "start_time": "2022-09-01T06:42:45.875682Z"
        },
        "id": "e8c7a45d",
        "outputId": "5a235df1-a841-4126-d39f-0d9f855cfd27"
      },
      "outputs": [
        {
          "name": "stdout",
          "output_type": "stream",
          "text": [
            "su = 10\n",
            "su = 5\n",
            "15\n"
          ]
        }
      ],
      "source": [
        "a = int(input(\"su = \"))\n",
        "b = int(input(\"su = \"))\n",
        "print(a + b)"
      ]
    },
    {
      "cell_type": "code",
      "execution_count": null,
      "id": "a0d58748",
      "metadata": {
        "ExecuteTime": {
          "end_time": "2022-09-01T06:46:09.247050Z",
          "start_time": "2022-09-01T06:46:09.238954Z"
        },
        "id": "a0d58748"
      },
      "outputs": [],
      "source": [
        "def adder(x, y):\n",
        "    return x+y"
      ]
    },
    {
      "cell_type": "code",
      "execution_count": null,
      "id": "3680e1bb",
      "metadata": {
        "ExecuteTime": {
          "end_time": "2022-09-01T06:47:08.192945Z",
          "start_time": "2022-09-01T06:47:08.173491Z"
        },
        "id": "3680e1bb",
        "outputId": "5850e60d-93d6-45d4-a946-de66d4adb94f"
      },
      "outputs": [
        {
          "data": {
            "text/plain": [
              "30"
            ]
          },
          "execution_count": 5,
          "metadata": {},
          "output_type": "execute_result"
        }
      ],
      "source": [
        "# 호출 : Call By Name, Call By Value\n",
        "adder(10, 20)"
      ]
    },
    {
      "cell_type": "code",
      "execution_count": null,
      "id": "ef4b739d",
      "metadata": {
        "ExecuteTime": {
          "end_time": "2022-09-01T06:48:01.638695Z",
          "start_time": "2022-09-01T06:48:01.629599Z"
        },
        "id": "ef4b739d"
      },
      "outputs": [],
      "source": [
        "def process(x, y, z):\n",
        "    pass"
      ]
    },
    {
      "cell_type": "code",
      "execution_count": null,
      "id": "b8c783c9",
      "metadata": {
        "ExecuteTime": {
          "end_time": "2022-09-01T06:49:16.484985Z",
          "start_time": "2022-09-01T06:49:16.471873Z"
        },
        "id": "b8c783c9"
      },
      "outputs": [],
      "source": [
        "def test():\n",
        "    return 1, 2, 3, 4, 5   # (1, 2, 3, 4, 5)"
      ]
    },
    {
      "cell_type": "code",
      "execution_count": null,
      "id": "cf5cfca4",
      "metadata": {
        "ExecuteTime": {
          "end_time": "2022-09-01T06:50:12.024824Z",
          "start_time": "2022-09-01T06:50:12.021824Z"
        },
        "id": "cf5cfca4",
        "outputId": "4733fdc5-532e-48e2-a17d-9b0c9bc5fc8b"
      },
      "outputs": [
        {
          "data": {
            "text/plain": [
              "(1, 2, 3, 4, 5)"
            ]
          },
          "execution_count": 8,
          "metadata": {},
          "output_type": "execute_result"
        }
      ],
      "source": [
        "test()"
      ]
    },
    {
      "cell_type": "markdown",
      "id": "4a47dda0",
      "metadata": {
        "id": "4a47dda0"
      },
      "source": [
        "### 내장 함수"
      ]
    },
    {
      "cell_type": "code",
      "execution_count": null,
      "id": "2763ef19",
      "metadata": {
        "ExecuteTime": {
          "end_time": "2022-09-01T07:08:00.904354Z",
          "start_time": "2022-09-01T07:08:00.887645Z"
        },
        "id": "2763ef19",
        "outputId": "f1830a49-54b5-405c-cda1-6b4961a915fa"
      },
      "outputs": [
        {
          "name": "stdout",
          "output_type": "stream",
          "text": [
            "3\n",
            "3\n"
          ]
        }
      ],
      "source": [
        "# 절대값\n",
        "print(abs(-3))\n",
        "print(abs(3))"
      ]
    },
    {
      "cell_type": "code",
      "execution_count": null,
      "id": "e69e8e07",
      "metadata": {
        "ExecuteTime": {
          "end_time": "2022-09-01T07:10:04.263199Z",
          "start_time": "2022-09-01T07:10:04.256074Z"
        },
        "id": "e69e8e07",
        "outputId": "78054097-33fa-4c49-b87e-be2301bb7192"
      },
      "outputs": [
        {
          "name": "stdout",
          "output_type": "stream",
          "text": [
            "True\n",
            "False\n"
          ]
        }
      ],
      "source": [
        "# all() - 모든 값이 True인지 검사하는 함수\n",
        "# 0과 1\n",
        "print(all([1, 2, 3]))\n",
        "print(all([1, 2, 3, 0]))"
      ]
    },
    {
      "cell_type": "code",
      "execution_count": null,
      "id": "74f737ca",
      "metadata": {
        "ExecuteTime": {
          "end_time": "2022-09-01T07:11:37.241218Z",
          "start_time": "2022-09-01T07:11:37.231159Z"
        },
        "id": "74f737ca",
        "outputId": "fb334d73-b6e4-4e92-e22e-5d3598c61844"
      },
      "outputs": [
        {
          "name": "stdout",
          "output_type": "stream",
          "text": [
            "True\n",
            "True\n",
            "False\n"
          ]
        }
      ],
      "source": [
        "# any() - 한개라도 True이면 True\n",
        "print(any([1, 2, 3]))\n",
        "print(any([1, 2, 3, 0]))\n",
        "print(any([0, 0, 0, 0, 0]))"
      ]
    },
    {
      "cell_type": "code",
      "execution_count": null,
      "id": "ef48040e",
      "metadata": {
        "ExecuteTime": {
          "end_time": "2022-09-01T07:13:43.725864Z",
          "start_time": "2022-09-01T07:13:43.715812Z"
        },
        "id": "ef48040e",
        "outputId": "e79d7322-06ae-450c-fafe-4d38777a402c"
      },
      "outputs": [
        {
          "name": "stdout",
          "output_type": "stream",
          "text": [
            "True\n"
          ]
        }
      ],
      "source": [
        "# 문자열일 경우 빈 값이면 False, 값이 있으면 True\n",
        "a = \"hello\"\n",
        "\n",
        "if a:\n",
        "    print(\"True\")\n",
        "else:\n",
        "    print(\"False\")"
      ]
    },
    {
      "cell_type": "code",
      "execution_count": null,
      "id": "a9cd5056",
      "metadata": {
        "ExecuteTime": {
          "end_time": "2022-09-01T07:13:46.306176Z",
          "start_time": "2022-09-01T07:13:46.299076Z"
        },
        "id": "a9cd5056",
        "outputId": "18733e66-da54-4a69-b0db-86c960c97d0e"
      },
      "outputs": [
        {
          "name": "stdout",
          "output_type": "stream",
          "text": [
            "False\n"
          ]
        }
      ],
      "source": [
        "a = \"\"\n",
        "\n",
        "if a:\n",
        "    print(\"True\")\n",
        "else:\n",
        "    print(\"False\")"
      ]
    },
    {
      "cell_type": "code",
      "execution_count": null,
      "id": "12ffcaa9",
      "metadata": {
        "ExecuteTime": {
          "end_time": "2022-09-01T07:15:57.009215Z",
          "start_time": "2022-09-01T07:15:57.005138Z"
        },
        "id": "12ffcaa9",
        "outputId": "07d95a2f-35fe-4f04-d299-f8abb30c3ae8"
      },
      "outputs": [
        {
          "name": "stdout",
          "output_type": "stream",
          "text": [
            "['__add__', '__class__', '__contains__', '__delattr__', '__delitem__', '__dir__', '__doc__', '__eq__', '__format__', '__ge__', '__getattribute__', '__getitem__', '__gt__', '__hash__', '__iadd__', '__imul__', '__init__', '__init_subclass__', '__iter__', '__le__', '__len__', '__lt__', '__mul__', '__ne__', '__new__', '__reduce__', '__reduce_ex__', '__repr__', '__reversed__', '__rmul__', '__setattr__', '__setitem__', '__sizeof__', '__str__', '__subclasshook__', 'append', 'clear', 'copy', 'count', 'extend', 'index', 'insert', 'pop', 'remove', 'reverse', 'sort']\n"
          ]
        }
      ],
      "source": [
        "print(dir([1, 2, 3]))  # 객체의 멤버 목록(변수 나 함수)"
      ]
    },
    {
      "cell_type": "code",
      "execution_count": null,
      "id": "d2fad9a3",
      "metadata": {
        "ExecuteTime": {
          "end_time": "2022-09-01T07:18:39.528796Z",
          "start_time": "2022-09-01T07:18:39.513745Z"
        },
        "id": "d2fad9a3",
        "outputId": "7a0ce10a-6b0c-4c88-e90b-ee5a07f8d0d5"
      },
      "outputs": [
        {
          "name": "stdout",
          "output_type": "stream",
          "text": [
            "['__class__', '__contains__', '__delattr__', '__delitem__', '__dir__', '__doc__', '__eq__', '__format__', '__ge__', '__getattribute__', '__getitem__', '__gt__', '__hash__', '__init__', '__init_subclass__', '__iter__', '__le__', '__len__', '__lt__', '__ne__', '__new__', '__reduce__', '__reduce_ex__', '__repr__', '__reversed__', '__setattr__', '__setitem__', '__sizeof__', '__str__', '__subclasshook__', 'clear', 'copy', 'fromkeys', 'get', 'items', 'keys', 'pop', 'popitem', 'setdefault', 'update', 'values']\n"
          ]
        }
      ],
      "source": [
        "print(dir({'name':'홍길동'}))"
      ]
    },
    {
      "cell_type": "code",
      "execution_count": null,
      "id": "7ed244c9",
      "metadata": {
        "ExecuteTime": {
          "end_time": "2022-09-01T07:21:15.216795Z",
          "start_time": "2022-09-01T07:21:15.210751Z"
        },
        "id": "7ed244c9",
        "outputId": "e9ee6f28-a956-4b72-dd98-f87fedcc915f"
      },
      "outputs": [
        {
          "name": "stdout",
          "output_type": "stream",
          "text": [
            "몫 : 2, 나머지 : 1\n"
          ]
        }
      ],
      "source": [
        "a = 7\n",
        "b = 3\n",
        "c = a // b # 정수 몫\n",
        "d = a % b # 나머지\n",
        "print(\"몫 : {}, 나머지 : {}\".format(c, d))"
      ]
    },
    {
      "cell_type": "code",
      "execution_count": null,
      "id": "5d3a478f",
      "metadata": {
        "ExecuteTime": {
          "end_time": "2022-09-01T07:22:15.488312Z",
          "start_time": "2022-09-01T07:22:15.478934Z"
        },
        "id": "5d3a478f",
        "outputId": "4f75223e-5b0a-4ee4-9cb3-f94b2ab47398"
      },
      "outputs": [
        {
          "name": "stdout",
          "output_type": "stream",
          "text": [
            "(2, 1)\n",
            "(6.0, 0.09999999999999998)\n"
          ]
        }
      ],
      "source": [
        "print(divmod(7, 3)) # 몫과 나머지가 튜플 형식으로 리턴된다.\n",
        "print(divmod(1.3, 0.2))"
      ]
    },
    {
      "cell_type": "code",
      "execution_count": null,
      "id": "b3875b7f",
      "metadata": {
        "ExecuteTime": {
          "end_time": "2022-09-01T07:23:37.826083Z",
          "start_time": "2022-09-01T07:23:37.818753Z"
        },
        "id": "b3875b7f",
        "outputId": "d2d42be0-9083-4aa4-9944-c79396c2cc79"
      },
      "outputs": [
        {
          "name": "stdout",
          "output_type": "stream",
          "text": [
            "몫 : 2, 나머지 : 1\n"
          ]
        }
      ],
      "source": [
        "n1, n2 = divmod(7, 3)\n",
        "print(\"몫 : {}, 나머지 : {}\".format(n1, n2))"
      ]
    },
    {
      "cell_type": "code",
      "execution_count": null,
      "id": "959fe1be",
      "metadata": {
        "ExecuteTime": {
          "end_time": "2022-09-01T07:25:14.971080Z",
          "start_time": "2022-09-01T07:25:14.958189Z"
        },
        "id": "959fe1be",
        "outputId": "7062c6d4-7f4b-4182-8981-07d829798b25"
      },
      "outputs": [
        {
          "name": "stdout",
          "output_type": "stream",
          "text": [
            "<enumerate object at 0x0000023536781400>\n"
          ]
        }
      ],
      "source": [
        "# 인덱스와 값을 리턴하는 함수 : enumerate()\n",
        "print(enumerate([10, 20, 30, 40, 50]))"
      ]
    },
    {
      "cell_type": "code",
      "execution_count": null,
      "id": "a042b4ad",
      "metadata": {
        "ExecuteTime": {
          "end_time": "2022-09-01T07:26:19.800272Z",
          "start_time": "2022-09-01T07:26:19.783490Z"
        },
        "id": "a042b4ad",
        "outputId": "4b4f1ac6-277b-432a-ab30-52acdc8ae933"
      },
      "outputs": [
        {
          "name": "stdout",
          "output_type": "stream",
          "text": [
            "[(0, 10), (1, 20), (2, 30), (3, 40), (4, 50)]\n"
          ]
        }
      ],
      "source": [
        "print(list(enumerate([10, 20, 30, 40, 50])))"
      ]
    },
    {
      "cell_type": "code",
      "execution_count": null,
      "id": "fd3fa503",
      "metadata": {
        "ExecuteTime": {
          "end_time": "2022-09-01T07:27:22.611495Z",
          "start_time": "2022-09-01T07:27:22.595793Z"
        },
        "id": "fd3fa503",
        "outputId": "c5aaaf14-aa0c-4879-e4bc-44e3ce4af636"
      },
      "outputs": [
        {
          "name": "stdout",
          "output_type": "stream",
          "text": [
            "0 10\n",
            "1 20\n",
            "2 30\n",
            "3 40\n",
            "4 50\n"
          ]
        }
      ],
      "source": [
        "for index, value in enumerate([10, 20, 30, 40, 50]):\n",
        "    print(index, value)"
      ]
    },
    {
      "cell_type": "code",
      "execution_count": null,
      "id": "74595db3",
      "metadata": {
        "ExecuteTime": {
          "end_time": "2022-09-01T07:29:32.576670Z",
          "start_time": "2022-09-01T07:29:31.468661Z"
        },
        "id": "74595db3",
        "outputId": "1e7161ce-ebc5-47e1-bcbb-ad2f447e9843"
      },
      "outputs": [
        {
          "name": "stdout",
          "output_type": "stream",
          "text": [
            "number = 7\n",
            "14\n"
          ]
        }
      ],
      "source": [
        "# eval() : 문자열의 따옴표를 제거하고 실행하는 함수\n",
        "num = eval(input(\"number = \"))\n",
        "\n",
        "print(num + 7)"
      ]
    },
    {
      "cell_type": "code",
      "execution_count": null,
      "id": "2c670db2",
      "metadata": {
        "ExecuteTime": {
          "end_time": "2022-09-01T07:30:31.965696Z",
          "start_time": "2022-09-01T07:30:31.744650Z"
        },
        "id": "2c670db2",
        "outputId": "0a301dec-c6fb-48b7-9d98-c6fa652dff8e"
      },
      "outputs": [
        {
          "ename": "ValueError",
          "evalue": "invalid literal for int() with base 10: 'divmod(7, 3)'",
          "output_type": "error",
          "traceback": [
            "\u001b[1;31m---------------------------------------------------------------------------\u001b[0m",
            "\u001b[1;31mValueError\u001b[0m                                Traceback (most recent call last)",
            "\u001b[1;32m<ipython-input-24-e961ce23b2e7>\u001b[0m in \u001b[0;36m<module>\u001b[1;34m\u001b[0m\n\u001b[0;32m      1\u001b[0m \u001b[0mstr\u001b[0m \u001b[1;33m=\u001b[0m \u001b[1;34m\"divmod(7, 3)\"\u001b[0m\u001b[1;33m\u001b[0m\u001b[1;33m\u001b[0m\u001b[0m\n\u001b[0;32m      2\u001b[0m \u001b[1;33m\u001b[0m\u001b[0m\n\u001b[1;32m----> 3\u001b[1;33m \u001b[0mprint\u001b[0m\u001b[1;33m(\u001b[0m\u001b[0mint\u001b[0m\u001b[1;33m(\u001b[0m\u001b[0mstr\u001b[0m\u001b[1;33m)\u001b[0m\u001b[1;33m)\u001b[0m\u001b[1;33m\u001b[0m\u001b[1;33m\u001b[0m\u001b[0m\n\u001b[0m",
            "\u001b[1;31mValueError\u001b[0m: invalid literal for int() with base 10: 'divmod(7, 3)'"
          ]
        }
      ],
      "source": [
        "str = \"divmod(7, 3)\"\n",
        "\n",
        "print(int(str))"
      ]
    },
    {
      "cell_type": "code",
      "execution_count": null,
      "id": "9545a670",
      "metadata": {
        "ExecuteTime": {
          "end_time": "2022-09-01T07:31:06.764735Z",
          "start_time": "2022-09-01T07:31:06.749667Z"
        },
        "id": "9545a670",
        "outputId": "175c97c9-b352-49b5-e121-297d681c1836"
      },
      "outputs": [
        {
          "name": "stdout",
          "output_type": "stream",
          "text": [
            "(2, 1)\n"
          ]
        }
      ],
      "source": [
        "str = \"divmod(7, 3)\"\n",
        "\n",
        "print(eval(str))"
      ]
    },
    {
      "cell_type": "code",
      "execution_count": null,
      "id": "0e709d8f",
      "metadata": {
        "ExecuteTime": {
          "end_time": "2022-09-01T07:43:04.325764Z",
          "start_time": "2022-09-01T07:43:04.313684Z"
        },
        "id": "0e709d8f",
        "outputId": "4cdfa4da-a664-4d0a-bf99-f79be615f1b5"
      },
      "outputs": [
        {
          "name": "stdout",
          "output_type": "stream",
          "text": [
            "0xea\n"
          ]
        }
      ],
      "source": [
        "print(hex(234))"
      ]
    },
    {
      "cell_type": "code",
      "execution_count": null,
      "id": "8e567db5",
      "metadata": {
        "ExecuteTime": {
          "end_time": "2022-09-01T07:43:32.789474Z",
          "start_time": "2022-09-01T07:43:32.778296Z"
        },
        "id": "8e567db5",
        "outputId": "539f596e-df6f-464f-92d8-c449401fae7d"
      },
      "outputs": [
        {
          "name": "stdout",
          "output_type": "stream",
          "text": [
            "0x3\n"
          ]
        }
      ],
      "source": [
        "print(hex(3))"
      ]
    },
    {
      "cell_type": "code",
      "execution_count": null,
      "id": "94a540a5",
      "metadata": {
        "ExecuteTime": {
          "end_time": "2022-09-01T07:45:16.883626Z",
          "start_time": "2022-09-01T07:45:16.876518Z"
        },
        "id": "94a540a5",
        "outputId": "6758268a-01ea-4a74-ae6c-1d980e832152"
      },
      "outputs": [
        {
          "name": "stdout",
          "output_type": "stream",
          "text": [
            "140713574213488 140713574213488\n",
            "140713574213488\n"
          ]
        }
      ],
      "source": [
        "# id(객체) - 객체의 주소를 리턴하는 함수\n",
        "a = 3\n",
        "print(id(a), id(3))\n",
        "b = a\n",
        "print(id(b))"
      ]
    },
    {
      "cell_type": "code",
      "execution_count": null,
      "id": "a6a0facc",
      "metadata": {
        "ExecuteTime": {
          "end_time": "2022-09-01T07:46:01.599621Z",
          "start_time": "2022-09-01T07:45:56.932958Z"
        },
        "id": "a6a0facc",
        "outputId": "64394e4f-b8d1-4564-e24d-6c571f81c5aa"
      },
      "outputs": [
        {
          "name": "stdout",
          "output_type": "stream",
          "text": [
            "t\n",
            "t\n"
          ]
        }
      ],
      "source": [
        "a = input()\n",
        "print(a)"
      ]
    },
    {
      "cell_type": "code",
      "execution_count": null,
      "id": "1e6d5e63",
      "metadata": {
        "ExecuteTime": {
          "end_time": "2022-09-01T07:46:30.540121Z",
          "start_time": "2022-09-01T07:46:28.113460Z"
        },
        "id": "1e6d5e63",
        "outputId": "86fe1702-596e-4319-cfd8-efa1371e2aae"
      },
      "outputs": [
        {
          "name": "stdout",
          "output_type": "stream",
          "text": [
            "입력 = h\n",
            "h\n"
          ]
        }
      ],
      "source": [
        "b = input(\"입력 = \")\n",
        "print(b)"
      ]
    },
    {
      "cell_type": "code",
      "execution_count": null,
      "id": "98226202",
      "metadata": {
        "ExecuteTime": {
          "end_time": "2022-09-01T07:50:38.658924Z",
          "start_time": "2022-09-01T07:50:38.651801Z"
        },
        "id": "98226202",
        "outputId": "32bdd616-b504-44d7-a3bf-40523d9a6c9f"
      },
      "outputs": [
        {
          "name": "stdout",
          "output_type": "stream",
          "text": [
            "3\n",
            "<class 'int'>\n",
            "3\n",
            "15\n",
            "255\n"
          ]
        }
      ],
      "source": [
        "a = int(\"3\") # 문자열을 정수형으로 변환하는 함수\n",
        "print(a)\n",
        "print(type(a))\n",
        "\n",
        "b = int(3.4) # 실수형을 정수형으로 변환\n",
        "print(b)\n",
        "\n",
        "c = int(\"1111\", 2)  # 문자열을 2진수로 변환\n",
        "print(c)\n",
        "\n",
        "d = int(\"FF\", 16)\n",
        "print(d)"
      ]
    },
    {
      "cell_type": "code",
      "execution_count": null,
      "id": "b5102341",
      "metadata": {
        "ExecuteTime": {
          "end_time": "2022-09-01T08:01:24.768413Z",
          "start_time": "2022-09-01T08:01:24.764380Z"
        },
        "id": "b5102341",
        "outputId": "05367b0a-d8a7-4dc1-89f1-1343e50af1f6"
      },
      "outputs": [
        {
          "name": "stdout",
          "output_type": "stream",
          "text": [
            "['사과', '배', '수박', '바나나', '포도']\n"
          ]
        }
      ],
      "source": [
        "a = ['사과', '배','수박','바나나','포도']\n",
        "print(a)"
      ]
    },
    {
      "cell_type": "code",
      "execution_count": null,
      "id": "c0b093dc",
      "metadata": {
        "ExecuteTime": {
          "end_time": "2022-09-01T08:03:26.976485Z",
          "start_time": "2022-09-01T08:03:26.963109Z"
        },
        "id": "c0b093dc",
        "outputId": "ec6071d2-fcd3-41b4-c7f6-ad99f6a0532e"
      },
      "outputs": [
        {
          "name": "stdout",
          "output_type": "stream",
          "text": [
            "사과,배,수박,바나나,포도,\n"
          ]
        }
      ],
      "source": [
        "result = \"\"\n",
        "for i in a:\n",
        "    result += i + \",\"  # result = result + (i + \",\")\n",
        "print(result)"
      ]
    },
    {
      "cell_type": "code",
      "execution_count": null,
      "id": "1f873b0a",
      "metadata": {
        "ExecuteTime": {
          "end_time": "2022-09-01T08:05:26.483417Z",
          "start_time": "2022-09-01T08:05:26.470324Z"
        },
        "id": "1f873b0a",
        "outputId": "a311db2d-e60a-489e-c945-75d0fe763d1b"
      },
      "outputs": [
        {
          "name": "stdout",
          "output_type": "stream",
          "text": [
            "사과,배,수박,바나나,포도\n",
            "사과/배/수박/바나나/포도\n",
            "사과-배-수박-바나나-포도\n",
            "사과\n",
            "배\n",
            "수박\n",
            "바나나\n",
            "포도\n"
          ]
        }
      ],
      "source": [
        "a = ['사과', '배','수박','바나나','포도']\n",
        "print(\",\".join(a))\n",
        "print(\"/\".join(a))\n",
        "print(\"-\".join(a))\n",
        "print(\"\\n\".join(a))"
      ]
    },
    {
      "cell_type": "code",
      "execution_count": null,
      "id": "30bd4b84",
      "metadata": {
        "ExecuteTime": {
          "end_time": "2022-09-01T08:06:26.532033Z",
          "start_time": "2022-09-01T08:06:26.517986Z"
        },
        "id": "30bd4b84",
        "outputId": "023f45dd-d359-4248-f910-085585c00bc4"
      },
      "outputs": [
        {
          "name": "stdout",
          "output_type": "stream",
          "text": [
            "6\n"
          ]
        }
      ],
      "source": [
        "# len() 요소의 갯수\n",
        "a = len(\"python\")\n",
        "print(a)"
      ]
    },
    {
      "cell_type": "code",
      "execution_count": null,
      "id": "bf2b91a9",
      "metadata": {
        "ExecuteTime": {
          "end_time": "2022-09-01T08:07:52.365580Z",
          "start_time": "2022-09-01T08:07:52.362567Z"
        },
        "id": "bf2b91a9",
        "outputId": "538ba825-e268-44bb-b65e-c3db57e087f5"
      },
      "outputs": [
        {
          "name": "stdout",
          "output_type": "stream",
          "text": [
            "3\n"
          ]
        }
      ],
      "source": [
        "b = len([1, 2, 3])\n",
        "print(b)"
      ]
    },
    {
      "cell_type": "code",
      "execution_count": null,
      "id": "7f2abccd",
      "metadata": {
        "ExecuteTime": {
          "end_time": "2022-09-01T08:10:18.313475Z",
          "start_time": "2022-09-01T08:10:18.300795Z"
        },
        "id": "7f2abccd",
        "outputId": "6f642268-f666-437b-854d-6926f6171a28"
      },
      "outputs": [
        {
          "name": "stdout",
          "output_type": "stream",
          "text": [
            "2\n"
          ]
        }
      ],
      "source": [
        "c = len((1, 'a'))\n",
        "print(c)"
      ]
    },
    {
      "cell_type": "code",
      "execution_count": null,
      "id": "42f5706a",
      "metadata": {
        "ExecuteTime": {
          "end_time": "2022-09-01T08:11:59.317467Z",
          "start_time": "2022-09-01T08:11:59.306892Z"
        },
        "id": "42f5706a",
        "outputId": "3cf06507-bd5b-40ae-ca88-4fff0c531d30"
      },
      "outputs": [
        {
          "name": "stdout",
          "output_type": "stream",
          "text": [
            "['p', 'y', 't', 'h', 'o', 'n']\n",
            "[1, 2, 3]\n"
          ]
        }
      ],
      "source": [
        "# list(), tuple()\n",
        "a = list(\"python\") #문자열을 리스트로 변환\n",
        "print(a)\n",
        "b = list((1, 2, 3)) \n",
        "print(b) #튜플을 리스트로 변환"
      ]
    },
    {
      "cell_type": "markdown",
      "id": "2f0da736",
      "metadata": {
        "id": "2f0da736"
      },
      "source": [
        "### 사용자 정의 함수"
      ]
    },
    {
      "cell_type": "code",
      "execution_count": null,
      "id": "3440f5f7",
      "metadata": {
        "ExecuteTime": {
          "end_time": "2022-09-01T08:14:51.775932Z",
          "start_time": "2022-09-01T08:14:51.765813Z"
        },
        "id": "3440f5f7"
      },
      "outputs": [],
      "source": [
        "def calc(x):\n",
        "    # print(\"x = \", x)\n",
        "    return x * 2"
      ]
    },
    {
      "cell_type": "code",
      "execution_count": null,
      "id": "b086353a",
      "metadata": {
        "ExecuteTime": {
          "end_time": "2022-09-01T08:17:39.415993Z",
          "start_time": "2022-09-01T08:17:39.405912Z"
        },
        "id": "b086353a",
        "outputId": "690ea3cd-d15b-4073-bf91-4e578e365877"
      },
      "outputs": [
        {
          "name": "stdout",
          "output_type": "stream",
          "text": [
            "x =  1\n",
            "x =  2\n",
            "x =  3\n",
            "x =  4\n",
            "[2, 4, 6, 8]\n"
          ]
        }
      ],
      "source": [
        "a = [calc(1), calc(2), calc(3), calc(4)]\n",
        "print(a)"
      ]
    },
    {
      "cell_type": "code",
      "execution_count": null,
      "id": "a36f7507",
      "metadata": {
        "ExecuteTime": {
          "end_time": "2022-09-01T08:19:00.197203Z",
          "start_time": "2022-09-01T08:19:00.185136Z"
        },
        "id": "a36f7507",
        "outputId": "13993ccd-294f-4d44-857a-bee5551310b3"
      },
      "outputs": [
        {
          "name": "stdout",
          "output_type": "stream",
          "text": [
            "x =  1\n",
            "x =  2\n",
            "x =  3\n",
            "x =  4\n",
            "[2, 4, 6, 8]\n"
          ]
        }
      ],
      "source": [
        "a = []  # 비어있는 리스트 객체 생성\n",
        "\n",
        "for i in [1, 2, 3, 4]:\n",
        "    a.append(calc(i))\n",
        "print(a)"
      ]
    },
    {
      "cell_type": "code",
      "execution_count": null,
      "id": "63b37c56",
      "metadata": {
        "ExecuteTime": {
          "end_time": "2022-09-01T08:21:23.526640Z",
          "start_time": "2022-09-01T08:21:23.508797Z"
        },
        "id": "63b37c56",
        "outputId": "6e0d05bb-ef21-4be8-ae17-1352b51b39fb"
      },
      "outputs": [
        {
          "name": "stdout",
          "output_type": "stream",
          "text": [
            "x =  1\n",
            "x =  2\n",
            "x =  3\n",
            "x =  4\n",
            "[2, 4, 6, 8]\n"
          ]
        }
      ],
      "source": [
        "# map(함수이름, 입력값리스트)\n",
        "a = list(map(calc, [1, 2, 3, 4]))\n",
        "print(a)"
      ]
    },
    {
      "cell_type": "code",
      "execution_count": null,
      "id": "b6ee5526",
      "metadata": {
        "ExecuteTime": {
          "end_time": "2022-09-01T08:26:37.818597Z",
          "start_time": "2022-09-01T08:26:37.802003Z"
        },
        "id": "b6ee5526",
        "outputId": "25c87139-2e56-44b9-9d82-6ddd929953ab"
      },
      "outputs": [
        {
          "name": "stdout",
          "output_type": "stream",
          "text": [
            "이\n",
            "51060\n"
          ]
        }
      ],
      "source": [
        "c = \"이\"\n",
        "print(c)\n",
        "print(ord(c))  # ord(문자) : 문자코드"
      ]
    },
    {
      "cell_type": "code",
      "execution_count": null,
      "id": "e27ed288",
      "metadata": {
        "ExecuteTime": {
          "end_time": "2022-09-01T08:28:16.972652Z",
          "start_time": "2022-09-01T08:28:16.961089Z"
        },
        "id": "e27ed288",
        "outputId": "8bfe2adb-b247-4950-c6fc-c49b4ae5a1f2"
      },
      "outputs": [
        {
          "name": "stdout",
          "output_type": "stream",
          "text": [
            "p => 112\n",
            "y => 121\n",
            "t => 116\n",
            "h => 104\n",
            "o => 111\n",
            "n => 110\n"
          ]
        }
      ],
      "source": [
        "a = \"python\"\n",
        "\n",
        "for i in a:\n",
        "    print(\"{0} => {1}\".format(i, ord(i)))"
      ]
    },
    {
      "cell_type": "code",
      "execution_count": null,
      "id": "3a9ee3bc",
      "metadata": {
        "ExecuteTime": {
          "end_time": "2022-09-01T08:29:55.260995Z",
          "start_time": "2022-09-01T08:29:55.256924Z"
        },
        "id": "3a9ee3bc",
        "outputId": "58ec7082-eeb9-4cdf-981f-a126a311dea0"
      },
      "outputs": [
        {
          "name": "stdout",
          "output_type": "stream",
          "text": [
            "3\n",
            "y\n"
          ]
        }
      ],
      "source": [
        "a = max([1, 2, 3])\n",
        "print(a)\n",
        "\n",
        "b = max(\"python\")\n",
        "print(b)"
      ]
    },
    {
      "cell_type": "code",
      "execution_count": null,
      "id": "423bcc3c",
      "metadata": {
        "ExecuteTime": {
          "end_time": "2022-09-01T08:30:25.332160Z",
          "start_time": "2022-09-01T08:30:25.328117Z"
        },
        "id": "423bcc3c",
        "outputId": "6abdb806-1865-4458-b383-b09adf4ce827"
      },
      "outputs": [
        {
          "name": "stdout",
          "output_type": "stream",
          "text": [
            "1\n",
            "h\n"
          ]
        }
      ],
      "source": [
        "a = min([1, 2, 3])\n",
        "print(a)\n",
        "\n",
        "b = min(\"python\")\n",
        "print(b)"
      ]
    },
    {
      "cell_type": "code",
      "execution_count": null,
      "id": "16ffd08e",
      "metadata": {
        "ExecuteTime": {
          "end_time": "2022-09-01T08:31:25.714715Z",
          "start_time": "2022-09-01T08:31:25.708634Z"
        },
        "id": "16ffd08e",
        "outputId": "ae0f623c-a4f7-4a97-aa4f-363f4989cdef"
      },
      "outputs": [
        {
          "name": "stdout",
          "output_type": "stream",
          "text": [
            "16\n",
            "16\n"
          ]
        }
      ],
      "source": [
        "a = pow(2, 4)\n",
        "print(a)\n",
        "print(2 ** 4)"
      ]
    },
    {
      "cell_type": "code",
      "execution_count": null,
      "id": "b8075d60",
      "metadata": {
        "ExecuteTime": {
          "end_time": "2022-09-01T08:35:24.023297Z",
          "start_time": "2022-09-01T08:35:24.016210Z"
        },
        "id": "b8075d60"
      },
      "outputs": [],
      "source": [
        "# 호출방법 \n",
        "# Call By Name(이름에 의한 호출), Call By Value(값에 의한 호출),\n",
        "# Call By Reference(참조_주소에 의한 호출)\n",
        "\n",
        "## 함수 선언\n",
        "def say():\n",
        "    a = \"안녕하세요\"\n",
        "    # print(\"안녕하세요\")\n",
        "    return a"
      ]
    },
    {
      "cell_type": "code",
      "execution_count": null,
      "id": "9635c490",
      "metadata": {
        "ExecuteTime": {
          "end_time": "2022-09-01T08:37:49.150662Z",
          "start_time": "2022-09-01T08:37:49.142579Z"
        },
        "id": "9635c490",
        "outputId": "0218228e-668f-423e-d17f-72bd64d7b7e3"
      },
      "outputs": [
        {
          "data": {
            "text/plain": [
              "'안녕하세요'"
            ]
          },
          "execution_count": 52,
          "metadata": {},
          "output_type": "execute_result"
        }
      ],
      "source": [
        "# 함수 호출\n",
        "say()"
      ]
    },
    {
      "cell_type": "code",
      "execution_count": null,
      "id": "0a83e5ab",
      "metadata": {
        "ExecuteTime": {
          "end_time": "2022-09-01T08:37:42.338509Z",
          "start_time": "2022-09-01T08:37:42.320163Z"
        },
        "id": "0a83e5ab",
        "outputId": "f530ca28-d362-46d8-c3c7-65af177d5b77"
      },
      "outputs": [
        {
          "data": {
            "text/plain": [
              "'안녕하세요'"
            ]
          },
          "execution_count": 51,
          "metadata": {},
          "output_type": "execute_result"
        }
      ],
      "source": [
        "\"안녕하세요\""
      ]
    },
    {
      "cell_type": "code",
      "execution_count": null,
      "id": "46069379",
      "metadata": {
        "ExecuteTime": {
          "end_time": "2022-09-01T08:38:15.837602Z",
          "start_time": "2022-09-01T08:38:15.822332Z"
        },
        "id": "46069379"
      },
      "outputs": [],
      "source": [
        "a = say()"
      ]
    },
    {
      "cell_type": "code",
      "execution_count": null,
      "id": "3e2af57d",
      "metadata": {
        "ExecuteTime": {
          "end_time": "2022-09-01T08:38:22.789768Z",
          "start_time": "2022-09-01T08:38:22.776589Z"
        },
        "id": "3e2af57d",
        "outputId": "a4d602f3-0940-40ec-83cb-18e89d806d93"
      },
      "outputs": [
        {
          "data": {
            "text/plain": [
              "'안녕하세요'"
            ]
          },
          "execution_count": 54,
          "metadata": {},
          "output_type": "execute_result"
        }
      ],
      "source": [
        "a"
      ]
    },
    {
      "cell_type": "code",
      "execution_count": null,
      "id": "529b7788",
      "metadata": {
        "ExecuteTime": {
          "end_time": "2022-09-01T08:40:07.147186Z",
          "start_time": "2022-09-01T08:40:07.144095Z"
        },
        "id": "529b7788"
      },
      "outputs": [],
      "source": [
        "# 함수 선언\n",
        "def hello(name):\n",
        "    string = \"Hello, {}\".format(name)\n",
        "    print(string)"
      ]
    },
    {
      "cell_type": "code",
      "execution_count": null,
      "id": "e57a2eba",
      "metadata": {
        "ExecuteTime": {
          "end_time": "2022-09-01T08:41:57.049804Z",
          "start_time": "2022-09-01T08:41:57.039672Z"
        },
        "id": "e57a2eba",
        "outputId": "514bd6ed-a7f8-4a28-d575-b0de21aead03"
      },
      "outputs": [
        {
          "name": "stdout",
          "output_type": "stream",
          "text": [
            "Hello, 홍길동\n"
          ]
        }
      ],
      "source": [
        "# 함수 호출\n",
        "hello(\"홍길동\")"
      ]
    },
    {
      "cell_type": "code",
      "execution_count": null,
      "id": "545d8a44",
      "metadata": {
        "ExecuteTime": {
          "end_time": "2022-09-01T08:42:30.615993Z",
          "start_time": "2022-09-01T08:42:30.613951Z"
        },
        "id": "545d8a44"
      },
      "outputs": [],
      "source": [
        "# 함수 선언\n",
        "def hello(name):\n",
        "    string = \"Hello, {}\".format(name)\n",
        "    #print(string)\n",
        "    return string"
      ]
    },
    {
      "cell_type": "code",
      "execution_count": null,
      "id": "c10044c6",
      "metadata": {
        "ExecuteTime": {
          "end_time": "2022-09-01T08:43:53.590647Z",
          "start_time": "2022-09-01T08:43:53.583988Z"
        },
        "id": "c10044c6",
        "outputId": "39af0666-b627-4bd9-cbef-f5eaa453bb20"
      },
      "outputs": [
        {
          "name": "stdout",
          "output_type": "stream",
          "text": [
            "Hello, Lee\n"
          ]
        }
      ],
      "source": [
        "hi = hello(\"Lee\")\n",
        "print(hi)"
      ]
    },
    {
      "cell_type": "code",
      "execution_count": null,
      "id": "ec452b03",
      "metadata": {
        "ExecuteTime": {
          "end_time": "2022-09-01T08:45:45.652321Z",
          "start_time": "2022-09-01T08:45:45.637095Z"
        },
        "id": "ec452b03"
      },
      "outputs": [],
      "source": [
        "# 함수 선언\n",
        "def hello(name):\n",
        "    #string = \"Hello, {}\".format(name)\n",
        "    #print(string)\n",
        "    #return string\n",
        "    return \"Hello, {}\".format(name)"
      ]
    },
    {
      "cell_type": "code",
      "execution_count": null,
      "id": "86a3a42a",
      "metadata": {
        "ExecuteTime": {
          "end_time": "2022-09-01T08:46:40.854728Z",
          "start_time": "2022-09-01T08:46:40.839129Z"
        },
        "id": "86a3a42a",
        "outputId": "2b345fe4-dd51-484a-f78b-2ed4161d78e7"
      },
      "outputs": [
        {
          "data": {
            "text/plain": [
              "'Hello, 장보고'"
            ]
          },
          "execution_count": 61,
          "metadata": {},
          "output_type": "execute_result"
        }
      ],
      "source": [
        "hello(\"장보고\")"
      ]
    },
    {
      "cell_type": "code",
      "execution_count": null,
      "id": "70f9b6d1",
      "metadata": {
        "ExecuteTime": {
          "end_time": "2022-09-01T08:46:34.766515Z",
          "start_time": "2022-09-01T08:46:34.760357Z"
        },
        "id": "70f9b6d1",
        "outputId": "d61375d7-8735-4a51-efe6-a1fa22357f28"
      },
      "outputs": [
        {
          "data": {
            "text/plain": [
              "'Hello, 장보고'"
            ]
          },
          "execution_count": 60,
          "metadata": {},
          "output_type": "execute_result"
        }
      ],
      "source": [
        "\"Hello, 장보고\""
      ]
    },
    {
      "cell_type": "code",
      "execution_count": null,
      "id": "32e9965a",
      "metadata": {
        "id": "32e9965a"
      },
      "outputs": [],
      "source": []
    },
    {
      "cell_type": "code",
      "execution_count": null,
      "id": "272f0cfc",
      "metadata": {
        "ExecuteTime": {
          "end_time": "2022-09-01T08:47:13.630991Z",
          "start_time": "2022-09-01T08:47:13.627532Z"
        },
        "id": "272f0cfc"
      },
      "outputs": [],
      "source": [
        "# 함수 선언\n",
        "def hello(name):\n",
        "    #string = \"Hello, {}\".format(name)\n",
        "    #print(string)\n",
        "    #return string\n",
        "    return \"Hello, \" + name"
      ]
    },
    {
      "cell_type": "code",
      "execution_count": null,
      "id": "d08bc507",
      "metadata": {
        "ExecuteTime": {
          "end_time": "2022-09-01T08:48:13.140011Z",
          "start_time": "2022-09-01T08:48:13.134969Z"
        },
        "id": "d08bc507",
        "outputId": "dcf187ff-28a8-41ea-fb4a-0ebd8e9e64d3"
      },
      "outputs": [
        {
          "data": {
            "text/plain": [
              "'Hello, 이순신'"
            ]
          },
          "execution_count": 64,
          "metadata": {},
          "output_type": "execute_result"
        }
      ],
      "source": [
        "hello(\"이순신\")"
      ]
    },
    {
      "cell_type": "code",
      "execution_count": null,
      "id": "53cf8066",
      "metadata": {
        "ExecuteTime": {
          "end_time": "2022-09-01T08:48:07.881865Z",
          "start_time": "2022-09-01T08:48:07.867771Z"
        },
        "id": "53cf8066",
        "outputId": "b6f5058e-8e90-4916-fb4d-7da5fb93cb83"
      },
      "outputs": [
        {
          "data": {
            "text/plain": [
              "'Hello, 이순신'"
            ]
          },
          "execution_count": 63,
          "metadata": {},
          "output_type": "execute_result"
        }
      ],
      "source": [
        "\"Hello, \" + \"이순신\""
      ]
    },
    {
      "cell_type": "code",
      "execution_count": null,
      "id": "797ba656",
      "metadata": {
        "ExecuteTime": {
          "end_time": "2022-09-01T08:51:29.436578Z",
          "start_time": "2022-09-01T08:51:29.426379Z"
        },
        "id": "797ba656",
        "outputId": "1147e9a6-567b-4a94-b7a8-2e28ff4692dd"
      },
      "outputs": [
        {
          "name": "stdout",
          "output_type": "stream",
          "text": [
            "tot =  15\n"
          ]
        }
      ],
      "source": [
        "a = [1, 2, 3, 4, 5]\n",
        "\n",
        "# tot = tot + 1  => tot += 1\n",
        "# tot = tot + 2\n",
        "# tot = tot + 3\n",
        "# tot = tot + 4\n",
        "# tot = tot + 5\n",
        "tot = 0\n",
        "for i in a:\n",
        "    tot += i\n",
        "    \n",
        "print(\"tot = \", tot)"
      ]
    },
    {
      "cell_type": "code",
      "execution_count": null,
      "id": "be6eccc7",
      "metadata": {
        "ExecuteTime": {
          "end_time": "2022-09-01T08:55:15.891686Z",
          "start_time": "2022-09-01T08:55:15.885608Z"
        },
        "id": "be6eccc7"
      },
      "outputs": [],
      "source": [
        "def hap(data):\n",
        "    tot = 0\n",
        "    for i in data:\n",
        "        tot += i\n",
        "        \n",
        "    return tot"
      ]
    },
    {
      "cell_type": "code",
      "execution_count": null,
      "id": "24a6f3f1",
      "metadata": {
        "ExecuteTime": {
          "end_time": "2022-09-01T08:55:18.177798Z",
          "start_time": "2022-09-01T08:55:18.171740Z"
        },
        "id": "24a6f3f1",
        "outputId": "78757d96-54c8-4aeb-8307-12ea6e12cd8d"
      },
      "outputs": [
        {
          "name": "stdout",
          "output_type": "stream",
          "text": [
            "tot =  15\n"
          ]
        }
      ],
      "source": [
        "a = [1, 2, 3, 4, 5]\n",
        "\n",
        "tot = hap(a)  # 함수 호출\n",
        "    \n",
        "print(\"tot = \", tot)"
      ]
    },
    {
      "cell_type": "code",
      "execution_count": null,
      "id": "45e45e09",
      "metadata": {
        "id": "45e45e09"
      },
      "outputs": [],
      "source": []
    }
  ],
  "metadata": {
    "kernelspec": {
      "display_name": "Python 3",
      "language": "python",
      "name": "python3"
    },
    "language_info": {
      "codemirror_mode": {
        "name": "ipython",
        "version": 3
      },
      "file_extension": ".py",
      "mimetype": "text/x-python",
      "name": "python",
      "nbconvert_exporter": "python",
      "pygments_lexer": "ipython3",
      "version": "3.8.8"
    },
    "toc": {
      "base_numbering": 1,
      "nav_menu": {},
      "number_sections": true,
      "sideBar": true,
      "skip_h1_title": false,
      "title_cell": "Table of Contents",
      "title_sidebar": "Contents",
      "toc_cell": false,
      "toc_position": {},
      "toc_section_display": true,
      "toc_window_display": false
    },
    "colab": {
      "provenance": [],
      "include_colab_link": true
    }
  },
  "nbformat": 4,
  "nbformat_minor": 5
}