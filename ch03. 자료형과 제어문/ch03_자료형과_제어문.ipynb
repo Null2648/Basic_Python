{
  "cells": [
    {
      "cell_type": "markdown",
      "metadata": {
        "id": "view-in-github",
        "colab_type": "text"
      },
      "source": [
        "<a href=\"https://colab.research.google.com/github/Null2648/Basic_Python/blob/main/ch03.%20%EC%9E%90%EB%A3%8C%ED%98%95%EA%B3%BC%20%EC%A0%9C%EC%96%B4%EB%AC%B8/ch03_%EC%9E%90%EB%A3%8C%ED%98%95%EA%B3%BC_%EC%A0%9C%EC%96%B4%EB%AC%B8.ipynb\" target=\"_parent\"><img src=\"https://colab.research.google.com/assets/colab-badge.svg\" alt=\"Open In Colab\"/></a>"
      ]
    },
    {
      "cell_type": "markdown",
      "id": "0f298c01",
      "metadata": {
        "id": "0f298c01"
      },
      "source": [
        "# 자료구조\n",
        "- 데이터를 저장하는 기억공간을 효율적으로 사용할 수 있도록 도와주는 기능\n",
        "- 기억공간을 효율적으로 사용한다는 것은 낭비를 최소화하고 처리속도를 빠르게 하는 것\n",
        "- 파이썬에서 제공하는 자료구조: 리스트, 튜플, 세트, 딕셔너리, 데이터프레임"
      ]
    },
    {
      "cell_type": "markdown",
      "id": "a72f99cc",
      "metadata": {
        "id": "a72f99cc"
      },
      "source": [
        "## 리스트(List)\n",
        "- 임의의 객체를 순서대로 저장하는 자료형(시퀀스_sequence 자료형)\n",
        "- 각 데이터의 값이 담겨지는 위치를 인덱스(index)라고 부른다.\n",
        "- 인덱스는 0부터 시작된다.\n",
        "- 변경 가능\n",
        "- 대괄호 []를 사용하여 데이터를 표현한다."
      ]
    },
    {
      "cell_type": "code",
      "execution_count": null,
      "id": "83a5667d",
      "metadata": {
        "id": "83a5667d",
        "outputId": "0b557167-b4b8-4495-c1f5-f824a7cb85bc"
      },
      "outputs": [
        {
          "data": {
            "text/plain": [
              "[10, 20, 30, 40, 50]"
            ]
          },
          "execution_count": 2,
          "metadata": {},
          "output_type": "execute_result"
        }
      ],
      "source": [
        "# 리스트(list): 하나의 변수에 여러 값을 할당하는 자료구조, 자료형\n",
        "# 시퀀스 자료형: 순서대로 데이터를 저장하는 자료형(리스트, 문자열, 튜플)\n",
        "a = [10, 20, 30, 40, 50]\n",
        "a"
      ]
    },
    {
      "cell_type": "code",
      "execution_count": null,
      "id": "cf6805a3",
      "metadata": {
        "id": "cf6805a3",
        "outputId": "8eb28826-a6ed-49be-f3c7-f5165cbb1807"
      },
      "outputs": [
        {
          "name": "stdout",
          "output_type": "stream",
          "text": [
            "<class 'list'>\n"
          ]
        }
      ],
      "source": [
        "# 자료형을 확인하는 함수\n",
        "print(type(a))"
      ]
    },
    {
      "cell_type": "code",
      "execution_count": null,
      "id": "a88ee848",
      "metadata": {
        "id": "a88ee848",
        "outputId": "bd194bb5-c9f1-407d-ac9c-87a7c5570a04"
      },
      "outputs": [
        {
          "data": {
            "text/plain": [
              "['red', 'blue', 'green']"
            ]
          },
          "execution_count": 8,
          "metadata": {},
          "output_type": "execute_result"
        }
      ],
      "source": [
        "b = ['red', 'blue', 'green']\n",
        "b"
      ]
    },
    {
      "cell_type": "code",
      "execution_count": null,
      "id": "3867997a",
      "metadata": {
        "id": "3867997a",
        "outputId": "11620440-f27e-4587-dc24-f60c8286cb7d"
      },
      "outputs": [
        {
          "data": {
            "text/plain": [
              "'red'"
            ]
          },
          "execution_count": 9,
          "metadata": {},
          "output_type": "execute_result"
        }
      ],
      "source": [
        "# 인덱스(Index): 데이터의 위치\n",
        "b[0]"
      ]
    },
    {
      "cell_type": "code",
      "execution_count": null,
      "id": "abf5f8d5",
      "metadata": {
        "id": "abf5f8d5",
        "outputId": "ece0ea6f-97c0-4d1f-aa24-072c1047032a"
      },
      "outputs": [
        {
          "data": {
            "text/plain": [
              "'green'"
            ]
          },
          "execution_count": 10,
          "metadata": {},
          "output_type": "execute_result"
        }
      ],
      "source": [
        "b[-1]"
      ]
    },
    {
      "cell_type": "code",
      "execution_count": null,
      "id": "032f0f30",
      "metadata": {
        "id": "032f0f30",
        "outputId": "de9bc98c-92cb-48e4-ac35-fce9bef54a4c"
      },
      "outputs": [
        {
          "data": {
            "text/plain": [
              "[1, 2, 3, ['a', 'b', 'c']]"
            ]
          },
          "execution_count": 13,
          "metadata": {},
          "output_type": "execute_result"
        }
      ],
      "source": [
        "# 중첩 리스트: 리스트 안에 또 다른 리스트를 담는 것\n",
        "x = [1, 2, 3, ['a', 'b', 'c']]\n",
        "x"
      ]
    },
    {
      "cell_type": "code",
      "execution_count": null,
      "id": "105ef573",
      "metadata": {
        "id": "105ef573",
        "outputId": "49aeec74-a86b-47ed-a9de-fafb5f35e2fd"
      },
      "outputs": [
        {
          "data": {
            "text/plain": [
              "['a', 'b', 'c']"
            ]
          },
          "execution_count": 14,
          "metadata": {},
          "output_type": "execute_result"
        }
      ],
      "source": [
        "x[3]"
      ]
    },
    {
      "cell_type": "code",
      "execution_count": null,
      "id": "6aac9cf8",
      "metadata": {
        "id": "6aac9cf8",
        "outputId": "f5bbbcd7-0037-434a-9c4f-2f84adbbb458"
      },
      "outputs": [
        {
          "data": {
            "text/plain": [
              "'a'"
            ]
          },
          "execution_count": 15,
          "metadata": {},
          "output_type": "execute_result"
        }
      ],
      "source": [
        "x[3][0]"
      ]
    },
    {
      "cell_type": "code",
      "execution_count": null,
      "id": "2121392c",
      "metadata": {
        "scrolled": true,
        "id": "2121392c",
        "outputId": "c95f48fb-a272-4237-d5b6-23e24566ca68"
      },
      "outputs": [
        {
          "data": {
            "text/plain": [
              "'c'"
            ]
          },
          "execution_count": 17,
          "metadata": {},
          "output_type": "execute_result"
        }
      ],
      "source": [
        "x[-1][-1]"
      ]
    },
    {
      "cell_type": "code",
      "execution_count": null,
      "id": "3a651067",
      "metadata": {
        "id": "3a651067",
        "outputId": "cf2041be-d320-4700-c123-4594aa3c50a7"
      },
      "outputs": [
        {
          "data": {
            "text/plain": [
              "[1, 2, 3, 4, 5]"
            ]
          },
          "execution_count": 18,
          "metadata": {},
          "output_type": "execute_result"
        }
      ],
      "source": [
        "y = [1, 2, 3, 4, 5]\n",
        "y"
      ]
    },
    {
      "cell_type": "code",
      "execution_count": null,
      "id": "5998d116",
      "metadata": {
        "scrolled": true,
        "id": "5998d116",
        "outputId": "8c1f5832-b6ee-47c8-97ef-0cfbdc06aafb"
      },
      "outputs": [
        {
          "data": {
            "text/plain": [
              "[10, 2, 3, 4, 5]"
            ]
          },
          "execution_count": 19,
          "metadata": {},
          "output_type": "execute_result"
        }
      ],
      "source": [
        "# 변수 = 값\n",
        "y[0] = 10\n",
        "y"
      ]
    },
    {
      "cell_type": "code",
      "execution_count": null,
      "id": "44d9bbea",
      "metadata": {
        "id": "44d9bbea",
        "outputId": "b715d2ce-89a1-4282-b6d3-b515407da69d"
      },
      "outputs": [
        {
          "data": {
            "text/plain": [
              "[1, 2, 3, 4, 5]"
            ]
          },
          "execution_count": 20,
          "metadata": {},
          "output_type": "execute_result"
        }
      ],
      "source": [
        "# 슬라이싱(slicing): 리스트에 범위지정을 통해 데이터를 추출, start:end\n",
        "# 파이썬은 마지막 데이터를 포함하지 않는다. end라고 쓴것의 -1 값까지만 추출\n",
        "x = [1, 2, 3 , 4, 5]\n",
        "x"
      ]
    },
    {
      "cell_type": "code",
      "execution_count": null,
      "id": "cc96101a",
      "metadata": {
        "id": "cc96101a",
        "outputId": "487c94cd-5cb3-47a0-cd40-f4f4fd7b087e"
      },
      "outputs": [
        {
          "data": {
            "text/plain": [
              "[1, 2, 3, 4, 5]"
            ]
          },
          "execution_count": 21,
          "metadata": {},
          "output_type": "execute_result"
        }
      ],
      "source": [
        "x[0:5]"
      ]
    },
    {
      "cell_type": "code",
      "execution_count": null,
      "id": "46965349",
      "metadata": {
        "id": "46965349",
        "outputId": "a713e19d-5f16-4ed2-9614-49e2f3e6bc94"
      },
      "outputs": [
        {
          "data": {
            "text/plain": [
              "[1, 2, 3, 4, 5]"
            ]
          },
          "execution_count": 22,
          "metadata": {},
          "output_type": "execute_result"
        }
      ],
      "source": [
        "x[:5] # 시작위치를 지운건 처음부터 읽어 온단 뜻"
      ]
    },
    {
      "cell_type": "code",
      "execution_count": null,
      "id": "05f9e1f8",
      "metadata": {
        "id": "05f9e1f8",
        "outputId": "5f70b506-37c3-4e43-eeff-7fec50470ee2"
      },
      "outputs": [
        {
          "data": {
            "text/plain": [
              "[1, 2, 3, 4, 5]"
            ]
          },
          "execution_count": 23,
          "metadata": {},
          "output_type": "execute_result"
        }
      ],
      "source": [
        "x[0:] # 종료 위치를 지운건 끝까지 읽으란 뜻"
      ]
    },
    {
      "cell_type": "code",
      "execution_count": null,
      "id": "c232fe77",
      "metadata": {
        "id": "c232fe77",
        "outputId": "7853ed72-6d0b-4081-d0a4-4b7cc04fd2be"
      },
      "outputs": [
        {
          "data": {
            "text/plain": [
              "[1, 2, 3, 4, 5]"
            ]
          },
          "execution_count": 25,
          "metadata": {},
          "output_type": "execute_result"
        }
      ],
      "source": [
        "x[:] # 처음부터 끝까지 읽으란 뜻"
      ]
    },
    {
      "cell_type": "code",
      "execution_count": null,
      "id": "7ab46719",
      "metadata": {
        "id": "7ab46719"
      },
      "outputs": [],
      "source": [
        "cities = ['서울', '부산', '인천', '대구', '대전', '광주', '울산', '수원']"
      ]
    },
    {
      "cell_type": "code",
      "execution_count": null,
      "id": "294b1755",
      "metadata": {
        "id": "294b1755",
        "outputId": "80c1b6ba-5cfc-4800-de57-bd2595b6e086"
      },
      "outputs": [
        {
          "name": "stdout",
          "output_type": "stream",
          "text": [
            "['서울', '부산', '인천', '대구', '대전', '광주', '울산', '수원']\n",
            "['서울', '부산', '인천', '대구', '대전', '광주', '울산', '수원']\n",
            "['서울', '부산', '인천', '대구', '대전', '광주', '울산', '수원']\n",
            "['서울', '부산', '인천', '대구', '대전', '광주', '울산', '수원']\n",
            "['서울', '부산', '인천', '대구', '대전', '광주', '울산', '수원']\n"
          ]
        }
      ],
      "source": [
        "# 변수명[인덱스]\n",
        "# 변수명[시작인덱스:마지막인덱스], 마지막인덱스-1까지만 추출\n",
        "print(cities)\n",
        "print(cities[0:8])\n",
        "print(cities[:8])\n",
        "print(cities[0:])\n",
        "print(cities[:])"
      ]
    },
    {
      "cell_type": "code",
      "execution_count": null,
      "id": "ac9efab2",
      "metadata": {
        "id": "ac9efab2",
        "outputId": "ba7f28c9-040b-48aa-ef83-ae22a74aaacc"
      },
      "outputs": [
        {
          "data": {
            "text/plain": [
              "['서울', '부산', '인천', '대구', '대전', '광주', '울산', '수원']"
            ]
          },
          "execution_count": 30,
          "metadata": {},
          "output_type": "execute_result"
        }
      ],
      "source": [
        "cities[-8:]"
      ]
    },
    {
      "cell_type": "code",
      "execution_count": null,
      "id": "f67d43ff",
      "metadata": {
        "id": "f67d43ff",
        "outputId": "853016c8-284b-4e9f-a626-34cc9615f52b"
      },
      "outputs": [
        {
          "data": {
            "text/plain": [
              "['수원']"
            ]
          },
          "execution_count": 32,
          "metadata": {},
          "output_type": "execute_result"
        }
      ],
      "source": [
        "cities[-1:]"
      ]
    },
    {
      "cell_type": "code",
      "execution_count": null,
      "id": "c74b0d85",
      "metadata": {
        "id": "c74b0d85",
        "outputId": "b039e312-5455-4f84-c0cd-1517ef5a114a"
      },
      "outputs": [
        {
          "data": {
            "text/plain": [
              "['서울', '인천', '대전', '울산']"
            ]
          },
          "execution_count": 34,
          "metadata": {},
          "output_type": "execute_result"
        }
      ],
      "source": [
        "# 증가값(step)\n",
        "# 변수명[시작인덱스:마지막인덱스:증감값]\n",
        "cities[::2]"
      ]
    },
    {
      "cell_type": "code",
      "execution_count": null,
      "id": "15bf43d2",
      "metadata": {
        "id": "15bf43d2",
        "outputId": "767a543a-8b4d-40b4-a4ee-9c6367972848"
      },
      "outputs": [
        {
          "data": {
            "text/plain": [
              "['수원', '울산', '광주', '대전', '대구', '인천', '부산', '서울']"
            ]
          },
          "execution_count": 35,
          "metadata": {},
          "output_type": "execute_result"
        }
      ],
      "source": [
        "cities[::-1] # 역으로 슬라이싱"
      ]
    },
    {
      "cell_type": "code",
      "execution_count": null,
      "id": "5a9fab8f",
      "metadata": {
        "id": "5a9fab8f",
        "outputId": "2e0dd51e-9d0a-4ae6-b3b6-c8cad47b0a26"
      },
      "outputs": [
        {
          "name": "stdout",
          "output_type": "stream",
          "text": [
            "a = [1, 2, 3, 4, 5]\n",
            "b = [1, 2, 3, 4, 5]\n"
          ]
        }
      ],
      "source": [
        "# 깊은 복사와 얕은 복사\n",
        "a = [1, 2, 3, 4, 5]\n",
        "b = a # 개체복사\n",
        "print(\"a =\", a)\n",
        "print(\"b =\", b)"
      ]
    },
    {
      "cell_type": "code",
      "execution_count": null,
      "id": "86adf733",
      "metadata": {
        "id": "86adf733",
        "outputId": "5994ffc0-aed2-4b16-8d87-deb375ff5074"
      },
      "outputs": [
        {
          "name": "stdout",
          "output_type": "stream",
          "text": [
            "a = [10, 2, 3, 4, 5]\n",
            "b - [10, 2, 3, 4, 5]\n"
          ]
        }
      ],
      "source": [
        "a[0] = 10\n",
        "print(\"a =\", a)\n",
        "print(\"b =\", b)\n",
        "# 이게 깊은 복사, 똑같은 주소를 복사한거라 a의 0번째 주소의 값이 바뀌니 b의 값도 바뀌는것"
      ]
    },
    {
      "cell_type": "code",
      "execution_count": null,
      "id": "bc0bc195",
      "metadata": {
        "id": "bc0bc195",
        "outputId": "aa6f41bb-31b4-4e5c-bb6c-87a32eba2583"
      },
      "outputs": [
        {
          "name": "stdout",
          "output_type": "stream",
          "text": [
            "2359957569152\n",
            "2359957569152\n"
          ]
        }
      ],
      "source": [
        "# 자료형의 주소를 읽어오는 함수: id()\n",
        "print(id(a))\n",
        "print(id(b))"
      ]
    },
    {
      "cell_type": "code",
      "execution_count": null,
      "id": "c54e0da6",
      "metadata": {
        "id": "c54e0da6",
        "outputId": "9bb60d84-9142-41dc-f63b-3715ad76a603"
      },
      "outputs": [
        {
          "name": "stdout",
          "output_type": "stream",
          "text": [
            "a = [1, 2, 3, 4, 5]\n",
            "b = [1, 2, 3, 4, 5]\n"
          ]
        }
      ],
      "source": [
        "a = [1, 2, 3, 4, 5]\n",
        "b = a[:] # 이건 값만 가져오는 것\n",
        "print(\"a =\", a)\n",
        "print(\"b =\", b)"
      ]
    },
    {
      "cell_type": "code",
      "execution_count": null,
      "id": "7910ee92",
      "metadata": {
        "id": "7910ee92",
        "outputId": "42553394-2d46-44da-e65b-a4fe6f7491b5"
      },
      "outputs": [
        {
          "name": "stdout",
          "output_type": "stream",
          "text": [
            "a = [10, 2, 3, 4, 5]\n",
            "b = [1, 2, 3, 4, 5]\n"
          ]
        }
      ],
      "source": [
        "a[0] = 10\n",
        "print(\"a =\", a)\n",
        "print(\"b =\", b)\n",
        "# 이게 얕은 복사"
      ]
    },
    {
      "cell_type": "code",
      "execution_count": null,
      "id": "03e33736",
      "metadata": {
        "scrolled": true,
        "id": "03e33736",
        "outputId": "d2f26b66-87e7-4d94-f03c-d6decffa8748"
      },
      "outputs": [
        {
          "name": "stdout",
          "output_type": "stream",
          "text": [
            "2359957638528\n",
            "2359957569152\n"
          ]
        }
      ],
      "source": [
        "print(id(a))\n",
        "print(id(b))"
      ]
    },
    {
      "cell_type": "markdown",
      "id": "d3307a0e",
      "metadata": {
        "id": "d3307a0e"
      },
      "source": [
        "### 리스트의 연산"
      ]
    },
    {
      "cell_type": "code",
      "execution_count": null,
      "id": "84345593",
      "metadata": {
        "id": "84345593",
        "outputId": "2d32fc7c-d05d-455b-ecf1-2e0b886f32fc"
      },
      "outputs": [
        {
          "data": {
            "text/plain": [
              "[1, 2, 3, 4, 5, 6]"
            ]
          },
          "execution_count": 44,
          "metadata": {},
          "output_type": "execute_result"
        }
      ],
      "source": [
        "# 덧셈연산: 확장\n",
        "x = [1, 2, 3]\n",
        "y = [4, 5, 6]\n",
        "a = x + y # extend(확장)\n",
        "a"
      ]
    },
    {
      "cell_type": "code",
      "execution_count": null,
      "id": "3ca3af00",
      "metadata": {
        "id": "3ca3af00",
        "outputId": "48079f3b-4c90-4dd4-b213-d0ac3ae293d7"
      },
      "outputs": [
        {
          "name": "stdout",
          "output_type": "stream",
          "text": [
            "['red', 'blue', 'green', 'orange', 'black', 'white']\n",
            "3\n"
          ]
        }
      ],
      "source": [
        "xx = ['red', 'blue', 'green']\n",
        "yy = ['orange', 'black', 'white']\n",
        "print(xx + yy)\n",
        "print(len(xx))"
      ]
    },
    {
      "cell_type": "code",
      "execution_count": null,
      "id": "607d6168",
      "metadata": {
        "id": "607d6168",
        "outputId": "8b4ade7f-3d91-4b47-b1fc-abe2222b3919"
      },
      "outputs": [
        {
          "data": {
            "text/plain": [
              "['red', 'blue', 'green', 'red', 'blue', 'green', 'red', 'blue', 'green']"
            ]
          },
          "execution_count": 47,
          "metadata": {},
          "output_type": "execute_result"
        }
      ],
      "source": [
        "# 리스트 곱셈: 반복(횟수)\n",
        "xx * 3"
      ]
    },
    {
      "cell_type": "code",
      "execution_count": null,
      "id": "5b3e5816",
      "metadata": {
        "id": "5b3e5816",
        "outputId": "3f083b75-fa31-4b51-a07e-cf3c6eeb1552"
      },
      "outputs": [
        {
          "name": "stdout",
          "output_type": "stream",
          "text": [
            "3\n",
            "hellopython\n"
          ]
        },
        {
          "ename": "TypeError",
          "evalue": "unsupported operand type(s) for +: 'int' and 'str'",
          "output_type": "error",
          "traceback": [
            "\u001b[1;31m---------------------------------------------------------------------------\u001b[0m",
            "\u001b[1;31mTypeError\u001b[0m                                 Traceback (most recent call last)",
            "Input \u001b[1;32mIn [49]\u001b[0m, in \u001b[0;36m<cell line: 4>\u001b[1;34m()\u001b[0m\n\u001b[0;32m      2\u001b[0m \u001b[38;5;28mprint\u001b[39m(a[\u001b[38;5;241m2\u001b[39m])\n\u001b[0;32m      3\u001b[0m \u001b[38;5;28mprint\u001b[39m(\u001b[38;5;124m\"\u001b[39m\u001b[38;5;124mhello\u001b[39m\u001b[38;5;124m\"\u001b[39m \u001b[38;5;241m+\u001b[39m \u001b[38;5;124m\"\u001b[39m\u001b[38;5;124mpython\u001b[39m\u001b[38;5;124m\"\u001b[39m)\n\u001b[1;32m----> 4\u001b[0m \u001b[38;5;28mprint\u001b[39m(\u001b[43ma\u001b[49m\u001b[43m[\u001b[49m\u001b[38;5;241;43m2\u001b[39;49m\u001b[43m]\u001b[49m\u001b[43m \u001b[49m\u001b[38;5;241;43m+\u001b[39;49m\u001b[43m \u001b[49m\u001b[38;5;124;43m\"\u001b[39;49m\u001b[38;5;124;43mhi\u001b[39;49m\u001b[38;5;124;43m\"\u001b[39;49m)\n",
            "\u001b[1;31mTypeError\u001b[0m: unsupported operand type(s) for +: 'int' and 'str'"
          ]
        }
      ],
      "source": [
        "a = [1, 2, 3]\n",
        "print(a[2])\n",
        "print(\"hello\" + \"python\")\n",
        "print(a[2] + \"hi\") # a는 리스트 형태지만 데이터 타입은 int여서 문자인 hi와 연산 불가"
      ]
    },
    {
      "cell_type": "code",
      "execution_count": null,
      "id": "7d9a58da",
      "metadata": {
        "scrolled": true,
        "id": "7d9a58da",
        "outputId": "be2c9d6f-0639-4a82-d304-4ce1c4ba960e"
      },
      "outputs": [
        {
          "data": {
            "text/plain": [
              "list"
            ]
          },
          "execution_count": 50,
          "metadata": {},
          "output_type": "execute_result"
        }
      ],
      "source": [
        "type(a)"
      ]
    },
    {
      "cell_type": "code",
      "execution_count": null,
      "id": "fd7a0b8e",
      "metadata": {
        "id": "fd7a0b8e",
        "outputId": "c0407efb-672e-407c-9a25-3b80a02edab4"
      },
      "outputs": [
        {
          "name": "stdout",
          "output_type": "stream",
          "text": [
            "3hi\n"
          ]
        }
      ],
      "source": [
        "print(str(a[2]) + \"hi\")"
      ]
    },
    {
      "cell_type": "code",
      "execution_count": null,
      "id": "e4950707",
      "metadata": {
        "id": "e4950707",
        "outputId": "75fca8ed-ceba-4524-8653-b4a1f8d66b37"
      },
      "outputs": [
        {
          "data": {
            "text/plain": [
              "['red', 'blue', 'green', 'orange', 'black', 'white']"
            ]
          },
          "execution_count": 55,
          "metadata": {},
          "output_type": "execute_result"
        }
      ],
      "source": [
        "# in 연산: 포함 여부를 나타내는 연산\n",
        "color = ['red', 'blue', 'green', 'orange', 'black', 'white']\n",
        "color"
      ]
    },
    {
      "cell_type": "code",
      "execution_count": null,
      "id": "501ba0ae",
      "metadata": {
        "id": "501ba0ae",
        "outputId": "77830605-2908-44c6-fd5e-8b53648b709c"
      },
      "outputs": [
        {
          "data": {
            "text/plain": [
              "True"
            ]
          },
          "execution_count": 56,
          "metadata": {},
          "output_type": "execute_result"
        }
      ],
      "source": [
        "'blue' in color"
      ]
    },
    {
      "cell_type": "code",
      "execution_count": null,
      "id": "7179e22e",
      "metadata": {
        "id": "7179e22e",
        "outputId": "73844048-33de-4978-8b83-68d1b4b52807"
      },
      "outputs": [
        {
          "data": {
            "text/plain": [
              "False"
            ]
          },
          "execution_count": 57,
          "metadata": {},
          "output_type": "execute_result"
        }
      ],
      "source": [
        "'blue' not in color"
      ]
    },
    {
      "cell_type": "code",
      "execution_count": null,
      "id": "5a23816c",
      "metadata": {
        "id": "5a23816c",
        "outputId": "f005d917-edb9-4ed0-bbc8-c68e8e1cc8a7"
      },
      "outputs": [
        {
          "data": {
            "text/plain": [
              "['red', 'blue', 'greed']"
            ]
          },
          "execution_count": 59,
          "metadata": {},
          "output_type": "execute_result"
        }
      ],
      "source": [
        "# 리스트의 추가, 삭제\n",
        "## append(): 새로운 데이터가 마지막 위치에 추가된다.\n",
        "color = ['red', 'blue', 'greed']\n",
        "color"
      ]
    },
    {
      "cell_type": "code",
      "execution_count": null,
      "id": "8c4520b3",
      "metadata": {
        "id": "8c4520b3",
        "outputId": "0e36f12a-59e6-4ec2-892e-4c38a15096c5"
      },
      "outputs": [
        {
          "data": {
            "text/plain": [
              "['red', 'blue', 'greed', 'white']"
            ]
          },
          "execution_count": 60,
          "metadata": {},
          "output_type": "execute_result"
        }
      ],
      "source": [
        "color.append('white')\n",
        "color"
      ]
    },
    {
      "cell_type": "code",
      "execution_count": null,
      "id": "6b180de5",
      "metadata": {
        "id": "6b180de5",
        "outputId": "bd3900ff-bc49-4158-f17d-df8c3a32d707"
      },
      "outputs": [
        {
          "data": {
            "text/plain": [
              "['red', 'blue', 'greed', 'orange', 'black', 'white']"
            ]
          },
          "execution_count": 61,
          "metadata": {},
          "output_type": "execute_result"
        }
      ],
      "source": [
        "# extend(): 기존의 리스트에 새로운 리스트를 추가\n",
        "color = ['red', 'blue', 'greed']\n",
        "color.extend(['orange', 'black', 'white'])\n",
        "color"
      ]
    },
    {
      "cell_type": "code",
      "execution_count": null,
      "id": "d6a63ba5",
      "metadata": {
        "id": "d6a63ba5",
        "outputId": "a24f473d-a3f8-473c-827b-a04669c14c4f"
      },
      "outputs": [
        {
          "data": {
            "text/plain": [
              "['orange', 'red', 'blue', 'greed', 'orange', 'black', 'white']"
            ]
          },
          "execution_count": 62,
          "metadata": {},
          "output_type": "execute_result"
        }
      ],
      "source": [
        "# insert(index, data)\n",
        "color.insert(0, 'orange')\n",
        "color"
      ]
    },
    {
      "cell_type": "code",
      "execution_count": null,
      "id": "cf02594c",
      "metadata": {
        "id": "cf02594c",
        "outputId": "d77b42c4-e270-40e5-c313-101267a3eaf2"
      },
      "outputs": [
        {
          "data": {
            "text/plain": [
              "['orange', 'blue', 'greed', 'orange', 'black', 'white']"
            ]
          },
          "execution_count": 63,
          "metadata": {},
          "output_type": "execute_result"
        }
      ],
      "source": [
        "# remove(data)\n",
        "# remove를 햇을때 같은 데이터가 여러개 있으면 처음 것 부터 지워짐\n",
        "color.remove('red')\n",
        "color"
      ]
    },
    {
      "cell_type": "code",
      "execution_count": null,
      "id": "911bf855",
      "metadata": {
        "id": "911bf855",
        "outputId": "fd00892d-026c-4e0d-8b9d-bf563b08427a"
      },
      "outputs": [
        {
          "data": {
            "text/plain": [
              "['blue', 'greed', 'orange', 'black', 'white']"
            ]
          },
          "execution_count": 64,
          "metadata": {},
          "output_type": "execute_result"
        }
      ],
      "source": [
        "# del\n",
        "del color[0]\n",
        "color"
      ]
    },
    {
      "cell_type": "code",
      "execution_count": null,
      "id": "2c5d617c",
      "metadata": {
        "id": "2c5d617c",
        "outputId": "982bb986-dc5e-460f-b177-569cee83eb63"
      },
      "outputs": [
        {
          "name": "stdout",
          "output_type": "stream",
          "text": [
            "a = [5, 7, 8, 9, 10]\n"
          ]
        }
      ],
      "source": [
        "# 리스트의 요소를 제거하는 작업\n",
        "## 인덱스를 이용해서 제거: del 명렁어, pop() 함수\n",
        "a = [5, 6, 7, 8, 9, 10]\n",
        "del a[1]\n",
        "print(\"a =\", a)"
      ]
    },
    {
      "cell_type": "code",
      "execution_count": null,
      "id": "be1bca83",
      "metadata": {
        "id": "be1bca83",
        "outputId": "1e948c9d-a556-44a1-eadd-0e8364975d2c"
      },
      "outputs": [
        {
          "name": "stdout",
          "output_type": "stream",
          "text": [
            "a = [5, 7, 9, 10]\n"
          ]
        }
      ],
      "source": [
        "a.pop(2)\n",
        "print(\"a =\", a)"
      ]
    },
    {
      "cell_type": "code",
      "execution_count": null,
      "id": "7ef9b6ba",
      "metadata": {
        "id": "7ef9b6ba",
        "outputId": "22c2c8ab-f495-40eb-9df6-8c7ffe4ed7b7"
      },
      "outputs": [
        {
          "name": "stdout",
          "output_type": "stream",
          "text": [
            "a = []\n"
          ]
        }
      ],
      "source": [
        "# 모두 제거: clear()\n",
        "a .clear()\n",
        "print(\"a =\", a)"
      ]
    },
    {
      "cell_type": "code",
      "execution_count": null,
      "id": "c5584360",
      "metadata": {
        "id": "c5584360",
        "outputId": "f437f0e8-8a95-4145-a5d0-5f60e487be86"
      },
      "outputs": [
        {
          "name": "stdout",
          "output_type": "stream",
          "text": [
            "[1, 2, 3] 1 2 3\n"
          ]
        }
      ],
      "source": [
        "# 패킹(packing)과 언패킹(unpacking)\n",
        "## packing: 하나의 변수에 여러개의 데이터를 할당 하는 것\n",
        "## unpacking: 하나의 변수에 담긴 여러개의 데이터를 각각의 변수로 반환\n",
        "x = [1, 2, 3] # 패킹\n",
        "a, b, c = x # 언패킹\n",
        "print(x, a, b, c)"
      ]
    },
    {
      "cell_type": "code",
      "execution_count": null,
      "id": "eebc566c",
      "metadata": {
        "id": "eebc566c"
      },
      "outputs": [],
      "source": [
        "# a, b, c, d = x   이렇게 하면 에러난다.()\n",
        "# a, b = x 마찬가지로 에러난다."
      ]
    },
    {
      "cell_type": "code",
      "execution_count": null,
      "id": "4849b7d4",
      "metadata": {
        "id": "4849b7d4",
        "outputId": "03dc128f-4285-4a1e-db23-fd571cf29f21"
      },
      "outputs": [
        {
          "data": {
            "text/plain": [
              "[[49, 79, 20, 100, 80], [88, 77, 99, 66, 50], [90, 100, 52, 60, 70]]"
            ]
          },
          "execution_count": 68,
          "metadata": {},
          "output_type": "execute_result"
        }
      ],
      "source": [
        "# 이차원 리스트\n",
        "kor = [49, 79, 20, 100, 80]\n",
        "eng = [88, 77, 99, 66, 50]\n",
        "math = [90, 100, 52, 60, 70]\n",
        "score = [kor, eng, math]\n",
        "score"
      ]
    },
    {
      "cell_type": "code",
      "execution_count": null,
      "id": "8b79ffbc",
      "metadata": {
        "id": "8b79ffbc",
        "outputId": "85ff6ba2-f607-49f9-f8fe-990c0971b61f"
      },
      "outputs": [
        {
          "name": "stdout",
          "output_type": "stream",
          "text": [
            "[49, 79, 20, 100, 80]\n",
            "[49, 79, 20, 100, 80]\n",
            "66\n"
          ]
        }
      ],
      "source": [
        "print(kor)\n",
        "print(score[0])\n",
        "print(score[1][3])"
      ]
    },
    {
      "cell_type": "code",
      "execution_count": null,
      "id": "2cf84fc4",
      "metadata": {
        "id": "2cf84fc4",
        "outputId": "3f75cb38-142f-4a57-e97b-04fc5b305f87"
      },
      "outputs": [
        {
          "name": "stdout",
          "output_type": "stream",
          "text": [
            "79\n",
            "79\n"
          ]
        }
      ],
      "source": [
        "# 두 번째 학생의 국어점수\n",
        "print(kor[1])\n",
        "print(score[0][1])"
      ]
    },
    {
      "cell_type": "code",
      "execution_count": null,
      "id": "112a5a70",
      "metadata": {
        "id": "112a5a70",
        "outputId": "281a8e9b-30c7-4468-b6cb-dc31862878c6"
      },
      "outputs": [
        {
          "data": {
            "text/plain": [
              "[100, 2, 3, 4, 5]"
            ]
          },
          "execution_count": 71,
          "metadata": {},
          "output_type": "execute_result"
        }
      ],
      "source": [
        "x = [1, 2, 3, 4, 5]\n",
        "y = x\n",
        "x[0] = 100\n",
        "y\n",
        "# 깊은 복사임"
      ]
    },
    {
      "cell_type": "code",
      "execution_count": null,
      "id": "da5de956",
      "metadata": {
        "id": "da5de956",
        "outputId": "3ffd2a41-0d60-4571-d3b4-26f778303e84"
      },
      "outputs": [
        {
          "name": "stdout",
          "output_type": "stream",
          "text": [
            "True\n",
            "False\n"
          ]
        }
      ],
      "source": [
        "# ==: 값을 비교하는 연산자\n",
        "# is: 메모리의 주소를 비교하는 연산자\n",
        "a = 300\n",
        "b = 300\n",
        "\n",
        "print(a == b)\n",
        "print(a is b)"
      ]
    },
    {
      "cell_type": "code",
      "execution_count": null,
      "id": "f45c0ea7",
      "metadata": {
        "id": "f45c0ea7",
        "outputId": "c637c6dc-66d1-4719-f731-a574b5c3ef7c"
      },
      "outputs": [
        {
          "name": "stdout",
          "output_type": "stream",
          "text": [
            "True\n",
            "True\n"
          ]
        }
      ],
      "source": [
        "# 파이썬은 -5에서 부터 256까지 이미 메모리에 할당되어 있다.\n",
        "a = 1\n",
        "b = 1\n",
        "\n",
        "print(a == b)\n",
        "print(a is b)\n",
        "# a와 b는 주소도 같다"
      ]
    },
    {
      "cell_type": "code",
      "execution_count": null,
      "id": "88764b3e",
      "metadata": {
        "id": "88764b3e",
        "outputId": "b9774b9a-b76d-4dca-89d8-c8d2e495ac4b"
      },
      "outputs": [
        {
          "name": "stdout",
          "output_type": "stream",
          "text": [
            "True\n",
            "True\n"
          ]
        }
      ],
      "source": [
        "a = 256\n",
        "b = 256\n",
        "\n",
        "print(a == b)\n",
        "print(a is b)"
      ]
    },
    {
      "cell_type": "code",
      "execution_count": null,
      "id": "c76c2c3b",
      "metadata": {
        "id": "c76c2c3b",
        "outputId": "eda32743-0878-4ff9-c782-838244433df8"
      },
      "outputs": [
        {
          "name": "stdout",
          "output_type": "stream",
          "text": [
            "True\n",
            "False\n"
          ]
        }
      ],
      "source": [
        "a = 257\n",
        "b = 257\n",
        "\n",
        "print(a == b)\n",
        "print(a is b)"
      ]
    },
    {
      "cell_type": "code",
      "execution_count": null,
      "id": "91b3be9a",
      "metadata": {
        "id": "91b3be9a",
        "outputId": "24f28c7d-8d11-4177-d2a6-041529e806f0"
      },
      "outputs": [
        {
          "data": {
            "text/plain": [
              "[1, 8, 32, 52, 103, 273]"
            ]
          },
          "execution_count": 81,
          "metadata": {},
          "output_type": "execute_result"
        }
      ],
      "source": [
        "# 정렬(sort): 기본 오름차순\n",
        "b = [52, 273, 103, 32, 8, 1]\n",
        "b.sort()\n",
        "b"
      ]
    },
    {
      "cell_type": "code",
      "execution_count": null,
      "id": "3d576fec",
      "metadata": {
        "id": "3d576fec",
        "outputId": "abb6e8fa-5d74-4931-e108-c8061898dec1"
      },
      "outputs": [
        {
          "data": {
            "text/plain": [
              "[273, 103, 52, 32, 8, 1]"
            ]
          },
          "execution_count": 82,
          "metadata": {},
          "output_type": "execute_result"
        }
      ],
      "source": [
        "b = [52, 273, 103, 32, 8, 1]\n",
        "b.sort(reverse = True) # 내림차순\n",
        "b"
      ]
    },
    {
      "cell_type": "code",
      "execution_count": null,
      "id": "5481f73a",
      "metadata": {
        "id": "5481f73a",
        "outputId": "644f8591-9761-48c9-8e8d-b5c8ed9865b5"
      },
      "outputs": [
        {
          "data": {
            "text/plain": [
              "False"
            ]
          },
          "execution_count": 83,
          "metadata": {},
          "output_type": "execute_result"
        }
      ],
      "source": [
        "# in 연산자, not in 연산자\n",
        "b = [52, 273, 103, 32, 8, 1]\n",
        "7 in b"
      ]
    },
    {
      "cell_type": "code",
      "execution_count": null,
      "id": "f0a6d46f",
      "metadata": {
        "id": "f0a6d46f",
        "outputId": "ceaf8ab9-bcd3-4827-8440-ca8563db00ff"
      },
      "outputs": [
        {
          "data": {
            "text/plain": [
              "True"
            ]
          },
          "execution_count": 84,
          "metadata": {},
          "output_type": "execute_result"
        }
      ],
      "source": [
        "7 not in b"
      ]
    },
    {
      "cell_type": "markdown",
      "id": "ad8e76d3",
      "metadata": {
        "id": "ad8e76d3"
      },
      "source": [
        "## 튜플(Tuple)\n",
        "- 리스트와 유사하지만 값을 변경할 수 없다. 즉, 읽기 전용자료로 저장할 때 사용\n",
        "- 각 값에 대한 인덱스가 부여된다.\n",
        "- 변경 불가능\n",
        "- 소괄호 ()를 사용하여 데이터를 표현한다."
      ]
    },
    {
      "cell_type": "markdown",
      "id": "6bdfbfe3",
      "metadata": {
        "id": "6bdfbfe3"
      },
      "source": [
        "## 사전(Dictionary)\n",
        "- 키(key)와 값(value)을 쌍(아이템, item)으로 담아서 관리하는 자료구조\n",
        "- 저장된 각 값에 대한 순서는 의미가 없다.\n",
        "- 저장된 데이터는 키(key)에 의해 조회된다.\n",
        "- 키(key)는 중복을 허용하지 않는다.\n",
        "- 중괄호 {}를 사용하여 데이터를 표현한다."
      ]
    },
    {
      "cell_type": "markdown",
      "id": "de606811",
      "metadata": {
        "id": "de606811"
      },
      "source": [
        "## 집합(Set)\n",
        "- 인덱스가 없고 값만 저장되는 자료구조\n",
        "- 순서는 의미가 없다.\n",
        "- 중괄호 {}를 사용\n",
        "- 컴마(,)를 기준으로 데이터를 분리한다.\n",
        "- 중복값을 허용하지 않는다."
      ]
    },
    {
      "cell_type": "markdown",
      "id": "aed32bec",
      "metadata": {
        "id": "aed32bec"
      },
      "source": [
        "# 제어문: 제어하는 문장\n",
        "1. 정의: 프로그램의 흐름이나 순서를 제어할 때 사용하는 문자\n",
        "         일반적으로 프로그램은 위에서 아래로, 좌에서 우로 진행\n",
        "         \n",
        "2. 조건문 or 비교/판단문 or 선택문\n",
        " - 주어진 조건에 따라 프로그램의 실행을 선택 또는 변경\n",
        " - 조건식 반드시 그 결과가 참 또는 거짓으로 판정이 되는 식\n",
        " - if문\n",
        " \n",
        "3. 반복문\n",
        " - 동일하거나 유사한 성격을 가진 문장을 반복할 때 사용하는 문장\n",
        " - 주어진 조건이 참일 때 문장을 반복\n",
        " - 유사한 성격이란 동일한 행위를 하되 일정한 규칙을 가지고 있는 문장\n",
        " - for문, while문\n",
        " \n",
        "4. 기타 제어문\n",
        " - break: 무조건 반복을 벗어나라는 의미\n",
        " - continue: 이하 생략"
      ]
    },
    {
      "cell_type": "markdown",
      "id": "d227f561",
      "metadata": {
        "id": "d227f561"
      },
      "source": [
        "## 조건문 - if"
      ]
    },
    {
      "cell_type": "code",
      "execution_count": null,
      "id": "a3b822dc",
      "metadata": {
        "id": "a3b822dc",
        "outputId": "39ccff27-9337-4770-988f-e0939726efcf"
      },
      "outputs": [
        {
          "name": "stdout",
          "output_type": "stream",
          "text": [
            "hi\n",
            "a = 1\n",
            "배고파\n"
          ]
        }
      ],
      "source": [
        "print(\"hi\")\n",
        "a = 1\n",
        "print(\"a =\", a)\n",
        "print(\"배고파\")"
      ]
    },
    {
      "cell_type": "code",
      "execution_count": null,
      "id": "8c597a0d",
      "metadata": {
        "id": "8c597a0d",
        "outputId": "73ca8c3c-0394-4f22-f55c-1af7232a2303"
      },
      "outputs": [
        {
          "name": "stdout",
          "output_type": "stream",
          "text": [
            "hi\n",
            "a = 1\n",
            "배고파\n"
          ]
        }
      ],
      "source": [
        "# 파이썬은 들여쓰기를 중시한다.\n",
        "print(\"hi\")\n",
        "a = 1\n",
        "if a == 0:\n",
        "    print(\"a =\", a)\n",
        "    print(\"배고파\")\n",
        "if a == 1:\n",
        "    print(\"a =\", a)\n",
        "    print(\"배고파\")"
      ]
    },
    {
      "cell_type": "code",
      "execution_count": null,
      "id": "f8a0ef3d",
      "metadata": {
        "id": "f8a0ef3d"
      },
      "outputs": [],
      "source": [
        "# 하나의 숫자를 입력 받아서 짝수인지 판정하는 프로그램을 구현하시오."
      ]
    },
    {
      "cell_type": "code",
      "execution_count": null,
      "id": "89ba37a9",
      "metadata": {
        "id": "89ba37a9",
        "outputId": "8706990a-ca43-45fc-e475-d9140a6fd706"
      },
      "outputs": [
        {
          "name": "stdout",
          "output_type": "stream",
          "text": [
            "원하는 숫자를 입력하세요: 29\n",
            "입력받은 숫자 29는 홀수입니다.\n"
          ]
        }
      ],
      "source": [
        "num = int(input(\"원하는 숫자를 입력하세요: \"))\n",
        "if num % 2 == 0:\n",
        "    print(\"입력받은 숫자 %d는 짝수입니다.\" % num)\n",
        "if num % 2 != 0:\n",
        "    print(\"입력받은 숫자 %d는 홀수입니다.\" % num)"
      ]
    },
    {
      "cell_type": "code",
      "execution_count": null,
      "id": "82a62bfc",
      "metadata": {
        "id": "82a62bfc",
        "outputId": "80e16a6c-3ca7-4c7f-9ec5-083c1aee8ff1"
      },
      "outputs": [
        {
          "name": "stdout",
          "output_type": "stream",
          "text": [
            "원하는 숫자를 입력하세요: 2\n",
            "입력받은 숫자 2는 짝수입니다.\n"
          ]
        }
      ],
      "source": [
        "num = int(input(\"원하는 숫자를 입력하세요: \"))\n",
        "if num % 2 == 0:\n",
        "    print(\"입력받은 숫자 %d는 짝수입니다.\" % num)\n",
        "else:\n",
        "    print(\"입력받은 숫자 %d는 홀수입니다.\" % num)"
      ]
    },
    {
      "cell_type": "code",
      "execution_count": null,
      "id": "608d4302",
      "metadata": {
        "id": "608d4302",
        "outputId": "98f0eb95-073f-44be-9645-c01ab5ba1de9"
      },
      "outputs": [
        {
          "name": "stdout",
          "output_type": "stream",
          "text": [
            "원하는 숫자를 입력하세요: 2\n",
            "입력받은 숫자 2.000000는 양수입니다.\n"
          ]
        }
      ],
      "source": [
        "# 하나의 숫자를 입력받아 양수인지 음수인지 판정하는 프로그램을 구현\n",
        "num2 = float(input(\"원하는 숫자를 입력하세요: \"))\n",
        "if num2 >= 0:\n",
        "    print(\"입력받은 숫자 %f는 양수입니다.\" % num2)\n",
        "else:\n",
        "    print(\"입력받은 숫자 %f는 음수입니다.\" % num2)"
      ]
    },
    {
      "cell_type": "code",
      "execution_count": null,
      "id": "6e761a93",
      "metadata": {
        "id": "6e761a93"
      },
      "outputs": [],
      "source": [
        "# 하나의 숫자를 입력받아 양수인지 음수인지 판정하는 프로그램을 구현\n",
        "num2 = float(input(\"원하는 숫자를 입력하세요: \"))\n",
        "if num2 > 0:\n",
        "    print(\"입력받은 숫자 %f는 양수입니다.\" % num2)\n",
        "elif num2 == 0:\n",
        "    print(\"입력받은 숫자 %d은 0입니다.\" % num2)\n",
        "elif num2 < 0:\n",
        "    print(\"입력받은 숫자 %f는 음수입니다.\" % num2)"
      ]
    },
    {
      "cell_type": "markdown",
      "id": "45275872",
      "metadata": {
        "id": "45275872"
      },
      "source": [
        "### 문제: 성적 처리 프로그램 1단계\n",
        "국어, 영어, 수학점수를 입력받아 총점과 평균을 계산하여 출력하는 프로그램을 작성하시오.<br>\n",
        "단, 평균은 소숫점 이하 둘째자리까지 출력되도록 구현하시오.<br>\n",
        "<입력형식> <br>\n",
        "국어 = <br>\n",
        "영어 = <br>\n",
        "수학 = <br>\n",
        "<br>\n",
        "<출력형식> <br>\n",
        "총점: xx점, 평균: xx.xx점"
      ]
    },
    {
      "cell_type": "code",
      "execution_count": null,
      "id": "cdb8480c",
      "metadata": {
        "id": "cdb8480c",
        "outputId": "ccf43007-917f-4a87-829e-8fd2e55bb4b5"
      },
      "outputs": [
        {
          "name": "stdout",
          "output_type": "stream",
          "text": [
            "국어 점수를 입력하세요: 2\n",
            "영어 점수를 입력하세요: 3\n",
            "수학 점수를 입력하세요: 4\n",
            "총점: 9점, 평균: 3.00점\n"
          ]
        }
      ],
      "source": [
        "kor = int(input(\"국어 점수를 입력하세요: \"))\n",
        "eng = int(input(\"영어 점수를 입력하세요: \"))\n",
        "math = int(input(\"수학 점수를 입력하세요: \"))\n",
        "sum1 = kor + eng + math\n",
        "avg1 = float(sum1) / 3\n",
        "print(\"총점: %d점, \" % sum1, end = \"\")\n",
        "print(\"평균: %.2f점\" % avg1)"
      ]
    },
    {
      "cell_type": "code",
      "execution_count": null,
      "id": "72b7e0be",
      "metadata": {
        "id": "72b7e0be",
        "outputId": "080df2c9-0b92-433c-aa20-5dfc20cbc692"
      },
      "outputs": [
        {
          "name": "stdout",
          "output_type": "stream",
          "text": [
            "국어 =2\n",
            "영어 =3\n",
            "수학 =4\n",
            "총점: 9점, 평균: 3.00점\n"
          ]
        }
      ],
      "source": [
        "# 입력문 = 키보드를 통해 데이터를 입력받을 때 사용하는 문장\n",
        "kor1 = int(input(\"국어 =\"))\n",
        "eng1 = int(input(\"영어 =\"))\n",
        "math1 = int(input(\"수학 =\"))\n",
        "\n",
        "# 처리문 - 제어문이나 함수를 통해 처리하는 문ㄴ장\n",
        "tot = kor1 + eng1 + math1\n",
        "avg2 = tot / 3\n",
        "\n",
        "#출력문 - 출력 형식에 맞게 구현되는 문장\n",
        "print(\"총점: {0}점, 평균: {1:.2f}점\".format(tot, avg2))"
      ]
    },
    {
      "cell_type": "markdown",
      "id": "e218a2c6",
      "metadata": {
        "id": "e218a2c6"
      },
      "source": [
        "### 성적 처리 프로그램 2단계\n",
        "학점을 부여하시오. 하점은 평균을 이용하여 A, B, C, D, F로 표현하되, <br>\n",
        "평균이 90점 이상이면 'A학점', 80점 이상이면 'B학점', ..."
      ]
    },
    {
      "cell_type": "code",
      "execution_count": null,
      "id": "50818167",
      "metadata": {
        "id": "50818167",
        "outputId": "e539ec6b-dc63-4d3e-952e-b136cc579c55"
      },
      "outputs": [
        {
          "name": "stdout",
          "output_type": "stream",
          "text": [
            "국어 = 90\n",
            "영어 = 100\n",
            "수학 = 100\n",
            "96.67점은 A학점 입니다.\n"
          ]
        }
      ],
      "source": [
        "# 입력문 = 키보드를 통해 데이터를 입력받을 때 사용하는 문장\n",
        "kor2 = int(input(\"국어 = \"))\n",
        "eng2 = int(input(\"영어 = \"))\n",
        "math2 = int(input(\"수학 = \"))\n",
        "\n",
        "# 처리문 - 제어문이나 함수를 통해 처리하는 문ㄴ장\n",
        "tot2 = kor2 + eng2 + math2\n",
        "avg3 = tot2 / 3\n",
        "\n",
        "#출력문 - 출력 형식에 맞게 구현되는 문장\n",
        "if avg3 >= 90:\n",
        "    print(\"%.2f점은 A학점 입니다.\" % avg3)\n",
        "elif avg3 >= 80:\n",
        "    print(\"%.2f점은 B학점 입니다.\" % avg3)\n",
        "elif avg3 >= 70:\n",
        "    print(\"%.2f점은 C학점 입니다.\" % avg3)\n",
        "elif avg3 >= 60:\n",
        "    print(\"%.2f점은 D학점 입니다.\" % avg3)\n",
        "elif avg3 < 60:\n",
        "    print(\"%.2f점은 F학점 입니다.\" % avg3)"
      ]
    },
    {
      "cell_type": "code",
      "execution_count": null,
      "id": "c26b4e8e",
      "metadata": {
        "id": "c26b4e8e",
        "outputId": "717864e9-1583-4af7-9c9d-03167917e90e"
      },
      "outputs": [
        {
          "name": "stdout",
          "output_type": "stream",
          "text": [
            "국어 = 90\n",
            "영어 = 80\n",
            "수학 = 100\n",
            "총점: 270점, 평균: 90.00점, 학점: A\n"
          ]
        }
      ],
      "source": [
        "# 입력문 = 키보드를 통해 데이터를 입력받을 때 사용하는 문장\n",
        "kor1 = int(input(\"국어 = \"))\n",
        "eng1 = int(input(\"영어 = \"))\n",
        "math1 = int(input(\"수학 = \"))\n",
        "\n",
        "# 처리문 - 제어문이나 함수를 통해 처리하는 문장\n",
        "tot = kor1 + eng1 + math1\n",
        "avg3 = tot / 3\n",
        "\n",
        "#출력문 - 출력 형식에 맞게 구현되는 문장\n",
        "if avg3 >= 90:\n",
        "    grade = 'A'\n",
        "elif avg3 >= 80: # 90 > avg3 >= 80이란게 내부적으로 포함되어 있다\n",
        "    grade = 'B'\n",
        "elif avg3 >= 70:\n",
        "    grade = 'C'\n",
        "elif avg3 >= 60:\n",
        "    grade = 'D'\n",
        "elif avg3 < 60:\n",
        "    grade = 'F'\n",
        "print(\"총점: {0}점, 평균: {1:.2f}점, \\\n",
        "학점: {2}\".format(tot, avg3, grade))"
      ]
    },
    {
      "cell_type": "markdown",
      "id": "2f0e9209",
      "metadata": {
        "id": "2f0e9209"
      },
      "source": [
        "## 반복문\n",
        "- 반복하는 문장\n",
        "- for문, while문"
      ]
    },
    {
      "cell_type": "code",
      "execution_count": null,
      "id": "feed5b5b",
      "metadata": {
        "id": "feed5b5b",
        "outputId": "652dc16d-20b5-4706-d578-8bed9c039bf7"
      },
      "outputs": [
        {
          "data": {
            "text/plain": [
              "[1, 2, 3, 4, 5]"
            ]
          },
          "execution_count": 156,
          "metadata": {},
          "output_type": "execute_result"
        }
      ],
      "source": [
        "# for 개별변수 in 집합변수: =\n",
        "a = [1, 2 ,3, 4, 5]\n",
        "a"
      ]
    },
    {
      "cell_type": "code",
      "execution_count": null,
      "id": "cbd52fab",
      "metadata": {
        "id": "cbd52fab",
        "outputId": "d4c11a58-a480-49ef-b9ed-ec91dae7e04d"
      },
      "outputs": [
        {
          "name": "stdout",
          "output_type": "stream",
          "text": [
            "1\n",
            "2\n",
            "3\n",
            "4\n",
            "5\n"
          ]
        }
      ],
      "source": [
        "print(a[0])\n",
        "print(a[1])\n",
        "print(a[2])\n",
        "print(a[3])\n",
        "print(a[4])"
      ]
    },
    {
      "cell_type": "code",
      "execution_count": null,
      "id": "f15eeb12",
      "metadata": {
        "id": "f15eeb12",
        "outputId": "d422f888-5465-4d41-e5b3-54b7e135d177"
      },
      "outputs": [
        {
          "name": "stdout",
          "output_type": "stream",
          "text": [
            "1\n",
            "2\n",
            "3\n",
            "4\n",
            "5\n"
          ]
        }
      ],
      "source": [
        "for i in range(1, 6):\n",
        "    print(i)"
      ]
    },
    {
      "cell_type": "code",
      "execution_count": null,
      "id": "e9f4654d",
      "metadata": {
        "id": "e9f4654d",
        "outputId": "f9c60d3c-5dd1-485e-c743-88bbe3757417"
      },
      "outputs": [
        {
          "name": "stdout",
          "output_type": "stream",
          "text": [
            "1\n",
            "2\n",
            "3\n",
            "4\n",
            "5\n"
          ]
        }
      ],
      "source": [
        "for i in [1,2,3,4,5]:\n",
        "    print(i)"
      ]
    },
    {
      "cell_type": "code",
      "execution_count": null,
      "id": "0f921248",
      "metadata": {
        "id": "0f921248",
        "outputId": "454a867e-172a-4ab1-9c4c-c98bd4a73925"
      },
      "outputs": [
        {
          "name": "stdout",
          "output_type": "stream",
          "text": [
            "hello\n",
            "hello\n",
            "hello\n",
            "hello\n",
            "hello\n"
          ]
        }
      ],
      "source": [
        "for _ in a: # _ 언더스코어 생략의 기능\n",
        "    print(\"hello\")"
      ]
    },
    {
      "cell_type": "code",
      "execution_count": null,
      "id": "0ff6fa69",
      "metadata": {
        "id": "0ff6fa69",
        "outputId": "f970d54d-4c40-4146-f8f1-ac9b99ce8ee9"
      },
      "outputs": [
        {
          "name": "stdout",
          "output_type": "stream",
          "text": [
            "1\n",
            "2\n",
            "3\n",
            "4\n"
          ]
        }
      ],
      "source": [
        "# range(start, end, step)\n",
        "for i in range(1, 5, 1): # 1,2,3,4\n",
        "    print(i)\n"
      ]
    },
    {
      "cell_type": "code",
      "execution_count": null,
      "id": "cddcc9bf",
      "metadata": {
        "id": "cddcc9bf",
        "outputId": "5bc496e1-4311-4d4e-88bb-be4598e3b24f"
      },
      "outputs": [
        {
          "name": "stdout",
          "output_type": "stream",
          "text": [
            "1\n",
            "2\n",
            "3\n",
            "4\n",
            "5\n"
          ]
        }
      ],
      "source": [
        "for i in range(1, 6): # 1,2,3,4,5\n",
        "    print(i)"
      ]
    },
    {
      "cell_type": "code",
      "execution_count": null,
      "id": "c31a0cf7",
      "metadata": {
        "id": "c31a0cf7",
        "outputId": "9b10403f-c692-444e-e4d6-6e63b8304022"
      },
      "outputs": [
        {
          "name": "stdout",
          "output_type": "stream",
          "text": [
            "0\n",
            "1\n",
            "2\n",
            "3\n",
            "4\n",
            "5\n"
          ]
        }
      ],
      "source": [
        "for i in range(6): # 0, 1, 2,3,4,5\n",
        "    print(i)"
      ]
    },
    {
      "cell_type": "code",
      "execution_count": null,
      "id": "65ab3a32",
      "metadata": {
        "id": "65ab3a32",
        "outputId": "9c3f91dd-5e89-42fe-8a4c-e11ad8d5a5f2"
      },
      "outputs": [
        {
          "name": "stdout",
          "output_type": "stream",
          "text": [
            "k\n",
            "o\n",
            "r\n",
            "e\n",
            "a\n"
          ]
        }
      ],
      "source": [
        "for i in \"korea\":\n",
        "    print(i)"
      ]
    },
    {
      "cell_type": "code",
      "execution_count": null,
      "id": "749d3385",
      "metadata": {
        "id": "749d3385",
        "outputId": "22a8904a-e108-4620-b5b5-9ee9b0ff1eaa"
      },
      "outputs": [
        {
          "name": "stdout",
          "output_type": "stream",
          "text": [
            "red\n",
            "blue\n",
            "black\n"
          ]
        }
      ],
      "source": [
        "for i in [\"red\", \"blue\", \"black\"]:\n",
        "    print(i)"
      ]
    },
    {
      "cell_type": "code",
      "execution_count": null,
      "id": "1a864144",
      "metadata": {
        "id": "1a864144",
        "outputId": "aecd0fe3-1fd0-4271-8449-db78165666e6"
      },
      "outputs": [
        {
          "name": "stdout",
          "output_type": "stream",
          "text": [
            "1\n",
            "3\n",
            "5\n",
            "7\n",
            "9\n"
          ]
        }
      ],
      "source": [
        "for i in range(1, 10, 2):  # 1부터 9까지 2씩 증가 시켜라\n",
        "    print(i)"
      ]
    },
    {
      "cell_type": "code",
      "execution_count": null,
      "id": "5ba1a602",
      "metadata": {
        "id": "5ba1a602",
        "outputId": "058326e4-f6c5-4f9b-a95f-2a147536cb05"
      },
      "outputs": [
        {
          "name": "stdout",
          "output_type": "stream",
          "text": [
            "1\n",
            "3\n",
            "5\n",
            "7\n",
            "9\n"
          ]
        }
      ],
      "source": [
        "for i in range(1, 11):\n",
        "    if i % 2 != 0:\n",
        "        print(i)"
      ]
    },
    {
      "cell_type": "code",
      "execution_count": null,
      "id": "02d6484c",
      "metadata": {
        "id": "02d6484c",
        "outputId": "6fa699f0-4059-4007-94ac-580347ed50e7"
      },
      "outputs": [
        {
          "name": "stdout",
          "output_type": "stream",
          "text": [
            "10\n",
            "9\n",
            "8\n",
            "7\n",
            "6\n",
            "5\n",
            "4\n",
            "3\n",
            "2\n",
            "1\n"
          ]
        }
      ],
      "source": [
        "for i in range(10, 0, -1):\n",
        "    print(i)"
      ]
    },
    {
      "cell_type": "markdown",
      "id": "f6246d92",
      "metadata": {
        "id": "f6246d92"
      },
      "source": [
        "#### 구구단 출력\n",
        "- 하나의 수를 입력받아 해당 숫자의 구구단을 출력하는 프로그램을 구현하시오"
      ]
    },
    {
      "cell_type": "code",
      "execution_count": null,
      "id": "affa8f72",
      "metadata": {
        "id": "affa8f72",
        "outputId": "00dd93d9-fbfb-49f3-e161-9c0fbd7003c0"
      },
      "outputs": [
        {
          "name": "stdout",
          "output_type": "stream",
          "text": [
            "단수 = 1\n",
            "1 x 1 = 1\n",
            "1 x 2 = 2\n",
            "1 x 3 = 3\n",
            "1 x 4 = 4\n",
            "1 x 5 = 5\n",
            "1 x 6 = 6\n",
            "1 x 7 = 7\n",
            "1 x 8 = 8\n",
            "1 x 9 = 9\n"
          ]
        }
      ],
      "source": [
        "dan = int(input(\"단수 = \"))\n",
        "\n",
        "# for 개별변수 in 집합변수\n",
        "for i in range(1, 10):\n",
        "    print(\"{0} x {1} = {2}\".format(dan, i, dan * i))"
      ]
    },
    {
      "cell_type": "markdown",
      "id": "29fc3b94",
      "metadata": {
        "id": "29fc3b94"
      },
      "source": [
        "### 구구단을 출력하시오"
      ]
    },
    {
      "cell_type": "code",
      "execution_count": null,
      "id": "4781f793",
      "metadata": {
        "id": "4781f793",
        "outputId": "ed9cb677-4204-4df3-9d86-72560691d6e0"
      },
      "outputs": [
        {
          "name": "stdout",
          "output_type": "stream",
          "text": [
            "==== 1단 ====\n",
            "1 x 1 = 1\n",
            "1 x 2 = 2\n",
            "1 x 3 = 3\n",
            "1 x 4 = 4\n",
            "1 x 5 = 5\n",
            "1 x 6 = 6\n",
            "1 x 7 = 7\n",
            "1 x 8 = 8\n",
            "1 x 9 = 9\n",
            "\n",
            "==== 2단 ====\n",
            "2 x 1 = 2\n",
            "2 x 2 = 4\n",
            "2 x 3 = 6\n",
            "2 x 4 = 8\n",
            "2 x 5 = 10\n",
            "2 x 6 = 12\n",
            "2 x 7 = 14\n",
            "2 x 8 = 16\n",
            "2 x 9 = 18\n",
            "\n",
            "==== 3단 ====\n",
            "3 x 1 = 3\n",
            "3 x 2 = 6\n",
            "3 x 3 = 9\n",
            "3 x 4 = 12\n",
            "3 x 5 = 15\n",
            "3 x 6 = 18\n",
            "3 x 7 = 21\n",
            "3 x 8 = 24\n",
            "3 x 9 = 27\n",
            "\n",
            "==== 4단 ====\n",
            "4 x 1 = 4\n",
            "4 x 2 = 8\n",
            "4 x 3 = 12\n",
            "4 x 4 = 16\n",
            "4 x 5 = 20\n",
            "4 x 6 = 24\n",
            "4 x 7 = 28\n",
            "4 x 8 = 32\n",
            "4 x 9 = 36\n",
            "\n",
            "==== 5단 ====\n",
            "5 x 1 = 5\n",
            "5 x 2 = 10\n",
            "5 x 3 = 15\n",
            "5 x 4 = 20\n",
            "5 x 5 = 25\n",
            "5 x 6 = 30\n",
            "5 x 7 = 35\n",
            "5 x 8 = 40\n",
            "5 x 9 = 45\n",
            "\n",
            "==== 6단 ====\n",
            "6 x 1 = 6\n",
            "6 x 2 = 12\n",
            "6 x 3 = 18\n",
            "6 x 4 = 24\n",
            "6 x 5 = 30\n",
            "6 x 6 = 36\n",
            "6 x 7 = 42\n",
            "6 x 8 = 48\n",
            "6 x 9 = 54\n",
            "\n",
            "==== 7단 ====\n",
            "7 x 1 = 7\n",
            "7 x 2 = 14\n",
            "7 x 3 = 21\n",
            "7 x 4 = 28\n",
            "7 x 5 = 35\n",
            "7 x 6 = 42\n",
            "7 x 7 = 49\n",
            "7 x 8 = 56\n",
            "7 x 9 = 63\n",
            "\n",
            "==== 8단 ====\n",
            "8 x 1 = 8\n",
            "8 x 2 = 16\n",
            "8 x 3 = 24\n",
            "8 x 4 = 32\n",
            "8 x 5 = 40\n",
            "8 x 6 = 48\n",
            "8 x 7 = 56\n",
            "8 x 8 = 64\n",
            "8 x 9 = 72\n",
            "\n",
            "==== 9단 ====\n",
            "9 x 1 = 9\n",
            "9 x 2 = 18\n",
            "9 x 3 = 27\n",
            "9 x 4 = 36\n",
            "9 x 5 = 45\n",
            "9 x 6 = 54\n",
            "9 x 7 = 63\n",
            "9 x 8 = 72\n",
            "9 x 9 = 81\n",
            "\n"
          ]
        }
      ],
      "source": [
        "# 단수\n",
        "for dan in range(1, 10): # 1, 2, 3, 4, 5, 6, 7, 8, 9\n",
        "    print(\"==== {0}단 ====\".format(dan))\n",
        "    # 자연수\n",
        "    for su in range(1, 10): # 1, 2, 3, 4, 5, 6, 7, 8, 9\n",
        "        print(\"{0} x {1} = {2}\".format(dan, su, dan * su)) # 총 81번 찍힌다.\n",
        "    print() # 새로운 단이 시작하기전 프린트 부터 만난다\n",
        "    "
      ]
    },
    {
      "cell_type": "code",
      "execution_count": null,
      "id": "ef7be616",
      "metadata": {
        "id": "ef7be616",
        "outputId": "f573298d-d054-468f-c73e-0f2b5080ae4e"
      },
      "outputs": [
        {
          "name": "stdout",
          "output_type": "stream",
          "text": [
            "hi\n",
            "hi\n"
          ]
        }
      ],
      "source": [
        "# 다중 ofr\n",
        "for i in [1, 2]:\n",
        "    print(\"hi\")"
      ]
    },
    {
      "cell_type": "code",
      "execution_count": null,
      "id": "dd59cb4b",
      "metadata": {
        "id": "dd59cb4b",
        "outputId": "1e00f617-3560-4398-a742-b9271a7377d6"
      },
      "outputs": [
        {
          "name": "stdout",
          "output_type": "stream",
          "text": [
            "1 번째\n",
            "hi\n",
            "hi\n",
            "hi\n",
            "\n",
            "2 번째\n",
            "hi\n",
            "hi\n",
            "hi\n",
            "\n"
          ]
        }
      ],
      "source": [
        "# 다중 ofr\n",
        "for i in [1, 2]:\n",
        "    print(\"%d 번째\" % i)\n",
        "    for j in [1, 2, 3]:\n",
        "        print(\"hi\")\n",
        "    print()"
      ]
    },
    {
      "cell_type": "code",
      "execution_count": null,
      "id": "fd876861",
      "metadata": {
        "id": "fd876861",
        "outputId": "04d2422b-694b-4f0f-d454-ccfe6bb70351"
      },
      "outputs": [
        {
          "name": "stdout",
          "output_type": "stream",
          "text": [
            "  1  2  3  4  5  6  7  8  9 10\n",
            " 11 12 13 14 15 16 17 18 19 20\n",
            " 21 22 23 24 25 26 27 28 29 30\n",
            " 31 32 33 34 35 36 37 38 39 40\n",
            " 41 42 43 44 45 46 47 48 49 50\n",
            " 51 52 53 54 55 56 57 58 59 60\n",
            " 61 62 63 64 65 66 67 68 69 70\n",
            " 71 72 73 74 75 76 77 78 79 80\n",
            " 81 82 83 84 85 86 87 88 89 90\n",
            " 91 92 93 94 95 96 97 98 99100\n"
          ]
        }
      ],
      "source": [
        "# 1부터 100까지 자연수를 출력하는 프로그램을 구현하시오.\n",
        "for i in range(1, 101):\n",
        "    print(\"%3d\" % i, end=\"\")\n",
        "    if i % 10 == 0:\n",
        "        print()"
      ]
    },
    {
      "cell_type": "code",
      "execution_count": null,
      "id": "2feb8bc1",
      "metadata": {
        "id": "2feb8bc1",
        "outputId": "865cd493-7cd6-4a3d-e7f9-483430adbc7e"
      },
      "outputs": [
        {
          "name": "stdout",
          "output_type": "stream",
          "text": [
            "    1    2    3    4    5    6    7    8    9   10"
          ]
        }
      ],
      "source": [
        "for i in range(1, 11, 1):\n",
        "    print(\"%5d\" % i, end=\"\")"
      ]
    },
    {
      "cell_type": "code",
      "execution_count": null,
      "id": "de7566e3",
      "metadata": {
        "id": "de7566e3",
        "outputId": "05c890ff-dd9f-41e2-c8e1-c24a8d583d0e"
      },
      "outputs": [
        {
          "name": "stdout",
          "output_type": "stream",
          "text": [
            "    1    3    5    7    9"
          ]
        }
      ],
      "source": [
        "for i in range(1, 11, 2):\n",
        "    print(\"%5d\" % i, end=\"\")"
      ]
    },
    {
      "cell_type": "code",
      "execution_count": null,
      "id": "cc998c75",
      "metadata": {
        "id": "cc998c75",
        "outputId": "9031ff20-4326-4ab1-8255-d1cf62590a9f"
      },
      "outputs": [
        {
          "name": "stdout",
          "output_type": "stream",
          "text": [
            "    1    2    3    4    5    6    7    8    9   10"
          ]
        }
      ],
      "source": [
        "i = 1\n",
        "while i < 11:\n",
        "    print(\"%5d\" % i, end=\"\")\n",
        "    i = i + 1 # i += 1"
      ]
    },
    {
      "cell_type": "code",
      "execution_count": null,
      "id": "853cb683",
      "metadata": {
        "id": "853cb683"
      },
      "outputs": [],
      "source": [
        "i = 1\n",
        "#while True: #무한 루프임\n",
        "    print(\"%5d\" % i, end=\"\")\n",
        "    i = i + 1 # i += 1"
      ]
    },
    {
      "cell_type": "code",
      "execution_count": null,
      "id": "4d238826",
      "metadata": {
        "id": "4d238826",
        "outputId": "4e53f765-f356-47e6-e0fd-ea84a45545b2"
      },
      "outputs": [
        {
          "name": "stdout",
          "output_type": "stream",
          "text": [
            "    1    2    3    4    5    6    7    8    9   10"
          ]
        }
      ],
      "source": [
        "i = 1\n",
        "while True: \n",
        "    print(\"%5d\" % i, end=\"\")\n",
        "    i = i + 1 # i += 1\n",
        "    if i > 10:\n",
        "        break"
      ]
    },
    {
      "cell_type": "markdown",
      "id": "5a4b5a1e",
      "metadata": {
        "id": "5a4b5a1e"
      },
      "source": [
        "### 숫자를 다섯개 입력받아 그 합을 계산한 후 출력하는 프로그램"
      ]
    },
    {
      "cell_type": "code",
      "execution_count": null,
      "id": "0688f053",
      "metadata": {
        "id": "0688f053",
        "outputId": "0a2511f3-887c-4638-b25b-d362ae3d333b"
      },
      "outputs": [
        {
          "name": "stdout",
          "output_type": "stream",
          "text": [
            "숫자 = 1\n",
            "숫자 = 2\n",
            "숫자 = 3\n",
            "숫자 = 4\n",
            "숫자 = 5\n",
            "다섯 숫자의 합은 15입니다\n"
          ]
        }
      ],
      "source": [
        "a = int(input(\"숫자 = \"))\n",
        "b = int(input(\"숫자 = \"))\n",
        "c = int(input(\"숫자 = \"))\n",
        "d = int(input(\"숫자 = \"))\n",
        "e = int(input(\"숫자 = \"))\n",
        "\n",
        "tot = a + b + c + d + e\n",
        "print(\"다섯 숫자의 합은 %d입니다\" % tot)"
      ]
    },
    {
      "cell_type": "code",
      "execution_count": null,
      "id": "e8715721",
      "metadata": {
        "id": "e8715721",
        "outputId": "09c00fc2-9883-4456-b72e-e29cbb0a427a"
      },
      "outputs": [
        {
          "name": "stdout",
          "output_type": "stream",
          "text": [
            "숫자 = 1\n",
            "숫자 = 2\n",
            "숫자 = 3\n",
            "숫자 = 4\n",
            "숫자 = 5\n",
            "다섯 숫자의 합은 15입니다\n"
          ]
        }
      ],
      "source": [
        "tot = 0\n",
        "for i in range(5): # 0, 1, 2, ,3 , 4\n",
        "    num = int(input(\"숫자 = \"))\n",
        "    tot = tot + num\n",
        "    \n",
        "print(\"다섯 숫자의 합은 %d입니다\" % tot)"
      ]
    },
    {
      "cell_type": "markdown",
      "id": "dccc036a",
      "metadata": {
        "id": "dccc036a"
      },
      "source": [
        "### 숫자를 입력받아 누적합을 계산하는 프로그램을 작성하되, 입력받은 숫자가 0이면 입력을 중지하고 누적합의 결구를 출력하는 프로그램을 구현하시오."
      ]
    },
    {
      "cell_type": "code",
      "execution_count": null,
      "id": "ac3c6139",
      "metadata": {
        "id": "ac3c6139",
        "outputId": "410b267a-a389-4ca9-81f7-014e66ba74c7"
      },
      "outputs": [
        {
          "name": "stdout",
          "output_type": "stream",
          "text": [
            "숫자 = 1\n",
            "숫자 = 2\n",
            "숫자 = 3\n",
            "숫자 = 3\n",
            "숫자 = 3\n",
            "숫자 = 3\n",
            "숫자 = 3\n",
            "숫자 = 3\n",
            "숫자 = 3\n",
            "숫자 = 0\n",
            "입력된 숫자의 합은 24입니다\n"
          ]
        }
      ],
      "source": [
        "tot = 0\n",
        "while True:\n",
        "    num = int(input(\"숫자 = \"))\n",
        "    if num == 0: break\n",
        "    tot = tot + num\n",
        "print(\"입력된 숫자의 합은 %d입니다\" % tot)"
      ]
    },
    {
      "cell_type": "code",
      "execution_count": null,
      "id": "29b19199",
      "metadata": {
        "id": "29b19199",
        "outputId": "3b633516-70af-4a21-995d-445c721da229"
      },
      "outputs": [
        {
          "name": "stdout",
          "output_type": "stream",
          "text": [
            "0\n",
            "1\n",
            "2\n",
            "3\n",
            "4\n",
            "6\n",
            "7\n",
            "8\n",
            "9\n"
          ]
        }
      ],
      "source": [
        "for  i in range(10): # 10번 반복해라\n",
        "    if i == 5: continue # 이하생략, 건너 뛰기\n",
        "    print(i)"
      ]
    },
    {
      "cell_type": "code",
      "execution_count": null,
      "id": "3365d843",
      "metadata": {
        "id": "3365d843",
        "outputId": "0a41141f-1b81-4b87-d052-fd5b085b35f2"
      },
      "outputs": [
        {
          "name": "stdout",
          "output_type": "stream",
          "text": [
            "0\n",
            "1\n",
            "2\n",
            "3\n",
            "4\n",
            "5\n",
            "6\n",
            "7\n",
            "8\n",
            "9\n",
            "End of Program\n"
          ]
        }
      ],
      "source": [
        "# 반복문의 else의 의미\n",
        "## 어떤 조건이 완전히 끝났을 때 한 번 더 실행해 주는 역할\n",
        "\n",
        "for i in range(10):\n",
        "    print(i)\n",
        "else:\n",
        "    print(\"End of Program\")"
      ]
    },
    {
      "cell_type": "code",
      "execution_count": null,
      "id": "ff537daa",
      "metadata": {
        "id": "ff537daa",
        "outputId": "4020c662-253e-4036-db71-91876debf1b7"
      },
      "outputs": [
        {
          "name": "stdout",
          "output_type": "stream",
          "text": [
            "단 = 4\n",
            "4 X 1 = 4\n",
            "4 X 2 = 8\n",
            "4 X 3 = 12\n",
            "4 X 4 = 16\n",
            "4 X 5 = 20\n",
            "4 X 6 = 24\n",
            "4 X 7 = 28\n",
            "4 X 8 = 32\n",
            "4 X 9 = 36\n"
          ]
        }
      ],
      "source": [
        "# 구구단으로 출력할 단수를 입력받는 문장\n",
        "\"\"\n",
        "dan = int(input(\"단 = \"))\n",
        "i = 1\n",
        "while dan % 2 == 0:\n",
        "    print(\"{0} X {1} = {2}\".format(dan, i, dan * i))\n",
        "    i += 1\n",
        "    if i > 9: break\n",
        "else:\n",
        "    print(\"짝수단만 출력하고 싶어요\")"
      ]
    }
  ],
  "metadata": {
    "kernelspec": {
      "display_name": "Python 3 (ipykernel)",
      "language": "python",
      "name": "python3"
    },
    "language_info": {
      "codemirror_mode": {
        "name": "ipython",
        "version": 3
      },
      "file_extension": ".py",
      "mimetype": "text/x-python",
      "name": "python",
      "nbconvert_exporter": "python",
      "pygments_lexer": "ipython3",
      "version": "3.9.12"
    },
    "toc": {
      "base_numbering": 1,
      "nav_menu": {},
      "number_sections": true,
      "sideBar": true,
      "skip_h1_title": false,
      "title_cell": "Table of Contents",
      "title_sidebar": "Contents",
      "toc_cell": false,
      "toc_position": {},
      "toc_section_display": true,
      "toc_window_display": false
    },
    "colab": {
      "provenance": [],
      "include_colab_link": true
    }
  },
  "nbformat": 4,
  "nbformat_minor": 5
}