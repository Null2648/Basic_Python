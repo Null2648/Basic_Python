{
  "cells": [
    {
      "cell_type": "markdown",
      "metadata": {
        "id": "view-in-github",
        "colab_type": "text"
      },
      "source": [
        "<a href=\"https://colab.research.google.com/github/Null2648/Basic_Python/blob/main/ch06.%20%EC%A0%9C%EC%96%B4%EB%AC%B8%EA%B3%BC%20%ED%95%A8%EC%88%98%20%EB%B3%B5%EC%8A%B5/ch06_1%EC%B0%A8%EB%B3%B5%EC%8A%B5_%EC%A0%9C%EC%96%B4%EB%AC%B8%EA%B3%BC_%ED%95%A8%EC%88%98.ipynb\" target=\"_parent\"><img src=\"https://colab.research.google.com/assets/colab-badge.svg\" alt=\"Open In Colab\"/></a>"
      ]
    },
    {
      "cell_type": "markdown",
      "id": "d6f75b06",
      "metadata": {
        "id": "d6f75b06"
      },
      "source": [
        "# Python3 Program\n",
        "#### 변수 - 자료구조(리스트, 튜플, 집합, 사전) - 함수\n",
        "#### 자료 - 기본자료형(논리형, 정수형, 실수형, 문자형)\n",
        "#### 제어문 - 조건문, 반복문"
      ]
    },
    {
      "cell_type": "markdown",
      "id": "6655f14f",
      "metadata": {
        "id": "6655f14f"
      },
      "source": [
        "### 문자열 자료형"
      ]
    },
    {
      "cell_type": "code",
      "execution_count": null,
      "id": "652103dc",
      "metadata": {
        "ExecuteTime": {
          "end_time": "2022-09-02T00:20:56.294388Z",
          "start_time": "2022-09-02T00:20:56.281323Z"
        },
        "id": "652103dc"
      },
      "outputs": [],
      "source": [
        "# 문자열(string) 자료형 : 하나의 문자 또는 그 이상의 문자를 묶어놓은 자료형\n",
        "# 큰따옴표(\"\") 또는 작은따옴표('')\n",
        "# 여러 줄의 문자열을 처리할 때 (\"\"\" ~ \"\"\", ''' ~ ''')"
      ]
    },
    {
      "cell_type": "code",
      "execution_count": null,
      "id": "7754d4bb",
      "metadata": {
        "ExecuteTime": {
          "end_time": "2022-09-02T00:22:55.041564Z",
          "start_time": "2022-09-02T00:22:55.030323Z"
        },
        "id": "7754d4bb",
        "outputId": "d900ec1f-dc39-483b-acce-dcc679e05a69"
      },
      "outputs": [
        {
          "data": {
            "text/plain": [
              "'Hello World'"
            ]
          },
          "execution_count": 3,
          "metadata": {},
          "output_type": "execute_result"
        }
      ],
      "source": [
        "\"Hello World\""
      ]
    },
    {
      "cell_type": "code",
      "execution_count": null,
      "id": "234b1510",
      "metadata": {
        "ExecuteTime": {
          "end_time": "2022-09-02T00:22:28.894519Z",
          "start_time": "2022-09-02T00:22:28.873863Z"
        },
        "id": "234b1510",
        "outputId": "4a227931-1c2a-482d-d56a-dfcbbd1cc6cb"
      },
      "outputs": [
        {
          "data": {
            "text/plain": [
              "9"
            ]
          },
          "execution_count": 2,
          "metadata": {},
          "output_type": "execute_result"
        }
      ],
      "source": [
        "4+5"
      ]
    },
    {
      "cell_type": "code",
      "execution_count": null,
      "id": "7da6f87c",
      "metadata": {
        "ExecuteTime": {
          "end_time": "2022-09-02T00:23:30.113973Z",
          "start_time": "2022-09-02T00:23:30.108199Z"
        },
        "id": "7da6f87c",
        "outputId": "ad9110ce-3f33-4ad0-a7a4-ae92d7e26855"
      },
      "outputs": [
        {
          "data": {
            "text/plain": [
              "'python is fun'"
            ]
          },
          "execution_count": 4,
          "metadata": {},
          "output_type": "execute_result"
        }
      ],
      "source": [
        "'python is fun'"
      ]
    },
    {
      "cell_type": "code",
      "execution_count": null,
      "id": "dc11bd69",
      "metadata": {
        "ExecuteTime": {
          "end_time": "2022-09-02T00:25:28.318750Z",
          "start_time": "2022-09-02T00:25:28.304021Z"
        },
        "id": "dc11bd69",
        "outputId": "4900ac8c-ea11-4436-fda8-96ffc2b206be"
      },
      "outputs": [
        {
          "name": "stdout",
          "output_type": "stream",
          "text": [
            "Life is short, \n",
            "You need Python\n"
          ]
        }
      ],
      "source": [
        "print(\"\"\"Life is short, \n",
        "You need Python\"\"\")"
      ]
    },
    {
      "cell_type": "code",
      "execution_count": null,
      "id": "2998884a",
      "metadata": {
        "ExecuteTime": {
          "end_time": "2022-09-02T00:27:43.086553Z",
          "start_time": "2022-09-02T00:27:43.076485Z"
        },
        "id": "2998884a",
        "outputId": "fb2d18f9-c82f-4fed-faf1-00b08fb9d68c"
      },
      "outputs": [
        {
          "name": "stdout",
          "output_type": "stream",
          "text": [
            "Life is short, You need 'Python'\n"
          ]
        }
      ],
      "source": [
        "print(\"Life is short, You need 'Python'\")"
      ]
    },
    {
      "cell_type": "code",
      "execution_count": null,
      "id": "4cd6d4cb",
      "metadata": {
        "ExecuteTime": {
          "end_time": "2022-09-02T00:29:01.399186Z",
          "start_time": "2022-09-02T00:29:01.384939Z"
        },
        "id": "4cd6d4cb",
        "outputId": "47ad41ff-1520-422c-d8db-a3a82ccdbc9d"
      },
      "outputs": [
        {
          "name": "stdout",
          "output_type": "stream",
          "text": [
            "Life is short, You need \"Python\"\n"
          ]
        }
      ],
      "source": [
        "print(\"Life is short, You need \\\"Python\\\"\")"
      ]
    },
    {
      "cell_type": "markdown",
      "id": "fdb745bd",
      "metadata": {
        "id": "fdb745bd"
      },
      "source": [
        "##### 이스케이프 문자\n",
        "- \\\\, (￦) 동일\n",
        "- \\n(new line) : 줄바꿈(개행)\n",
        "- \\t(tap key) : 일정 간격을 띄어라"
      ]
    },
    {
      "cell_type": "code",
      "execution_count": null,
      "id": "24eded6e",
      "metadata": {
        "ExecuteTime": {
          "end_time": "2022-09-02T00:34:54.095034Z",
          "start_time": "2022-09-02T00:34:54.079955Z"
        },
        "id": "24eded6e",
        "outputId": "ee5e7dc9-250c-4d3c-8287-50d13c7fa4e1"
      },
      "outputs": [
        {
          "name": "stdout",
          "output_type": "stream",
          "text": [
            "hellopython\n"
          ]
        }
      ],
      "source": [
        "# 연산 : +, *\n",
        "a = \"hello\"\n",
        "b = \"python\"\n",
        "print(a + b)"
      ]
    },
    {
      "cell_type": "code",
      "execution_count": null,
      "id": "9434befe",
      "metadata": {
        "ExecuteTime": {
          "end_time": "2022-09-02T00:35:50.379454Z",
          "start_time": "2022-09-02T00:35:50.364849Z"
        },
        "id": "9434befe",
        "outputId": "0e835be1-651b-4c57-8d36-3d8fac4bc59a"
      },
      "outputs": [
        {
          "name": "stdout",
          "output_type": "stream",
          "text": [
            "pythonpythonpythonpythonpython\n"
          ]
        }
      ],
      "source": [
        "# 문자열 * 횟수\n",
        "print(b * 5)"
      ]
    },
    {
      "cell_type": "code",
      "execution_count": null,
      "id": "9624193e",
      "metadata": {
        "ExecuteTime": {
          "end_time": "2022-09-02T00:37:10.289827Z",
          "start_time": "2022-09-02T00:37:10.277528Z"
        },
        "id": "9624193e",
        "outputId": "3aa28fd3-7b83-417e-d963-5af6eeaf1742"
      },
      "outputs": [
        {
          "name": "stdout",
          "output_type": "stream",
          "text": [
            "======================================================================\n",
            "Life is short, You need Python\n",
            "======================================================================\n"
          ]
        }
      ],
      "source": [
        "print(\"=\" * 70)\n",
        "print(\"Life is short, You need Python\")\n",
        "print(\"=\" * 70)"
      ]
    },
    {
      "cell_type": "code",
      "execution_count": null,
      "id": "638fc140",
      "metadata": {
        "ExecuteTime": {
          "end_time": "2022-09-02T00:39:13.178730Z",
          "start_time": "2022-09-02T00:39:13.167597Z"
        },
        "id": "638fc140",
        "outputId": "a91eda9d-def9-4175-ac05-c00015f3aa37"
      },
      "outputs": [
        {
          "name": "stdout",
          "output_type": "stream",
          "text": [
            "30\n"
          ]
        }
      ],
      "source": [
        "# 문자열 길이 : len(), length\n",
        "p = \"Life is short, You need Python\"\n",
        "print(len(p))"
      ]
    },
    {
      "cell_type": "code",
      "execution_count": null,
      "id": "3b69043c",
      "metadata": {
        "ExecuteTime": {
          "end_time": "2022-09-02T00:47:27.145285Z",
          "start_time": "2022-09-02T00:47:27.136201Z"
        },
        "id": "3b69043c",
        "outputId": "a58566ee-8efc-4ba1-9508-040ccb5765e3"
      },
      "outputs": [
        {
          "name": "stdout",
          "output_type": "stream",
          "text": [
            "e\n",
            "n\n"
          ]
        }
      ],
      "source": [
        "# 인덱싱과 슬라이싱\n",
        "# [index], [start:end], [start:end:step]\n",
        "a = \"Life is too short, You need Python\"\n",
        "print(a[3]) # 네번째 문자, 인덱스의 시작은 0부터, e\n",
        "print(a[-1])  # 리버스 인덱스, 마지막 문자, n"
      ]
    },
    {
      "cell_type": "code",
      "execution_count": null,
      "id": "9a7fccb0",
      "metadata": {
        "ExecuteTime": {
          "end_time": "2022-09-02T00:49:28.069885Z",
          "start_time": "2022-09-02T00:49:28.057178Z"
        },
        "id": "9a7fccb0",
        "outputId": "579463ec-b060-4b9f-eb47-afe4237bf5c4"
      },
      "outputs": [
        {
          "name": "stdout",
          "output_type": "stream",
          "text": [
            "Life\n",
            "Life\n"
          ]
        }
      ],
      "source": [
        "print(a[0:4])\n",
        "print(a[:4]) # 시작 인덱스 생략시 처음부터"
      ]
    },
    {
      "cell_type": "code",
      "execution_count": null,
      "id": "dc2936ad",
      "metadata": {
        "ExecuteTime": {
          "end_time": "2022-09-02T00:50:51.487925Z",
          "start_time": "2022-09-02T00:50:51.480877Z"
        },
        "id": "dc2936ad",
        "outputId": "92059890-105f-4217-a451-d2c8a5e22750"
      },
      "outputs": [
        {
          "name": "stdout",
          "output_type": "stream",
          "text": [
            "Life is too short, You need Python\n",
            "Life is too short, You need Python\n"
          ]
        }
      ],
      "source": [
        "print(a[0:]) # 마지막 인덱스 생략시 끝까지\n",
        "print(a[:])"
      ]
    },
    {
      "cell_type": "code",
      "execution_count": null,
      "id": "0cb5ace6",
      "metadata": {
        "ExecuteTime": {
          "end_time": "2022-09-02T01:22:04.614033Z",
          "start_time": "2022-09-02T01:22:04.606695Z"
        },
        "id": "0cb5ace6",
        "outputId": "817201d9-c95b-4755-9016-b5f70e84abb4"
      },
      "outputs": [
        {
          "name": "stdout",
          "output_type": "stream",
          "text": [
            "1922\n",
            "<class 'str'>\n",
            "남자\n"
          ]
        }
      ],
      "source": [
        "jumin = \"220902-1234567\"\n",
        "# 출생년도, 월, 일\n",
        "print(\"19\"+jumin[0:2])\n",
        "\n",
        "# 성별 : 1800 - 0과 9, 1900 - 1과 2, 2000 - 3과 4\n",
        "print(type(jumin[7]))  # str\n",
        "if int(jumin[7]) % 2 == 0:\n",
        "    print(\"여자\")\n",
        "else:\n",
        "    print(\"남자\")\n",
        "\n",
        "# 출생지역"
      ]
    },
    {
      "cell_type": "code",
      "execution_count": null,
      "id": "cc3708d5",
      "metadata": {
        "ExecuteTime": {
          "end_time": "2022-09-02T01:30:11.007334Z",
          "start_time": "2022-09-02T01:30:10.989301Z"
        },
        "id": "cc3708d5",
        "outputId": "44ec4c75-3f6a-4189-ad92-6176951ea878"
      },
      "outputs": [
        {
          "name": "stdout",
          "output_type": "stream",
          "text": [
            "True\n",
            "False\n"
          ]
        },
        {
          "name": "stderr",
          "output_type": "stream",
          "text": [
            "<>:5: SyntaxWarning: \"is\" with a literal. Did you mean \"==\"?\n",
            "<>:9: SyntaxWarning: \"is\" with a literal. Did you mean \"==\"?\n",
            "<>:5: SyntaxWarning: \"is\" with a literal. Did you mean \"==\"?\n",
            "<>:9: SyntaxWarning: \"is\" with a literal. Did you mean \"==\"?\n",
            "C:\\Users\\KH_LEE\\AppData\\Local\\Temp\\ipykernel_14992\\1645200093.py:5: SyntaxWarning: \"is\" with a literal. Did you mean \"==\"?\n",
            "  print(a is -5)\n",
            "C:\\Users\\KH_LEE\\AppData\\Local\\Temp\\ipykernel_14992\\1645200093.py:9: SyntaxWarning: \"is\" with a literal. Did you mean \"==\"?\n",
            "  print(a is -6)\n"
          ]
        }
      ],
      "source": [
        "# 파이썬의 메모리 관리 방식\n",
        "# -5 ~ 256까지는 이미 메모리에 저장되어서 시작된다.\n",
        "a = -5\n",
        "# print(a == -5)\n",
        "print(a is -5)\n",
        "\n",
        "a = -6\n",
        "#print(a == -6)\n",
        "print(a is -6)"
      ]
    },
    {
      "cell_type": "code",
      "execution_count": null,
      "id": "b228e7fe",
      "metadata": {
        "ExecuteTime": {
          "end_time": "2022-09-02T01:33:08.143416Z",
          "start_time": "2022-09-02T01:33:08.126633Z"
        },
        "id": "b228e7fe",
        "outputId": "013d0102-63c6-4326-e741-e9e4b9b3f259"
      },
      "outputs": [
        {
          "name": "stdout",
          "output_type": "stream",
          "text": [
            "hello\n",
            "None\n"
          ]
        }
      ],
      "source": [
        "a = print(\"hello\")\n",
        "print(a)"
      ]
    },
    {
      "cell_type": "markdown",
      "id": "b01f8d48",
      "metadata": {
        "id": "b01f8d48"
      },
      "source": [
        "### 리스트(List) 자료형"
      ]
    },
    {
      "cell_type": "code",
      "execution_count": null,
      "id": "58854210",
      "metadata": {
        "ExecuteTime": {
          "end_time": "2022-09-02T01:37:43.467188Z",
          "start_time": "2022-09-02T01:37:43.447974Z"
        },
        "id": "58854210",
        "outputId": "a18edaf3-bd5b-47c7-fabf-a5ce5f5e5072"
      },
      "outputs": [
        {
          "data": {
            "text/plain": [
              "[1, 'a', 3.14, 'korea', True, 30]"
            ]
          },
          "execution_count": 21,
          "metadata": {},
          "output_type": "execute_result"
        }
      ],
      "source": [
        "a = [1, 'a', 3.14, 'korea', True, 10+20]\n",
        "a"
      ]
    },
    {
      "cell_type": "code",
      "execution_count": null,
      "id": "d0cb7ca5",
      "metadata": {
        "ExecuteTime": {
          "end_time": "2022-09-02T01:39:09.559923Z",
          "start_time": "2022-09-02T01:39:09.555414Z"
        },
        "id": "d0cb7ca5",
        "outputId": "f067b0c3-7139-48d1-b67a-a55acbc1d6f7"
      },
      "outputs": [
        {
          "name": "stdout",
          "output_type": "stream",
          "text": [
            "<class 'list'>\n",
            "<class 'int'>\n"
          ]
        }
      ],
      "source": [
        "print(type(a))\n",
        "print(type(a[0]))"
      ]
    },
    {
      "cell_type": "code",
      "execution_count": null,
      "id": "ecf85885",
      "metadata": {
        "ExecuteTime": {
          "end_time": "2022-09-02T01:40:17.170371Z",
          "start_time": "2022-09-02T01:40:17.158656Z"
        },
        "id": "ecf85885",
        "outputId": "7abed7a6-01cc-4005-b838-c7397749b2ec"
      },
      "outputs": [
        {
          "name": "stdout",
          "output_type": "stream",
          "text": [
            "<class 'list'>\n",
            "<class 'list'>\n"
          ]
        }
      ],
      "source": [
        "b = []\n",
        "c = list()   # tuple()\n",
        "print(type(b))\n",
        "print(type(c))"
      ]
    },
    {
      "cell_type": "code",
      "execution_count": null,
      "id": "987e6ec9",
      "metadata": {
        "ExecuteTime": {
          "end_time": "2022-09-02T01:42:24.178405Z",
          "start_time": "2022-09-02T01:42:24.164320Z"
        },
        "id": "987e6ec9",
        "outputId": "13b491a0-b3e5-4f43-aba4-4c17a9ad640d"
      },
      "outputs": [
        {
          "data": {
            "text/plain": [
              "[1, 2, 3, ['a', 'b', 'c', 'd'], 5, 6, (7, 8)]"
            ]
          },
          "execution_count": 24,
          "metadata": {},
          "output_type": "execute_result"
        }
      ],
      "source": [
        "x = [1, 2, 3, ['a', 'b', 'c', 'd'], 5, 6, (7, 8)]\n",
        "x"
      ]
    },
    {
      "cell_type": "code",
      "execution_count": null,
      "id": "f8b229da",
      "metadata": {
        "ExecuteTime": {
          "end_time": "2022-09-02T01:43:04.356416Z",
          "start_time": "2022-09-02T01:43:04.341013Z"
        },
        "id": "f8b229da",
        "outputId": "3740bced-133a-4908-a363-c2fe33f7780f"
      },
      "outputs": [
        {
          "name": "stdout",
          "output_type": "stream",
          "text": [
            "(7, 8)\n"
          ]
        }
      ],
      "source": [
        "print(x[-1])"
      ]
    },
    {
      "cell_type": "code",
      "execution_count": null,
      "id": "772c5e63",
      "metadata": {
        "ExecuteTime": {
          "end_time": "2022-09-02T01:43:59.372927Z",
          "start_time": "2022-09-02T01:43:59.358437Z"
        },
        "id": "772c5e63",
        "outputId": "8a3ba6fb-5da1-4c68-c7b6-382c4153a530"
      },
      "outputs": [
        {
          "name": "stdout",
          "output_type": "stream",
          "text": [
            "['a', 'b', 'c', 'd']\n"
          ]
        }
      ],
      "source": [
        "print(x[3])"
      ]
    },
    {
      "cell_type": "code",
      "execution_count": null,
      "id": "c3597def",
      "metadata": {
        "ExecuteTime": {
          "end_time": "2022-09-02T01:48:34.915862Z",
          "start_time": "2022-09-02T01:48:34.902530Z"
        },
        "id": "c3597def",
        "outputId": "03dc845c-4f75-4d8c-81da-b2835388e192"
      },
      "outputs": [
        {
          "name": "stdout",
          "output_type": "stream",
          "text": [
            "b\n",
            "['b', 'c']\n"
          ]
        }
      ],
      "source": [
        "print(x[3][1])   \n",
        "print(x[3][1:3])   "
      ]
    },
    {
      "cell_type": "code",
      "execution_count": null,
      "id": "df11c8e2",
      "metadata": {
        "ExecuteTime": {
          "end_time": "2022-09-02T01:50:27.339710Z",
          "start_time": "2022-09-02T01:50:27.334651Z"
        },
        "id": "df11c8e2",
        "outputId": "6b06696c-a10e-4fa0-909d-a1aad0617122"
      },
      "outputs": [
        {
          "name": "stdout",
          "output_type": "stream",
          "text": [
            "b c\n"
          ]
        }
      ],
      "source": [
        "print(x[3][1], x[3][2])"
      ]
    },
    {
      "cell_type": "code",
      "execution_count": null,
      "id": "69c17e9a",
      "metadata": {
        "ExecuteTime": {
          "end_time": "2022-09-02T01:51:59.374917Z",
          "start_time": "2022-09-02T01:51:59.360914Z"
        },
        "id": "69c17e9a",
        "outputId": "bd7c4ffc-380b-48e8-bede-593e72e9654e"
      },
      "outputs": [
        {
          "data": {
            "text/plain": [
              "[1, 2, 3, 4, 5, 6]"
            ]
          },
          "execution_count": 34,
          "metadata": {},
          "output_type": "execute_result"
        }
      ],
      "source": [
        "a = [1, 2, 3]\n",
        "b = [4, 5, 6]\n",
        "a + b"
      ]
    },
    {
      "cell_type": "code",
      "execution_count": null,
      "id": "699541d1",
      "metadata": {
        "ExecuteTime": {
          "end_time": "2022-09-02T01:52:52.982723Z",
          "start_time": "2022-09-02T01:52:52.977607Z"
        },
        "id": "699541d1",
        "outputId": "cbb688dd-17ef-4684-c00a-9b67f2af494d"
      },
      "outputs": [
        {
          "data": {
            "text/plain": [
              "[5, 7, 9]"
            ]
          },
          "execution_count": 35,
          "metadata": {},
          "output_type": "execute_result"
        }
      ],
      "source": [
        "[a[0]+b[0], a[1]+b[1], a[2]+b[2]]"
      ]
    },
    {
      "cell_type": "code",
      "execution_count": null,
      "id": "ec3b9f4f",
      "metadata": {
        "ExecuteTime": {
          "end_time": "2022-09-02T01:55:58.369868Z",
          "start_time": "2022-09-02T01:55:58.359586Z"
        },
        "id": "ec3b9f4f",
        "outputId": "a952ee9b-e6c7-4cf6-f8b0-181efcc9b643"
      },
      "outputs": [
        {
          "name": "stdout",
          "output_type": "stream",
          "text": [
            "[5, 7, 9]\n"
          ]
        }
      ],
      "source": [
        "x = []\n",
        "for i in range(3):  # 0, 1, 2\n",
        "    imsi = a[i] + b[i]\n",
        "    x.append(imsi)\n",
        "print(x)"
      ]
    },
    {
      "cell_type": "code",
      "execution_count": null,
      "id": "e0263a71",
      "metadata": {
        "ExecuteTime": {
          "end_time": "2022-09-02T02:08:56.695287Z",
          "start_time": "2022-09-02T02:08:56.686250Z"
        },
        "id": "e0263a71",
        "outputId": "1fc62975-aa97-4764-a98b-a49802905a4a"
      },
      "outputs": [
        {
          "name": "stdout",
          "output_type": "stream",
          "text": [
            "(7, 8)\n",
            "7\n"
          ]
        }
      ],
      "source": [
        "x = [1, 2, 3, ['a', 'b', 'c', 'd'], 5, 6, (7, 8)]\n",
        "print(x[6])\n",
        "print(x[6][0])"
      ]
    },
    {
      "cell_type": "code",
      "execution_count": null,
      "id": "f094866a",
      "metadata": {
        "ExecuteTime": {
          "end_time": "2022-09-02T02:09:15.632316Z",
          "start_time": "2022-09-02T02:09:15.618451Z"
        },
        "id": "f094866a",
        "outputId": "cb5a1a82-ecbb-4ad0-db18-b846700750d1"
      },
      "outputs": [
        {
          "ename": "TypeError",
          "evalue": "'tuple' object does not support item assignment",
          "output_type": "error",
          "traceback": [
            "\u001b[1;31m---------------------------------------------------------------------------\u001b[0m",
            "\u001b[1;31mTypeError\u001b[0m                                 Traceback (most recent call last)",
            "Input \u001b[1;32mIn [38]\u001b[0m, in \u001b[0;36m<cell line: 1>\u001b[1;34m()\u001b[0m\n\u001b[1;32m----> 1\u001b[0m x[\u001b[38;5;241m6\u001b[39m][\u001b[38;5;241m0\u001b[39m] \u001b[38;5;241m=\u001b[39m \u001b[38;5;241m70\u001b[39m\n\u001b[0;32m      2\u001b[0m x\n",
            "\u001b[1;31mTypeError\u001b[0m: 'tuple' object does not support item assignment"
          ]
        }
      ],
      "source": [
        "x[6][0] = 70\n",
        "x"
      ]
    },
    {
      "cell_type": "code",
      "execution_count": null,
      "id": "71a56a09",
      "metadata": {
        "ExecuteTime": {
          "end_time": "2022-09-02T02:09:42.160080Z",
          "start_time": "2022-09-02T02:09:42.156040Z"
        },
        "id": "71a56a09",
        "outputId": "9791c615-8998-464d-c010-a3ea8dda8b77"
      },
      "outputs": [
        {
          "data": {
            "text/plain": [
              "[1, 2, 3, ['a', 'b', 'c', 'd'], 5, 6, 70]"
            ]
          },
          "execution_count": 40,
          "metadata": {},
          "output_type": "execute_result"
        }
      ],
      "source": [
        "x[6] = 70\n",
        "x"
      ]
    },
    {
      "cell_type": "code",
      "execution_count": null,
      "id": "ffdaa226",
      "metadata": {
        "ExecuteTime": {
          "end_time": "2022-09-02T02:17:00.357754Z",
          "start_time": "2022-09-02T02:17:00.344213Z"
        },
        "id": "ffdaa226",
        "outputId": "f6845fcb-7d89-4b28-945f-b08adbf45104"
      },
      "outputs": [
        {
          "name": "stdout",
          "output_type": "stream",
          "text": [
            "[1, 2, (3, 4, 5)]\n"
          ]
        }
      ],
      "source": [
        "x = [1, 2, (3, 4, 5)]\n",
        "print(x)"
      ]
    },
    {
      "cell_type": "code",
      "execution_count": null,
      "id": "42f9abc0",
      "metadata": {
        "ExecuteTime": {
          "end_time": "2022-09-02T02:17:40.543579Z",
          "start_time": "2022-09-02T02:17:40.525752Z"
        },
        "id": "42f9abc0",
        "outputId": "18a76cbc-2460-44e5-cb42-982b73d50dd2"
      },
      "outputs": [
        {
          "ename": "TypeError",
          "evalue": "'tuple' object does not support item assignment",
          "output_type": "error",
          "traceback": [
            "\u001b[1;31m---------------------------------------------------------------------------\u001b[0m",
            "\u001b[1;31mTypeError\u001b[0m                                 Traceback (most recent call last)",
            "Input \u001b[1;32mIn [49]\u001b[0m, in \u001b[0;36m<cell line: 1>\u001b[1;34m()\u001b[0m\n\u001b[1;32m----> 1\u001b[0m x[\u001b[38;5;241m2\u001b[39m][\u001b[38;5;241m0\u001b[39m] \u001b[38;5;241m=\u001b[39m \u001b[38;5;241m30\u001b[39m\n\u001b[0;32m      2\u001b[0m \u001b[38;5;28mprint\u001b[39m(x)\n",
            "\u001b[1;31mTypeError\u001b[0m: 'tuple' object does not support item assignment"
          ]
        }
      ],
      "source": [
        "x[2][0] = 30\n",
        "print(x)"
      ]
    },
    {
      "cell_type": "code",
      "execution_count": null,
      "id": "c4277479",
      "metadata": {
        "ExecuteTime": {
          "end_time": "2022-09-02T02:14:50.358711Z",
          "start_time": "2022-09-02T02:14:50.354711Z"
        },
        "id": "c4277479",
        "outputId": "3ea636b8-4f37-42b5-9d8c-f7cde1c4cbb1"
      },
      "outputs": [
        {
          "name": "stdout",
          "output_type": "stream",
          "text": [
            "<class 'list'>\n"
          ]
        }
      ],
      "source": [
        "print(type(x))"
      ]
    },
    {
      "cell_type": "code",
      "execution_count": null,
      "id": "53b5d2e5",
      "metadata": {
        "id": "53b5d2e5"
      },
      "outputs": [],
      "source": []
    },
    {
      "cell_type": "code",
      "execution_count": null,
      "id": "14a5bba0",
      "metadata": {
        "ExecuteTime": {
          "end_time": "2022-09-02T02:15:08.970765Z",
          "start_time": "2022-09-02T02:15:08.957629Z"
        },
        "id": "14a5bba0",
        "outputId": "035c6391-d73b-49a5-b263-90977e295e63"
      },
      "outputs": [
        {
          "name": "stdout",
          "output_type": "stream",
          "text": [
            "(3, 4, 5)\n"
          ]
        }
      ],
      "source": [
        "print(x[-1])"
      ]
    },
    {
      "cell_type": "code",
      "execution_count": null,
      "id": "b0374c2b",
      "metadata": {
        "ExecuteTime": {
          "end_time": "2022-09-02T02:15:23.218142Z",
          "start_time": "2022-09-02T02:15:23.200758Z"
        },
        "id": "b0374c2b",
        "outputId": "6a7d9319-67f0-4ea3-bdbe-77c7ee9b69b4"
      },
      "outputs": [
        {
          "name": "stdout",
          "output_type": "stream",
          "text": [
            "<class 'tuple'>\n"
          ]
        }
      ],
      "source": [
        "print(type(x[-1]))"
      ]
    },
    {
      "cell_type": "code",
      "execution_count": null,
      "id": "7c09d860",
      "metadata": {
        "ExecuteTime": {
          "end_time": "2022-09-02T02:16:37.325102Z",
          "start_time": "2022-09-02T02:16:37.316148Z"
        },
        "id": "7c09d860",
        "outputId": "6649da30-b940-4f55-f449-edc72179cc23"
      },
      "outputs": [
        {
          "name": "stdout",
          "output_type": "stream",
          "text": [
            "[1, 2, ['a', 'b']]\n"
          ]
        }
      ],
      "source": [
        "x[-1] = ['a', 'b']\n",
        "print(x)"
      ]
    },
    {
      "cell_type": "code",
      "execution_count": null,
      "id": "498b520f",
      "metadata": {
        "ExecuteTime": {
          "end_time": "2022-09-02T02:18:18.819772Z",
          "start_time": "2022-09-02T02:18:18.805178Z"
        },
        "id": "498b520f",
        "outputId": "ff7ad486-0597-4dc4-c187-3a4dc275dbd3"
      },
      "outputs": [
        {
          "name": "stdout",
          "output_type": "stream",
          "text": [
            "(1, 2, ['a', 'b', 'c'])\n",
            "<class 'tuple'>\n"
          ]
        }
      ],
      "source": [
        "y = (1, 2, ['a', 'b', 'c'])\n",
        "print(y)\n",
        "print(type(y))"
      ]
    },
    {
      "cell_type": "code",
      "execution_count": null,
      "id": "b8dd8ef4",
      "metadata": {
        "ExecuteTime": {
          "end_time": "2022-09-02T02:18:43.384897Z",
          "start_time": "2022-09-02T02:18:43.372803Z"
        },
        "id": "b8dd8ef4",
        "outputId": "e9dc4552-17e0-4d47-c479-7b1c629ab990"
      },
      "outputs": [
        {
          "name": "stdout",
          "output_type": "stream",
          "text": [
            "['a', 'b', 'c']\n"
          ]
        }
      ],
      "source": [
        "print(y[2])"
      ]
    },
    {
      "cell_type": "code",
      "execution_count": null,
      "id": "dabbdbde",
      "metadata": {
        "ExecuteTime": {
          "end_time": "2022-09-02T02:19:20.694519Z",
          "start_time": "2022-09-02T02:19:20.689471Z"
        },
        "id": "dabbdbde",
        "outputId": "9e6978b5-f6e0-41ed-8907-adf538f4b796"
      },
      "outputs": [
        {
          "name": "stdout",
          "output_type": "stream",
          "text": [
            "(1, 2, ['k', 'b', 'c'])\n"
          ]
        }
      ],
      "source": [
        "y[2][0] = 'k'\n",
        "print(y)"
      ]
    },
    {
      "cell_type": "code",
      "execution_count": null,
      "id": "bbaa46b1",
      "metadata": {
        "ExecuteTime": {
          "end_time": "2022-09-02T02:31:20.891460Z",
          "start_time": "2022-09-02T02:31:20.877412Z"
        },
        "id": "bbaa46b1"
      },
      "outputs": [],
      "source": [
        "# 리스트 관련 함수 : 리스트객체명.함수()\n",
        "## 리스트에 마지막 요소를 추가 append()\n",
        "## 리스트에 원하는 위치에 요소를 추가 insert(index, data)\n",
        "## 리스트 정렬 sort() - 오름차순, sort(reverse=True) - 내림차순\n",
        "## 리스트 뒤집기 reverse()\n",
        "## 리스트 해당 요소의 인덱스 index(data)\n",
        "## 리스트 요소 삭제 : del 리스트명[인덱스], remove(data), clear()\n",
        "## 리스트의 마지막 요소를 추출 : 리스트명.pop()\n",
        "## 리스트의 요소의 개수 : 리스트명.count(data)\n",
        "## 리스트의 확장 : 리스트.extend(리스트 자료형만 올 수 있다.)"
      ]
    },
    {
      "cell_type": "markdown",
      "id": "e532fa12",
      "metadata": {
        "id": "e532fa12"
      },
      "source": [
        "### 튜플(Tuple) 자료형"
      ]
    },
    {
      "cell_type": "code",
      "execution_count": null,
      "id": "cb9d3622",
      "metadata": {
        "ExecuteTime": {
          "end_time": "2022-09-02T02:34:30.514307Z",
          "start_time": "2022-09-02T02:34:30.505253Z"
        },
        "id": "cb9d3622",
        "outputId": "5d6e6c19-6e23-4e7e-d7c3-1f955ee67203"
      },
      "outputs": [
        {
          "name": "stdout",
          "output_type": "stream",
          "text": [
            "()\n",
            "(1,)\n",
            "(1, 2, 3)\n"
          ]
        }
      ],
      "source": [
        "t1 = ()\n",
        "t2 = (1,)\n",
        "t3 = (1, 2, 3)\n",
        "print(t1)\n",
        "print(t2)\n",
        "print(t3)"
      ]
    },
    {
      "cell_type": "code",
      "execution_count": null,
      "id": "86e6650f",
      "metadata": {
        "ExecuteTime": {
          "end_time": "2022-09-02T02:35:13.569586Z",
          "start_time": "2022-09-02T02:35:13.552994Z"
        },
        "id": "86e6650f",
        "outputId": "4751d6b8-3844-42df-9ce0-7b7734989356"
      },
      "outputs": [
        {
          "name": "stdout",
          "output_type": "stream",
          "text": [
            "[]\n",
            "[1]\n",
            "[1, 2, 3]\n"
          ]
        }
      ],
      "source": [
        "l1 = []\n",
        "l2 = [1]\n",
        "l3 = [1, 2, 3]\n",
        "print(l1)\n",
        "print(l2)\n",
        "print(l3)"
      ]
    },
    {
      "cell_type": "code",
      "execution_count": null,
      "id": "4c2ac573",
      "metadata": {
        "ExecuteTime": {
          "end_time": "2022-09-02T02:35:58.629346Z",
          "start_time": "2022-09-02T02:35:58.620272Z"
        },
        "id": "4c2ac573",
        "outputId": "4e7e4519-3d74-4e42-e897-974f41f6e44c"
      },
      "outputs": [
        {
          "name": "stdout",
          "output_type": "stream",
          "text": [
            "(1, 2, 3, ['a', 'b'], ('aaa', 'bbb'))\n"
          ]
        }
      ],
      "source": [
        "t4 = (1, 2, 3, ['a', 'b'], ('aaa','bbb'))\n",
        "print(t4)"
      ]
    },
    {
      "cell_type": "code",
      "execution_count": null,
      "id": "84c9afb3",
      "metadata": {
        "ExecuteTime": {
          "end_time": "2022-09-02T02:37:06.693721Z",
          "start_time": "2022-09-02T02:37:06.678565Z"
        },
        "id": "84c9afb3",
        "outputId": "5f60ec56-2c33-45dc-9085-fbe7154954e4"
      },
      "outputs": [
        {
          "name": "stdout",
          "output_type": "stream",
          "text": [
            "['a', 'b']\n",
            "<class 'list'>\n"
          ]
        }
      ],
      "source": [
        "print(t4[3])\n",
        "print(type(t4[3]))"
      ]
    },
    {
      "cell_type": "code",
      "execution_count": null,
      "id": "3805b3de",
      "metadata": {
        "ExecuteTime": {
          "end_time": "2022-09-02T02:37:45.647824Z",
          "start_time": "2022-09-02T02:37:45.632898Z"
        },
        "id": "3805b3de",
        "outputId": "f6ede78c-21bc-4684-fb1a-6b4e1e939cce"
      },
      "outputs": [
        {
          "ename": "TypeError",
          "evalue": "'tuple' object does not support item assignment",
          "output_type": "error",
          "traceback": [
            "\u001b[1;31m---------------------------------------------------------------------------\u001b[0m",
            "\u001b[1;31mTypeError\u001b[0m                                 Traceback (most recent call last)",
            "Input \u001b[1;32mIn [62]\u001b[0m, in \u001b[0;36m<cell line: 1>\u001b[1;34m()\u001b[0m\n\u001b[1;32m----> 1\u001b[0m t4[\u001b[38;5;241m3\u001b[39m] \u001b[38;5;241m=\u001b[39m \u001b[38;5;241m4\u001b[39m\n\u001b[0;32m      2\u001b[0m \u001b[38;5;28mprint\u001b[39m(t4)\n",
            "\u001b[1;31mTypeError\u001b[0m: 'tuple' object does not support item assignment"
          ]
        }
      ],
      "source": [
        "t4[3] = 4\n",
        "print(t4)"
      ]
    },
    {
      "cell_type": "code",
      "execution_count": null,
      "id": "b5a59dd9",
      "metadata": {
        "ExecuteTime": {
          "end_time": "2022-09-02T02:38:33.242767Z",
          "start_time": "2022-09-02T02:38:33.237709Z"
        },
        "id": "b5a59dd9",
        "outputId": "b4552dc3-0741-49f7-ca68-327032dacf77"
      },
      "outputs": [
        {
          "name": "stdout",
          "output_type": "stream",
          "text": [
            "(1, 2, 3, ['k', 'b'], ('aaa', 'bbb'))\n"
          ]
        }
      ],
      "source": [
        "t4[3][0] = 'k'\n",
        "print(t4)"
      ]
    },
    {
      "cell_type": "code",
      "execution_count": null,
      "id": "5af69848",
      "metadata": {
        "ExecuteTime": {
          "end_time": "2022-09-02T02:40:05.401942Z",
          "start_time": "2022-09-02T02:40:05.395922Z"
        },
        "id": "5af69848",
        "outputId": "c13c1778-bf44-45ee-bcae-56061dcd9dff"
      },
      "outputs": [
        {
          "name": "stdout",
          "output_type": "stream",
          "text": [
            "(1, 2)\n"
          ]
        }
      ],
      "source": [
        "print(t4[:2])"
      ]
    },
    {
      "cell_type": "code",
      "execution_count": null,
      "id": "b487d380",
      "metadata": {
        "ExecuteTime": {
          "end_time": "2022-09-02T02:41:53.584964Z",
          "start_time": "2022-09-02T02:41:53.581911Z"
        },
        "id": "b487d380",
        "outputId": "49a45695-7113-465d-a41d-1b67279ff91e"
      },
      "outputs": [
        {
          "name": "stdout",
          "output_type": "stream",
          "text": [
            "(1, 2, 'a', 'b', 3, 4)\n",
            "t1 =  (1, 2, 'a', 'b')\n",
            "t2 =  (3, 4)\n"
          ]
        }
      ],
      "source": [
        "t1 = (1, 2, 'a', 'b')\n",
        "t2 = (3, 4)\n",
        "print(t1 + t2)\n",
        "print(\"t1 = \", t1)\n",
        "print(\"t2 = \", t2)"
      ]
    },
    {
      "cell_type": "code",
      "execution_count": null,
      "id": "befd5796",
      "metadata": {
        "ExecuteTime": {
          "end_time": "2022-09-02T02:42:39.408644Z",
          "start_time": "2022-09-02T02:42:39.394051Z"
        },
        "id": "befd5796",
        "outputId": "eee9e934-15eb-40b9-aaf6-c7a5d1035425"
      },
      "outputs": [
        {
          "name": "stdout",
          "output_type": "stream",
          "text": [
            "t1 =  (1, 2, 'a', 'b', 3, 4)\n"
          ]
        }
      ],
      "source": [
        "t1 = t1 + t2\n",
        "print(\"t1 = \", t1)"
      ]
    },
    {
      "cell_type": "code",
      "execution_count": null,
      "id": "4512da04",
      "metadata": {
        "ExecuteTime": {
          "end_time": "2022-09-02T02:43:15.096822Z",
          "start_time": "2022-09-02T02:43:15.080291Z"
        },
        "id": "4512da04",
        "outputId": "51594ec4-6968-4b7b-ea18-98aaec86bef9"
      },
      "outputs": [
        {
          "name": "stdout",
          "output_type": "stream",
          "text": [
            "(3, 4, 3, 4)\n"
          ]
        }
      ],
      "source": [
        "print(t2 * 2)"
      ]
    },
    {
      "cell_type": "code",
      "execution_count": null,
      "id": "908dbd3f",
      "metadata": {
        "ExecuteTime": {
          "end_time": "2022-09-02T02:43:45.111265Z",
          "start_time": "2022-09-02T02:43:45.106032Z"
        },
        "id": "908dbd3f",
        "outputId": "3b3cbbc6-4094-4f28-d595-640a10618a12"
      },
      "outputs": [
        {
          "name": "stdout",
          "output_type": "stream",
          "text": [
            "6\n"
          ]
        }
      ],
      "source": [
        "print(len(t1))"
      ]
    },
    {
      "cell_type": "code",
      "execution_count": null,
      "id": "975ab8cf",
      "metadata": {
        "ExecuteTime": {
          "end_time": "2022-09-02T02:44:59.656725Z",
          "start_time": "2022-09-02T02:44:59.649646Z"
        },
        "id": "975ab8cf",
        "outputId": "f0679b72-c097-4dea-850c-243e7d8445a8"
      },
      "outputs": [
        {
          "data": {
            "text/plain": [
              "(1, 2, 'a', 'b', 3, 4)"
            ]
          },
          "execution_count": 69,
          "metadata": {},
          "output_type": "execute_result"
        }
      ],
      "source": [
        "t1"
      ]
    },
    {
      "cell_type": "code",
      "execution_count": null,
      "id": "0891bda2",
      "metadata": {
        "ExecuteTime": {
          "end_time": "2022-09-02T02:45:11.030601Z",
          "start_time": "2022-09-02T02:45:11.005284Z"
        },
        "id": "0891bda2",
        "outputId": "c5b87c3a-066f-4004-d35d-bf25d85eba71"
      },
      "outputs": [
        {
          "ename": "AttributeError",
          "evalue": "'tuple' object has no attribute 'pop'",
          "output_type": "error",
          "traceback": [
            "\u001b[1;31m---------------------------------------------------------------------------\u001b[0m",
            "\u001b[1;31mAttributeError\u001b[0m                            Traceback (most recent call last)",
            "Input \u001b[1;32mIn [70]\u001b[0m, in \u001b[0;36m<cell line: 1>\u001b[1;34m()\u001b[0m\n\u001b[1;32m----> 1\u001b[0m \u001b[43mt1\u001b[49m\u001b[38;5;241;43m.\u001b[39;49m\u001b[43mpop\u001b[49m()\n\u001b[0;32m      2\u001b[0m t1\n",
            "\u001b[1;31mAttributeError\u001b[0m: 'tuple' object has no attribute 'pop'"
          ]
        }
      ],
      "source": [
        "t1.pop()\n",
        "t1"
      ]
    },
    {
      "cell_type": "markdown",
      "id": "6d3e75ad",
      "metadata": {
        "id": "6d3e75ad"
      },
      "source": [
        "### 사전"
      ]
    },
    {
      "cell_type": "code",
      "execution_count": null,
      "id": "ddb90803",
      "metadata": {
        "ExecuteTime": {
          "end_time": "2022-09-02T02:53:47.293827Z",
          "start_time": "2022-09-02T02:53:47.282240Z"
        },
        "id": "ddb90803",
        "outputId": "fe2e26f0-d61e-4469-ea4f-0546925b49c6"
      },
      "outputs": [
        {
          "name": "stdout",
          "output_type": "stream",
          "text": [
            "{'name': 'aaa', 'phone': '123-456-7890'}\n",
            "<class 'dict'>\n"
          ]
        }
      ],
      "source": [
        "dic = {'name':'aaa', 'phone':'123-456-7890'}\n",
        "print(dic)\n",
        "print(type(dic))"
      ]
    },
    {
      "cell_type": "code",
      "execution_count": null,
      "id": "bdb6beb7",
      "metadata": {
        "ExecuteTime": {
          "end_time": "2022-09-02T02:55:51.307483Z",
          "start_time": "2022-09-02T02:55:51.297432Z"
        },
        "id": "bdb6beb7",
        "outputId": "3d43d8fb-480f-41d8-fabd-78813f6e1e16"
      },
      "outputs": [
        {
          "name": "stdout",
          "output_type": "stream",
          "text": [
            "aaa\n"
          ]
        }
      ],
      "source": [
        "# 사전[key] \n",
        "print(dic['name'])"
      ]
    },
    {
      "cell_type": "code",
      "execution_count": null,
      "id": "1e9c8326",
      "metadata": {
        "ExecuteTime": {
          "end_time": "2022-09-02T02:56:35.979342Z",
          "start_time": "2022-09-02T02:56:35.968257Z"
        },
        "id": "1e9c8326",
        "outputId": "0b9214fc-ddab-4839-8f9b-b6b6dd3c02e6"
      },
      "outputs": [
        {
          "name": "stdout",
          "output_type": "stream",
          "text": [
            "{'name': 'aaa', 'phone': '123-456-7890', 'age': 33}\n"
          ]
        }
      ],
      "source": [
        "dic['age'] = 33\n",
        "print(dic)"
      ]
    },
    {
      "cell_type": "code",
      "execution_count": null,
      "id": "f08f0654",
      "metadata": {
        "ExecuteTime": {
          "end_time": "2022-09-02T02:57:29.321618Z",
          "start_time": "2022-09-02T02:57:29.297173Z"
        },
        "id": "f08f0654",
        "outputId": "727dac5a-8192-47e3-996d-f77ccca7c774"
      },
      "outputs": [
        {
          "ename": "KeyError",
          "evalue": "0",
          "output_type": "error",
          "traceback": [
            "\u001b[1;31m---------------------------------------------------------------------------\u001b[0m",
            "\u001b[1;31mKeyError\u001b[0m                                  Traceback (most recent call last)",
            "Input \u001b[1;32mIn [74]\u001b[0m, in \u001b[0;36m<cell line: 1>\u001b[1;34m()\u001b[0m\n\u001b[1;32m----> 1\u001b[0m \u001b[43mdic\u001b[49m\u001b[43m[\u001b[49m\u001b[38;5;241;43m0\u001b[39;49m\u001b[43m]\u001b[49m\n",
            "\u001b[1;31mKeyError\u001b[0m: 0"
          ]
        }
      ],
      "source": [
        "dic[0]"
      ]
    },
    {
      "cell_type": "code",
      "execution_count": null,
      "id": "ebe0d19c",
      "metadata": {
        "ExecuteTime": {
          "end_time": "2022-09-02T02:59:38.960929Z",
          "start_time": "2022-09-02T02:59:38.944670Z"
        },
        "id": "ebe0d19c",
        "outputId": "72e35f82-2f63-4828-ce92-5969bfd2e768"
      },
      "outputs": [
        {
          "name": "stdout",
          "output_type": "stream",
          "text": [
            "{'name': 'aaa', 'phone': '123-456-7890', 'age': 33, 3: [1, 2, 3]}\n"
          ]
        }
      ],
      "source": [
        "dic[3] = [1, 2, 3]\n",
        "print(dic)"
      ]
    },
    {
      "cell_type": "code",
      "execution_count": null,
      "id": "d87944b0",
      "metadata": {
        "ExecuteTime": {
          "end_time": "2022-09-02T03:00:18.170501Z",
          "start_time": "2022-09-02T03:00:18.164436Z"
        },
        "id": "d87944b0",
        "outputId": "1651d3d7-8630-4c37-d3d6-5a45b8499ca1"
      },
      "outputs": [
        {
          "name": "stdout",
          "output_type": "stream",
          "text": [
            "{'name': 'aaa', 'phone': '123-456-7890', 'age': 33}\n"
          ]
        }
      ],
      "source": [
        "del dic[3]\n",
        "print(dic)"
      ]
    },
    {
      "cell_type": "code",
      "execution_count": null,
      "id": "b6b845cb",
      "metadata": {
        "ExecuteTime": {
          "end_time": "2022-09-02T03:04:48.004777Z",
          "start_time": "2022-09-02T03:04:47.998769Z"
        },
        "id": "b6b845cb",
        "outputId": "cc64717b-7947-417b-a5c5-487ba0dc454a"
      },
      "outputs": [
        {
          "name": "stdout",
          "output_type": "stream",
          "text": [
            "{'id': [111, 222, 333, 444, 555], 'name': ['aaa', 'bbb', 'ccc', 'ddd', 'eee'], 'kor': [88, 92, 74, 100, 93], 'eng': [90, 87, 74, 88, 93], 'math': [80, 70, 90, 50, 60]}\n"
          ]
        }
      ],
      "source": [
        "student = {'id':[111, 222, 333, 444, 555],\n",
        "          'name':['aaa','bbb','ccc','ddd','eee'],\n",
        "          'kor':[88, 92, 74, 100, 93],\n",
        "          'eng':[90, 87, 74, 88, 93],\n",
        "          'math':[80, 70, 90, 50, 60]}\n",
        "print(student)"
      ]
    },
    {
      "cell_type": "code",
      "execution_count": null,
      "id": "27ae93ee",
      "metadata": {
        "ExecuteTime": {
          "end_time": "2022-09-02T03:17:44.416518Z",
          "start_time": "2022-09-02T03:17:44.397683Z"
        },
        "id": "27ae93ee",
        "outputId": "fb540d48-9f23-457d-ad0d-848711b1312d"
      },
      "outputs": [
        {
          "name": "stdout",
          "output_type": "stream",
          "text": [
            "[111, 222, 333, 444, 555]\n"
          ]
        }
      ],
      "source": [
        "print(student['id'])"
      ]
    },
    {
      "cell_type": "code",
      "execution_count": null,
      "id": "e3bb63ff",
      "metadata": {
        "ExecuteTime": {
          "end_time": "2022-09-02T03:18:25.557540Z",
          "start_time": "2022-09-02T03:18:25.542447Z"
        },
        "id": "e3bb63ff",
        "outputId": "65a5f5e5-1b0f-4d24-f60f-2355ccfaf759"
      },
      "outputs": [
        {
          "name": "stdout",
          "output_type": "stream",
          "text": [
            "dict_keys(['id', 'name', 'kor', 'eng', 'math'])\n"
          ]
        }
      ],
      "source": [
        "print(student.keys())"
      ]
    },
    {
      "cell_type": "code",
      "execution_count": null,
      "id": "0fbaab51",
      "metadata": {
        "ExecuteTime": {
          "end_time": "2022-09-02T03:18:50.686690Z",
          "start_time": "2022-09-02T03:18:50.683073Z"
        },
        "id": "0fbaab51",
        "outputId": "5f726de0-c7aa-4fc2-a2a9-3ef1457ff3ad"
      },
      "outputs": [
        {
          "name": "stdout",
          "output_type": "stream",
          "text": [
            "dict_values([[111, 222, 333, 444, 555], ['aaa', 'bbb', 'ccc', 'ddd', 'eee'], [88, 92, 74, 100, 93], [90, 87, 74, 88, 93], [80, 70, 90, 50, 60]])\n"
          ]
        }
      ],
      "source": [
        "print(student.values())"
      ]
    },
    {
      "cell_type": "code",
      "execution_count": null,
      "id": "72ecd48d",
      "metadata": {
        "ExecuteTime": {
          "end_time": "2022-09-02T03:20:05.191409Z",
          "start_time": "2022-09-02T03:20:05.178807Z"
        },
        "id": "72ecd48d",
        "outputId": "ed97a823-a2e5-4c85-db38-788f5b820a47"
      },
      "outputs": [
        {
          "data": {
            "text/plain": [
              "[[1, 2, 3], [4, 5, 6]]"
            ]
          },
          "execution_count": 81,
          "metadata": {},
          "output_type": "execute_result"
        }
      ],
      "source": [
        "a = [[1, 2, 3], [4, 5, 6]]\n",
        "a"
      ]
    },
    {
      "cell_type": "code",
      "execution_count": null,
      "id": "023654bb",
      "metadata": {
        "ExecuteTime": {
          "end_time": "2022-09-02T03:23:53.461323Z",
          "start_time": "2022-09-02T03:23:53.445685Z"
        },
        "id": "023654bb",
        "outputId": "60bde5d4-fb74-4357-86dc-67208f18a02f"
      },
      "outputs": [
        {
          "name": "stdout",
          "output_type": "stream",
          "text": [
            "dict_items([('id', [111, 222, 333, 444, 555]), ('name', ['aaa', 'bbb', 'ccc', 'ddd', 'eee']), ('kor', [88, 92, 74, 100, 93]), ('eng', [90, 87, 74, 88, 93]), ('math', [80, 70, 90, 50, 60])])\n"
          ]
        }
      ],
      "source": [
        "print(student.items())"
      ]
    },
    {
      "cell_type": "code",
      "execution_count": null,
      "id": "e563e2c4",
      "metadata": {
        "ExecuteTime": {
          "end_time": "2022-09-02T03:27:29.802587Z",
          "start_time": "2022-09-02T03:27:29.792523Z"
        },
        "id": "e563e2c4",
        "outputId": "fd4fff12-1e15-4c98-de8a-ec0535950eb3"
      },
      "outputs": [
        {
          "name": "stdout",
          "output_type": "stream",
          "text": [
            "id\n",
            "name\n",
            "kor\n",
            "eng\n",
            "math\n"
          ]
        }
      ],
      "source": [
        "# for 개별변수 in 집합변수\n",
        "for key in student.keys():\n",
        "    print(key)"
      ]
    },
    {
      "cell_type": "code",
      "execution_count": null,
      "id": "f8703a51",
      "metadata": {
        "ExecuteTime": {
          "end_time": "2022-09-02T03:28:12.271509Z",
          "start_time": "2022-09-02T03:28:12.261219Z"
        },
        "id": "f8703a51",
        "outputId": "c565f398-ee00-4ab1-e8d9-8b09fa9a9cbf"
      },
      "outputs": [
        {
          "name": "stdout",
          "output_type": "stream",
          "text": [
            "{}\n"
          ]
        }
      ],
      "source": [
        "student.clear()\n",
        "print(student)"
      ]
    },
    {
      "cell_type": "code",
      "execution_count": null,
      "id": "8a00730f",
      "metadata": {
        "ExecuteTime": {
          "end_time": "2022-09-02T03:29:05.545331Z",
          "start_time": "2022-09-02T03:29:05.541567Z"
        },
        "id": "8a00730f",
        "outputId": "125ab4c5-7c9d-4e75-e9d9-7e352427ceb1"
      },
      "outputs": [
        {
          "name": "stdout",
          "output_type": "stream",
          "text": [
            "{'name': 'aaa', 'phone': '123-456-7890', 'age': 33}\n"
          ]
        }
      ],
      "source": [
        "dic = {'name':'aaa', 'phone':'123-456-7890'}\n",
        "dic['age'] = 33\n",
        "print(dic)"
      ]
    },
    {
      "cell_type": "code",
      "execution_count": null,
      "id": "a035f6b8",
      "metadata": {
        "ExecuteTime": {
          "end_time": "2022-09-02T03:29:38.389067Z",
          "start_time": "2022-09-02T03:29:38.377079Z"
        },
        "id": "a035f6b8",
        "outputId": "1c597f0f-4862-4f3e-832f-f479130c9909"
      },
      "outputs": [
        {
          "name": "stdout",
          "output_type": "stream",
          "text": [
            "aaa\n"
          ]
        }
      ],
      "source": [
        "print(dic['name'])"
      ]
    },
    {
      "cell_type": "code",
      "execution_count": null,
      "id": "5c5f4aa7",
      "metadata": {
        "ExecuteTime": {
          "end_time": "2022-09-02T03:29:58.942985Z",
          "start_time": "2022-09-02T03:29:58.926619Z"
        },
        "id": "5c5f4aa7",
        "outputId": "cd52c7ad-f3b1-48ec-c038-0ad8ee75ec32"
      },
      "outputs": [
        {
          "name": "stdout",
          "output_type": "stream",
          "text": [
            "aaa\n"
          ]
        }
      ],
      "source": [
        "print(dic.get('name'))"
      ]
    },
    {
      "cell_type": "markdown",
      "id": "921c2327",
      "metadata": {
        "id": "921c2327"
      },
      "source": [
        "### 집합(set)"
      ]
    },
    {
      "cell_type": "code",
      "execution_count": null,
      "id": "ba7769d2",
      "metadata": {
        "ExecuteTime": {
          "end_time": "2022-09-02T03:33:44.851400Z",
          "start_time": "2022-09-02T03:33:44.847384Z"
        },
        "id": "ba7769d2",
        "outputId": "8ddff72a-e683-41db-c7d1-6824876c86be"
      },
      "outputs": [
        {
          "name": "stdout",
          "output_type": "stream",
          "text": [
            "{1, 2, 3, 4, 5}\n"
          ]
        }
      ],
      "source": [
        "# 중복이 불가능, 순서가 없다.\n",
        "s = set([1, 2, 3, 4, 5])\n",
        "print(s)"
      ]
    },
    {
      "cell_type": "code",
      "execution_count": null,
      "id": "452a098f",
      "metadata": {
        "ExecuteTime": {
          "end_time": "2022-09-02T03:34:25.696628Z",
          "start_time": "2022-09-02T03:34:25.689557Z"
        },
        "id": "452a098f",
        "outputId": "2aa46b97-0afa-4c1c-8de0-d1a6eb10c33e"
      },
      "outputs": [
        {
          "name": "stdout",
          "output_type": "stream",
          "text": [
            "{'H', 'l', 'e', 'o'}\n"
          ]
        }
      ],
      "source": [
        "s2 = set(\"Hello\")\n",
        "print(s2)"
      ]
    },
    {
      "cell_type": "code",
      "execution_count": null,
      "id": "f40960d2",
      "metadata": {
        "ExecuteTime": {
          "end_time": "2022-09-02T03:35:24.222733Z",
          "start_time": "2022-09-02T03:35:24.215658Z"
        },
        "id": "f40960d2",
        "outputId": "bc2dce3d-63fd-4cbe-fb10-91a285d60e69"
      },
      "outputs": [
        {
          "name": "stdout",
          "output_type": "stream",
          "text": [
            "[1, 2, 3, 4, 5]\n"
          ]
        }
      ],
      "source": [
        "a = list(s)\n",
        "print(a)"
      ]
    },
    {
      "cell_type": "code",
      "execution_count": null,
      "id": "abe426b0",
      "metadata": {
        "ExecuteTime": {
          "end_time": "2022-09-02T03:35:39.477245Z",
          "start_time": "2022-09-02T03:35:39.468174Z"
        },
        "id": "abe426b0",
        "outputId": "a21260e9-5b6e-4579-c3aa-eb625b2df8dc"
      },
      "outputs": [
        {
          "name": "stdout",
          "output_type": "stream",
          "text": [
            "(1, 2, 3, 4, 5)\n"
          ]
        }
      ],
      "source": [
        "b = tuple(s)\n",
        "print(b)"
      ]
    },
    {
      "cell_type": "code",
      "execution_count": null,
      "id": "7739946e",
      "metadata": {
        "ExecuteTime": {
          "end_time": "2022-09-02T03:37:28.301594Z",
          "start_time": "2022-09-02T03:37:28.283493Z"
        },
        "id": "7739946e",
        "outputId": "79c0bd31-aa35-4919-fec5-8e29805a65a0"
      },
      "outputs": [
        {
          "name": "stdout",
          "output_type": "stream",
          "text": [
            "{1, 2, 3, 4, 5}\n"
          ]
        }
      ],
      "source": [
        "# 집합과 관련된 함수\n",
        "## add : 1개의 요소 추가\n",
        "print(s)"
      ]
    },
    {
      "cell_type": "code",
      "execution_count": null,
      "id": "1e3bce0d",
      "metadata": {
        "ExecuteTime": {
          "end_time": "2022-09-02T03:38:04.065454Z",
          "start_time": "2022-09-02T03:38:04.055089Z"
        },
        "id": "1e3bce0d",
        "outputId": "c0af9667-9e42-4efe-afa8-6d4317a75bff"
      },
      "outputs": [
        {
          "name": "stdout",
          "output_type": "stream",
          "text": [
            "{1, 2, 3, 4, 5, 6}\n"
          ]
        }
      ],
      "source": [
        "s.add(6)\n",
        "print(s)"
      ]
    },
    {
      "cell_type": "code",
      "execution_count": null,
      "id": "f745842e",
      "metadata": {
        "ExecuteTime": {
          "end_time": "2022-09-02T03:38:30.748567Z",
          "start_time": "2022-09-02T03:38:30.738551Z"
        },
        "id": "f745842e",
        "outputId": "b2ecbb3b-7ad8-4498-d870-6d3ee11044ed"
      },
      "outputs": [
        {
          "name": "stdout",
          "output_type": "stream",
          "text": [
            "{1, 2, 3, 4, 5, 6}\n"
          ]
        }
      ],
      "source": [
        "s.add(5)\n",
        "print(s)"
      ]
    },
    {
      "cell_type": "code",
      "execution_count": null,
      "id": "585d989c",
      "metadata": {
        "ExecuteTime": {
          "end_time": "2022-09-02T03:39:26.501073Z",
          "start_time": "2022-09-02T03:39:26.490934Z"
        },
        "id": "585d989c",
        "outputId": "0ae4f2f8-a453-4305-e00c-1925da233760"
      },
      "outputs": [
        {
          "name": "stdout",
          "output_type": "stream",
          "text": [
            "{1, 2, 3}\n"
          ]
        }
      ],
      "source": [
        "# 여러개의 값을 추가 update(리스트 or 튜플 등 자료구조)\n",
        "s1 = set([1, 2, 3])\n",
        "print(s1)"
      ]
    },
    {
      "cell_type": "code",
      "execution_count": null,
      "id": "7ab4d354",
      "metadata": {
        "ExecuteTime": {
          "end_time": "2022-09-02T03:40:36.442942Z",
          "start_time": "2022-09-02T03:40:36.438903Z"
        },
        "id": "7ab4d354",
        "outputId": "e855e0a5-2535-4f24-8cd4-b7cee311b0e7"
      },
      "outputs": [
        {
          "name": "stdout",
          "output_type": "stream",
          "text": [
            "{1, 2, 3, 4}\n"
          ]
        }
      ],
      "source": [
        "s1.update([4])\n",
        "print(s1)"
      ]
    },
    {
      "cell_type": "code",
      "execution_count": null,
      "id": "fc1cfa82",
      "metadata": {
        "ExecuteTime": {
          "end_time": "2022-09-02T03:40:54.625363Z",
          "start_time": "2022-09-02T03:40:54.616352Z"
        },
        "id": "fc1cfa82",
        "outputId": "ec730d69-0997-4304-f798-35b5609d0051"
      },
      "outputs": [
        {
          "name": "stdout",
          "output_type": "stream",
          "text": [
            "{1, 2, 3, 4, 5, 6}\n"
          ]
        }
      ],
      "source": [
        "s1.update([4, 5, 6])\n",
        "print(s1)"
      ]
    },
    {
      "cell_type": "code",
      "execution_count": null,
      "id": "136ba7fe",
      "metadata": {
        "ExecuteTime": {
          "end_time": "2022-09-02T03:41:14.735751Z",
          "start_time": "2022-09-02T03:41:14.727676Z"
        },
        "id": "136ba7fe",
        "outputId": "88dd3166-1f38-47d4-8b69-b80a401ca9d1"
      },
      "outputs": [
        {
          "name": "stdout",
          "output_type": "stream",
          "text": [
            "{1, 2, 3, 4, 5, 6, 7}\n"
          ]
        }
      ],
      "source": [
        "s1.update((5, 6, 7))\n",
        "print(s1)"
      ]
    },
    {
      "cell_type": "code",
      "execution_count": null,
      "id": "15a4256c",
      "metadata": {
        "ExecuteTime": {
          "end_time": "2022-09-02T03:42:01.366889Z",
          "start_time": "2022-09-02T03:42:01.357832Z"
        },
        "id": "15a4256c",
        "outputId": "841a8ea7-911e-42ad-c629-ccc4fa844e4f"
      },
      "outputs": [
        {
          "name": "stdout",
          "output_type": "stream",
          "text": [
            "{'p', 1, 2, 3, 4, 5, 6, 7, 'y', 't', 'n', 'h', 'o'}\n"
          ]
        }
      ],
      "source": [
        "s1.update(\"python\")\n",
        "print(s1)"
      ]
    },
    {
      "cell_type": "code",
      "execution_count": null,
      "id": "12b77aaa",
      "metadata": {
        "ExecuteTime": {
          "end_time": "2022-09-02T03:43:43.188521Z",
          "start_time": "2022-09-02T03:43:43.182522Z"
        },
        "id": "12b77aaa",
        "outputId": "2384decd-4cae-4382-ab78-af0658dc5ee7"
      },
      "outputs": [
        {
          "name": "stdout",
          "output_type": "stream",
          "text": [
            "{1, 2, 3, 4, 5, 6, 7, 'y', 't', 'n', 'h', 'o'}\n"
          ]
        }
      ],
      "source": [
        "# 특정 값을 제거하는 함수 remove(값)\n",
        "s1.remove('p')\n",
        "print(s1)"
      ]
    },
    {
      "cell_type": "code",
      "execution_count": null,
      "id": "c91a9b4d",
      "metadata": {
        "ExecuteTime": {
          "end_time": "2022-09-02T03:44:49.354108Z",
          "start_time": "2022-09-02T03:44:49.342163Z"
        },
        "id": "c91a9b4d",
        "outputId": "141232fb-1c4b-4278-a43c-1ec88f9364fb"
      },
      "outputs": [
        {
          "name": "stdout",
          "output_type": "stream",
          "text": [
            "#\n"
          ]
        }
      ],
      "source": [
        "print(\"#\")"
      ]
    },
    {
      "cell_type": "code",
      "execution_count": null,
      "id": "0b64faf8",
      "metadata": {
        "ExecuteTime": {
          "end_time": "2022-09-02T03:46:53.442026Z",
          "start_time": "2022-09-02T03:46:53.423050Z"
        },
        "id": "0b64faf8",
        "outputId": "899f0e27-39d1-4165-c367-8949f213eecf"
      },
      "outputs": [
        {
          "name": "stdout",
          "output_type": "stream",
          "text": [
            "#####"
          ]
        }
      ],
      "source": [
        "for i in range(5):   # 0, 1, 2, 3, 4\n",
        "    print(\"#\", end=\"\")"
      ]
    },
    {
      "cell_type": "code",
      "execution_count": null,
      "id": "13978f55",
      "metadata": {
        "ExecuteTime": {
          "end_time": "2022-09-02T06:07:00.949476Z",
          "start_time": "2022-09-02T06:07:00.940879Z"
        },
        "id": "13978f55",
        "outputId": "2c9421a1-bad2-4bc5-e342-aae463648c95"
      },
      "outputs": [
        {
          "name": "stdout",
          "output_type": "stream",
          "text": [
            "#####\n",
            "#####\n",
            "#####\n",
            "#####\n",
            "#####\n"
          ]
        }
      ],
      "source": [
        "#####\n",
        "#####\n",
        "#####\n",
        "#####\n",
        "#####\n",
        "for j in range(5):\n",
        "    for i in range(5):   # 0, 1, 2, 3, 4\n",
        "        print(\"#\", end=\"\")\n",
        "    print()"
      ]
    },
    {
      "cell_type": "code",
      "execution_count": null,
      "id": "a79ba07e",
      "metadata": {
        "id": "a79ba07e"
      },
      "outputs": [],
      "source": [
        "#\n",
        "##\n",
        "###\n",
        "####\n",
        "#####"
      ]
    },
    {
      "cell_type": "code",
      "execution_count": null,
      "id": "b4c01f9e",
      "metadata": {
        "id": "b4c01f9e"
      },
      "outputs": [],
      "source": [
        "    #\n",
        "   ##\n",
        "  ###\n",
        " ####\n",
        "#####"
      ]
    },
    {
      "cell_type": "markdown",
      "id": "519b0a66",
      "metadata": {
        "id": "519b0a66"
      },
      "source": [
        "### 제어문"
      ]
    },
    {
      "cell_type": "code",
      "execution_count": null,
      "id": "bce2335a",
      "metadata": {
        "ExecuteTime": {
          "end_time": "2022-09-02T05:18:53.593815Z",
          "start_time": "2022-09-02T05:18:53.580724Z"
        },
        "id": "bce2335a",
        "outputId": "ccda0d98-e078-415d-c4df-38fb78e489e4"
      },
      "outputs": [
        {
          "name": "stdout",
          "output_type": "stream",
          "text": [
            "택시 타고 집가자\n",
            "걸어가자\n"
          ]
        }
      ],
      "source": [
        "# 조건문 : 단순 if문, if~else문, elif문 => 선택문\n",
        "## 조건식 : 비교(관계) 연산자, 논리 연산자\n",
        "money = True\n",
        "\n",
        "if money:\n",
        "    print(\"택시 타고 집가자\") \n",
        "else:\n",
        "    print(\"걸어가자\")"
      ]
    },
    {
      "cell_type": "markdown",
      "id": "df5f3d79",
      "metadata": {
        "id": "df5f3d79"
      },
      "source": [
        "#### 계산기 프로그램\n",
        "두 개의 정수와 하나의 연산자를 입력받아 연산을 수행한 후 결과를 출력하는 프로그램을 구현하시오."
      ]
    },
    {
      "cell_type": "code",
      "execution_count": null,
      "id": "08d19f6f",
      "metadata": {
        "ExecuteTime": {
          "end_time": "2022-09-02T06:16:57.529348Z",
          "start_time": "2022-09-02T06:16:41.582736Z"
        },
        "id": "08d19f6f",
        "outputId": "18e49f12-ed2a-47c4-b381-8b70fb1b45e0"
      },
      "outputs": [
        {
          "name": "stdout",
          "output_type": "stream",
          "text": [
            "첫번째수 = 10\n",
            "연산자(+, -, *, / 중 택 1) = /\n",
            "두번째수 = 0\n",
            "두번째수 = 3\n",
            "10 / 3 = 3\n"
          ]
        }
      ],
      "source": [
        "num1 = int(input(\"첫번째수 = \"))\n",
        "op = input(\"연산자(+, -, *, / 중 택 1) = \")\n",
        "\n",
        "# 연산자가 '/'이고 두번째수가 0이 입력되면 두번째수를 다시 입력받도록 제어하는 문장\n",
        "check = True\n",
        "while check:\n",
        "    num2 = int(input(\"두번째수 = \"))\n",
        "    if op != '/' or num2 != 0:\n",
        "        check = False\n",
        "        \n",
        "res = 0\n",
        "\n",
        "if op == '+':\n",
        "    res = num1 + num2\n",
        "elif op == '-':\n",
        "    res = num1 - num2\n",
        "elif op == '*':\n",
        "    res = num1 * num2\n",
        "else:\n",
        "    res = num1 / num2\n",
        "\n",
        "print(\"%d %s %d = %d\" % (num1, op, num2, res))"
      ]
    },
    {
      "cell_type": "markdown",
      "id": "c0b87273",
      "metadata": {
        "id": "c0b87273"
      },
      "source": [
        "#### UP/DOWN 게임\n",
        "1에서 100 사이의 숫자 하나를 랜덤으로 발생한 후 사용자가 입력한 숫자와 비교하여 그 결과를 출력하는\n",
        "프로그램"
      ]
    },
    {
      "cell_type": "code",
      "execution_count": null,
      "id": "079d5022",
      "metadata": {
        "ExecuteTime": {
          "end_time": "2022-09-02T06:29:53.900057Z",
          "start_time": "2022-09-02T06:29:36.223732Z"
        },
        "id": "079d5022",
        "outputId": "196a9ac0-029c-4b18-e607-d55dfbd02a5d"
      },
      "outputs": [
        {
          "name": "stdout",
          "output_type": "stream",
          "text": [
            "check =  8\n",
            "수 입력(1에서 100사이) = 90\n",
            "DOWN\n",
            "수 입력(1에서 100사이) = 5\n",
            "UP\n",
            "수 입력(1에서 100사이) = 8\n",
            "check =  8 user =  8\n"
          ]
        }
      ],
      "source": [
        "# 난수 생성하는 함수를 가지고 있는 모듈\n",
        "import random\n",
        "\n",
        "# 난수 생성 함수 : random.randint(1, 100) - 하나의 정수 난수(1~100) 생성\n",
        "check = random.randint(1, 100)\n",
        "print(\"check = \", check)\n",
        "    \n",
        "user = int(input(\"수 입력(1에서 100사이) = \"))\n",
        "\n",
        "# while True: # 무한 Loop\n",
        "    \n",
        "while(user != check):  # user not in check\n",
        "    if user > check:\n",
        "        print(\"DOWN\")\n",
        "    else:\n",
        "        print(\"UP\")\n",
        "        \n",
        "    user = int(input(\"수 입력(1에서 100사이) = \"))\n",
        "    \n",
        "else:\n",
        "    print(\"check = \", check, \"user = \", user)"
      ]
    },
    {
      "cell_type": "code",
      "execution_count": null,
      "id": "8beecb03",
      "metadata": {
        "ExecuteTime": {
          "end_time": "2022-09-02T06:30:46.422757Z",
          "start_time": "2022-09-02T06:30:20.485433Z"
        },
        "id": "8beecb03",
        "outputId": "ecde4209-5f8f-4906-a7ef-0c49f6c87b76"
      },
      "outputs": [
        {
          "name": "stdout",
          "output_type": "stream",
          "text": [
            "check =  18\n",
            "수 입력(1에서 100사이) = 60\n",
            "DOWN\n",
            "수 입력(1에서 100사이) = 55\n",
            "DOWN\n",
            "수 입력(1에서 100사이) = 30\n",
            "DOWN\n",
            "수 입력(1에서 100사이) = 10\n",
            "UP\n",
            "수 입력(1에서 100사이) = 20\n",
            "DOWN\n",
            "수 입력(1에서 100사이) = 19\n",
            "DOWN\n",
            "수 입력(1에서 100사이) = 18\n",
            "check =  18 user =  18\n"
          ]
        }
      ],
      "source": [
        "# 난수 생성하는 함수를 가지고 있는 모듈\n",
        "import random\n",
        "\n",
        "# 난수 생성 함수 : random.randint(1, 100) - 하나의 정수 난수(1~100) 생성\n",
        "check = random.randint(1, 100)\n",
        "print(\"check = \", check)\n",
        "\n",
        "while True: # 무한 Loop\n",
        "    user = int(input(\"수 입력(1에서 100사이) = \"))\n",
        "    if check == user:\n",
        "        print(\"check = \", check, \"user = \", user)\n",
        "        break\n",
        "    elif check > user:\n",
        "        print(\"UP\")\n",
        "    else:\n",
        "        print(\"DOWN\")"
      ]
    },
    {
      "cell_type": "code",
      "execution_count": null,
      "id": "992d9312",
      "metadata": {
        "ExecuteTime": {
          "end_time": "2022-09-02T05:47:10.446020Z",
          "start_time": "2022-09-02T05:46:59.913047Z"
        },
        "id": "992d9312",
        "outputId": "2d68131c-d900-4a1e-da84-836b1ce09d85"
      },
      "outputs": [
        {
          "name": "stdout",
          "output_type": "stream",
          "text": [
            "문자 = \n",
            "\n",
            "문자 = \n",
            "\n",
            "문자 = aaaa\n"
          ]
        }
      ],
      "source": [
        "while True:  # 무한Loop\n",
        "    a = input(\"문자 = \")\n",
        "    if a:\n",
        "        break\n",
        "    else:\n",
        "        print(a)"
      ]
    },
    {
      "cell_type": "markdown",
      "id": "308a87c4",
      "metadata": {
        "id": "308a87c4"
      },
      "source": [
        "### 사다리꼴의 넓이 구하는 프로그램을 구현하시오."
      ]
    },
    {
      "cell_type": "code",
      "execution_count": null,
      "id": "67b01580",
      "metadata": {
        "ExecuteTime": {
          "end_time": "2022-09-02T06:42:08.825885Z",
          "start_time": "2022-09-02T06:42:03.977818Z"
        },
        "id": "67b01580",
        "outputId": "399c2905-fa41-4e41-feba-b0c482057151"
      },
      "outputs": [
        {
          "name": "stdout",
          "output_type": "stream",
          "text": [
            "윗변 = 3\n",
            "아랫변 = 4\n",
            "높이 = 7\n",
            "사다리꼴의 넓이 =  24.5\n"
          ]
        }
      ],
      "source": [
        "# 윗변, 아랫변, 높이\n",
        "## 윗변을 입력받는다.\n",
        "a = int(input(\"윗변 = \"))\n",
        "\n",
        "## 아랫변을 입력받는다.\n",
        "b = int(input(\"아랫변 = \"))\n",
        "\n",
        "## 높이를 입력받는다.\n",
        "h = int(input(\"높이 = \"))\n",
        "\n",
        "## 넓이를 계산하여 결과를 저장하는 변수에 담는다.\n",
        "area = (a + b) / 2 * h\n",
        "\n",
        "## 넓이의 결과를 출력한다.\n",
        "print(\"사다리꼴의 넓이 = \", area)"
      ]
    },
    {
      "cell_type": "code",
      "execution_count": null,
      "id": "f940f137",
      "metadata": {
        "id": "f940f137"
      },
      "outputs": [],
      "source": []
    },
    {
      "cell_type": "code",
      "execution_count": null,
      "id": "bbfa4572",
      "metadata": {
        "ExecuteTime": {
          "end_time": "2022-09-02T06:52:36.197398Z",
          "start_time": "2022-09-02T06:52:19.857200Z"
        },
        "id": "bbfa4572",
        "outputId": "f25c9345-d7a0-4c66-d357-db742a666475"
      },
      "outputs": [
        {
          "name": "stdout",
          "output_type": "stream",
          "text": [
            "==== Main Menu ====\n",
            "1. 최대값 구하기\n",
            "2. 수나열 구하기\n",
            "3. 계산기 프로그램\n",
            "4. 프로그램 종료\n",
            "====================\n",
            "menu = 5\n",
            "너 바보지!\n",
            "==== Main Menu ====\n",
            "1. 최대값 구하기\n",
            "2. 수나열 구하기\n",
            "3. 계산기 프로그램\n",
            "4. 프로그램 종료\n",
            "====================\n",
            "menu = 4\n"
          ]
        }
      ],
      "source": [
        "while True:    \n",
        "    print(\"==== Main Menu ====\")\n",
        "    print(\"1. 최대값 구하기\")\n",
        "    print(\"2. 수나열 구하기\")\n",
        "    print(\"3. 계산기 프로그램\")\n",
        "    print(\"4. 프로그램 종료\")\n",
        "    print(\"====================\")\n",
        "    menu = int(input(\"menu = \"))\n",
        "    \n",
        "    if menu == 4:\n",
        "        break\n",
        "    elif menu == 1:\n",
        "        pass\n",
        "    elif menu == 2:\n",
        "        pass\n",
        "    elif menu == 3:\n",
        "        pass\n",
        "    else:\n",
        "        print(\"너 바보지!\")"
      ]
    },
    {
      "cell_type": "markdown",
      "id": "9c49afe0",
      "metadata": {
        "id": "9c49afe0"
      },
      "source": [
        "### 함수(Function)\n",
        "1. 함수의 정의 : 관련된 기능이나 명령어 묶음\n",
        "  - 필요할 때 호출 가능\n",
        "  - 유지보수가 수월\n",
        "  - 가독성이 좋다\n",
        "  \n",
        "2. 함수의 구조(구성) : def(=define) 선언문\n",
        "   def 함수의 이름(매개변수): <br>\n",
        "       문장1<br>\n",
        "       문장2<br>\n",
        "        |  <br>\n",
        "       return 값\n",
        "       \n",
        "3. 함수의 호출 방법\n",
        "  - 이름에 의한 호출(Call By Name)\n",
        "  - 값에 의한 호출(Call By Value)\n",
        "  - 주소에 의한 호출(Call By Reference)\n",
        "  \n",
        "4. 함수의 기본 형식\n",
        "  - 매개변수 없고, 리턴값도 없는 경우\n",
        "  - 매개변수 없고, 리턴값 있는 경우\n",
        "  - 매개변수 있고, 리턴값 없는 경우\n",
        "  - 매개변수 있고, 리턴값 있는 경우"
      ]
    },
    {
      "cell_type": "code",
      "execution_count": null,
      "id": "1ccec06a",
      "metadata": {
        "ExecuteTime": {
          "end_time": "2022-09-02T07:18:51.165714Z",
          "start_time": "2022-09-02T07:18:51.153632Z"
        },
        "id": "1ccec06a"
      },
      "outputs": [],
      "source": [
        "# 매개변수 없고, 리턴값도 없는 함수\n",
        "def aaa():\n",
        "    print(\"Hi\")\n",
        "    print(\"뭘봐\")"
      ]
    },
    {
      "cell_type": "code",
      "execution_count": null,
      "id": "68522bca",
      "metadata": {
        "ExecuteTime": {
          "end_time": "2022-09-02T07:20:22.572106Z",
          "start_time": "2022-09-02T07:20:22.566011Z"
        },
        "id": "68522bca"
      },
      "outputs": [],
      "source": [
        "# 매개변수 없고, 리턴값 있는 경우\n",
        "def bbb():\n",
        "    return \"Hi\""
      ]
    },
    {
      "cell_type": "code",
      "execution_count": null,
      "id": "9f0a2faf",
      "metadata": {
        "ExecuteTime": {
          "end_time": "2022-09-02T07:21:40.071231Z",
          "start_time": "2022-09-02T07:21:40.056925Z"
        },
        "id": "9f0a2faf"
      },
      "outputs": [],
      "source": [
        "# 매개변수 있고, 리턴값 없는 경우\n",
        "def ccc(a):\n",
        "    print(a)"
      ]
    },
    {
      "cell_type": "code",
      "execution_count": null,
      "id": "0e50934a",
      "metadata": {
        "ExecuteTime": {
          "end_time": "2022-09-02T07:22:42.528787Z",
          "start_time": "2022-09-02T07:22:42.511582Z"
        },
        "id": "0e50934a"
      },
      "outputs": [],
      "source": [
        "def ddd(a, b, c):\n",
        "    print(a + b + c)"
      ]
    },
    {
      "cell_type": "code",
      "execution_count": null,
      "id": "9908f4dc",
      "metadata": {
        "ExecuteTime": {
          "end_time": "2022-09-02T07:24:20.372519Z",
          "start_time": "2022-09-02T07:24:20.365428Z"
        },
        "id": "9908f4dc"
      },
      "outputs": [],
      "source": [
        "# 매개변수 있고, 리턴값 있는 경우\n",
        "def eee(a, b):\n",
        "    c = a + b\n",
        "    return c"
      ]
    },
    {
      "cell_type": "code",
      "execution_count": null,
      "id": "f602255f",
      "metadata": {
        "ExecuteTime": {
          "end_time": "2022-09-02T07:27:53.169556Z",
          "start_time": "2022-09-02T07:27:53.157439Z"
        },
        "id": "f602255f",
        "outputId": "f34189a2-c68d-4bdf-98da-964543efab89"
      },
      "outputs": [
        {
          "name": "stdout",
          "output_type": "stream",
          "text": [
            "프로그램 시작\n",
            "여러가지 작업\n",
            "Hi\n",
            "뭘봐\n",
            "프로그램 종료\n"
          ]
        }
      ],
      "source": [
        "# 함수 호출\n",
        "print(\"프로그램 시작\")\n",
        "print(\"여러가지 작업\")\n",
        "aaa()\n",
        "print(\"프로그램 종료\")"
      ]
    },
    {
      "cell_type": "code",
      "execution_count": null,
      "id": "8e24bf33",
      "metadata": {
        "ExecuteTime": {
          "end_time": "2022-09-02T07:32:21.125441Z",
          "start_time": "2022-09-02T07:32:21.119422Z"
        },
        "id": "8e24bf33",
        "outputId": "905ebc9c-7622-46cf-c053-8364b55f2d55"
      },
      "outputs": [
        {
          "name": "stdout",
          "output_type": "stream",
          "text": [
            "프로그램 시작\n",
            "여러가지 작업\n",
            "Hi\n",
            "프로그램 종료\n"
          ]
        }
      ],
      "source": [
        "# 함수 호출\n",
        "print(\"프로그램 시작\")\n",
        "print(\"여러가지 작업\")\n",
        "# print(bbb()) # print(\"Hi\")\n",
        "string = bbb()  # string = \"Hi\"\n",
        "print(string)\n",
        "print(\"프로그램 종료\")"
      ]
    },
    {
      "cell_type": "code",
      "execution_count": null,
      "id": "f45268c9",
      "metadata": {
        "ExecuteTime": {
          "end_time": "2022-09-02T07:34:29.941407Z",
          "start_time": "2022-09-02T07:34:29.931330Z"
        },
        "id": "f45268c9",
        "outputId": "2d1019a8-146a-4fd8-d639-ab3bf3dad806"
      },
      "outputs": [
        {
          "name": "stdout",
          "output_type": "stream",
          "text": [
            "프로그램 시작\n",
            "여러가지 작업\n",
            "bye\n",
            "프로그램 종료\n"
          ]
        }
      ],
      "source": [
        "# 함수 호출\n",
        "print(\"프로그램 시작\")\n",
        "print(\"여러가지 작업\")\n",
        "ccc(\"bye\")\n",
        "print(\"프로그램 종료\")"
      ]
    },
    {
      "cell_type": "code",
      "execution_count": null,
      "id": "7c55b016",
      "metadata": {
        "ExecuteTime": {
          "end_time": "2022-09-02T07:39:24.088192Z",
          "start_time": "2022-09-02T07:39:24.071628Z"
        },
        "id": "7c55b016",
        "outputId": "785097dc-dddc-44c0-a2a7-3d8309ed7b0f"
      },
      "outputs": [
        {
          "name": "stdout",
          "output_type": "stream",
          "text": [
            "프로그램 시작\n",
            "여러가지 작업\n"
          ]
        },
        {
          "ename": "TypeError",
          "evalue": "ccc() missing 1 required positional argument: 'a'",
          "output_type": "error",
          "traceback": [
            "\u001b[1;31m---------------------------------------------------------------------------\u001b[0m",
            "\u001b[1;31mTypeError\u001b[0m                                 Traceback (most recent call last)",
            "Input \u001b[1;32mIn [136]\u001b[0m, in \u001b[0;36m<cell line: 4>\u001b[1;34m()\u001b[0m\n\u001b[0;32m      2\u001b[0m \u001b[38;5;28mprint\u001b[39m(\u001b[38;5;124m\"\u001b[39m\u001b[38;5;124m프로그램 시작\u001b[39m\u001b[38;5;124m\"\u001b[39m)\n\u001b[0;32m      3\u001b[0m \u001b[38;5;28mprint\u001b[39m(\u001b[38;5;124m\"\u001b[39m\u001b[38;5;124m여러가지 작업\u001b[39m\u001b[38;5;124m\"\u001b[39m)\n\u001b[1;32m----> 4\u001b[0m \u001b[43mccc\u001b[49m\u001b[43m(\u001b[49m\u001b[43m)\u001b[49m\n\u001b[0;32m      5\u001b[0m \u001b[38;5;28mprint\u001b[39m(\u001b[38;5;124m\"\u001b[39m\u001b[38;5;124m프로그램 종료\u001b[39m\u001b[38;5;124m\"\u001b[39m)\n",
            "\u001b[1;31mTypeError\u001b[0m: ccc() missing 1 required positional argument: 'a'"
          ]
        }
      ],
      "source": [
        "# 함수 호출\n",
        "print(\"프로그램 시작\")\n",
        "print(\"여러가지 작업\")\n",
        "ccc()\n",
        "print(\"프로그램 종료\")"
      ]
    },
    {
      "cell_type": "code",
      "execution_count": null,
      "id": "fe92fcb8",
      "metadata": {
        "ExecuteTime": {
          "end_time": "2022-09-02T07:48:46.513791Z",
          "start_time": "2022-09-02T07:48:46.507323Z"
        },
        "id": "fe92fcb8"
      },
      "outputs": [],
      "source": [
        "# default parameter : 초기 파라미터\n",
        "## 함수의 매개변수에 초기값을 담아서 처리하는 기능\n",
        "def ppp(a = 1, b = 2, c = 3):\n",
        "    print(a, b, c)"
      ]
    },
    {
      "cell_type": "code",
      "execution_count": null,
      "id": "194e7f5a",
      "metadata": {
        "ExecuteTime": {
          "end_time": "2022-09-02T07:48:57.081003Z",
          "start_time": "2022-09-02T07:48:57.075936Z"
        },
        "id": "194e7f5a",
        "outputId": "be750fdb-6d7e-428a-95ed-b99cee16efac"
      },
      "outputs": [
        {
          "name": "stdout",
          "output_type": "stream",
          "text": [
            "1 2 3\n"
          ]
        }
      ],
      "source": [
        "ppp()"
      ]
    },
    {
      "cell_type": "code",
      "execution_count": null,
      "id": "423289a0",
      "metadata": {
        "ExecuteTime": {
          "end_time": "2022-09-02T07:49:09.445974Z",
          "start_time": "2022-09-02T07:49:09.433867Z"
        },
        "id": "423289a0",
        "outputId": "9e9d39c8-a7d0-45c1-9810-925040c136fd"
      },
      "outputs": [
        {
          "name": "stdout",
          "output_type": "stream",
          "text": [
            "100 2 3\n"
          ]
        }
      ],
      "source": [
        "ppp(100)"
      ]
    },
    {
      "cell_type": "code",
      "execution_count": null,
      "id": "8a209abf",
      "metadata": {
        "ExecuteTime": {
          "end_time": "2022-09-02T07:49:13.225915Z",
          "start_time": "2022-09-02T07:49:13.216587Z"
        },
        "id": "8a209abf",
        "outputId": "720e832a-65f9-410a-cc44-e8dd2060e1c3"
      },
      "outputs": [
        {
          "name": "stdout",
          "output_type": "stream",
          "text": [
            "100 200 3\n"
          ]
        }
      ],
      "source": [
        "ppp(100, 200)"
      ]
    },
    {
      "cell_type": "code",
      "execution_count": null,
      "id": "0924bb6c",
      "metadata": {
        "ExecuteTime": {
          "end_time": "2022-09-02T07:49:15.617200Z",
          "start_time": "2022-09-02T07:49:15.608160Z"
        },
        "id": "0924bb6c",
        "outputId": "6ebdc213-dd6a-4121-90bf-8b83c5e4637d"
      },
      "outputs": [
        {
          "name": "stdout",
          "output_type": "stream",
          "text": [
            "100 200 300\n"
          ]
        }
      ],
      "source": [
        "ppp(100, 200, 300)"
      ]
    },
    {
      "cell_type": "code",
      "execution_count": null,
      "id": "514a9d28",
      "metadata": {
        "ExecuteTime": {
          "end_time": "2022-09-02T07:53:20.259078Z",
          "start_time": "2022-09-02T07:53:20.245725Z"
        },
        "id": "514a9d28",
        "outputId": "dcf99902-e395-40cc-e5df-0b916be66dd7"
      },
      "outputs": [
        {
          "name": "stdout",
          "output_type": "stream",
          "text": [
            "프로그램 시작\n",
            "여러가지 작업\n",
            "x =  3\n",
            "프로그램 종료\n"
          ]
        }
      ],
      "source": [
        "# 함수 호출\n",
        "print(\"프로그램 시작\")\n",
        "print(\"여러가지 작업\")\n",
        "#print(eee(1, 2))\n",
        "x = eee(1, 2)\n",
        "print(\"x = \", x)\n",
        "print(\"프로그램 종료\")"
      ]
    },
    {
      "cell_type": "code",
      "execution_count": null,
      "id": "97514419",
      "metadata": {
        "ExecuteTime": {
          "end_time": "2022-09-02T08:08:55.835885Z",
          "start_time": "2022-09-02T08:08:55.818432Z"
        },
        "id": "97514419"
      },
      "outputs": [],
      "source": [
        "# 가변길이 매개변수\n",
        "def add(a, b):\n",
        "    return a + b"
      ]
    },
    {
      "cell_type": "code",
      "execution_count": null,
      "id": "6f7e186f",
      "metadata": {
        "ExecuteTime": {
          "end_time": "2022-09-02T08:10:21.900160Z",
          "start_time": "2022-09-02T08:10:21.888818Z"
        },
        "id": "6f7e186f"
      },
      "outputs": [],
      "source": [
        "def add(a, b, c):\n",
        "    return a + b + c"
      ]
    },
    {
      "cell_type": "code",
      "execution_count": null,
      "id": "acaef755",
      "metadata": {
        "ExecuteTime": {
          "end_time": "2022-09-02T08:09:43.795437Z",
          "start_time": "2022-09-02T08:09:43.790383Z"
        },
        "id": "acaef755",
        "outputId": "c94a01e5-cf52-4ce5-97e1-874b8a5fdb4b"
      },
      "outputs": [
        {
          "data": {
            "text/plain": [
              "30"
            ]
          },
          "execution_count": 160,
          "metadata": {},
          "output_type": "execute_result"
        }
      ],
      "source": [
        "add(10, 20)"
      ]
    },
    {
      "cell_type": "code",
      "execution_count": null,
      "id": "96d15d04",
      "metadata": {
        "ExecuteTime": {
          "end_time": "2022-09-02T08:10:26.732912Z",
          "start_time": "2022-09-02T08:10:26.727837Z"
        },
        "id": "96d15d04",
        "outputId": "c6d0c702-8fb1-4b28-a8a1-e69bb1468e75"
      },
      "outputs": [
        {
          "data": {
            "text/plain": [
              "60"
            ]
          },
          "execution_count": 163,
          "metadata": {},
          "output_type": "execute_result"
        }
      ],
      "source": [
        "add(10, 20, 30)"
      ]
    },
    {
      "cell_type": "code",
      "execution_count": null,
      "id": "08ec4968",
      "metadata": {
        "ExecuteTime": {
          "end_time": "2022-09-02T08:17:23.017906Z",
          "start_time": "2022-09-02T08:17:23.004805Z"
        },
        "id": "08ec4968"
      },
      "outputs": [],
      "source": [
        "# 가변길이 매개변수\n",
        "def add_res(*args):\n",
        "    res = 0\n",
        "    \n",
        "    for i in args:\n",
        "        #res = res + i\n",
        "        res += i\n",
        "        \n",
        "    return res "
      ]
    },
    {
      "cell_type": "code",
      "execution_count": null,
      "id": "68f37d4b",
      "metadata": {
        "ExecuteTime": {
          "end_time": "2022-09-02T08:17:25.718273Z",
          "start_time": "2022-09-02T08:17:25.712195Z"
        },
        "id": "68f37d4b",
        "outputId": "d4b6a905-7bb5-44c4-cd96-61960072ac6d"
      },
      "outputs": [
        {
          "name": "stdout",
          "output_type": "stream",
          "text": [
            "a =  6\n",
            "a =  15\n",
            "a =  55\n"
          ]
        }
      ],
      "source": [
        "a = add_res(1, 2, 3)\n",
        "print(\"a = \", a)\n",
        "\n",
        "a = add_res(1, 2, 3, 4, 5)\n",
        "print(\"a = \", a)\n",
        "\n",
        "a = add_res(1, 2, 3, 4, 5, 6, 7, 8, 9, 10)\n",
        "print(\"a = \", a)"
      ]
    },
    {
      "cell_type": "code",
      "execution_count": null,
      "id": "5f76951a",
      "metadata": {
        "ExecuteTime": {
          "end_time": "2022-09-02T08:22:18.643923Z",
          "start_time": "2022-09-02T08:22:18.635901Z"
        },
        "id": "5f76951a"
      },
      "outputs": [],
      "source": [
        "def calc(ch, *ar):\n",
        "    if ch == \"add\":\n",
        "        res = 0\n",
        "        for i in ar:\n",
        "            res += i\n",
        "    elif ch == \"mul\":\n",
        "        res = 1\n",
        "        for i in ar:\n",
        "            res *= i\n",
        "            \n",
        "    return res"
      ]
    },
    {
      "cell_type": "code",
      "execution_count": null,
      "id": "75d13365",
      "metadata": {
        "ExecuteTime": {
          "end_time": "2022-09-02T08:24:38.752287Z",
          "start_time": "2022-09-02T08:24:38.742686Z"
        },
        "id": "75d13365",
        "outputId": "0fca906f-de98-4cf3-9cfd-9ea1acc82fc7"
      },
      "outputs": [
        {
          "name": "stdout",
          "output_type": "stream",
          "text": [
            "a =  6\n",
            "b =  120\n"
          ]
        }
      ],
      "source": [
        "a = calc(\"add\", 1, 2, 3)\n",
        "print(\"a = \", a)\n",
        "b = calc(\"mul\", 1, 2, 3, 4, 5)\n",
        "print(\"b = \", b)"
      ]
    },
    {
      "cell_type": "code",
      "execution_count": null,
      "id": "d83bc8ca",
      "metadata": {
        "id": "d83bc8ca"
      },
      "outputs": [],
      "source": []
    }
  ],
  "metadata": {
    "kernelspec": {
      "display_name": "Python 3 (ipykernel)",
      "language": "python",
      "name": "python3"
    },
    "language_info": {
      "codemirror_mode": {
        "name": "ipython",
        "version": 3
      },
      "file_extension": ".py",
      "mimetype": "text/x-python",
      "name": "python",
      "nbconvert_exporter": "python",
      "pygments_lexer": "ipython3",
      "version": "3.9.12"
    },
    "toc": {
      "base_numbering": 1,
      "nav_menu": {},
      "number_sections": true,
      "sideBar": true,
      "skip_h1_title": false,
      "title_cell": "Table of Contents",
      "title_sidebar": "Contents",
      "toc_cell": false,
      "toc_position": {},
      "toc_section_display": true,
      "toc_window_display": false
    },
    "colab": {
      "provenance": [],
      "include_colab_link": true
    }
  },
  "nbformat": 4,
  "nbformat_minor": 5
}